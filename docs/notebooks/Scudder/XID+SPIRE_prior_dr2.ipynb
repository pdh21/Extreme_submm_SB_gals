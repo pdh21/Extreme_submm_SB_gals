{
 "cells": [
  {
   "cell_type": "code",
   "execution_count": 1,
   "metadata": {},
   "outputs": [
    {
     "name": "stderr",
     "output_type": "stream",
     "text": [
      "/Users/pdh21/anaconda3/envs/xidplus/lib/python3.6/site-packages/dask/config.py:168: YAMLLoadWarning: calling yaml.load() without Loader=... is deprecated, as the default Loader is unsafe. Please read https://msg.pyyaml.org/load for full details.\n",
      "  data = yaml.load(f.read()) or {}\n",
      "WARNING: AstropyDeprecationWarning: block_reduce was moved to the astropy.nddata.blocks module.  Please update your import statement. [astropy.nddata.utils]\n"
     ]
    }
   ],
   "source": [
    "import pylab\n",
    "import pymoc\n",
    "import xidplus\n",
    "import numpy as np\n",
    "%matplotlib inline\n",
    "from astropy.table import Table"
   ]
  },
  {
   "cell_type": "code",
   "execution_count": 2,
   "metadata": {},
   "outputs": [],
   "source": [
    "import seaborn as sns"
   ]
  },
  {
   "cell_type": "markdown",
   "metadata": {},
   "source": [
    "This notebook uses all the raw data from the XID+MIPS catalogue, maps, PSF and relevant MOCs to create XID+ prior object and relevant tiling scheme"
   ]
  },
  {
   "cell_type": "markdown",
   "metadata": {},
   "source": [
    "## Read in XID+MIPS catalogue"
   ]
  },
  {
   "cell_type": "code",
   "execution_count": 3,
   "metadata": {},
   "outputs": [],
   "source": [
    "XID_MIPS=Table.read('../../../data/Scudderetal2016/all_sources.fits')"
   ]
  },
  {
   "cell_type": "code",
   "execution_count": 4,
   "metadata": {},
   "outputs": [
    {
     "data": {
      "text/html": [
       "<i>Table length=10</i>\n",
       "<table id=\"table140191319245152\" class=\"table-striped table-bordered table-condensed\">\n",
       "<thead><tr><th>Fields</th><th>ra</th><th>dec</th></tr></thead>\n",
       "<thead><tr><th>bytes5</th><th>float64</th><th>float64</th></tr></thead>\n",
       "<tr><td>10932</td><td>150.624988</td><td>2.278824</td></tr>\n",
       "<tr><td>10932</td><td>150.626222</td><td>2.279251</td></tr>\n",
       "<tr><td>10932</td><td>150.623847</td><td>2.278892</td></tr>\n",
       "<tr><td>10932</td><td>150.626046</td><td>2.280238</td></tr>\n",
       "<tr><td>10932</td><td>150.623673</td><td>2.280668</td></tr>\n",
       "<tr><td>10932</td><td>150.626977</td><td>2.282143</td></tr>\n",
       "<tr><td>10932</td><td>150.626327</td><td>2.282569</td></tr>\n",
       "<tr><td>10932</td><td>150.622767</td><td>2.283329</td></tr>\n",
       "<tr><td>10932</td><td>150.620387</td><td>2.283089</td></tr>\n",
       "<tr><td>10932</td><td>150.62274</td><td>2.284857</td></tr>\n",
       "</table>"
      ],
      "text/plain": [
       "<Table length=10>\n",
       "Fields     ra       dec   \n",
       "bytes5  float64   float64 \n",
       "------ ---------- --------\n",
       " 10932 150.624988 2.278824\n",
       " 10932 150.626222 2.279251\n",
       " 10932 150.623847 2.278892\n",
       " 10932 150.626046 2.280238\n",
       " 10932 150.623673 2.280668\n",
       " 10932 150.626977 2.282143\n",
       " 10932 150.626327 2.282569\n",
       " 10932 150.622767 2.283329\n",
       " 10932 150.620387 2.283089\n",
       " 10932  150.62274 2.284857"
      ]
     },
     "execution_count": 4,
     "metadata": {},
     "output_type": "execute_result"
    }
   ],
   "source": [
    "XID_MIPS[0:10]"
   ]
  },
  {
   "cell_type": "markdown",
   "metadata": {},
   "source": [
    "## Read in Maps"
   ]
  },
  {
   "cell_type": "code",
   "execution_count": 5,
   "metadata": {},
   "outputs": [],
   "source": [
    "\n",
    "pswfits='/Volumes/pdh_storage/dmu_products/dmu19/dmu19_HELP-SPIRE-maps/data/COSMOS_SPIRE250_v1.0.fits'#SPIRE 250 map\n",
    "pmwfits='/Volumes/pdh_storage/dmu_products/dmu19/dmu19_HELP-SPIRE-maps/data/COSMOS_SPIRE350_v1.0.fits'#SPIRE 350 map\n",
    "plwfits='/Volumes/pdh_storage/dmu_products/dmu19/dmu19_HELP-SPIRE-maps/data/COSMOS_SPIRE500_v1.0.fits'#SPIRE 500 map\n",
    "\n",
    "#output folder\n",
    "output_folder='./'"
   ]
  },
  {
   "cell_type": "code",
   "execution_count": 6,
   "metadata": {},
   "outputs": [],
   "source": [
    "from astropy.io import fits\n",
    "from astropy import wcs\n",
    "\n",
    "#-----250-------------\n",
    "hdulist = fits.open(pswfits)\n",
    "im250phdu=hdulist[0].header\n",
    "im250hdu=hdulist[1].header\n",
    "\n",
    "im250=hdulist[1].data*1.0E3 #convert to mJy\n",
    "nim250=hdulist[3].data*1.0E3 #convert to mJy\n",
    "w_250 = wcs.WCS(hdulist[1].header)\n",
    "pixsize250=3600.0*w_250.wcs.cd[1,1] #pixel size (in arcseconds)\n",
    "hdulist.close()\n",
    "#-----350-------------\n",
    "hdulist = fits.open(pmwfits)\n",
    "im350phdu=hdulist[0].header\n",
    "im350hdu=hdulist[1].header\n",
    "\n",
    "im350=hdulist[1].data*1.0E3 #convert to mJy\n",
    "nim350=hdulist[3].data*1.0E3 #convert to mJy\n",
    "w_350 = wcs.WCS(hdulist[1].header)\n",
    "pixsize350=3600.0*w_350.wcs.cd[1,1] #pixel size (in arcseconds)\n",
    "hdulist.close()\n",
    "#-----500-------------\n",
    "hdulist = fits.open(plwfits)\n",
    "im500phdu=hdulist[0].header\n",
    "im500hdu=hdulist[1].header\n",
    "im500=hdulist[1].data*1.0E3 #convert to mJy\n",
    "nim500=hdulist[3].data*1.0E3 #convert to mJy\n",
    "w_500 = wcs.WCS(hdulist[1].header)\n",
    "pixsize500=3600.0*w_500.wcs.cd[1,1] #pixel size (in arcseconds)\n",
    "hdulist.close()"
   ]
  },
  {
   "cell_type": "code",
   "execution_count": 11,
   "metadata": {
    "collapsed": true
   },
   "outputs": [],
   "source": [
    "## Set XID+ prior class"
   ]
  },
  {
   "cell_type": "code",
   "execution_count": 7,
   "metadata": {},
   "outputs": [],
   "source": [
    "#---prior250--------\n",
    "prior250=xidplus.prior(im250,nim250,im250phdu,im250hdu)#Initialise with map, uncertianty map, wcs info and primary header\n",
    "prior250.prior_cat(XID_MIPS['ra'],XID_MIPS['dec'],'Scudder2016.fits')#Set input catalogue\n",
    "prior250.prior_bkg(-5.0,5)#Set prior on background (assumes Gaussian pdf with mu and sigma)\n",
    "#---prior350--------\n",
    "prior350=xidplus.prior(im350,nim350,im350phdu,im350hdu)\n",
    "prior350.prior_cat(XID_MIPS['ra'],XID_MIPS['dec'],'Scudder2016.fits')\n",
    "prior350.prior_bkg(-5.0,5)\n",
    "\n",
    "#---prior500--------\n",
    "prior500=xidplus.prior(im500,nim500,im500phdu,im500hdu)\n",
    "prior500.prior_cat(XID_MIPS['ra'],XID_MIPS['dec'],'Scudder2016.fits')\n",
    "prior500.prior_bkg(-5.0,5)"
   ]
  },
  {
   "cell_type": "code",
   "execution_count": 8,
   "metadata": {},
   "outputs": [],
   "source": [
    "#pixsize array (size of pixels in arcseconds)\n",
    "pixsize=np.array([pixsize250,pixsize350,pixsize500])\n",
    "#point response function for the three bands\n",
    "prfsize=np.array([18.15,25.15,36.3])\n",
    "#use Gaussian2DKernel to create prf (requires stddev rather than fwhm hence pfwhm/2.355)\n",
    "from astropy.convolution import Gaussian2DKernel\n",
    "\n",
    "##---------fit using Gaussian beam-----------------------\n",
    "prf250=Gaussian2DKernel(prfsize[0]/2.355,x_size=101,y_size=101)\n",
    "prf250.normalize(mode='peak')\n",
    "prf350=Gaussian2DKernel(prfsize[1]/2.355,x_size=101,y_size=101)\n",
    "prf350.normalize(mode='peak')\n",
    "prf500=Gaussian2DKernel(prfsize[2]/2.355,x_size=101,y_size=101)\n",
    "prf500.normalize(mode='peak')\n",
    "\n",
    "pind250=np.arange(0,101,1)*1.0/pixsize[0] #get 250 scale in terms of pixel scale of map\n",
    "pind350=np.arange(0,101,1)*1.0/pixsize[1] #get 350 scale in terms of pixel scale of map\n",
    "pind500=np.arange(0,101,1)*1.0/pixsize[2] #get 500 scale in terms of pixel scale of map\n",
    "\n",
    "prior250.set_prf(prf250.array,pind250,pind250)#requires psf as 2d grid, and x and y bins for grid (in pixel scale)\n",
    "prior350.set_prf(prf350.array,pind350,pind350)\n",
    "prior500.set_prf(prf500.array,pind500,pind500)"
   ]
  },
  {
   "cell_type": "code",
   "execution_count": 10,
   "metadata": {},
   "outputs": [
    {
     "name": "stdout",
     "output_type": "stream",
     "text": [
      "writing total_bytes=45186307...\n",
      "writing bytes [0, 45186307)... done.\n"
     ]
    }
   ],
   "source": [
    "import pickle\n",
    "#from moc, get healpix pixels at a given order\n",
    "\n",
    "output_folder='.../../../data/Scudderetal2016/'\n",
    "outfile=output_folder+'Master_prior.pkl'\n",
    "xidplus.io.pickle_dump({'priors':[prior250,prior350,prior500],'version':xidplus.io.git_version()},outfile)\n"
   ]
  },
  {
   "cell_type": "markdown",
   "metadata": {},
   "source": [
    "Create MOCs based on all sources"
   ]
  },
  {
   "cell_type": "code",
   "execution_count": 25,
   "metadata": {},
   "outputs": [],
   "source": [
    "from astropy.coordinates import SkyCoord\n",
    "from astropy import units as u\n",
    "for i in np.unique(XID_MIPS['Fields']):\n",
    "    c = SkyCoord(ra=XID_MIPS[XID_MIPS['Fields']==i]['ra']*u.degree,dec=XID_MIPS[XID_MIPS['Fields']==i]['dec']*u.degree)\n",
    "    moc=pymoc.util.catalog.catalog_to_moc(c,18,14)\n",
    "    moc.write('.../../../data/Scudderetal2016/MOCS/MOC_{}.fits'.format(i),overwrite=True)"
   ]
  },
  {
   "cell_type": "code",
   "execution_count": null,
   "metadata": {},
   "outputs": [],
   "source": []
  }
 ],
 "metadata": {
  "kernelspec": {
   "display_name": "Python 3",
   "language": "python",
   "name": "python3"
  },
  "language_info": {
   "codemirror_mode": {
    "name": "ipython",
    "version": 3
   },
   "file_extension": ".py",
   "mimetype": "text/x-python",
   "name": "python",
   "nbconvert_exporter": "python",
   "pygments_lexer": "ipython3",
   "version": "3.6.13"
  }
 },
 "nbformat": 4,
 "nbformat_minor": 2
}
