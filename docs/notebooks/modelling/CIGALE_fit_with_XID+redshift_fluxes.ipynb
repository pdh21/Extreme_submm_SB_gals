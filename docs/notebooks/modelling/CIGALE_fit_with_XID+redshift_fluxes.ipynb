{
 "cells": [
  {
   "cell_type": "code",
   "execution_count": 21,
   "id": "9aedef8c",
   "metadata": {},
   "outputs": [],
   "source": [
    "from astropy.io import ascii, fits\n",
    "from astropy.table import Table\n",
    "import pylab as plt\n",
    "%matplotlib inline\n",
    "from astropy import wcs\n",
    "import seaborn as sns\n",
    "import glob\n",
    "import arviz as az\n",
    "\n",
    "import numpy as np\n",
    "import xidplus\n",
    "from xidplus import moc_routines\n",
    "import pickle\n",
    "import os\n",
    "from ESB_functions import *\n",
    "sns.set_context(\"paper\")\n",
    "from astropy.coordinates import SkyCoord\n",
    "from astropy import units as u\n",
    "import os\n",
    "import jax.numpy as jnp\n",
    "import pyvo as vo\n"
   ]
  },
  {
   "cell_type": "code",
   "execution_count": 3,
   "id": "cc933dd3",
   "metadata": {},
   "outputs": [],
   "source": [
    "field=['Lockman-SWIRE']\n",
    "path_to_SPIRE=['/Volumes/pdh_storage/dmu_products/dmu19/dmu19_HELP-SPIRE-maps/data/']\n",
    "#path_to_SPIRE=['/mnt/lustre/users/astro/pdh21/Extreme_submm_SB_gals/data/']\n",
    "redshift_file=[\"/Volumes/pdh_storage/dmu_products/dmu24/dmu24_Lockman-SWIRE/data/master_catalogue_Lockman-SWIRE_20170710_photoz_20170802_r_and_irac1_optimised_UPDATED_IDs_20180219.fits\"]\n",
    "#redshift_file=[\"/mnt/lustre/users/astro/pdh21/Extreme_submm_SB_gals/data/master_catalogue_Lockman-SWIRE_20170710_photoz_20170802_r_and_irac1_optimised_UPDATED_IDs_20180219.fits\"]"
   ]
  },
  {
   "cell_type": "code",
   "execution_count": 14,
   "id": "7b1ae824",
   "metadata": {},
   "outputs": [],
   "source": [
    "esb=Table.read('../../../data/MRR2018_tables/{}_web.csv'.format(field[0]),format='ascii',encoding='utf-8')"
   ]
  },
  {
   "cell_type": "code",
   "execution_count": 15,
   "id": "b33d6f02",
   "metadata": {},
   "outputs": [],
   "source": [
    "esb['redshift']=np.zeros((len(esb)))\n",
    "for b in ['250','350','500']:\n",
    "    esb['f_spire_{}'.format(b)]=np.zeros((len(esb)))\n",
    "    esb['ferr_spire_{}'.format(b)]=np.zeros((len(esb)))\n"
   ]
  },
  {
   "cell_type": "code",
   "execution_count": 16,
   "id": "b209b9c9",
   "metadata": {},
   "outputs": [
    {
     "name": "stdout",
     "output_type": "stream",
     "text": [
      "No fit\n",
      "No fit\n",
      "No fit\n",
      "No fit\n",
      "No fit\n",
      "No fit\n",
      "No fit\n",
      "No fit\n",
      "No fit\n",
      "No fit\n",
      "No fit\n",
      "No fit\n",
      "No fit\n",
      "No fit\n",
      "No fit\n",
      "No fit\n",
      "No fit\n"
     ]
    }
   ],
   "source": [
    "for i in range(1,len(esb)):\n",
    "    source=[i]\n",
    "    model = 'model2'\n",
    "\n",
    "    try:\n",
    "        data=az.InferenceData.from_netcdf('./output/{}/posterior_{}_{}_{}.nc'.format(field[0],field[0],source[0],model))\n",
    "        prior_list=Table.read('./output/{}/prior_list_{}_{}_{}.ascii'.format(field[0],field[0],source[0],model),format='ascii',encoding='utf-8')\n",
    "        priors,_ = xidplus.load('./output/{}/prior_{}_{}_{}.pkl'.format(field[0],field[0],source[0],model))\n",
    "    except FileNotFoundError:\n",
    "        try:\n",
    "            model = 'model1'\n",
    "            data=az.InferenceData.from_netcdf('./output/{}/posterior_{}_{}_{}.nc'.format(field[0],field[0],source[0],model))\n",
    "            prior_list=Table.read('./output/{}/prior_list_{}_{}_{}.ascii'.format(field[0],field[0],source[0],model),format='ascii',encoding='utf-8')\n",
    "            priors,_ = xidplus.load('./output/{}/prior_{}_{}_{}.pkl'.format(field[0],field[0],source[0],model))\n",
    "        except FileNotFoundError:\n",
    "            print('No fit')\n",
    "            continue\n",
    "        \n",
    "    c = SkyCoord(ra=[esb['RA'][source[0]]]*u.degree, dec=[esb['Dec'][source[0]]]*u.degree)\n",
    "    #find the sources that are within a certain separation of the extreme starburst candidate\n",
    "    sep=12\n",
    "    separation=c.separation(SkyCoord(priors[0].sra,priors[0].sdec)).arcsec\n",
    "    contrib_sources=separation<sep\n",
    "    ind = prior_list['help_id']==priors[0].ID[np.argmin(separation)]\n",
    "    emulator_path=['/Users/pdh21/Google_Drive/WORK/XID_plus/docs/notebooks/examples/SED_emulator/CIGALE_emulator_20210420_log10sfr_uniformAGN_z.npz']\n",
    "\n",
    "\n",
    "    def create_phys_prior(priors,prior_list,emulator_path):\n",
    "        z_mu=np.empty((priors[1].nsrc))\n",
    "        z_sig=np.empty((priors[1].nsrc))\n",
    "\n",
    "        for x,i in enumerate(priors[1].ID):\n",
    "\n",
    "            ind=prior_list['help_id']==str(i)\n",
    "            z_mu[x]=prior_list['redshift'][ind]\n",
    "            z_sig[x]=prior_list['redshift_unc'][ind]\n",
    "\n",
    "\n",
    "\n",
    "        sfr_mu=1.5*z_mu+1.0\n",
    "        sfr_sig=np.full(priors[1].nsrc,0.5)\n",
    "\n",
    "        agn_frac_mu=np.full(priors[1].nsrc,-1)\n",
    "        agn_frac_sig=np.full(priors[1].nsrc,1)\n",
    "        params_mu=np.vstack((sfr_mu,z_mu)).T\n",
    "        params_sig=np.vstack((sfr_sig,z_sig)).T\n",
    "        params_names=['log10sfr','z']\n",
    "\n",
    "        return xidplus.hier_prior(priors[1].ID,params_mu,params_sig,params_names,emulator_path[0])\n",
    "\n",
    "    hier_params={'m_mu':0.8,'m_sig':0.4,'c_mu':-1.0,'c_sig':0.5,'sfr_disp':0.5}\n",
    "    phys_prior=create_phys_prior(priors,prior_list,emulator_path)\n",
    "\n",
    "\n",
    "    #stack params and make vector ready to be used by emualator\n",
    "    params = jnp.stack((data.posterior.sfr.values.reshape(data.posterior.chain.size * data.posterior.draw.size,data.posterior.src.size).T, data.posterior.agn.values.reshape(data.posterior.chain.size * data.posterior.draw.size,data.posterior.src.size).T,data.posterior.redshift.values.reshape(data.posterior.chain.size * data.posterior.draw.size,data.posterior.src.size).T)).T\n",
    "    # Use emulator to get fluxes. As emulator provides log flux, convert.\n",
    "    src_f = np.array(jnp.exp(phys_prior.emulator['net_apply'](phys_prior.emulator['params'], params)))\n",
    "\n",
    "\n",
    "    #stack params and make vector ready to be used by emualator\n",
    "    params_prior = jnp.stack((data.prior.sfr.values.reshape(data.prior.chain.size * data.prior.draw.size,data.prior.src.size).T, data.prior.agn.values.reshape(data.prior.chain.size * data.prior.draw.size,data.prior.src.size).T,data.prior.redshift.values.reshape(data.prior.chain.size * data.prior.draw.size,data.prior.src.size).T)).T\n",
    "\n",
    "    # Use emulator to get fluxes. As emulator provides log flux, convert.\n",
    "    src_f_prior = np.array(jnp.exp(phys_prior.emulator['net_apply'](phys_prior.emulator['params'], params_prior)))\n",
    "    esb['redshift'][i]=data.posterior['redshift'][:,:,np.argmin(separation)].median()\n",
    "    spire_fluxes=np.mean(src_f[:,np.argmin(separation),:],axis=0)\n",
    "    spire_fluxes_err=np.std(src_f[:,np.argmin(separation),:],axis=0)\n",
    "    esb['f_spire_250'][i]=spire_fluxes[0]\n",
    "    esb['f_spire_350'][i]=spire_fluxes[1]\n",
    "    esb['f_spire_500'][i]=spire_fluxes[2]\n",
    "    esb['ferr_spire_250'][i]=spire_fluxes_err[0]\n",
    "    esb['ferr_spire_350'][i]=spire_fluxes_err[1]\n",
    "    esb['ferr_spire_500'][i]=spire_fluxes_err[2]\n",
    "    "
   ]
  },
  {
   "cell_type": "code",
   "execution_count": 19,
   "id": "da086203",
   "metadata": {},
   "outputs": [],
   "source": [
    "esb_web=esb[1:10]"
   ]
  },
  {
   "cell_type": "code",
   "execution_count": 22,
   "id": "938fe33c",
   "metadata": {},
   "outputs": [],
   "source": [
    "service = vo.dal.TAPService(\"https://herschel-vos.phys.sussex.ac.uk/__system__/tap/run/tap\")\n",
    "tables=[]\n",
    "for src in range(0,len(esb_web)):\n",
    "    resultset = service.search(\"SELECT TOP 10000 * FROM herschelhelp.main WHERE help_id = '\"+str(esb_web['help_id'][src])+\"'\")\n",
    "    tables.append(resultset.to_table())\n"
   ]
  },
  {
   "cell_type": "code",
   "execution_count": 23,
   "id": "1116dbbf",
   "metadata": {},
   "outputs": [],
   "source": [
    "ls_tables=vstack(tables)\n",
    "cols_object=[c for c in ls_tables.columns if ls_tables[c].dtype =='O']\n",
    "for c in cols_object:\n",
    "    ls_tables[c]=ls_tables[c].astype(str)\n",
    "#ls_tables.rename_column('help_id','id')"
   ]
  },
  {
   "cell_type": "code",
   "execution_count": 25,
   "id": "a72083ed",
   "metadata": {},
   "outputs": [],
   "source": [
    "cols_keep=['help_id','ra','dec','redshift']+[c for c in ls_tables.colnames if 'megacam' in c]+[c for c in ls_tables.colnames if 'irac' in c]+[c for c in ls_tables.colnames if 'mips' in c]+[c for c in ls_tables.colnames if 'spire' in c]"
   ]
  },
  {
   "cell_type": "code",
   "execution_count": 26,
   "id": "43894085",
   "metadata": {},
   "outputs": [],
   "source": [
    "for i in range(0,len(esb_web)):\n",
    "    ls_tables['f_spire_250'][i]=1000.0*esb_web['f_spire_250'][i]\n",
    "    ls_tables['f_spire_350'][i]=1000.0*esb_web['f_spire_350'][i]\n",
    "    ls_tables['f_spire_500'][i]=1000.0*esb_web['f_spire_500'][i]\n",
    "    ls_tables['ferr_spire_250'][i]=1000.0*esb_web['ferr_spire_250'][i]\n",
    "    ls_tables['ferr_spire_350'][i]=1000.0*esb_web['ferr_spire_350'][i]\n",
    "    ls_tables['ferr_spire_500'][i]=1000.0*esb_web['ferr_spire_500'][i]\n",
    "    ls_tables['flag_spire_250'][i]=False\n",
    "    ls_tables['flag_spire_350'][i]=False\n",
    "    ls_tables['flag_spire_500'][i]=False\n",
    "    ls_tables['redshift']=esb_web['redshift']"
   ]
  },
  {
   "cell_type": "code",
   "execution_count": 27,
   "id": "f4969ebc",
   "metadata": {},
   "outputs": [],
   "source": [
    "from herschelhelp.external import convert_table_for_cigale"
   ]
  },
  {
   "cell_type": "code",
   "execution_count": 28,
   "id": "9a7b4b9d",
   "metadata": {},
   "outputs": [],
   "source": [
    "new_table=convert_table_for_cigale(ls_tables[cols_keep])"
   ]
  },
  {
   "cell_type": "code",
   "execution_count": 36,
   "id": "fb1b4e75",
   "metadata": {},
   "outputs": [],
   "source": [
    "data_file='/Volumes/pdh_storage/cigale/All_ESB.fits'\n",
    "new_table.write(data_file,overwrite=True)"
   ]
  },
  {
   "cell_type": "code",
   "execution_count": 37,
   "id": "8c198718",
   "metadata": {},
   "outputs": [],
   "source": [
    "fin = open(\"/Volumes/pdh_storage/cigale/pcigale_obs_orig.ini\")\n",
    "fout = open(\"/Volumes/pdh_storage/cigale/pcigale.ini\", \"wt\")\n",
    "for line in fin:\n",
    "    if 'data_file =' in line:\n",
    "        fout.write('data_file = ' +data_file + ' \\n')\n",
    "\n",
    "    else:\n",
    "        fout.write(line)\n",
    "fin.close()\n",
    "fout.close()\n",
    "fin = open(\"/Volumes/pdh_storage/cigale/pcigale_obs_orig.ini.spec\")\n",
    "from shutil import copyfile\n",
    "copyfile(\"/Volumes/pdh_storage/cigale/pcigale_obs_orig.ini.spec\",\"/Volumes/pdh_storage/cigale/pcigale.ini.spec\")\n",
    "fin.close()"
   ]
  },
  {
   "cell_type": "code",
   "execution_count": 38,
   "id": "c3f8ba16",
   "metadata": {},
   "outputs": [
    {
     "data": {
      "text/plain": [
       "0"
      ]
     },
     "execution_count": 38,
     "metadata": {},
     "output_type": "execute_result"
    }
   ],
   "source": [
    "import subprocess\n",
    "p = subprocess.Popen(['pcigale', 'run'], cwd='/Volumes/pdh_storage/cigale/')\n",
    "p.wait()"
   ]
  },
  {
   "cell_type": "code",
   "execution_count": 39,
   "id": "197bff4b",
   "metadata": {},
   "outputs": [
    {
     "data": {
      "text/plain": [
       "'/Volumes/pdh_storage/cigale/fit_all_ESBs/'"
      ]
     },
     "execution_count": 39,
     "metadata": {},
     "output_type": "execute_result"
    }
   ],
   "source": [
    "from shutil import move, rmtree\n",
    "rmtree('/Volumes/pdh_storage/cigale/fit_all_ESBs/')\n",
    "move('/Volumes/pdh_storage/cigale/out/', '/Volumes/pdh_storage/cigale/fit_all_ESBs/')"
   ]
  }
 ],
 "metadata": {
  "kernelspec": {
   "display_name": "Python 3",
   "language": "python",
   "name": "python3"
  },
  "language_info": {
   "codemirror_mode": {
    "name": "ipython",
    "version": 3
   },
   "file_extension": ".py",
   "mimetype": "text/x-python",
   "name": "python",
   "nbconvert_exporter": "python",
   "pygments_lexer": "ipython3",
   "version": "3.6.13"
  }
 },
 "nbformat": 4,
 "nbformat_minor": 5
}
