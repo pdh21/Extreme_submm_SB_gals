{
 "cells": [
  {
   "cell_type": "code",
   "execution_count": 1,
   "id": "1dfe855f-5898-461a-a513-7b9a8291731c",
   "metadata": {
    "tags": [
     "parameters"
    ]
   },
   "outputs": [],
   "source": [
    "field=['Lockman-SWIRE']\n",
    "path_to_SPIRE=['/Volumes/pdh_storage/dmu_products/dmu19/dmu19_HELP-SPIRE-maps/data/']\n",
    "#path_to_SPIRE=['/mnt/lustre/users/astro/pdh21/Extreme_submm_SB_gals/data/']\n",
    "redshift_file=[\"/Volumes/pdh_storage/dmu_products/dmu24/dmu24_Lockman-SWIRE/data/master_catalogue_Lockman-SWIRE_20170710_photoz_20170802_r_and_irac1_optimised_UPDATED_IDs_20180219.fits\"]\n",
    "#redshift_file=[\"/mnt/lustre/users/astro/pdh21/Extreme_submm_SB_gals/data/master_catalogue_Lockman-SWIRE_20170710_photoz_20170802_r_and_irac1_optimised_UPDATED_IDs_20180219.fits\"]"
   ]
  },
  {
   "cell_type": "code",
   "execution_count": 2,
   "id": "d9a2437f-8402-4d0f-ad92-ae2fb7f4dcf6",
   "metadata": {},
   "outputs": [
    {
     "name": "stderr",
     "output_type": "stream",
     "text": [
      "/Users/pdh21/anaconda3/envs/xidplus/lib/python3.6/site-packages/dask/config.py:168: YAMLLoadWarning: calling yaml.load() without Loader=... is deprecated, as the default Loader is unsafe. Please read https://msg.pyyaml.org/load for full details.\n",
      "  data = yaml.load(f.read()) or {}\n",
      "WARNING: AstropyDeprecationWarning: block_reduce was moved to the astropy.nddata.blocks module.  Please update your import statement. [astropy.nddata.utils]\n"
     ]
    }
   ],
   "source": [
    "from astropy.io import ascii, fits\n",
    "from astropy.table import Table\n",
    "import pylab as plt\n",
    "%matplotlib inline\n",
    "from astropy import wcs\n",
    "import seaborn as sns\n",
    "import glob\n",
    "import arviz as az\n",
    "\n",
    "import numpy as np\n",
    "import xidplus\n",
    "from xidplus import moc_routines\n",
    "import pickle\n",
    "import os\n",
    "from ESB_functions import *\n",
    "sns.set_context(\"paper\")"
   ]
  },
  {
   "cell_type": "code",
   "execution_count": 3,
   "id": "6fc5ce9d-1da7-463f-95da-15e6de15a859",
   "metadata": {},
   "outputs": [],
   "source": [
    "try:\n",
    "    source = [np.int(os.environ['SGE_TASK_ID'])-1]\n",
    "except:\n",
    "    source=[1]"
   ]
  },
  {
   "cell_type": "code",
   "execution_count": 4,
   "id": "4056e038-7678-459b-913b-2f0595ceeadc",
   "metadata": {},
   "outputs": [],
   "source": [
    "esb=Table.read('../../../data/MRR2018_tables/{}_sources.csv'.format(field[0]),format='ascii',encoding='utf-8')"
   ]
  },
  {
   "cell_type": "code",
   "execution_count": 5,
   "id": "a6007cc2-6acb-4933-8a7e-8f97cb6a65b8",
   "metadata": {},
   "outputs": [],
   "source": [
    "model = 'model2'\n",
    "\n",
    "try:\n",
    "    data=az.InferenceData.from_netcdf('./output/{}/posterior_{}_{}_{}.nc'.format(field[0],field[0],source[0],model))\n",
    "    prior_list=Table.read('./output/{}/prior_list_{}_{}_{}.ascii'.format(field[0],field[0],source[0],model),format='ascii',encoding='utf-8')\n",
    "    priors,_ = xidplus.load('./output/{}/prior_{}_{}_{}.pkl'.format(field[0],field[0],source[0],model))\n",
    "except FileNotFoundError:\n",
    "    model = 'model1'\n",
    "    data=az.InferenceData.from_netcdf('./output/{}/posterior_{}_{}_{}.nc'.format(field[0],field[0],source[0],model))\n",
    "    prior_list=Table.read('./output/{}/prior_list_{}_{}_{}.ascii'.format(field[0],field[0],source[0],model),format='ascii',encoding='utf-8')\n",
    "    priors,_ = xidplus.load('./output/{}/prior_{}_{}_{}.pkl'.format(field[0],field[0],source[0],model))\n"
   ]
  },
  {
   "cell_type": "code",
   "execution_count": 6,
   "id": "673c5d9f-e4fe-4c33-bce3-20dd0ff5d22b",
   "metadata": {},
   "outputs": [],
   "source": [
    "from astropy.coordinates import SkyCoord\n",
    "from astropy import units as u\n",
    "import os\n",
    "\n",
    "c = SkyCoord(ra=[esb['RA'][source[0]]]*u.degree, dec=[esb['Dec'][source[0]]]*u.degree)"
   ]
  },
  {
   "cell_type": "code",
   "execution_count": 7,
   "id": "429d32f5-f8b4-4754-aec4-953d8c7d577d",
   "metadata": {},
   "outputs": [
    {
     "name": "stdout",
     "output_type": "stream",
     "text": [
      " Sources \n",
      "           help_id          \n",
      "---------------------------\n",
      "HELP_J104201.994+584018.387\n",
      "HELP_J104201.199+584021.132\n",
      "HELP_J104201.658+584011.825\n",
      "HELP_J104200.887+584011.215\n",
      "HELP_J104201.712+584006.945\n",
      "HELP_J104202.499+584025.262 \n",
      " are possible contributers to flux of extreme starburst\n"
     ]
    }
   ],
   "source": [
    "#find the sources that are within a certain separation of the extreme starburst candidate\n",
    "sep=12\n",
    "separation=c.separation(SkyCoord(priors[0].sra,priors[0].sdec)).arcsec\n",
    "contrib_sources=separation<sep\n",
    "print(' Sources \\n {} \\n are possible contributers to flux of extreme starburst'.format(priors[0].ID[contrib_sources]))"
   ]
  },
  {
   "cell_type": "code",
   "execution_count": 8,
   "id": "01ecace9-c265-4dcb-9b5b-4c439c01eaf5",
   "metadata": {},
   "outputs": [],
   "source": [
    "ind = prior_list['help_id']==priors[0].ID[np.argmin(separation)]\n"
   ]
  },
  {
   "cell_type": "code",
   "execution_count": 9,
   "id": "d66b6948-f769-477c-9a3f-488923b24851",
   "metadata": {},
   "outputs": [
    {
     "name": "stderr",
     "output_type": "stream",
     "text": [
      "W0810 16:39:29.221226 4566568384 xla_bridge.py:135] No GPU/TPU found, falling back to CPU. (Set TF_CPP_MIN_LOG_LEVEL=0 and rerun for more info.)\n"
     ]
    }
   ],
   "source": [
    "import jax.numpy as jnp\n",
    "emulator_path=['/Users/pdh21/Google_Drive/WORK/XID_plus/docs/notebooks/examples/SED_emulator/CIGALE_emulator_20210420_log10sfr_uniformAGN_z.npz']\n",
    "\n",
    "\n",
    "def create_phys_prior(priors,prior_list,emulator_path):\n",
    "    z_mu=np.empty((priors[1].nsrc))\n",
    "    z_sig=np.empty((priors[1].nsrc))\n",
    "\n",
    "    for x,i in enumerate(priors[1].ID):\n",
    "        \n",
    "        ind=prior_list['help_id']==str(i)\n",
    "        z_mu[x]=prior_list['redshift'][ind]\n",
    "        z_sig[x]=prior_list['redshift_unc'][ind]\n",
    "\n",
    "    \n",
    "\n",
    "    sfr_mu=1.5*z_mu+1.0\n",
    "    sfr_sig=np.full(priors[1].nsrc,0.5)\n",
    "\n",
    "    agn_frac_mu=np.full(priors[1].nsrc,-1)\n",
    "    agn_frac_sig=np.full(priors[1].nsrc,1)\n",
    "    params_mu=np.vstack((sfr_mu,z_mu)).T\n",
    "    params_sig=np.vstack((sfr_sig,z_sig)).T\n",
    "    params_names=['log10sfr','z']\n",
    "    \n",
    "    return xidplus.hier_prior(priors[1].ID,params_mu,params_sig,params_names,emulator_path[0])\n",
    "\n",
    "hier_params={'m_mu':0.8,'m_sig':0.4,'c_mu':-1.0,'c_sig':0.5,'sfr_disp':0.5}\n",
    "phys_prior=create_phys_prior(priors,prior_list,emulator_path)\n",
    "\n",
    "\n",
    "#stack params and make vector ready to be used by emualator\n",
    "params = jnp.stack((data.posterior.sfr.values.reshape(data.posterior.chain.size * data.posterior.draw.size,data.posterior.src.size).T, data.posterior.agn.values.reshape(data.posterior.chain.size * data.posterior.draw.size,data.posterior.src.size).T,data.posterior.redshift.values.reshape(data.posterior.chain.size * data.posterior.draw.size,data.posterior.src.size).T)).T\n",
    "# Use emulator to get fluxes. As emulator provides log flux, convert.\n",
    "src_f = np.array(jnp.exp(phys_prior.emulator['net_apply'](phys_prior.emulator['params'], params)))\n",
    "\n",
    "\n",
    "#stack params and make vector ready to be used by emualator\n",
    "params_prior = jnp.stack((data.prior.sfr.values.reshape(data.prior.chain.size * data.prior.draw.size,data.prior.src.size).T, data.prior.agn.values.reshape(data.prior.chain.size * data.prior.draw.size,data.prior.src.size).T,data.prior.redshift.values.reshape(data.prior.chain.size * data.prior.draw.size,data.prior.src.size).T)).T\n",
    "\n",
    "# Use emulator to get fluxes. As emulator provides log flux, convert.\n",
    "src_f_prior = np.array(jnp.exp(phys_prior.emulator['net_apply'](phys_prior.emulator['params'], params_prior)))"
   ]
  },
  {
   "cell_type": "code",
   "execution_count": 10,
   "id": "fcefb9f8-5d81-4a97-972c-ae05f7661e1f",
   "metadata": {},
   "outputs": [],
   "source": [
    "nsamp=10"
   ]
  },
  {
   "cell_type": "code",
   "execution_count": 11,
   "id": "2d985b3d-72ca-4a47-aea0-2bbdc8187d54",
   "metadata": {},
   "outputs": [],
   "source": [
    "w,f=getSEDs(data,np.argmin(separation), nsamp=nsamp)"
   ]
  },
  {
   "cell_type": "code",
   "execution_count": 12,
   "id": "2e1d7dfa-864a-46fa-9eff-8f1e2ed6391d",
   "metadata": {},
   "outputs": [],
   "source": [
    "w_prior,f_prior=getSEDs(data,np.argmin(separation), nsamp=nsamp,category='prior')"
   ]
  },
  {
   "cell_type": "code",
   "execution_count": 13,
   "id": "e9ddc362-e519-46dc-9414-91044f6c4476",
   "metadata": {},
   "outputs": [],
   "source": [
    "import herschelhelp"
   ]
  },
  {
   "cell_type": "code",
   "execution_count": 14,
   "id": "28d6da23-4f74-4c33-996a-43c764d06946",
   "metadata": {},
   "outputs": [],
   "source": [
    "filters=[]\n",
    "for c in prior_list.colnames:\n",
    "    if 'f_' in c:\n",
    "        filt=c.split('f_')[1]\n",
    "        try:\n",
    "            if not prior_list[ind]['f_'+filt].mask and ('ap' not in filt):\n",
    "                filters.append(filt)\n",
    "        except KeyError:\n",
    "            pass\n"
   ]
  },
  {
   "cell_type": "code",
   "execution_count": 15,
   "id": "39032427-90be-45a8-bab1-18456ab56256",
   "metadata": {},
   "outputs": [],
   "source": [
    "wavelength=np.array([herschelhelp.database.get_filters(f).mean_wavelength/1.0E4 for f in filters])\n",
    "flux=np.array([prior_list[ind]['f_'+f].data/1.E3 for f in filters])\n",
    "flux_error=np.array([prior_list[ind]['ferr_'+f].data/1.E3 for f in filters])"
   ]
  },
  {
   "cell_type": "code",
   "execution_count": 16,
   "id": "ecddadaa-aa4f-4c91-8051-e59b95b47c2a",
   "metadata": {},
   "outputs": [
    {
     "data": {
      "text/plain": [
       "<matplotlib.legend.Legend at 0x7fab2b67f080>"
      ]
     },
     "execution_count": 16,
     "metadata": {},
     "output_type": "execute_result"
    },
    {
     "data": {
      "image/png": "[encoded data removed]",
      "text/plain": [
       "<Figure size 720x360 with 1 Axes>"
      ]
     },
     "metadata": {
      "needs_background": "light"
     },
     "output_type": "display_data"
    }
   ],
   "source": [
    "plt.figure(figsize=(10,5))\n",
    "for i in range(0,nsamp):\n",
    "    plt.loglog(w['wavelength_{}'.format(i+1)],f['Fnu_{}'.format(i+1)],'b',alpha=0.1)\n",
    "    plt.loglog(w_prior['wavelength_{}'.format(i+1)],f_prior['Fnu_{}'.format(i+1)],'r',alpha=0.1)\n",
    "\n",
    "\n",
    "    plt.xlim(0.1,1.5E3)\n",
    "v=plt.violinplot(src_f[:,np.argmin(separation),:],positions=np.array([250,350,500]),showextrema=False,widths=20)\n",
    "for pc in v['bodies']:\n",
    "        pc.set_facecolor('blue')\n",
    "        pc.set_edgecolor('black')\n",
    "        pc.set_alpha(1.0)\n",
    "v=plt.violinplot(src_f_prior[:,np.argmin(separation),:],positions=np.array([250,350,500]),showextrema=False,widths=20)\n",
    "for pc in v['bodies']:\n",
    "        pc.set_facecolor('red')\n",
    "        pc.set_alpha(1.0)\n",
    "plt.ylim(1E-5,1E3)\n",
    "w_ind=wavelength<100\n",
    "plt.errorbar(wavelength[w_ind],flux[w_ind],yerr=flux_error.reshape(-1)[w_ind],fmt='go',label='HELP masterlist')\n",
    "plt.xlabel('wavelength $\\mathrm{\\mu m}$')\n",
    "plt.ylabel('Flux $\\mathrm{\\mu m}$')\n",
    "\n",
    "import matplotlib.patches as mpatches\n",
    "red_patch = mpatches.Patch(color='red')\n",
    "blue_patch = mpatches.Patch(color='blue')\n",
    "green_patch = mpatches.Circle(0,color='green')\n",
    "\n",
    "plt.legend([red_patch,blue_patch,green_patch],['prior','posterior','HELP Masterlist data'])"
   ]
  },
  {
   "cell_type": "code",
   "execution_count": null,
   "id": "654415ef-5ebe-46f9-9c4f-c5e9ec7b5b86",
   "metadata": {},
   "outputs": [],
   "source": []
  }
 ],
 "metadata": {
  "kernelspec": {
   "display_name": "Python 3",
   "language": "python",
   "name": "python3"
  },
  "language_info": {
   "codemirror_mode": {
    "name": "ipython",
    "version": 3
   },
   "file_extension": ".py",
   "mimetype": "text/x-python",
   "name": "python",
   "nbconvert_exporter": "python",
   "pygments_lexer": "ipython3",
   "version": "3.6.13"
  }
 },
 "nbformat": 4,
 "nbformat_minor": 5
}
