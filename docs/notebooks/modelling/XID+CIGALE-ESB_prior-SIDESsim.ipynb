{
 "cells": [
  {
   "cell_type": "markdown",
   "metadata": {},
   "source": [
    "# Applying XID+CIGALE to Extreme Starbursts\n",
    "In this notebook, we read in the data files and prepare them for fitting with XID+CIGALE, the SED prior model extension to XID+. Here we focus on sources in [Rowan-Robinson et al. 2018](https://arxiv.org/abs/1704.07783) and claimed to have a star formation rate of $> 10^{3}\\mathrm{M_{\\odot}yr^{-1}}$\n",
    "\n",
    "THis particular notebook will use the [SIDES simulation](http://cesam.lam.fr/sides/) from [Bethermin et al. 2017](https://ui.adsabs.harvard.edu/abs/2017A%26A...607A..89B/abstract) to test how well the XID+SED CIGALE model recovers the true parameters"
   ]
  },
  {
   "cell_type": "code",
   "execution_count": 1,
   "metadata": {
    "tags": [
     "parameters"
    ]
   },
   "outputs": [],
   "source": [
    "\n",
    "field=['Lockman-SWIRE']\n",
    "path_to_SPIRE=['/Volumes/pdh_storage/dmu_products/dmu19/dmu19_HELP-SPIRE-maps/data/']\n",
    "#path_to_SPIRE=['/mnt/lustre/users/astro/pdh21/Extreme_submm_SB_gals/data/']\n",
    "redshift_file=[\"/Volumes/pdh_storage/dmu_products/dmu24/dmu24_Lockman-SWIRE/data/master_catalogue_Lockman-SWIRE_20170710_photoz_20170802_r_and_irac1_optimised_UPDATED_IDs_20180219.fits\"]\n",
    "#redshift_file=[\"/mnt/lustre/users/astro/pdh21/Extreme_submm_SB_gals/data/master_catalogue_Lockman-SWIRE_20170710_photoz_20170802_r_and_irac1_optimised_UPDATED_IDs_20180219.fits\"]"
   ]
  },
  {
   "cell_type": "markdown",
   "metadata": {},
   "source": [
    "Import required modules"
   ]
  },
  {
   "cell_type": "code",
   "execution_count": 2,
   "metadata": {
    "slideshow": {
     "slide_type": "skip"
    }
   },
   "outputs": [
    {
     "name": "stderr",
     "output_type": "stream",
     "text": [
      "/Users/pdh21/anaconda3/envs/xidplus/lib/python3.6/site-packages/dask/config.py:168: YAMLLoadWarning: calling yaml.load() without Loader=... is deprecated, as the default Loader is unsafe. Please read https://msg.pyyaml.org/load for full details.\n",
      "  data = yaml.load(f.read()) or {}\n",
      "WARNING: AstropyDeprecationWarning: block_reduce was moved to the astropy.nddata.blocks module.  Please update your import statement. [astropy.nddata.utils]\n"
     ]
    }
   ],
   "source": [
    "from astropy.io import ascii, fits\n",
    "from astropy.table import Table\n",
    "import pylab as plt\n",
    "%matplotlib inline\n",
    "from astropy import wcs\n",
    "\n",
    "\n",
    "import numpy as np\n",
    "import xidplus\n",
    "from xidplus import moc_routines\n",
    "import pickle\n",
    "import os\n"
   ]
  },
  {
   "cell_type": "code",
   "execution_count": 3,
   "metadata": {},
   "outputs": [],
   "source": [
    "try:\n",
    "    source=[np.int(os.environ['SGE_TASK_ID'])-1]\n",
    "except:\n",
    "    source=[0]"
   ]
  },
  {
   "cell_type": "markdown",
   "metadata": {},
   "source": [
    "Set image and catalogue filenames"
   ]
  },
  {
   "cell_type": "code",
   "execution_count": 4,
   "metadata": {},
   "outputs": [],
   "source": [
    "#Folder containing maps\n",
    "pswfits=path_to_SPIRE[0]+'{}_SPIRE250_v1.0.fits'.format(field[0])#SPIRE 250 map\n",
    "pmwfits=path_to_SPIRE[0]+'{}_SPIRE350_v1.0.fits'.format(field[0])#SPIRE 350 map\n",
    "plwfits=path_to_SPIRE[0]+'{}_SPIRE500_v1.0.fits'.format(field[0])#SPIRE 500 map\n",
    "\n",
    "\n",
    "\n",
    "\n",
    "#output folder\n",
    "output_folder='./'"
   ]
  },
  {
   "cell_type": "markdown",
   "metadata": {},
   "source": [
    "Load in images, noise maps, header info and WCS information"
   ]
  },
  {
   "cell_type": "code",
   "execution_count": 5,
   "metadata": {},
   "outputs": [],
   "source": [
    "#-----250-------------\n",
    "hdulist = fits.open(pswfits)\n",
    "im250phdu=hdulist[0].header\n",
    "im250hdu=hdulist[1].header\n",
    "\n",
    "im250=hdulist[1].data*1.0E3 #convert to mJy\n",
    "nim250=hdulist[3].data*1.0E3 #convert to mJy\n",
    "w_250 = wcs.WCS(hdulist[1].header)\n",
    "pixsize250=3600.0*w_250.wcs.cd[1,1] #pixel size (in arcseconds)\n",
    "hdulist.close()\n",
    "#-----350-------------\n",
    "hdulist = fits.open(pmwfits)\n",
    "im350phdu=hdulist[0].header\n",
    "im350hdu=hdulist[1].header\n",
    "\n",
    "im350=hdulist[1].data*1.0E3 #convert to mJy\n",
    "nim350=hdulist[3].data*1.0E3 #convert to mJy\n",
    "w_350 = wcs.WCS(hdulist[1].header)\n",
    "pixsize350=3600.0*w_350.wcs.cd[1,1] #pixel size (in arcseconds)\n",
    "hdulist.close()\n",
    "#-----500-------------\n",
    "hdulist = fits.open(plwfits)\n",
    "im500phdu=hdulist[0].header\n",
    "im500hdu=hdulist[1].header \n",
    "im500=hdulist[1].data*1.0E3 #convert to mJy\n",
    "nim500=hdulist[3].data*1.0E3 #convert to mJy\n",
    "w_500 = wcs.WCS(hdulist[1].header)\n",
    "pixsize500=3600.0*w_500.wcs.cd[1,1] #pixel size (in arcseconds)\n",
    "hdulist.close()"
   ]
  },
  {
   "cell_type": "markdown",
   "metadata": {},
   "source": [
    "XID+ uses Multi Order Coverage (MOC) maps for cutting down maps and catalogues so they cover the same area. It can also take in MOCs as selection functions to carry out additional cuts. Lets use the python module [pymoc](http://pymoc.readthedocs.io/en/latest/) to create a MOC, centered on a specific position we are interested in. We will use a HEALPix order of 15 (the resolution: higher order means higher resolution)"
   ]
  },
  {
   "cell_type": "markdown",
   "metadata": {},
   "source": [
    "Read in the SIDES catalogue"
   ]
  },
  {
   "cell_type": "code",
   "execution_count": 73,
   "metadata": {},
   "outputs": [],
   "source": [
    "from astropy.io import fits\n",
    "Mock=fits.open('../../../data/Mock_cat_Bethermin2017.fits',format='fits')\n"
   ]
  },
  {
   "cell_type": "code",
   "execution_count": 74,
   "metadata": {},
   "outputs": [],
   "source": [
    "import pandas as pd\n",
    "cols=['REDSHIFT','RA','DEC','SFR','SMIPS24','SSPIRE250','SSPIRE350','SSPIRE500']\n",
    "Mock=pd.DataFrame(np.vstack([Mock[1].data[c].reshape(-1) for c in cols]).T,columns=cols)\n",
    "Mock=Mock[Mock['SMIPS24']>5E-6]\n",
    "Mock=Mock.reset_index(drop=True)\n"
   ]
  },
  {
   "cell_type": "code",
   "execution_count": 76,
   "metadata": {},
   "outputs": [
    {
     "data": {
      "text/html": [
       "<div>\n",
       "<style scoped>\n",
       "    .dataframe tbody tr th:only-of-type {\n",
       "        vertical-align: middle;\n",
       "    }\n",
       "\n",
       "    .dataframe tbody tr th {\n",
       "        vertical-align: top;\n",
       "    }\n",
       "\n",
       "    .dataframe thead th {\n",
       "        text-align: right;\n",
       "    }\n",
       "</style>\n",
       "<table border=\"1\" class=\"dataframe\">\n",
       "  <thead>\n",
       "    <tr style=\"text-align: right;\">\n",
       "      <th></th>\n",
       "      <th>REDSHIFT</th>\n",
       "      <th>RA</th>\n",
       "      <th>DEC</th>\n",
       "      <th>SFR</th>\n",
       "      <th>SMIPS24</th>\n",
       "      <th>SSPIRE250</th>\n",
       "      <th>SSPIRE350</th>\n",
       "      <th>SSPIRE500</th>\n",
       "    </tr>\n",
       "  </thead>\n",
       "  <tbody>\n",
       "    <tr>\n",
       "      <th>0</th>\n",
       "      <td>0.028948</td>\n",
       "      <td>0.653517</td>\n",
       "      <td>1.053531</td>\n",
       "      <td>1.543751</td>\n",
       "      <td>0.031882</td>\n",
       "      <td>0.256333</td>\n",
       "      <td>0.104620</td>\n",
       "      <td>0.037054</td>\n",
       "    </tr>\n",
       "    <tr>\n",
       "      <th>1</th>\n",
       "      <td>0.027158</td>\n",
       "      <td>0.931048</td>\n",
       "      <td>0.651234</td>\n",
       "      <td>0.385166</td>\n",
       "      <td>0.006702</td>\n",
       "      <td>0.096441</td>\n",
       "      <td>0.041178</td>\n",
       "      <td>0.015021</td>\n",
       "    </tr>\n",
       "    <tr>\n",
       "      <th>2</th>\n",
       "      <td>0.028611</td>\n",
       "      <td>0.787421</td>\n",
       "      <td>0.940826</td>\n",
       "      <td>0.234264</td>\n",
       "      <td>0.004684</td>\n",
       "      <td>0.044218</td>\n",
       "      <td>0.018422</td>\n",
       "      <td>0.006612</td>\n",
       "    </tr>\n",
       "    <tr>\n",
       "      <th>3</th>\n",
       "      <td>0.030565</td>\n",
       "      <td>1.024233</td>\n",
       "      <td>1.341723</td>\n",
       "      <td>0.129941</td>\n",
       "      <td>0.002256</td>\n",
       "      <td>0.011491</td>\n",
       "      <td>0.004300</td>\n",
       "      <td>0.001439</td>\n",
       "    </tr>\n",
       "    <tr>\n",
       "      <th>4</th>\n",
       "      <td>0.027382</td>\n",
       "      <td>1.168631</td>\n",
       "      <td>0.542636</td>\n",
       "      <td>0.066786</td>\n",
       "      <td>0.001146</td>\n",
       "      <td>0.016499</td>\n",
       "      <td>0.007045</td>\n",
       "      <td>0.002570</td>\n",
       "    </tr>\n",
       "  </tbody>\n",
       "</table>\n",
       "</div>"
      ],
      "text/plain": [
       "   REDSHIFT        RA       DEC       SFR   SMIPS24  SSPIRE250  SSPIRE350  \\\n",
       "0  0.028948  0.653517  1.053531  1.543751  0.031882   0.256333   0.104620   \n",
       "1  0.027158  0.931048  0.651234  0.385166  0.006702   0.096441   0.041178   \n",
       "2  0.028611  0.787421  0.940826  0.234264  0.004684   0.044218   0.018422   \n",
       "3  0.030565  1.024233  1.341723  0.129941  0.002256   0.011491   0.004300   \n",
       "4  0.027382  1.168631  0.542636  0.066786  0.001146   0.016499   0.007045   \n",
       "\n",
       "   SSPIRE500  \n",
       "0   0.037054  \n",
       "1   0.015021  \n",
       "2   0.006612  \n",
       "3   0.001439  \n",
       "4   0.002570  "
      ]
     },
     "execution_count": 76,
     "metadata": {},
     "output_type": "execute_result"
    }
   ],
   "source": [
    "Mock[0:5]"
   ]
  },
  {
   "cell_type": "code",
   "execution_count": 77,
   "metadata": {},
   "outputs": [
    {
     "data": {
      "text/plain": [
       "[<matplotlib.lines.Line2D at 0x7ff4248e4550>]"
      ]
     },
     "execution_count": 77,
     "metadata": {},
     "output_type": "execute_result"
    },
    {
     "data": {
      "image/png": "[encoded data removed]",
      "text/plain": [
       "<Figure size 432x288 with 1 Axes>"
      ]
     },
     "metadata": {
      "needs_background": "light"
     },
     "output_type": "display_data"
    }
   ],
   "source": [
    "plt.plot(Mock['REDSHIFT'],np.log10(Mock['SFR']),'o',alpha=0.1)"
   ]
  },
  {
   "cell_type": "markdown",
   "metadata": {},
   "source": [
    "## Create empty maps"
   ]
  },
  {
   "cell_type": "code",
   "execution_count": 78,
   "metadata": {},
   "outputs": [],
   "source": [
    "maps=[fits.HDUList([fits.PrimaryHDU(np.zeros((np.ceil(1.5/(p/3600.0)).astype(int),np.ceil(1.5/(p/3600.0)).astype(int)))),\n",
    "                    fits.PrimaryHDU(np.ones((np.ceil(1.5/(p/3600.0)).astype(int),np.ceil(1.5/(p/3600.0)).astype(int)))*np.nanmedian(m))]) for p,m in zip([pixsize250,pixsize350,pixsize500],[nim250,nim350,nim500])]"
   ]
  },
  {
   "cell_type": "code",
   "execution_count": 79,
   "metadata": {},
   "outputs": [],
   "source": [
    "from astropy.coordinates import SkyCoord\n",
    "from astropy import units as u\n",
    "import os\n",
    "for i,h in enumerate([w_250,w_350,w_500]):\n",
    "    for e in range(0,2):\n",
    "        ra_obj=0.75\n",
    "        dec_obj=0.75\n",
    "        w = wcs.WCS(naxis=2)\n",
    "\n",
    "        # reference pixel coordinate\n",
    "        w.wcs.crpix = [int(maps[i][e].data.shape[0]/2),int(maps[i][e].data.shape[1]/2)]\n",
    "\n",
    "        # sizes of the pixel in degrees\n",
    "        w.wcs.cdelt = [h.wcs.cd[0,0],h.wcs.cd[1,1]]\n",
    "\n",
    "        # converting ra and dec into degrees\n",
    "        c = SkyCoord(ra_obj*u.degree, dec_obj*u.degree)\n",
    "        w.wcs.crval = [c.ra.deg, c.dec.deg]\n",
    "\n",
    "        # the units of the axes are in degrees\n",
    "        #w.wcs.cunit = ['deg', 'deg']\n",
    "        w.wcs.ctype=['RA---TAN','DEC--TAN']\n",
    "        wcs_header = w.to_header()\n",
    "\n",
    "\n",
    "        maps[i][e].header.update(wcs_header)\n"
   ]
  },
  {
   "cell_type": "markdown",
   "metadata": {},
   "source": [
    "## Select candidate objects to look at"
   ]
  },
  {
   "cell_type": "code",
   "execution_count": 80,
   "metadata": {},
   "outputs": [],
   "source": [
    "ind_esb=Mock['SFR']>950"
   ]
  },
  {
   "cell_type": "markdown",
   "metadata": {},
   "source": [
    "I will look at objects with the highes SFR in the simulation and for each one carry out the type of fit I would do with the real objects i.e.\n",
    "1. Fit with prior selection\n",
    "2. Fit removing the candidate"
   ]
  },
  {
   "cell_type": "code",
   "execution_count": 88,
   "metadata": {},
   "outputs": [
    {
     "name": "stdout",
     "output_type": "stream",
     "text": [
      "fitting 273 sources \n",
      "\n",
      "using 879, 455 and 226 pixels\n",
      "source density = 112195.397579633\n",
      "fitting 293 sources \n",
      "\n",
      "using 877, 453 and 219 pixels\n",
      "source density = 120573.48995464765\n",
      "fitting 279 sources \n",
      "\n",
      "using 873, 455 and 219 pixels\n",
      "source density = 114812.29930835051\n",
      "fitting 287 sources \n",
      "\n",
      "using 873, 452 and 221 pixels\n",
      "source density = 118104.40824909172\n",
      "fitting 379 sources \n",
      "\n",
      "using 870, 447 and 216 pixels\n",
      "source density = 156375.71829632827\n",
      "fitting 319 sources \n",
      "\n",
      "using 874, 457 and 221 pixels\n",
      "source density = 131446.02718357652\n",
      "fitting 237 sources \n",
      "\n",
      "using 870, 454 and 221 pixels\n",
      "source density = 98175.46959339443\n",
      "fitting 340 sources \n",
      "\n",
      "using 879, 447 and 217 pixels\n",
      "source density = 139546.91741913315\n",
      "fitting 289 sources \n",
      "\n",
      "using 871, 449 and 220 pixels\n",
      "source density = 119399.3697520718\n",
      "fitting 289 sources \n",
      "\n",
      "using 872, 456 and 216 pixels\n",
      "source density = 119084.33183715868\n",
      "fitting 289 sources \n",
      "\n",
      "using 875, 450 and 224 pixels\n",
      "source density = 119399.3697520718\n",
      "fitting 280 sources \n",
      "\n",
      "using 865, 453 and 217 pixels\n",
      "source density = 115987.89656603562\n",
      "fitting 287 sources \n",
      "\n",
      "using 874, 453 and 223 pixels\n",
      "source density = 118260.21881406415\n",
      "fitting 277 sources \n",
      "\n",
      "using 865, 451 and 214 pixels\n",
      "source density = 114290.4326334642\n",
      "fitting 335 sources \n",
      "\n",
      "using 877, 452 and 217 pixels\n",
      "source density = 137675.67102262657\n",
      "fitting 240 sources \n",
      "\n",
      "using 876, 452 and 226 pixels\n",
      "source density = 98893.56277134284\n",
      "fitting 284 sources \n",
      "\n",
      "using 872, 454 and 220 pixels\n",
      "source density = 117333.63671137851\n",
      "fitting 256 sources \n",
      "\n",
      "using 868, 453 and 217 pixels\n",
      "source density = 106046.07686037543\n",
      "fitting 284 sources \n",
      "\n",
      "using 865, 448 and 219 pixels\n",
      "source density = 117801.10139947165\n",
      "fitting 288 sources \n",
      "\n",
      "using 876, 455 and 221 pixels\n",
      "source density = 118359.97986422823\n",
      "fitting 257 sources \n",
      "\n",
      "using 867, 450 and 218 pixels\n",
      "source density = 106460.31934811127\n",
      "fitting 297 sources \n",
      "\n",
      "using 872, 450 and 218 pixels\n",
      "source density = 122058.72923498535\n",
      "fitting 258 sources \n",
      "\n",
      "using 871, 447 and 217 pixels\n",
      "source density = 106451.01667665617\n"
     ]
    }
   ],
   "source": [
    "for i in range(0,ind_esb.sum()):\n",
    "    c = SkyCoord(ra=Mock['RA'][ind_esb].values[i]*u.degree, dec=Mock['DEC'][ind_esb].values[i]*u.degree)\n",
    "    import pymoc\n",
    "    moc=pymoc.util.catalog.catalog_to_moc(c,100,15)\n",
    "    #---prior250--------\n",
    "    prior250=xidplus.prior(maps[0][0].data,maps[0][1].data,None,maps[0][0].header, moc=moc)#Initialise with map, uncertianty map, wcs info and primary header\n",
    "    prior250.prior_cat(Mock['RA'],Mock['DEC'],'photoz',ID=Mock.index)\n",
    "    prior250.prior_bkg(-5.0,5)#Set prior on background (assumes Gaussian pdf with mu and sigma)\n",
    "    #---prior350--------\n",
    "    prior350=xidplus.prior(maps[1][0].data,maps[1][1].data,None,maps[1][0].header, moc=moc)\n",
    "    prior350.prior_cat(Mock['RA'],Mock['DEC'],'photoz',ID=Mock.index)\n",
    "    prior350.prior_bkg(-5.0,5)\n",
    "    #---prior500--------\n",
    "    prior500=xidplus.prior(maps[2][0].data,maps[2][1].data,None,maps[2][0].header, moc=moc)\n",
    "    prior500.prior_cat(Mock['RA'],Mock['DEC'],'photoz',ID=Mock.index)\n",
    "    prior500.prior_bkg(-5.0,5)\n",
    "    \n",
    "    #pixsize array (size of pixels in arcseconds)\n",
    "    pixsize=np.array([pixsize250,pixsize350,pixsize500])\n",
    "    #point response function for the three bands\n",
    "    prfsize=np.array([18.15,25.15,36.3])\n",
    "    #use Gaussian2DKernel to create prf (requires stddev rather than fwhm hence pfwhm/2.355)\n",
    "    from astropy.convolution import Gaussian2DKernel\n",
    "\n",
    "    ##---------fit using Gaussian beam-----------------------\n",
    "    prf250=Gaussian2DKernel(prfsize[0]/2.355,x_size=101,y_size=101)\n",
    "    prf250.normalize(mode='peak')\n",
    "    prf350=Gaussian2DKernel(prfsize[1]/2.355,x_size=101,y_size=101)\n",
    "    prf350.normalize(mode='peak')\n",
    "    prf500=Gaussian2DKernel(prfsize[2]/2.355,x_size=101,y_size=101)\n",
    "    prf500.normalize(mode='peak')\n",
    "\n",
    "    pind250=np.arange(0,101,1)*1.0/pixsize[0] #get 250 scale in terms of pixel scale of map\n",
    "    pind350=np.arange(0,101,1)*1.0/pixsize[1] #get 350 scale in terms of pixel scale of map\n",
    "    pind500=np.arange(0,101,1)*1.0/pixsize[2] #get 500 scale in terms of pixel scale of map\n",
    "\n",
    "    prior250.set_prf(prf250.array,pind250,pind250)#requires psf as 2d grid, and x and y bins for grid (in pixel scale)\n",
    "    prior350.set_prf(prf350.array,pind350,pind350)\n",
    "    prior500.set_prf(prf500.array,pind500,pind500)\n",
    "    \n",
    "    print('fitting '+ str(prior250.nsrc)+' sources \\n')\n",
    "    print('using ' +  str(prior250.snpix)+', '+ str(prior350.snpix)+' and '+ str(prior500.snpix)+' pixels')\n",
    "    print('source density = {}'.format(prior250.nsrc/moc.area_sq_deg))\n",
    "    \n",
    "    #prior24.get_pointing_matrix()\n",
    "    prior250.get_pointing_matrix()\n",
    "    prior350.get_pointing_matrix()\n",
    "    prior500.get_pointing_matrix()\n",
    "    \n",
    "    bkg=[-5,-6,-7]\n",
    "    prior250.sim=xidplus.posterior_maps.ymod_map(prior250,Mock['SSPIRE250'][prior250.ID]*1000.0).reshape(-1)+bkg[0]+np.random.normal(scale=prior250.snim)\n",
    "    prior350.sim=xidplus.posterior_maps.ymod_map(prior350,Mock['SSPIRE350'][prior250.ID]*1000.0).reshape(-1)+bkg[1]+np.random.normal(scale=prior350.snim)\n",
    "    prior500.sim=xidplus.posterior_maps.ymod_map(prior500,Mock['SSPIRE500'][prior250.ID]*1000.0).reshape(-1)+bkg[2]+np.random.normal(scale=prior500.snim)\n",
    "    \n",
    "    xidplus.save([prior250,prior350,prior500],None,'SIDES_Sim_test_{}_full'.format(i))\n",
    "    Mock.loc[prior250.ID.values].to_csv('prior_list_SIDES_sim_test_{}_full.csv'.format(i))"
   ]
  },
  {
   "cell_type": "code",
   "execution_count": 87,
   "metadata": {},
   "outputs": [
    {
     "name": "stdout",
     "output_type": "stream",
     "text": [
      "fitting 258 sources \n",
      "\n",
      "using 879, 455 and 226 pixels\n",
      "source density = 106030.81529503778\n",
      "fitting 286 sources \n",
      "\n",
      "using 877, 453 and 219 pixels\n",
      "source density = 117692.89463149908\n",
      "fitting 267 sources \n",
      "\n",
      "using 873, 455 and 219 pixels\n",
      "source density = 109874.13589723867\n",
      "fitting 278 sources \n",
      "\n",
      "using 873, 452 and 221 pixels\n",
      "source density = 114400.78569075784\n",
      "fitting 363 sources \n",
      "\n",
      "using 870, 447 and 216 pixels\n",
      "source density = 149774.10485901625\n",
      "fitting 301 sources \n",
      "\n",
      "using 874, 457 and 221 pixels\n",
      "source density = 124029.0099757258\n",
      "fitting 230 sources \n",
      "\n",
      "using 870, 454 and 221 pixels\n",
      "source density = 95275.77217924355\n",
      "fitting 326 sources \n",
      "\n",
      "using 879, 447 and 217 pixels\n",
      "source density = 133800.86787834534\n",
      "fitting 279 sources \n",
      "\n",
      "using 871, 449 and 220 pixels\n",
      "source density = 115267.90367068523\n",
      "fitting 284 sources \n",
      "\n",
      "using 872, 456 and 216 pixels\n",
      "source density = 117024.04927942237\n",
      "fitting 279 sources \n",
      "\n",
      "using 875, 450 and 224 pixels\n",
      "source density = 115267.90367068523\n",
      "fitting 271 sources \n",
      "\n",
      "using 865, 453 and 217 pixels\n",
      "source density = 112259.71417641305\n",
      "fitting 283 sources \n",
      "\n",
      "using 874, 453 and 223 pixels\n",
      "source density = 116611.99276787511\n",
      "fitting 274 sources \n",
      "\n",
      "using 865, 451 and 214 pixels\n",
      "source density = 113052.63011396819\n",
      "fitting 319 sources \n",
      "\n",
      "using 877, 452 and 217 pixels\n",
      "source density = 131100.11658572502\n",
      "fitting 231 sources \n",
      "\n",
      "using 876, 452 and 226 pixels\n",
      "source density = 95185.05416741749\n",
      "fitting 269 sources \n",
      "\n",
      "using 872, 454 and 220 pixels\n",
      "source density = 111136.43758929866\n",
      "fitting 250 sources \n",
      "\n",
      "using 868, 453 and 217 pixels\n",
      "source density = 103560.62193396037\n",
      "fitting 273 sources \n",
      "\n",
      "using 865, 448 and 219 pixels\n",
      "source density = 113238.38268329493\n",
      "fitting 270 sources \n",
      "\n",
      "using 876, 455 and 221 pixels\n",
      "source density = 110962.48112271396\n",
      "fitting 248 sources \n",
      "\n",
      "using 867, 450 and 218 pixels\n",
      "source density = 102732.1369584887\n",
      "fitting 290 sources \n",
      "\n",
      "using 872, 450 and 218 pixels\n",
      "source density = 119181.92416884092\n",
      "fitting 246 sources \n",
      "\n",
      "using 871, 447 and 217 pixels\n",
      "source density = 101499.80659867216\n"
     ]
    }
   ],
   "source": [
    "for i in range(0,ind_esb.sum()):\n",
    "    c = SkyCoord(ra=Mock['RA'][ind_esb].values[i]*u.degree, dec=Mock['DEC'][ind_esb].values[i]*u.degree)\n",
    "    import pymoc\n",
    "    moc=pymoc.util.catalog.catalog_to_moc(c,100,15)\n",
    "    sep = 18\n",
    "    separation = c.separation(SkyCoord(Mock['RA'].values*u.degree, Mock['DEC'].values*u.degree)).arcsec\n",
    "    remove_ind = (separation > np.min(separation)) & (separation < sep)\n",
    "    \n",
    "    Mock_drop=Mock.drop(np.arange(0,len(Mock))[remove_ind])\n",
    "    \n",
    "    #---prior250--------\n",
    "    prior250=xidplus.prior(maps[0][0].data,maps[0][1].data,None,maps[0][0].header, moc=moc)#Initialise with map, uncertianty map, wcs info and primary header\n",
    "    prior250.prior_cat(Mock_drop['RA'],Mock_drop['DEC'],'photoz',ID=Mock_drop.index)\n",
    "    prior250.prior_bkg(-5.0,5)#Set prior on background (assumes Gaussian pdf with mu and sigma)\n",
    "    #---prior350--------\n",
    "    prior350=xidplus.prior(maps[1][0].data,maps[1][1].data,None,maps[1][0].header, moc=moc)\n",
    "    prior350.prior_cat(Mock_drop['RA'],Mock_drop['DEC'],'photoz',ID=Mock_drop.index)\n",
    "    prior350.prior_bkg(-5.0,5)\n",
    "    #---prior500--------\n",
    "    prior500=xidplus.prior(maps[2][0].data,maps[2][1].data,None,maps[2][0].header, moc=moc)\n",
    "    prior500.prior_cat(Mock_drop['RA'],Mock_drop['DEC'],'photoz',ID=Mock_drop.index)\n",
    "    prior500.prior_bkg(-5.0,5)\n",
    "    \n",
    "    #pixsize array (size of pixels in arcseconds)\n",
    "    pixsize=np.array([pixsize250,pixsize350,pixsize500])\n",
    "    #point response function for the three bands\n",
    "    prfsize=np.array([18.15,25.15,36.3])\n",
    "    #use Gaussian2DKernel to create prf (requires stddev rather than fwhm hence pfwhm/2.355)\n",
    "    from astropy.convolution import Gaussian2DKernel\n",
    "\n",
    "    ##---------fit using Gaussian beam-----------------------\n",
    "    prf250=Gaussian2DKernel(prfsize[0]/2.355,x_size=101,y_size=101)\n",
    "    prf250.normalize(mode='peak')\n",
    "    prf350=Gaussian2DKernel(prfsize[1]/2.355,x_size=101,y_size=101)\n",
    "    prf350.normalize(mode='peak')\n",
    "    prf500=Gaussian2DKernel(prfsize[2]/2.355,x_size=101,y_size=101)\n",
    "    prf500.normalize(mode='peak')\n",
    "\n",
    "    pind250=np.arange(0,101,1)*1.0/pixsize[0] #get 250 scale in terms of pixel scale of map\n",
    "    pind350=np.arange(0,101,1)*1.0/pixsize[1] #get 350 scale in terms of pixel scale of map\n",
    "    pind500=np.arange(0,101,1)*1.0/pixsize[2] #get 500 scale in terms of pixel scale of map\n",
    "\n",
    "    prior250.set_prf(prf250.array,pind250,pind250)#requires psf as 2d grid, and x and y bins for grid (in pixel scale)\n",
    "    prior350.set_prf(prf350.array,pind350,pind350)\n",
    "    prior500.set_prf(prf500.array,pind500,pind500)\n",
    "    \n",
    "    print('fitting '+ str(prior250.nsrc)+' sources \\n')\n",
    "    print('using ' +  str(prior250.snpix)+', '+ str(prior350.snpix)+' and '+ str(prior500.snpix)+' pixels')\n",
    "    print('source density = {}'.format(prior250.nsrc/moc.area_sq_deg))\n",
    "    \n",
    "    #prior24.get_pointing_matrix()\n",
    "    prior250.get_pointing_matrix()\n",
    "    prior350.get_pointing_matrix()\n",
    "    prior500.get_pointing_matrix()\n",
    "    \n",
    "    bkg=[-5,-6,-7]\n",
    "    prior250.sim=xidplus.posterior_maps.ymod_map(prior250,Mock['SSPIRE250'][prior250.ID]*1000.0).reshape(-1)+bkg[0]+np.random.normal(scale=prior250.snim)\n",
    "    prior350.sim=xidplus.posterior_maps.ymod_map(prior350,Mock['SSPIRE350'][prior250.ID]*1000.0).reshape(-1)+bkg[1]+np.random.normal(scale=prior350.snim)\n",
    "    prior500.sim=xidplus.posterior_maps.ymod_map(prior500,Mock['SSPIRE500'][prior250.ID]*1000.0).reshape(-1)+bkg[2]+np.random.normal(scale=prior500.snim)\n",
    "    \n",
    "    xidplus.save([prior250,prior350,prior500],None,'SIDES_Sim_test_{}_alt'.format(i))\n",
    "    Mock.loc[prior250.ID.values].to_csv('prior_list_SIDES_sim_test_{}_alt.csv'.format(i))"
   ]
  },
  {
   "cell_type": "code",
   "execution_count": null,
   "metadata": {},
   "outputs": [],
   "source": []
  }
 ],
 "metadata": {
  "celltoolbar": "Slideshow",
  "kernelspec": {
   "display_name": "Python 3",
   "language": "python",
   "name": "python3"
  },
  "language_info": {
   "codemirror_mode": {
    "name": "ipython",
    "version": 3
   },
   "file_extension": ".py",
   "mimetype": "text/x-python",
   "name": "python",
   "nbconvert_exporter": "python",
   "pygments_lexer": "ipython3",
   "version": "3.6.13"
  }
 },
 "nbformat": 4,
 "nbformat_minor": 4
}
