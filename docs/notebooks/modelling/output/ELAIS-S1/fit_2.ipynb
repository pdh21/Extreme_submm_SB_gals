{
 "cells": [
  {
   "cell_type": "markdown",
   "id": "cb3527fc",
   "metadata": {
    "tags": [
     "papermill-error-cell-tag"
    ]
   },
   "source": [
    "<span style=\"color:red; font-family:Helvetica Neue, Helvetica, Arial, sans-serif; font-size:2em;\">An Exception was encountered at '<a href=\"#papermill-error-cell\">In [14]</a>'.</span>"
   ]
  },
  {
   "cell_type": "markdown",
   "id": "f19a862c",
   "metadata": {
    "papermill": {
     "duration": 0.037101,
     "end_time": "2021-04-30T13:17:37.735364",
     "exception": false,
     "start_time": "2021-04-30T13:17:37.698263",
     "status": "completed"
    },
    "tags": []
   },
   "source": [
    "# Applying XID+CIGALE to Extreme Starbursts\n",
    "In this notebook, we read in the data files and prepare them for fitting with XID+CIGALE, the SED prior model extension to XID+. Here we focus on sources in [Rowan-Robinson et al. 2018](https://arxiv.org/abs/1704.07783) and claimed to have a star formation rate of $> 10^{3}\\mathrm{M_{\\odot}yr^{-1}}$"
   ]
  },
  {
   "cell_type": "markdown",
   "id": "46bb8d55",
   "metadata": {
    "papermill": {
     "duration": 0.019515,
     "end_time": "2021-04-30T13:17:37.774175",
     "exception": false,
     "start_time": "2021-04-30T13:17:37.754660",
     "status": "completed"
    },
    "tags": []
   },
   "source": [
    "Import required modules"
   ]
  },
  {
   "cell_type": "code",
   "execution_count": 1,
   "id": "7ba9a933",
   "metadata": {
    "execution": {
     "iopub.execute_input": "2021-04-30T13:17:37.824061Z",
     "iopub.status.busy": "2021-04-30T13:17:37.823460Z",
     "iopub.status.idle": "2021-04-30T13:17:43.367787Z",
     "shell.execute_reply": "2021-04-30T13:17:43.366462Z"
    },
    "papermill": {
     "duration": 5.574861,
     "end_time": "2021-04-30T13:17:43.368205",
     "exception": false,
     "start_time": "2021-04-30T13:17:37.793344",
     "status": "completed"
    },
    "slideshow": {
     "slide_type": "skip"
    },
    "tags": []
   },
   "outputs": [],
   "source": [
    "from astropy.io import ascii, fits\n",
    "from astropy.table import Table\n",
    "import pylab as plt\n",
    "%matplotlib inline\n",
    "from astropy import wcs\n",
    "import seaborn as sns\n",
    "\n",
    "import numpy as np\n",
    "import xidplus\n",
    "from xidplus import moc_routines\n",
    "import pickle\n",
    "import os"
   ]
  },
  {
   "cell_type": "code",
   "execution_count": 2,
   "id": "ce83748c",
   "metadata": {
    "execution": {
     "iopub.execute_input": "2021-04-30T13:17:43.431186Z",
     "iopub.status.busy": "2021-04-30T13:17:43.430701Z",
     "iopub.status.idle": "2021-04-30T13:17:43.433908Z",
     "shell.execute_reply": "2021-04-30T13:17:43.433442Z"
    },
    "papermill": {
     "duration": 0.030166,
     "end_time": "2021-04-30T13:17:43.434033",
     "exception": false,
     "start_time": "2021-04-30T13:17:43.403867",
     "status": "completed"
    },
    "tags": [
     "parameters"
    ]
   },
   "outputs": [],
   "source": [
    "\n",
    "emulator_path=['/research/astro/fir/HELP/XID_plus/docs/notebooks/examples/SED_emulator/CIGALE_emulator_20210420_log10sfr_uniformAGN_z.npz']\n",
    "field=['Lockman-SWIRE']"
   ]
  },
  {
   "cell_type": "code",
   "execution_count": 3,
   "id": "a7f43041",
   "metadata": {
    "execution": {
     "iopub.execute_input": "2021-04-30T13:17:43.481397Z",
     "iopub.status.busy": "2021-04-30T13:17:43.480149Z",
     "iopub.status.idle": "2021-04-30T13:17:43.482662Z",
     "shell.execute_reply": "2021-04-30T13:17:43.483641Z"
    },
    "papermill": {
     "duration": 0.02932,
     "end_time": "2021-04-30T13:17:43.484010",
     "exception": false,
     "start_time": "2021-04-30T13:17:43.454690",
     "status": "completed"
    },
    "tags": [
     "injected-parameters"
    ]
   },
   "outputs": [],
   "source": [
    "# Parameters\n",
    "emulator_path = [\n",
    "    \"/research/astro/fir/HELP/XID_plus/docs/notebooks/examples/SED_emulator/CIGALE_emulator_20210420_log10sfr_uniformAGN_z.npz\"\n",
    "]\n",
    "field = [\"ELAIS-S1\"]\n"
   ]
  },
  {
   "cell_type": "code",
   "execution_count": 4,
   "id": "30fc1109",
   "metadata": {
    "execution": {
     "iopub.execute_input": "2021-04-30T13:17:43.542597Z",
     "iopub.status.busy": "2021-04-30T13:17:43.542193Z",
     "iopub.status.idle": "2021-04-30T13:17:43.545239Z",
     "shell.execute_reply": "2021-04-30T13:17:43.545564Z"
    },
    "papermill": {
     "duration": 0.028301,
     "end_time": "2021-04-30T13:17:43.545691",
     "exception": false,
     "start_time": "2021-04-30T13:17:43.517390",
     "status": "completed"
    },
    "tags": []
   },
   "outputs": [],
   "source": [
    "try:\n",
    "    source = [np.int(os.environ['SGE_TASK_ID'])-1]\n",
    "except:\n",
    "    source=[26]"
   ]
  },
  {
   "cell_type": "code",
   "execution_count": 5,
   "id": "2fe4e9e2",
   "metadata": {
    "execution": {
     "iopub.execute_input": "2021-04-30T13:17:43.592696Z",
     "iopub.status.busy": "2021-04-30T13:17:43.592101Z",
     "iopub.status.idle": "2021-04-30T13:17:43.616036Z",
     "shell.execute_reply": "2021-04-30T13:17:43.615079Z"
    },
    "papermill": {
     "duration": 0.050252,
     "end_time": "2021-04-30T13:17:43.616279",
     "exception": false,
     "start_time": "2021-04-30T13:17:43.566027",
     "status": "completed"
    },
    "tags": []
   },
   "outputs": [],
   "source": [
    "#ysb=Table.read('../../../data/MRRfiles/fromPaper.txt', format='ascii')\n",
    "esb=Table.read('../../../data/MRR2018_tables/{}_sources.csv'.format(field[0]),format='ascii',encoding='utf-8')\n"
   ]
  },
  {
   "cell_type": "code",
   "execution_count": 6,
   "id": "20324c44",
   "metadata": {
    "execution": {
     "iopub.execute_input": "2021-04-30T13:17:43.675792Z",
     "iopub.status.busy": "2021-04-30T13:17:43.675199Z",
     "iopub.status.idle": "2021-04-30T13:17:43.693445Z",
     "shell.execute_reply": "2021-04-30T13:17:43.692770Z"
    },
    "papermill": {
     "duration": 0.045364,
     "end_time": "2021-04-30T13:17:43.693649",
     "exception": false,
     "start_time": "2021-04-30T13:17:43.648285",
     "status": "completed"
    },
    "tags": []
   },
   "outputs": [],
   "source": [
    "priors,_=xidplus.load('./output/{}/prior_'.format(field[0])+esb['field'][source[0]]+'_'+str(source[0])+'.pkl')"
   ]
  },
  {
   "cell_type": "code",
   "execution_count": 7,
   "id": "246aec21",
   "metadata": {
    "execution": {
     "iopub.execute_input": "2021-04-30T13:17:43.752914Z",
     "iopub.status.busy": "2021-04-30T13:17:43.752455Z",
     "iopub.status.idle": "2021-04-30T13:17:43.954809Z",
     "shell.execute_reply": "2021-04-30T13:17:43.953652Z"
    },
    "papermill": {
     "duration": 0.22938,
     "end_time": "2021-04-30T13:17:43.955099",
     "exception": false,
     "start_time": "2021-04-30T13:17:43.725719",
     "status": "completed"
    },
    "tags": []
   },
   "outputs": [],
   "source": [
    "prior_list=Table.read('./output/{}/prior_list_'.format(field[0])+esb['field'][source[0]]+'_'+str(source[0])+'.ascii',format='ascii')\n"
   ]
  },
  {
   "cell_type": "code",
   "execution_count": 8,
   "id": "8f43d693",
   "metadata": {
    "execution": {
     "iopub.execute_input": "2021-04-30T13:17:44.034556Z",
     "iopub.status.busy": "2021-04-30T13:17:44.033869Z",
     "iopub.status.idle": "2021-04-30T13:17:44.036442Z",
     "shell.execute_reply": "2021-04-30T13:17:44.035870Z"
    },
    "papermill": {
     "duration": 0.046876,
     "end_time": "2021-04-30T13:17:44.036600",
     "exception": false,
     "start_time": "2021-04-30T13:17:43.989724",
     "status": "completed"
    },
    "tags": []
   },
   "outputs": [],
   "source": [
    "z_mu=np.empty((priors[1].nsrc))\n",
    "z_sig=np.empty((priors[1].nsrc))\n",
    "\n",
    "for x,i in enumerate(priors[1].ID):\n",
    "    ind=prior_list['help_id']==str(i)\n",
    "    z_mu[x]=prior_list['redshift'][ind]\n",
    "    z_sig[x]=prior_list['redshift_unc'][ind]\n",
    "\n",
    "    \n",
    "\n",
    "sfr_mu=1.5*z_mu+1.0\n",
    "sfr_sig=np.full(priors[1].nsrc,0.5)\n",
    "\n",
    "agn_frac_mu=np.full(priors[1].nsrc,-1)\n",
    "agn_frac_sig=np.full(priors[1].nsrc,1)"
   ]
  },
  {
   "cell_type": "code",
   "execution_count": 9,
   "id": "8e75acd2",
   "metadata": {
    "execution": {
     "iopub.execute_input": "2021-04-30T13:17:44.090649Z",
     "iopub.status.busy": "2021-04-30T13:17:44.090294Z",
     "iopub.status.idle": "2021-04-30T13:17:44.093653Z",
     "shell.execute_reply": "2021-04-30T13:17:44.093247Z"
    },
    "papermill": {
     "duration": 0.029055,
     "end_time": "2021-04-30T13:17:44.093766",
     "exception": false,
     "start_time": "2021-04-30T13:17:44.064711",
     "status": "completed"
    },
    "tags": []
   },
   "outputs": [],
   "source": [
    "params_mu=np.vstack((sfr_mu,z_mu)).T\n",
    "params_sig=np.vstack((sfr_sig,z_sig)).T\n",
    "params_names=['log10sfr','z']\n",
    "hier_params={'m_mu':0.8,'m_sig':0.4,'c_mu':-1.0,'c_sig':0.5,'sfr_disp':0.5}\n"
   ]
  },
  {
   "cell_type": "code",
   "execution_count": 10,
   "id": "260eccdc",
   "metadata": {
    "execution": {
     "iopub.execute_input": "2021-04-30T13:17:44.139816Z",
     "iopub.status.busy": "2021-04-30T13:17:44.137699Z",
     "iopub.status.idle": "2021-04-30T13:17:44.851831Z",
     "shell.execute_reply": "2021-04-30T13:17:44.852841Z"
    },
    "papermill": {
     "duration": 0.737363,
     "end_time": "2021-04-30T13:17:44.853200",
     "exception": false,
     "start_time": "2021-04-30T13:17:44.115837",
     "status": "completed"
    },
    "tags": []
   },
   "outputs": [
    {
     "name": "stderr",
     "output_type": "stream",
     "text": [
      "WARNING:absl:No GPU/TPU found, falling back to CPU. (Set TF_CPP_MIN_LOG_LEVEL=0 and rerun for more info.)\n"
     ]
    }
   ],
   "source": [
    "phys_prior=xidplus.hier_prior(priors[1].ID,params_mu,params_sig,params_names,emulator_path[0])"
   ]
  },
  {
   "cell_type": "code",
   "execution_count": 11,
   "id": "f8b95666",
   "metadata": {
    "execution": {
     "iopub.execute_input": "2021-04-30T13:17:44.915642Z",
     "iopub.status.busy": "2021-04-30T13:17:44.915166Z",
     "iopub.status.idle": "2021-04-30T13:17:45.220003Z",
     "shell.execute_reply": "2021-04-30T13:17:45.218795Z"
    },
    "papermill": {
     "duration": 0.331627,
     "end_time": "2021-04-30T13:17:45.220290",
     "exception": false,
     "start_time": "2021-04-30T13:17:44.888663",
     "status": "completed"
    },
    "tags": []
   },
   "outputs": [],
   "source": [
    "from numpyro.infer import Predictive\n",
    "from jax import random, vmap\n",
    "from xidplus.numpyro_fit import SED_prior\n",
    "\n",
    "rng_key = random.PRNGKey(0)\n",
    "rng_key, rng_key_ = random.split(rng_key)"
   ]
  },
  {
   "cell_type": "code",
   "execution_count": 12,
   "id": "7785adce",
   "metadata": {
    "execution": {
     "iopub.execute_input": "2021-04-30T13:17:45.288788Z",
     "iopub.status.busy": "2021-04-30T13:17:45.288325Z",
     "iopub.status.idle": "2021-04-30T13:17:45.300535Z",
     "shell.execute_reply": "2021-04-30T13:17:45.299894Z"
    },
    "papermill": {
     "duration": 0.044446,
     "end_time": "2021-04-30T13:17:45.300736",
     "exception": false,
     "start_time": "2021-04-30T13:17:45.256290",
     "status": "completed"
    },
    "tags": []
   },
   "outputs": [],
   "source": [
    "\n",
    "## For numpyro to sample from the prior, the data needs to be set to None\n",
    "import copy\n",
    "#make a deepcopy of the priors\n",
    "priors_prior_pred=copy.deepcopy(priors)\n",
    "#set data to None\n",
    "for i in range(0,len(priors)):\n",
    "    priors_prior_pred[i].sim=None"
   ]
  },
  {
   "cell_type": "code",
   "execution_count": 13,
   "id": "0fbdbbf7",
   "metadata": {
    "execution": {
     "iopub.execute_input": "2021-04-30T13:17:45.357190Z",
     "iopub.status.busy": "2021-04-30T13:17:45.356749Z",
     "iopub.status.idle": "2021-04-30T13:17:53.599653Z",
     "shell.execute_reply": "2021-04-30T13:17:53.600653Z"
    },
    "papermill": {
     "duration": 8.273235,
     "end_time": "2021-04-30T13:17:53.601027",
     "exception": false,
     "start_time": "2021-04-30T13:17:45.327792",
     "status": "completed"
    },
    "tags": []
   },
   "outputs": [
    {
     "name": "stdout",
     "output_type": "stream",
     "text": [
      "CPU times: user 8.16 s, sys: 118 ms, total: 8.28 s\n",
      "Wall time: 8.24 s\n"
     ]
    }
   ],
   "source": [
    "%%time \n",
    "#sample from the prior using numpyro's Predictive function\n",
    "prior_predictive=Predictive(SED_prior.spire_model_CIGALE,posterior_samples = {}, num_samples = 1000,)\n",
    "prior_pred=prior_predictive(random.PRNGKey(0),priors_prior_pred,phys_prior,hier_params)"
   ]
  },
  {
   "cell_type": "markdown",
   "id": "6f3319b6",
   "metadata": {
    "papermill": {
     "duration": 0.021365,
     "end_time": "2021-04-30T13:17:53.656825",
     "exception": false,
     "start_time": "2021-04-30T13:17:53.635460",
     "status": "completed"
    },
    "tags": []
   },
   "source": [
    "## Fit Real data"
   ]
  },
  {
   "cell_type": "markdown",
   "id": "173d6a08",
   "metadata": {
    "tags": [
     "papermill-error-cell-tag"
    ]
   },
   "source": [
    "<span id=\"papermill-error-cell\" style=\"color:red; font-family:Helvetica Neue, Helvetica, Arial, sans-serif; font-size:2em;\">Execution using papermill encountered an exception here and stopped:</span>"
   ]
  },
  {
   "cell_type": "code",
   "execution_count": 14,
   "id": "a22c3291",
   "metadata": {
    "execution": {
     "iopub.execute_input": "2021-04-30T13:17:53.705886Z",
     "iopub.status.busy": "2021-04-30T13:17:53.705455Z",
     "iopub.status.idle": "2021-04-30T13:18:03.274106Z",
     "shell.execute_reply": "2021-04-30T13:18:03.272866Z"
    },
    "papermill": {
     "duration": 9.595719,
     "end_time": "2021-04-30T13:18:03.274490",
     "exception": true,
     "start_time": "2021-04-30T13:17:53.678771",
     "status": "failed"
    },
    "tags": []
   },
   "outputs": [
    {
     "ename": "ValueError",
     "evalue": "Normal distribution got invalid scale parameter.",
     "output_type": "error",
     "traceback": [
      "\u001b[0;31m---------------------------------------------------------------------------\u001b[0m",
      "\u001b[0;31mValueError\u001b[0m                                Traceback (most recent call last)",
      "\u001b[0;32m<ipython-input-14-6b05d9a177a0>\u001b[0m in \u001b[0;36m<module>\u001b[0;34m\u001b[0m\n\u001b[1;32m      9\u001b[0m \u001b[0mmcmc\u001b[0m \u001b[0;34m=\u001b[0m \u001b[0mMCMC\u001b[0m\u001b[0;34m(\u001b[0m\u001b[0mnuts_kernel\u001b[0m\u001b[0;34m,\u001b[0m \u001b[0mnum_samples\u001b[0m\u001b[0;34m=\u001b[0m\u001b[0;36m500\u001b[0m\u001b[0;34m,\u001b[0m \u001b[0mnum_warmup\u001b[0m\u001b[0;34m=\u001b[0m\u001b[0;36m500\u001b[0m\u001b[0;34m,\u001b[0m\u001b[0mnum_chains\u001b[0m\u001b[0;34m=\u001b[0m\u001b[0;36m4\u001b[0m\u001b[0;34m,\u001b[0m\u001b[0mchain_method\u001b[0m\u001b[0;34m=\u001b[0m\u001b[0;34m'parallel'\u001b[0m\u001b[0;34m)\u001b[0m\u001b[0;34m\u001b[0m\u001b[0;34m\u001b[0m\u001b[0m\n\u001b[1;32m     10\u001b[0m \u001b[0mrng_key\u001b[0m \u001b[0;34m=\u001b[0m \u001b[0mrandom\u001b[0m\u001b[0;34m.\u001b[0m\u001b[0mPRNGKey\u001b[0m\u001b[0;34m(\u001b[0m\u001b[0;36m0\u001b[0m\u001b[0;34m)\u001b[0m\u001b[0;34m\u001b[0m\u001b[0;34m\u001b[0m\u001b[0m\n\u001b[0;32m---> 11\u001b[0;31m \u001b[0mmcmc\u001b[0m\u001b[0;34m.\u001b[0m\u001b[0mrun\u001b[0m\u001b[0;34m(\u001b[0m\u001b[0mrng_key\u001b[0m\u001b[0;34m,\u001b[0m\u001b[0mpriors\u001b[0m\u001b[0;34m,\u001b[0m\u001b[0mphys_prior\u001b[0m\u001b[0;34m,\u001b[0m\u001b[0mhier_params\u001b[0m\u001b[0;34m)\u001b[0m\u001b[0;34m\u001b[0m\u001b[0;34m\u001b[0m\u001b[0m\n\u001b[0m",
      "\u001b[0;32m/research/astro/fir/HELP/help_python/miniconda3/envs/herschelhelp/lib/python3.8/site-packages/numpyro/infer/mcmc.py\u001b[0m in \u001b[0;36mrun\u001b[0;34m(self, rng_key, extra_fields, init_params, *args, **kwargs)\u001b[0m\n\u001b[1;32m    500\u001b[0m         \u001b[0;32melse\u001b[0m\u001b[0;34m:\u001b[0m\u001b[0;34m\u001b[0m\u001b[0;34m\u001b[0m\u001b[0m\n\u001b[1;32m    501\u001b[0m             \u001b[0;32mif\u001b[0m \u001b[0mself\u001b[0m\u001b[0;34m.\u001b[0m\u001b[0mchain_method\u001b[0m \u001b[0;34m==\u001b[0m \u001b[0;34m'sequential'\u001b[0m\u001b[0;34m:\u001b[0m\u001b[0;34m\u001b[0m\u001b[0;34m\u001b[0m\u001b[0m\n\u001b[0;32m--> 502\u001b[0;31m                 \u001b[0mstates\u001b[0m\u001b[0;34m,\u001b[0m \u001b[0mlast_state\u001b[0m \u001b[0;34m=\u001b[0m \u001b[0m_laxmap\u001b[0m\u001b[0;34m(\u001b[0m\u001b[0mpartial_map_fn\u001b[0m\u001b[0;34m,\u001b[0m \u001b[0mmap_args\u001b[0m\u001b[0;34m)\u001b[0m\u001b[0;34m\u001b[0m\u001b[0;34m\u001b[0m\u001b[0m\n\u001b[0m\u001b[1;32m    503\u001b[0m             \u001b[0;32melif\u001b[0m \u001b[0mself\u001b[0m\u001b[0;34m.\u001b[0m\u001b[0mchain_method\u001b[0m \u001b[0;34m==\u001b[0m \u001b[0;34m'parallel'\u001b[0m\u001b[0;34m:\u001b[0m\u001b[0;34m\u001b[0m\u001b[0;34m\u001b[0m\u001b[0m\n\u001b[1;32m    504\u001b[0m                 \u001b[0mstates\u001b[0m\u001b[0;34m,\u001b[0m \u001b[0mlast_state\u001b[0m \u001b[0;34m=\u001b[0m \u001b[0mpmap\u001b[0m\u001b[0;34m(\u001b[0m\u001b[0mpartial_map_fn\u001b[0m\u001b[0;34m)\u001b[0m\u001b[0;34m(\u001b[0m\u001b[0mmap_args\u001b[0m\u001b[0;34m)\u001b[0m\u001b[0;34m\u001b[0m\u001b[0;34m\u001b[0m\u001b[0m\n",
      "\u001b[0;32m/research/astro/fir/HELP/help_python/miniconda3/envs/herschelhelp/lib/python3.8/site-packages/numpyro/infer/mcmc.py\u001b[0m in \u001b[0;36m_laxmap\u001b[0;34m(f, xs)\u001b[0m\n\u001b[1;32m    157\u001b[0m     \u001b[0;32mfor\u001b[0m \u001b[0mi\u001b[0m \u001b[0;32min\u001b[0m \u001b[0mrange\u001b[0m\u001b[0;34m(\u001b[0m\u001b[0mn\u001b[0m\u001b[0;34m)\u001b[0m\u001b[0;34m:\u001b[0m\u001b[0;34m\u001b[0m\u001b[0;34m\u001b[0m\u001b[0m\n\u001b[1;32m    158\u001b[0m         \u001b[0mx\u001b[0m \u001b[0;34m=\u001b[0m \u001b[0mjit\u001b[0m\u001b[0;34m(\u001b[0m\u001b[0m_get_value_from_index\u001b[0m\u001b[0;34m)\u001b[0m\u001b[0;34m(\u001b[0m\u001b[0mxs\u001b[0m\u001b[0;34m,\u001b[0m \u001b[0mi\u001b[0m\u001b[0;34m)\u001b[0m\u001b[0;34m\u001b[0m\u001b[0;34m\u001b[0m\u001b[0m\n\u001b[0;32m--> 159\u001b[0;31m         \u001b[0mys\u001b[0m\u001b[0;34m.\u001b[0m\u001b[0mappend\u001b[0m\u001b[0;34m(\u001b[0m\u001b[0mf\u001b[0m\u001b[0;34m(\u001b[0m\u001b[0mx\u001b[0m\u001b[0;34m)\u001b[0m\u001b[0;34m)\u001b[0m\u001b[0;34m\u001b[0m\u001b[0;34m\u001b[0m\u001b[0m\n\u001b[0m\u001b[1;32m    160\u001b[0m \u001b[0;34m\u001b[0m\u001b[0m\n\u001b[1;32m    161\u001b[0m     \u001b[0;32mreturn\u001b[0m \u001b[0mtree_multimap\u001b[0m\u001b[0;34m(\u001b[0m\u001b[0;32mlambda\u001b[0m \u001b[0;34m*\u001b[0m\u001b[0margs\u001b[0m\u001b[0;34m:\u001b[0m \u001b[0mjnp\u001b[0m\u001b[0;34m.\u001b[0m\u001b[0mstack\u001b[0m\u001b[0;34m(\u001b[0m\u001b[0margs\u001b[0m\u001b[0;34m)\u001b[0m\u001b[0;34m,\u001b[0m \u001b[0;34m*\u001b[0m\u001b[0mys\u001b[0m\u001b[0;34m)\u001b[0m\u001b[0;34m\u001b[0m\u001b[0;34m\u001b[0m\u001b[0m\n",
      "\u001b[0;32m/research/astro/fir/HELP/help_python/miniconda3/envs/herschelhelp/lib/python3.8/site-packages/numpyro/infer/mcmc.py\u001b[0m in \u001b[0;36m_single_chain_mcmc\u001b[0;34m(self, init, args, kwargs, collect_fields)\u001b[0m\n\u001b[1;32m    331\u001b[0m         \u001b[0mrng_key\u001b[0m\u001b[0;34m,\u001b[0m \u001b[0minit_state\u001b[0m\u001b[0;34m,\u001b[0m \u001b[0minit_params\u001b[0m \u001b[0;34m=\u001b[0m \u001b[0minit\u001b[0m\u001b[0;34m\u001b[0m\u001b[0;34m\u001b[0m\u001b[0m\n\u001b[1;32m    332\u001b[0m         \u001b[0;32mif\u001b[0m \u001b[0minit_state\u001b[0m \u001b[0;32mis\u001b[0m \u001b[0;32mNone\u001b[0m\u001b[0;34m:\u001b[0m\u001b[0;34m\u001b[0m\u001b[0;34m\u001b[0m\u001b[0m\n\u001b[0;32m--> 333\u001b[0;31m             init_state = self.sampler.init(rng_key, self.num_warmup, init_params,\n\u001b[0m\u001b[1;32m    334\u001b[0m                                            model_args=args, model_kwargs=kwargs)\n\u001b[1;32m    335\u001b[0m         \u001b[0msample_fn\u001b[0m\u001b[0;34m,\u001b[0m \u001b[0mpostprocess_fn\u001b[0m \u001b[0;34m=\u001b[0m \u001b[0mself\u001b[0m\u001b[0;34m.\u001b[0m\u001b[0m_get_cached_fns\u001b[0m\u001b[0;34m(\u001b[0m\u001b[0;34m)\u001b[0m\u001b[0;34m\u001b[0m\u001b[0;34m\u001b[0m\u001b[0m\n",
      "\u001b[0;32m/research/astro/fir/HELP/help_python/miniconda3/envs/herschelhelp/lib/python3.8/site-packages/numpyro/infer/hmc.py\u001b[0m in \u001b[0;36minit\u001b[0;34m(self, rng_key, num_warmup, init_params, model_args, model_kwargs)\u001b[0m\n\u001b[1;32m    481\u001b[0m         \u001b[0;32melse\u001b[0m\u001b[0;34m:\u001b[0m\u001b[0;34m\u001b[0m\u001b[0;34m\u001b[0m\u001b[0m\n\u001b[1;32m    482\u001b[0m             \u001b[0mrng_key\u001b[0m\u001b[0;34m,\u001b[0m \u001b[0mrng_key_init_model\u001b[0m \u001b[0;34m=\u001b[0m \u001b[0mjnp\u001b[0m\u001b[0;34m.\u001b[0m\u001b[0mswapaxes\u001b[0m\u001b[0;34m(\u001b[0m\u001b[0mvmap\u001b[0m\u001b[0;34m(\u001b[0m\u001b[0mrandom\u001b[0m\u001b[0;34m.\u001b[0m\u001b[0msplit\u001b[0m\u001b[0;34m)\u001b[0m\u001b[0;34m(\u001b[0m\u001b[0mrng_key\u001b[0m\u001b[0;34m)\u001b[0m\u001b[0;34m,\u001b[0m \u001b[0;36m0\u001b[0m\u001b[0;34m,\u001b[0m \u001b[0;36m1\u001b[0m\u001b[0;34m)\u001b[0m\u001b[0;34m\u001b[0m\u001b[0;34m\u001b[0m\u001b[0m\n\u001b[0;32m--> 483\u001b[0;31m         \u001b[0minit_params\u001b[0m \u001b[0;34m=\u001b[0m \u001b[0mself\u001b[0m\u001b[0;34m.\u001b[0m\u001b[0m_init_state\u001b[0m\u001b[0;34m(\u001b[0m\u001b[0mrng_key_init_model\u001b[0m\u001b[0;34m,\u001b[0m \u001b[0mmodel_args\u001b[0m\u001b[0;34m,\u001b[0m \u001b[0mmodel_kwargs\u001b[0m\u001b[0;34m,\u001b[0m \u001b[0minit_params\u001b[0m\u001b[0;34m)\u001b[0m\u001b[0;34m\u001b[0m\u001b[0;34m\u001b[0m\u001b[0m\n\u001b[0m\u001b[1;32m    484\u001b[0m         \u001b[0;32mif\u001b[0m \u001b[0mself\u001b[0m\u001b[0;34m.\u001b[0m\u001b[0m_potential_fn\u001b[0m \u001b[0;32mand\u001b[0m \u001b[0minit_params\u001b[0m \u001b[0;32mis\u001b[0m \u001b[0;32mNone\u001b[0m\u001b[0;34m:\u001b[0m\u001b[0;34m\u001b[0m\u001b[0;34m\u001b[0m\u001b[0m\n\u001b[1;32m    485\u001b[0m             raise ValueError('Valid value of `init_params` must be provided with'\n",
      "\u001b[0;32m/research/astro/fir/HELP/help_python/miniconda3/envs/herschelhelp/lib/python3.8/site-packages/numpyro/infer/hmc.py\u001b[0m in \u001b[0;36m_init_state\u001b[0;34m(self, rng_key, model_args, model_kwargs, init_params)\u001b[0m\n\u001b[1;32m    436\u001b[0m     \u001b[0;32mdef\u001b[0m \u001b[0m_init_state\u001b[0m\u001b[0;34m(\u001b[0m\u001b[0mself\u001b[0m\u001b[0;34m,\u001b[0m \u001b[0mrng_key\u001b[0m\u001b[0;34m,\u001b[0m \u001b[0mmodel_args\u001b[0m\u001b[0;34m,\u001b[0m \u001b[0mmodel_kwargs\u001b[0m\u001b[0;34m,\u001b[0m \u001b[0minit_params\u001b[0m\u001b[0;34m)\u001b[0m\u001b[0;34m:\u001b[0m\u001b[0;34m\u001b[0m\u001b[0;34m\u001b[0m\u001b[0m\n\u001b[1;32m    437\u001b[0m         \u001b[0;32mif\u001b[0m \u001b[0mself\u001b[0m\u001b[0;34m.\u001b[0m\u001b[0m_model\u001b[0m \u001b[0;32mis\u001b[0m \u001b[0;32mnot\u001b[0m \u001b[0;32mNone\u001b[0m\u001b[0;34m:\u001b[0m\u001b[0;34m\u001b[0m\u001b[0;34m\u001b[0m\u001b[0m\n\u001b[0;32m--> 438\u001b[0;31m             init_params, potential_fn, postprocess_fn, model_trace = initialize_model(\n\u001b[0m\u001b[1;32m    439\u001b[0m                 \u001b[0mrng_key\u001b[0m\u001b[0;34m,\u001b[0m\u001b[0;34m\u001b[0m\u001b[0;34m\u001b[0m\u001b[0m\n\u001b[1;32m    440\u001b[0m                 \u001b[0mself\u001b[0m\u001b[0;34m.\u001b[0m\u001b[0m_model\u001b[0m\u001b[0;34m,\u001b[0m\u001b[0;34m\u001b[0m\u001b[0;34m\u001b[0m\u001b[0m\n",
      "\u001b[0;32m/research/astro/fir/HELP/help_python/miniconda3/envs/herschelhelp/lib/python3.8/site-packages/numpyro/infer/util.py\u001b[0m in \u001b[0;36minitialize_model\u001b[0;34m(rng_key, model, init_strategy, dynamic_args, model_args, model_kwargs, forward_mode_differentiation)\u001b[0m\n\u001b[1;32m    472\u001b[0m             \u001b[0;32mwith\u001b[0m \u001b[0mnumpyro\u001b[0m\u001b[0;34m.\u001b[0m\u001b[0mvalidation_enabled\u001b[0m\u001b[0;34m(\u001b[0m\u001b[0;34m)\u001b[0m\u001b[0;34m,\u001b[0m \u001b[0mtrace\u001b[0m\u001b[0;34m(\u001b[0m\u001b[0;34m)\u001b[0m \u001b[0;32mas\u001b[0m \u001b[0mtr\u001b[0m\u001b[0;34m:\u001b[0m\u001b[0;34m\u001b[0m\u001b[0;34m\u001b[0m\u001b[0m\n\u001b[1;32m    473\u001b[0m                 \u001b[0;31m# validate parameters\u001b[0m\u001b[0;34m\u001b[0m\u001b[0;34m\u001b[0m\u001b[0;34m\u001b[0m\u001b[0m\n\u001b[0;32m--> 474\u001b[0;31m                 \u001b[0msubstituted_model\u001b[0m\u001b[0;34m(\u001b[0m\u001b[0;34m*\u001b[0m\u001b[0mmodel_args\u001b[0m\u001b[0;34m,\u001b[0m \u001b[0;34m**\u001b[0m\u001b[0mmodel_kwargs\u001b[0m\u001b[0;34m)\u001b[0m\u001b[0;34m\u001b[0m\u001b[0;34m\u001b[0m\u001b[0m\n\u001b[0m\u001b[1;32m    475\u001b[0m                 \u001b[0;31m# validate values\u001b[0m\u001b[0;34m\u001b[0m\u001b[0;34m\u001b[0m\u001b[0;34m\u001b[0m\u001b[0m\n\u001b[1;32m    476\u001b[0m                 \u001b[0;32mfor\u001b[0m \u001b[0msite\u001b[0m \u001b[0;32min\u001b[0m \u001b[0mtr\u001b[0m\u001b[0;34m.\u001b[0m\u001b[0mvalues\u001b[0m\u001b[0;34m(\u001b[0m\u001b[0;34m)\u001b[0m\u001b[0;34m:\u001b[0m\u001b[0;34m\u001b[0m\u001b[0;34m\u001b[0m\u001b[0m\n",
      "\u001b[0;32m/research/astro/fir/HELP/help_python/miniconda3/envs/herschelhelp/lib/python3.8/site-packages/numpyro/primitives.py\u001b[0m in \u001b[0;36m__call__\u001b[0;34m(self, *args, **kwargs)\u001b[0m\n\u001b[1;32m     78\u001b[0m     \u001b[0;32mdef\u001b[0m \u001b[0m__call__\u001b[0m\u001b[0;34m(\u001b[0m\u001b[0mself\u001b[0m\u001b[0;34m,\u001b[0m \u001b[0;34m*\u001b[0m\u001b[0margs\u001b[0m\u001b[0;34m,\u001b[0m \u001b[0;34m**\u001b[0m\u001b[0mkwargs\u001b[0m\u001b[0;34m)\u001b[0m\u001b[0;34m:\u001b[0m\u001b[0;34m\u001b[0m\u001b[0;34m\u001b[0m\u001b[0m\n\u001b[1;32m     79\u001b[0m         \u001b[0;32mwith\u001b[0m \u001b[0mself\u001b[0m\u001b[0;34m:\u001b[0m\u001b[0;34m\u001b[0m\u001b[0;34m\u001b[0m\u001b[0m\n\u001b[0;32m---> 80\u001b[0;31m             \u001b[0;32mreturn\u001b[0m \u001b[0mself\u001b[0m\u001b[0;34m.\u001b[0m\u001b[0mfn\u001b[0m\u001b[0;34m(\u001b[0m\u001b[0;34m*\u001b[0m\u001b[0margs\u001b[0m\u001b[0;34m,\u001b[0m \u001b[0;34m**\u001b[0m\u001b[0mkwargs\u001b[0m\u001b[0;34m)\u001b[0m\u001b[0;34m\u001b[0m\u001b[0;34m\u001b[0m\u001b[0m\n\u001b[0m\u001b[1;32m     81\u001b[0m \u001b[0;34m\u001b[0m\u001b[0m\n\u001b[1;32m     82\u001b[0m \u001b[0;34m\u001b[0m\u001b[0m\n",
      "\u001b[0;32m/research/astro/fir/HELP/help_python/miniconda3/envs/herschelhelp/lib/python3.8/site-packages/numpyro/primitives.py\u001b[0m in \u001b[0;36m__call__\u001b[0;34m(self, *args, **kwargs)\u001b[0m\n\u001b[1;32m     78\u001b[0m     \u001b[0;32mdef\u001b[0m \u001b[0m__call__\u001b[0m\u001b[0;34m(\u001b[0m\u001b[0mself\u001b[0m\u001b[0;34m,\u001b[0m \u001b[0;34m*\u001b[0m\u001b[0margs\u001b[0m\u001b[0;34m,\u001b[0m \u001b[0;34m**\u001b[0m\u001b[0mkwargs\u001b[0m\u001b[0;34m)\u001b[0m\u001b[0;34m:\u001b[0m\u001b[0;34m\u001b[0m\u001b[0;34m\u001b[0m\u001b[0m\n\u001b[1;32m     79\u001b[0m         \u001b[0;32mwith\u001b[0m \u001b[0mself\u001b[0m\u001b[0;34m:\u001b[0m\u001b[0;34m\u001b[0m\u001b[0;34m\u001b[0m\u001b[0m\n\u001b[0;32m---> 80\u001b[0;31m             \u001b[0;32mreturn\u001b[0m \u001b[0mself\u001b[0m\u001b[0;34m.\u001b[0m\u001b[0mfn\u001b[0m\u001b[0;34m(\u001b[0m\u001b[0;34m*\u001b[0m\u001b[0margs\u001b[0m\u001b[0;34m,\u001b[0m \u001b[0;34m**\u001b[0m\u001b[0mkwargs\u001b[0m\u001b[0;34m)\u001b[0m\u001b[0;34m\u001b[0m\u001b[0;34m\u001b[0m\u001b[0m\n\u001b[0m\u001b[1;32m     81\u001b[0m \u001b[0;34m\u001b[0m\u001b[0m\n\u001b[1;32m     82\u001b[0m \u001b[0;34m\u001b[0m\u001b[0m\n",
      "\u001b[0;32m/research/astro/fir/HELP/XID_plus/xidplus/numpyro_fit/SED_prior.py\u001b[0m in \u001b[0;36mspire_model_CIGALE\u001b[0;34m(priors, sed_prior, params)\u001b[0m\n\u001b[1;32m    111\u001b[0m         \u001b[0;31m# use truncated normal for redshift, with mean and sigma from prior\u001b[0m\u001b[0;34m\u001b[0m\u001b[0;34m\u001b[0m\u001b[0;34m\u001b[0m\u001b[0m\n\u001b[1;32m    112\u001b[0m         redshift = numpyro.sample('redshift',\n\u001b[0;32m--> 113\u001b[0;31m                                   dist.TruncatedNormal(0.01, sed_prior.params_mu[:, 1], sed_prior.params_sig[:, 1]))\n\u001b[0m\u001b[1;32m    114\u001b[0m         \u001b[0;31m# use beta distribution for AGN as a fraction\u001b[0m\u001b[0;34m\u001b[0m\u001b[0;34m\u001b[0m\u001b[0;34m\u001b[0m\u001b[0m\n\u001b[1;32m    115\u001b[0m         \u001b[0magn\u001b[0m \u001b[0;34m=\u001b[0m \u001b[0mnumpyro\u001b[0m\u001b[0;34m.\u001b[0m\u001b[0msample\u001b[0m\u001b[0;34m(\u001b[0m\u001b[0;34m'agn'\u001b[0m\u001b[0;34m,\u001b[0m \u001b[0mdist\u001b[0m\u001b[0;34m.\u001b[0m\u001b[0mBeta\u001b[0m\u001b[0;34m(\u001b[0m\u001b[0;36m1.0\u001b[0m\u001b[0;34m,\u001b[0m \u001b[0;36m3.0\u001b[0m\u001b[0;34m)\u001b[0m\u001b[0;34m)\u001b[0m\u001b[0;34m\u001b[0m\u001b[0;34m\u001b[0m\u001b[0m\n",
      "\u001b[0;32m/research/astro/fir/HELP/help_python/miniconda3/envs/herschelhelp/lib/python3.8/site-packages/numpyro/distributions/distribution.py\u001b[0m in \u001b[0;36m__call__\u001b[0;34m(cls, *args, **kwargs)\u001b[0m\n\u001b[1;32m     86\u001b[0m             \u001b[0;32mif\u001b[0m \u001b[0mresult\u001b[0m \u001b[0;32mis\u001b[0m \u001b[0;32mnot\u001b[0m \u001b[0;32mNone\u001b[0m\u001b[0;34m:\u001b[0m\u001b[0;34m\u001b[0m\u001b[0;34m\u001b[0m\u001b[0m\n\u001b[1;32m     87\u001b[0m                 \u001b[0;32mreturn\u001b[0m \u001b[0mresult\u001b[0m\u001b[0;34m\u001b[0m\u001b[0;34m\u001b[0m\u001b[0m\n\u001b[0;32m---> 88\u001b[0;31m         \u001b[0;32mreturn\u001b[0m \u001b[0msuper\u001b[0m\u001b[0;34m(\u001b[0m\u001b[0;34m)\u001b[0m\u001b[0;34m.\u001b[0m\u001b[0m__call__\u001b[0m\u001b[0;34m(\u001b[0m\u001b[0;34m*\u001b[0m\u001b[0margs\u001b[0m\u001b[0;34m,\u001b[0m \u001b[0;34m**\u001b[0m\u001b[0mkwargs\u001b[0m\u001b[0;34m)\u001b[0m\u001b[0;34m\u001b[0m\u001b[0;34m\u001b[0m\u001b[0m\n\u001b[0m\u001b[1;32m     89\u001b[0m \u001b[0;34m\u001b[0m\u001b[0m\n\u001b[1;32m     90\u001b[0m     \u001b[0;34m@\u001b[0m\u001b[0mproperty\u001b[0m\u001b[0;34m\u001b[0m\u001b[0;34m\u001b[0m\u001b[0m\n",
      "\u001b[0;32m/research/astro/fir/HELP/help_python/miniconda3/envs/herschelhelp/lib/python3.8/site-packages/numpyro/distributions/continuous.py\u001b[0m in \u001b[0;36m__init__\u001b[0;34m(self, low, loc, scale, validate_args)\u001b[0m\n\u001b[1;32m   1395\u001b[0m     \u001b[0;32mdef\u001b[0m \u001b[0m__init__\u001b[0m\u001b[0;34m(\u001b[0m\u001b[0mself\u001b[0m\u001b[0;34m,\u001b[0m \u001b[0mlow\u001b[0m\u001b[0;34m=\u001b[0m\u001b[0;36m0.\u001b[0m\u001b[0;34m,\u001b[0m \u001b[0mloc\u001b[0m\u001b[0;34m=\u001b[0m\u001b[0;36m0.\u001b[0m\u001b[0;34m,\u001b[0m \u001b[0mscale\u001b[0m\u001b[0;34m=\u001b[0m\u001b[0;36m1.\u001b[0m\u001b[0;34m,\u001b[0m \u001b[0mvalidate_args\u001b[0m\u001b[0;34m=\u001b[0m\u001b[0;32mNone\u001b[0m\u001b[0;34m)\u001b[0m\u001b[0;34m:\u001b[0m\u001b[0;34m\u001b[0m\u001b[0;34m\u001b[0m\u001b[0m\n\u001b[1;32m   1396\u001b[0m         \u001b[0mself\u001b[0m\u001b[0;34m.\u001b[0m\u001b[0mlow\u001b[0m\u001b[0;34m,\u001b[0m \u001b[0mself\u001b[0m\u001b[0;34m.\u001b[0m\u001b[0mloc\u001b[0m\u001b[0;34m,\u001b[0m \u001b[0mself\u001b[0m\u001b[0;34m.\u001b[0m\u001b[0mscale\u001b[0m \u001b[0;34m=\u001b[0m \u001b[0mpromote_shapes\u001b[0m\u001b[0;34m(\u001b[0m\u001b[0mlow\u001b[0m\u001b[0;34m,\u001b[0m \u001b[0mloc\u001b[0m\u001b[0;34m,\u001b[0m \u001b[0mscale\u001b[0m\u001b[0;34m)\u001b[0m\u001b[0;34m\u001b[0m\u001b[0;34m\u001b[0m\u001b[0m\n\u001b[0;32m-> 1397\u001b[0;31m         \u001b[0msuper\u001b[0m\u001b[0;34m(\u001b[0m\u001b[0;34m)\u001b[0m\u001b[0;34m.\u001b[0m\u001b[0m__init__\u001b[0m\u001b[0;34m(\u001b[0m\u001b[0mNormal\u001b[0m\u001b[0;34m(\u001b[0m\u001b[0mself\u001b[0m\u001b[0;34m.\u001b[0m\u001b[0mloc\u001b[0m\u001b[0;34m,\u001b[0m \u001b[0mself\u001b[0m\u001b[0;34m.\u001b[0m\u001b[0mscale\u001b[0m\u001b[0;34m)\u001b[0m\u001b[0;34m,\u001b[0m \u001b[0mlow\u001b[0m\u001b[0;34m=\u001b[0m\u001b[0mself\u001b[0m\u001b[0;34m.\u001b[0m\u001b[0mlow\u001b[0m\u001b[0;34m,\u001b[0m \u001b[0mvalidate_args\u001b[0m\u001b[0;34m=\u001b[0m\u001b[0mvalidate_args\u001b[0m\u001b[0;34m)\u001b[0m\u001b[0;34m\u001b[0m\u001b[0;34m\u001b[0m\u001b[0m\n\u001b[0m\u001b[1;32m   1398\u001b[0m \u001b[0;34m\u001b[0m\u001b[0m\n\u001b[1;32m   1399\u001b[0m     \u001b[0;34m@\u001b[0m\u001b[0mproperty\u001b[0m\u001b[0;34m\u001b[0m\u001b[0;34m\u001b[0m\u001b[0m\n",
      "\u001b[0;32m/research/astro/fir/HELP/help_python/miniconda3/envs/herschelhelp/lib/python3.8/site-packages/numpyro/distributions/distribution.py\u001b[0m in \u001b[0;36m__call__\u001b[0;34m(cls, *args, **kwargs)\u001b[0m\n\u001b[1;32m     86\u001b[0m             \u001b[0;32mif\u001b[0m \u001b[0mresult\u001b[0m \u001b[0;32mis\u001b[0m \u001b[0;32mnot\u001b[0m \u001b[0;32mNone\u001b[0m\u001b[0;34m:\u001b[0m\u001b[0;34m\u001b[0m\u001b[0;34m\u001b[0m\u001b[0m\n\u001b[1;32m     87\u001b[0m                 \u001b[0;32mreturn\u001b[0m \u001b[0mresult\u001b[0m\u001b[0;34m\u001b[0m\u001b[0;34m\u001b[0m\u001b[0m\n\u001b[0;32m---> 88\u001b[0;31m         \u001b[0;32mreturn\u001b[0m \u001b[0msuper\u001b[0m\u001b[0;34m(\u001b[0m\u001b[0;34m)\u001b[0m\u001b[0;34m.\u001b[0m\u001b[0m__call__\u001b[0m\u001b[0;34m(\u001b[0m\u001b[0;34m*\u001b[0m\u001b[0margs\u001b[0m\u001b[0;34m,\u001b[0m \u001b[0;34m**\u001b[0m\u001b[0mkwargs\u001b[0m\u001b[0;34m)\u001b[0m\u001b[0;34m\u001b[0m\u001b[0;34m\u001b[0m\u001b[0m\n\u001b[0m\u001b[1;32m     89\u001b[0m \u001b[0;34m\u001b[0m\u001b[0m\n\u001b[1;32m     90\u001b[0m     \u001b[0;34m@\u001b[0m\u001b[0mproperty\u001b[0m\u001b[0;34m\u001b[0m\u001b[0;34m\u001b[0m\u001b[0m\n",
      "\u001b[0;32m/research/astro/fir/HELP/help_python/miniconda3/envs/herschelhelp/lib/python3.8/site-packages/numpyro/distributions/continuous.py\u001b[0m in \u001b[0;36m__init__\u001b[0;34m(self, loc, scale, validate_args)\u001b[0m\n\u001b[1;32m   1019\u001b[0m         \u001b[0mself\u001b[0m\u001b[0;34m.\u001b[0m\u001b[0mloc\u001b[0m\u001b[0;34m,\u001b[0m \u001b[0mself\u001b[0m\u001b[0;34m.\u001b[0m\u001b[0mscale\u001b[0m \u001b[0;34m=\u001b[0m \u001b[0mpromote_shapes\u001b[0m\u001b[0;34m(\u001b[0m\u001b[0mloc\u001b[0m\u001b[0;34m,\u001b[0m \u001b[0mscale\u001b[0m\u001b[0;34m)\u001b[0m\u001b[0;34m\u001b[0m\u001b[0;34m\u001b[0m\u001b[0m\n\u001b[1;32m   1020\u001b[0m         \u001b[0mbatch_shape\u001b[0m \u001b[0;34m=\u001b[0m \u001b[0mlax\u001b[0m\u001b[0;34m.\u001b[0m\u001b[0mbroadcast_shapes\u001b[0m\u001b[0;34m(\u001b[0m\u001b[0mjnp\u001b[0m\u001b[0;34m.\u001b[0m\u001b[0mshape\u001b[0m\u001b[0;34m(\u001b[0m\u001b[0mloc\u001b[0m\u001b[0;34m)\u001b[0m\u001b[0;34m,\u001b[0m \u001b[0mjnp\u001b[0m\u001b[0;34m.\u001b[0m\u001b[0mshape\u001b[0m\u001b[0;34m(\u001b[0m\u001b[0mscale\u001b[0m\u001b[0;34m)\u001b[0m\u001b[0;34m)\u001b[0m\u001b[0;34m\u001b[0m\u001b[0;34m\u001b[0m\u001b[0m\n\u001b[0;32m-> 1021\u001b[0;31m         \u001b[0msuper\u001b[0m\u001b[0;34m(\u001b[0m\u001b[0mNormal\u001b[0m\u001b[0;34m,\u001b[0m \u001b[0mself\u001b[0m\u001b[0;34m)\u001b[0m\u001b[0;34m.\u001b[0m\u001b[0m__init__\u001b[0m\u001b[0;34m(\u001b[0m\u001b[0mbatch_shape\u001b[0m\u001b[0;34m=\u001b[0m\u001b[0mbatch_shape\u001b[0m\u001b[0;34m,\u001b[0m \u001b[0mvalidate_args\u001b[0m\u001b[0;34m=\u001b[0m\u001b[0mvalidate_args\u001b[0m\u001b[0;34m)\u001b[0m\u001b[0;34m\u001b[0m\u001b[0;34m\u001b[0m\u001b[0m\n\u001b[0m\u001b[1;32m   1022\u001b[0m \u001b[0;34m\u001b[0m\u001b[0m\n\u001b[1;32m   1023\u001b[0m     \u001b[0;32mdef\u001b[0m \u001b[0msample\u001b[0m\u001b[0;34m(\u001b[0m\u001b[0mself\u001b[0m\u001b[0;34m,\u001b[0m \u001b[0mkey\u001b[0m\u001b[0;34m,\u001b[0m \u001b[0msample_shape\u001b[0m\u001b[0;34m=\u001b[0m\u001b[0;34m(\u001b[0m\u001b[0;34m)\u001b[0m\u001b[0;34m)\u001b[0m\u001b[0;34m:\u001b[0m\u001b[0;34m\u001b[0m\u001b[0;34m\u001b[0m\u001b[0m\n",
      "\u001b[0;32m/research/astro/fir/HELP/help_python/miniconda3/envs/herschelhelp/lib/python3.8/site-packages/numpyro/distributions/distribution.py\u001b[0m in \u001b[0;36m__init__\u001b[0;34m(self, batch_shape, event_shape, validate_args)\u001b[0m\n\u001b[1;32m    163\u001b[0m                 \u001b[0;32mif\u001b[0m \u001b[0mnot_jax_tracer\u001b[0m\u001b[0;34m(\u001b[0m\u001b[0mis_valid\u001b[0m\u001b[0;34m)\u001b[0m\u001b[0;34m:\u001b[0m\u001b[0;34m\u001b[0m\u001b[0;34m\u001b[0m\u001b[0m\n\u001b[1;32m    164\u001b[0m                     \u001b[0;32mif\u001b[0m \u001b[0;32mnot\u001b[0m \u001b[0mnp\u001b[0m\u001b[0;34m.\u001b[0m\u001b[0mall\u001b[0m\u001b[0;34m(\u001b[0m\u001b[0mis_valid\u001b[0m\u001b[0;34m)\u001b[0m\u001b[0;34m:\u001b[0m\u001b[0;34m\u001b[0m\u001b[0;34m\u001b[0m\u001b[0m\n\u001b[0;32m--> 165\u001b[0;31m                         raise ValueError(\"{} distribution got invalid {} parameter.\".format(\n\u001b[0m\u001b[1;32m    166\u001b[0m                             self.__class__.__name__, param))\n\u001b[1;32m    167\u001b[0m         \u001b[0msuper\u001b[0m\u001b[0;34m(\u001b[0m\u001b[0mDistribution\u001b[0m\u001b[0;34m,\u001b[0m \u001b[0mself\u001b[0m\u001b[0;34m)\u001b[0m\u001b[0;34m.\u001b[0m\u001b[0m__init__\u001b[0m\u001b[0;34m(\u001b[0m\u001b[0;34m)\u001b[0m\u001b[0;34m\u001b[0m\u001b[0;34m\u001b[0m\u001b[0m\n",
      "\u001b[0;31mValueError\u001b[0m: Normal distribution got invalid scale parameter."
     ]
    }
   ],
   "source": [
    "import numpyro\n",
    "from numpyro.diagnostics import summary\n",
    "import jax.numpy as jnp\n",
    "from numpyro.infer import NUTS,MCMC\n",
    "import os\n",
    "numpyro.set_host_device_count(os.cpu_count())\n",
    "from operator import attrgetter\n",
    "nuts_kernel = NUTS(SED_prior.spire_model_CIGALE,init_strategy=numpyro.infer.init_to_feasible())\n",
    "mcmc = MCMC(nuts_kernel, num_samples=500, num_warmup=500,num_chains=4,chain_method='parallel')\n",
    "rng_key = random.PRNGKey(0)\n",
    "mcmc.run(rng_key,priors,phys_prior,hier_params)"
   ]
  },
  {
   "cell_type": "code",
   "execution_count": null,
   "id": "46651104",
   "metadata": {
    "papermill": {
     "duration": null,
     "end_time": null,
     "exception": null,
     "start_time": null,
     "status": "pending"
    },
    "tags": []
   },
   "outputs": [],
   "source": [
    "from operator import attrgetter\n",
    "from numpyro.diagnostics import summary\n",
    "import jax.numpy as jnp\n",
    "import os\n",
    "samples=mcmc.get_samples()\n",
    "divergences=mcmc.get_extra_fields()['diverging']\n",
    "prob = 0.9\n",
    "exclude_deterministic = True\n",
    "sites = mcmc._states[mcmc._sample_field]\n",
    "if isinstance(sites, dict) and exclude_deterministic:\n",
    "    state_sample_field = attrgetter(mcmc._sample_field)(mcmc._last_state)\n",
    "    # XXX: there might be the case that state.z is not a dictionary but\n",
    "    # its postprocessed value `sites` is a dictionary.\n",
    "    # TODO: in general, when both `sites` and `state.z` are dictionaries,\n",
    "    # they can have different key names, not necessary due to deterministic\n",
    "    # behavior. We might revise this logic if needed in the future.\n",
    "    if isinstance(state_sample_field, dict):\n",
    "        sites = {k: v for k, v in mcmc._states[mcmc._sample_field].items()\n",
    "                 if k in state_sample_field}\n",
    "\n",
    "stats_summary = summary(sites, prob=prob)"
   ]
  },
  {
   "cell_type": "markdown",
   "id": "2399e18d",
   "metadata": {
    "papermill": {
     "duration": null,
     "end_time": null,
     "exception": null,
     "start_time": null,
     "status": "pending"
    },
    "tags": []
   },
   "source": [
    "## Check diagnostics\n",
    "When running any MCMC algorithm, you need to check that it has explored the full posterior probability space, and not got stuck in local minima. The standard MCMC diagnostics are:\n",
    "* $\\hat{R}$ compares variation within and between chains. You want $\\hat{R} < 1.1$\n",
    "* $n_{eff}$ effective sample size which is a measure of autocorrelation within the chains. More autocorrelation increases uncertainty in estimates. Typical MCMC has a low $n_{eff}$ and requires thinning (as to keep all samples would be too memory intensive). Since NUTS HMC is efficient, there is little need to chuck samples away. If $n_{eff} / N < 0.001$, then there is a problem with model\n",
    "\n",
    "The other diagnostic, exclusive to The NUTS sampler, is the identification of `divergent transitions`. These identify areas in parameter space where because of some the gradient is very different to the rest of parameter space, such that the tuned NUTS sampler cannot perform its next step accuractely. These tend to occur in funnel like or VERY correlated posterior spaces. Another good explanation can be found [here](https://dev.to/martinmodrak/taming-divergences-in-stan-models-5762). If `divergent transitions` are found, the posterior cannot be trusted and some reparamaterisation is required. Note: Standard MCMC algorithms cannot identify divergent transitions, but that does not mean they do not occur."
   ]
  },
  {
   "cell_type": "code",
   "execution_count": null,
   "id": "7e90c1c6",
   "metadata": {
    "papermill": {
     "duration": null,
     "end_time": null,
     "exception": null,
     "start_time": null,
     "status": "pending"
    },
    "tags": []
   },
   "outputs": [],
   "source": [
    "fig,axes=plt.subplots(2,len(samples),figsize=(2*len(samples),10))\n",
    "for i,k in enumerate(samples):\n",
    "\n",
    "    axes[0,i].hist(stats_summary[k]['r_hat'].flatten(),color='Blue',bins=np.arange(0.5,2,0.1))\n",
    "    axes[1,i].hist(stats_summary[k]['n_eff'].flatten(),color='Blue',bins=np.arange(0,samples['m'].shape[0],100))\n",
    "    axes[0,i].set_xlabel(k+' $ \\hat{R}$')\n",
    "    axes[0,i].set_title('Div. Trans= {}'.format(np.sum(divergences)))\n",
    "    axes[1,i].set_xlabel(k+' $ n_{eff}$')\n",
    "plt.subplots_adjust(hspace=0.5,wspace=0.5)"
   ]
  },
  {
   "cell_type": "markdown",
   "id": "92c0b21b",
   "metadata": {
    "papermill": {
     "duration": null,
     "end_time": null,
     "exception": null,
     "start_time": null,
     "status": "pending"
    },
    "tags": []
   },
   "source": [
    "All diagnostics look fine. "
   ]
  },
  {
   "cell_type": "markdown",
   "id": "3966a34f",
   "metadata": {
    "papermill": {
     "duration": null,
     "end_time": null,
     "exception": null,
     "start_time": null,
     "status": "pending"
    },
    "tags": []
   },
   "source": [
    "## Posterior Probability distributions"
   ]
  },
  {
   "cell_type": "markdown",
   "id": "d67bb4ad",
   "metadata": {
    "papermill": {
     "duration": null,
     "end_time": null,
     "exception": null,
     "start_time": null,
     "status": "pending"
    },
    "tags": []
   },
   "source": [
    "#### Hierarchical parameters"
   ]
  },
  {
   "cell_type": "code",
   "execution_count": null,
   "id": "5e19fb9d",
   "metadata": {
    "papermill": {
     "duration": null,
     "end_time": null,
     "exception": null,
     "start_time": null,
     "status": "pending"
    },
    "tags": []
   },
   "outputs": [],
   "source": [
    "import pandas as pd\n",
    "hier_param_names=['m','c','sfr_sig']\n",
    "\n",
    "df_prior=pd.DataFrame(np.array([prior_pred[s] for s in hier_param_names]).T,columns=hier_param_names)\n",
    "g=sns.PairGrid(df_prior)\n",
    "g.map_lower(plt.scatter,alpha=0.5,color='Red')\n",
    "g.map_diag(plt.hist,alpha=0.5,histtype='step',linewidth=3.0,color='Red',density=True)\n",
    "\n",
    "df_post=pd.DataFrame(np.array([samples[s] for s in hier_param_names]).T,columns=hier_param_names)\n",
    "g.data=df_post\n",
    "g.map_lower(plt.scatter,alpha=0.5,color='Blue')\n",
    "g.map_diag(plt.hist,alpha=0.5,histtype='step',linewidth=3.0,color='Blue',density=True)\n",
    "g.map_upper(sns.kdeplot,alpha=0.5,color='Blue',n_levels=5, shade=False,linewidth=3.0,shade_lowest=False)\n",
    "\n",
    "#for some reason the contour plots will delete other plots so do last\n",
    "g.data=df_prior\n",
    "g.map_upper(sns.kdeplot,alpha=0.5,color='Red',n_levels=5, shade=False,linewidth=3.0,shade_lowest=False)"
   ]
  },
  {
   "cell_type": "markdown",
   "id": "26da301a",
   "metadata": {
    "papermill": {
     "duration": null,
     "end_time": null,
     "exception": null,
     "start_time": null,
     "status": "pending"
    },
    "tags": []
   },
   "source": [
    "#### Source parameters "
   ]
  },
  {
   "cell_type": "code",
   "execution_count": null,
   "id": "9dc3a5f6",
   "metadata": {
    "papermill": {
     "duration": null,
     "end_time": null,
     "exception": null,
     "start_time": null,
     "status": "pending"
    },
    "tags": []
   },
   "outputs": [],
   "source": [
    "fig,axes=plt.subplots(3,1,figsize=(50,10))\n",
    "phys_params=['sfr','agn','redshift']\n",
    "for i ,p in enumerate(phys_params):\n",
    "    v_plot=axes[i].violinplot(prior_pred[p].T,showextrema=False);\n",
    "    plt.setp(v_plot['bodies'], facecolor='Red')\n",
    "    v_plot=axes[i].violinplot(samples[p].T,showextrema=False);\n",
    "    plt.setp(v_plot['bodies'], facecolor='Blue')\n",
    "\n",
    "axes[0].set_ylabel('$\\log_{10} SFR$')\n",
    "axes[1].set_ylabel('AGN frac')\n",
    "axes[2].set_ylabel('Redshift')"
   ]
  },
  {
   "cell_type": "markdown",
   "id": "14b98e50",
   "metadata": {
    "papermill": {
     "duration": null,
     "end_time": null,
     "exception": null,
     "start_time": null,
     "status": "pending"
    },
    "tags": []
   },
   "source": [
    "### Posterior Predicitive Checks"
   ]
  },
  {
   "cell_type": "code",
   "execution_count": null,
   "id": "25d55b89",
   "metadata": {
    "papermill": {
     "duration": null,
     "end_time": null,
     "exception": null,
     "start_time": null,
     "status": "pending"
    },
    "tags": []
   },
   "outputs": [],
   "source": [
    "%%time \n",
    "#sample from the prior using numpyro's Predictive function\n",
    "prior_predictive_samp=Predictive(SED_prior.spire_model_CIGALE,posterior_samples = samples, num_samples = 50)\n",
    "prior_pred_samp=prior_predictive_samp(random.PRNGKey(0),priors_prior_pred,phys_prior,hier_params)\n",
    "mod_map_array_samp=[prior_pred_samp['obs_psw'].T,prior_pred_samp['obs_pmw'].T,prior_pred_samp['obs_plw'].T]"
   ]
  },
  {
   "cell_type": "code",
   "execution_count": null,
   "id": "4b384fbd",
   "metadata": {
    "papermill": {
     "duration": null,
     "end_time": null,
     "exception": null,
     "start_time": null,
     "status": "pending"
    },
    "tags": []
   },
   "outputs": [],
   "source": [
    "#feed the model map arrays the animation function\n",
    "xidplus.plots.make_map_animation(priors,mod_map_array_samp,50)"
   ]
  },
  {
   "cell_type": "code",
   "execution_count": null,
   "id": "bf5837db",
   "metadata": {
    "papermill": {
     "duration": null,
     "end_time": null,
     "exception": null,
     "start_time": null,
     "status": "pending"
    },
    "scrolled": true,
    "tags": []
   },
   "outputs": [],
   "source": [
    "figures,fig=xidplus.plot_map(priors)"
   ]
  },
  {
   "cell_type": "code",
   "execution_count": null,
   "id": "710df804",
   "metadata": {
    "papermill": {
     "duration": null,
     "end_time": null,
     "exception": null,
     "start_time": null,
     "status": "pending"
    },
    "tags": []
   },
   "outputs": [],
   "source": [
    "from xidplus import postmaps\n",
    "import aplpy\n",
    "sns.set_style(\"white\")\n",
    "cmap = sns.diverging_palette(220, 20, as_cmap=True)\n",
    "Bayes_pvals = []\n",
    "hdulists = list(map(lambda prior: postmaps.make_fits_image(prior, prior.sim), priors))\n",
    "fig = plt.figure(figsize=(10 * len(priors), 10))\n",
    "figs = []\n",
    "for i in range(0, len(priors)):\n",
    "    figs.append(aplpy.FITSFigure(hdulists[i][1], figure=fig, subplot=(1, len(priors), i + 1)))\n",
    "    Bayes_pvals.append(postmaps.make_Bayesian_pval_maps(priors[i], mod_map_array_samp[i]))\n",
    "    \n",
    "    \n",
    "for i in range(0, len(priors)):\n",
    "    figs[i].show_markers(priors[i].sra, priors[i].sdec, edgecolor='black', facecolor='black',\n",
    "                         marker='o', s=20, alpha=0.5)\n",
    "    figs[i].tick_labels.set_xformat('dd.dd')\n",
    "    figs[i].tick_labels.set_yformat('dd.dd')\n",
    "    figs[i]._data[\n",
    "        priors[i].sy_pix - np.min(priors[i].sy_pix) - 1, priors[i].sx_pix - np.min(priors[i].sx_pix) - 1] = \\\n",
    "    Bayes_pvals[i]\n",
    "    figs[i].show_colorscale(vmin=-6, vmax=6, cmap=cmap)\n",
    "    figs[i].add_colorbar()\n",
    "    figs[i].colorbar.set_location('top')"
   ]
  },
  {
   "cell_type": "markdown",
   "id": "c320ae7d",
   "metadata": {
    "papermill": {
     "duration": null,
     "end_time": null,
     "exception": null,
     "start_time": null,
     "status": "pending"
    },
    "tags": []
   },
   "source": [
    "Read in the source we are interested in from Rowan-Robinsons's catalogue."
   ]
  },
  {
   "cell_type": "code",
   "execution_count": null,
   "id": "f3b96eda",
   "metadata": {
    "papermill": {
     "duration": null,
     "end_time": null,
     "exception": null,
     "start_time": null,
     "status": "pending"
    },
    "tags": []
   },
   "outputs": [],
   "source": [
    "from astropy.coordinates import SkyCoord\n",
    "from astropy import units as u\n",
    "import os\n",
    "\n",
    "c = SkyCoord(ra=[esb['RA'][source[0]]]*u.degree, dec=[esb['Dec'][source[0]]]*u.degree)"
   ]
  },
  {
   "cell_type": "code",
   "execution_count": null,
   "id": "f0ef1e02",
   "metadata": {
    "papermill": {
     "duration": null,
     "end_time": null,
     "exception": null,
     "start_time": null,
     "status": "pending"
    },
    "tags": []
   },
   "outputs": [],
   "source": [
    "#Run the DAOstarfinder on the original maps for all SPIRE bands\n",
    "from photutils import DAOStarFinder\n",
    "fwhm=[17.6,23.9,35.2]\n",
    "new_scat_flux=[]\n",
    "new_scat_pos=[]\n",
    "for b in range(0,len(priors)):\n",
    "    tmp_fits=postmaps.make_fits_image(priors[b],priors[b].sim)\n",
    "    wcs_temp = wcs.WCS(tmp_fits[1].header)\n",
    "    daofind = DAOStarFinder(fwhm=fwhm[b]/np.abs(tmp_fits[1].header['CD1_1']*3600.0), threshold=5.0,sky=0.0,roundlo=- 10.0,roundhi= 10.0,sharplo=-5,sharphi=5)    \n",
    "    new_scat = daofind(tmp_fits[1].data)\n",
    "    new_scat_coords=wcs_temp.pixel_to_world(new_scat['xcentroid'],new_scat['ycentroid'])\n",
    "    idx_new, d2d_new, d3d_new = c.match_to_catalog_sky(new_scat_coords)\n",
    "    new_scat_flux.append(new_scat['peak'][idx_new])\n",
    "    new_scat_pos.append(new_scat_coords[idx_new])\n"
   ]
  },
  {
   "cell_type": "code",
   "execution_count": null,
   "id": "c66cb804",
   "metadata": {
    "papermill": {
     "duration": null,
     "end_time": null,
     "exception": null,
     "start_time": null,
     "status": "pending"
    },
    "tags": []
   },
   "outputs": [],
   "source": [
    "posterior_blind_source_coords=[]\n",
    "posterior_blind_source_flux=[]\n",
    "# Run starfinder on all posterior maps\n",
    "for s in range(0,mod_map_array_samp[0].shape[-1]):\n",
    "    if s%1000==0:\n",
    "        print(s)\n",
    "    tmp_posterior_blind_source_coords=[]\n",
    "    tmp_posterior_blind_source_flux=[]\n",
    "    for b in range(0,len(priors)):\n",
    "        tmp_fits=postmaps.make_fits_image(priors[b],mod_map_array_samp[b][...,s])\n",
    "        #need to widen constriants on roundness and sharpness constraints\n",
    "        daofind = DAOStarFinder(fwhm=fwhm[b]/np.abs(tmp_fits[1].header['CD1_1']*3600.0), threshold=5,sky=0.0,roundlo=- 10.0,roundhi= 10.0,sharplo=-5,sharphi=5) \n",
    "        sources = daofind(tmp_fits[1].data)\n",
    "        #print(sources)\n",
    "        wcs_temp = wcs.WCS(tmp_fits[1].header)\n",
    "        new_coords=wcs_temp.pixel_to_world(sources['xcentroid'],sources['ycentroid'])\n",
    "   \n",
    "            \n",
    "        idx_tmp, d2d_tmp, d3d_tmp = c.match_to_catalog_sky(new_coords)\n",
    "        tmp_posterior_blind_source_coords.append(new_coords[idx_tmp])\n",
    "        tmp_posterior_blind_source_flux.append(sources[idx_tmp]['peak'])\n",
    "    posterior_blind_source_coords.append(tmp_posterior_blind_source_coords)\n",
    "    posterior_blind_source_flux.append(tmp_posterior_blind_source_flux)\n",
    "        \n",
    "    "
   ]
  },
  {
   "cell_type": "code",
   "execution_count": null,
   "id": "296b1449",
   "metadata": {
    "papermill": {
     "duration": null,
     "end_time": null,
     "exception": null,
     "start_time": null,
     "status": "pending"
    },
    "tags": []
   },
   "outputs": [],
   "source": [
    " # get original fluxes from scat\n",
    "band=[250,350,500]\n",
    "scat_flux=[]\n",
    "scat_pos=[]\n",
    "for b in band:\n",
    "    scat=Table.read('../../../data/WP5-{}-SCAT{}-v1.0.fits.gz'.format(field[0],b))\n",
    "    orig_scat_coords=SkyCoord(scat['RA'],scat['Dec'])\n",
    "    idx, d2d, d3d = c.match_to_catalog_sky(orig_scat_coords)\n",
    "    scat_flux.append(scat['F_SPIRE_{}'.format(b)][idx].data)\n",
    "    scat_pos.append(orig_scat_coords[idx])\n",
    "scat_flux=np.array(scat_flux)"
   ]
  },
  {
   "cell_type": "code",
   "execution_count": null,
   "id": "aa9fc90a",
   "metadata": {
    "papermill": {
     "duration": null,
     "end_time": null,
     "exception": null,
     "start_time": null,
     "status": "pending"
    },
    "tags": []
   },
   "outputs": [],
   "source": [
    "orig_map=xidplus.plot_map(priors)\n",
    "for i in range(0,3):\n",
    "    #plot new scat coords\n",
    "    orig_map[0][i].show_markers(new_scat_pos[i].ra.value,new_scat_pos[i].dec.value,edgecolor='blue', facecolor='blue',\n",
    "                marker='o', s=200, alpha=0.5)\n",
    "    orig_map[0][i].show_markers(c.ra.value,c.dec.value, edgecolor='red', facecolor='red',\n",
    "                marker='x', s=200, alpha=0.5)\n",
    "    orig_map[0][i].show_markers(scat_pos[i].ra.value,scat_pos[i].dec.value,edgecolor='yellow', facecolor='yellow',\n",
    "                marker='x', s=200, alpha=0.5)\n"
   ]
  },
  {
   "cell_type": "code",
   "execution_count": null,
   "id": "1e14033f",
   "metadata": {
    "papermill": {
     "duration": null,
     "end_time": null,
     "exception": null,
     "start_time": null,
     "status": "pending"
    },
    "tags": []
   },
   "outputs": [],
   "source": [
    "#stack params and make vector ready to be used by emualator\n",
    "params = jnp.stack((samples['sfr'].T, samples['agn'].T, samples['redshift'].T)).T\n",
    "# Use emulator to get fluxes. As emulator provides log flux, convert.\n",
    "src_f = np.array(jnp.exp(phys_prior.emulator['net_apply'](phys_prior.emulator['params'], params)))\n",
    "\n",
    "\n",
    "#stack params and make vector ready to be used by emualator\n",
    "params_prior = jnp.stack((prior_pred['sfr'].T, prior_pred['agn'].T, prior_pred['redshift'].T)).T\n",
    "# Use emulator to get fluxes. As emulator provides log flux, convert.\n",
    "src_f_prior = np.array(jnp.exp(phys_prior.emulator['net_apply'](phys_prior.emulator['params'], params_prior)))"
   ]
  },
  {
   "cell_type": "code",
   "execution_count": null,
   "id": "f65849dd",
   "metadata": {
    "papermill": {
     "duration": null,
     "end_time": null,
     "exception": null,
     "start_time": null,
     "status": "pending"
    },
    "tags": []
   },
   "outputs": [],
   "source": [
    "src_f.shape"
   ]
  },
  {
   "cell_type": "code",
   "execution_count": null,
   "id": "0d45db82",
   "metadata": {
    "papermill": {
     "duration": null,
     "end_time": null,
     "exception": null,
     "start_time": null,
     "status": "pending"
    },
    "tags": []
   },
   "outputs": [],
   "source": [
    "#find the sources that are within a certain separation of the extreme starburst candidate\n",
    "sep=12\n",
    "separation=new_scat_pos[0].separation(SkyCoord(priors[0].sra,priors[0].sdec)).arcsec\n",
    "contrib_sources=separation<sep\n",
    "print(' Sources \\n {} \\n are possible contributers to flux of extreme starburst'.format(priors[0].ID[contrib_sources]))"
   ]
  },
  {
   "cell_type": "code",
   "execution_count": null,
   "id": "9b788a7c",
   "metadata": {
    "papermill": {
     "duration": null,
     "end_time": null,
     "exception": null,
     "start_time": null,
     "status": "pending"
    },
    "tags": []
   },
   "outputs": [],
   "source": [
    "cmap=sns.color_palette('colorblind')\n",
    "sns.set_style(\"white\")\n",
    "#set up Pairgrid plot and plot blind source flux\n",
    "df_blind=pd.DataFrame(np.array(posterior_blind_source_flux)[:,:,0],columns=['$S_{250\\mathrm{mJy}}$', '$S_{350\\mathrm{mJy}}$', '$S_{500\\mathrm{mJy}}$'])\n",
    "g=sns.PairGrid(df_blind)\n",
    "g.map_diag(plt.hist,histtype='step',linewidth=3.0, alpha=0.5,color='black')\n",
    "#g.map_lower(sns.kdeplot, color=\"black\",alpha=0.5,n_levels=10,density=True, shade=False,linewidth=3,shade_lowest=False)\n",
    "\n",
    "#plot the fluxes for the possible sources that could contribute\n",
    "for i in range(0,contrib_sources.sum()):\n",
    "    df_tmp=pd.DataFrame(src_f[:,contrib_sources,:][:,i,:],columns=['$S_{250\\mathrm{mJy}}$', '$S_{350\\mathrm{mJy}}$', '$S_{500\\mathrm{mJy}}$'])\n",
    "    g.data=df_tmp\n",
    "    g.map_diag(plt.hist,histtype='step',linewidth=3.0, alpha=0.5,color=cmap[i])\n",
    "    #g.map_lower(sns.kdeplot, color=cmap[i],alpha=0.5,n_levels=10,density=True,linewidth=3, shade=False,shade_lowest=False)\n",
    "\n",
    "# plot the combination of flux from those sources\n",
    "df_sum=pd.DataFrame(np.sum(src_f[:,contrib_sources,:],axis=1),columns=['$S_{250\\mathrm{mJy}}$', '$S_{350\\mathrm{mJy}}$', '$S_{500\\mathrm{mJy}}$'])\n",
    "g.data=df_sum\n",
    "g.map_diag(plt.hist,histtype='step',linewidth=3.0, alpha=0.5,color='Red')\n",
    "\n",
    "\n",
    "\n",
    "\n",
    "g.data=df_blind\n",
    "g.map_lower(sns.kdeplot, color=\"black\",alpha=0.5,n_levels=10,density=True, shade=False,linewidth=3,shade_lowest=False)\n",
    "for i in range(0,contrib_sources.sum()):\n",
    "    df_tmp=pd.DataFrame(src_f[:,contrib_sources,:][:,i,:],columns=['$S_{250\\mathrm{mJy}}$', '$S_{350\\mathrm{mJy}}$', '$S_{500\\mathrm{mJy}}$'])\n",
    "    g.data=df_tmp\n",
    "    #g.map_diag(plt.hist,histtype='step',linewidth=3.0, alpha=0.5,color=cmap[i])\n",
    "    g.map_lower(sns.kdeplot, color=cmap[i],alpha=0.5,n_levels=10,density=True,linewidth=3, shade=False,shade_lowest=False)\n",
    "g.data=df_sum\n",
    "g.map_lower(sns.kdeplot, color='Red',alpha=0.5,n_levels=10,density=True,linewidth=3, shade=False,shade_lowest=False)\n",
    "    \n",
    "    \n",
    "#turn off the axes not used\n",
    "g.axes[0,1].set_axis_off()\n",
    "g.axes[0,2].set_axis_off()\n",
    "g.axes[1,2].set_axis_off()\n",
    "\n",
    "#plot the fluxes from new scat and orig scat\n",
    "for i in range(0,len(priors)):\n",
    "    g.axes[i,i].axvline(x=new_scat_flux[i],color='black')\n",
    "    g.axes[i,i].axvline(x=scat_flux[i],color='green')\n",
    "    for j in range(0,len(priors)):\n",
    "        if j>i:\n",
    "            g.axes[j,i].plot(new_scat_flux[i],new_scat_flux[j],'ko',ms=10)\n",
    "            g.axes[j,i].plot(scat_flux[i],scat_flux[j],'go',ms=10)\n",
    "#g.axes[2,0].plot(0.39,32.63,'ko',ms=10)\n",
    "#g.axes[3,0].plot(0.39,27.0,'ko',ms=10)\n"
   ]
  },
  {
   "cell_type": "markdown",
   "id": "5e0c4cf7",
   "metadata": {
    "papermill": {
     "duration": null,
     "end_time": null,
     "exception": null,
     "start_time": null,
     "status": "pending"
    },
    "tags": []
   },
   "source": [
    "### Parameters of contributing sources\n",
    "The physical parameters of our sources which could be contributing to the extreme starburst"
   ]
  },
  {
   "cell_type": "code",
   "execution_count": null,
   "id": "23766743",
   "metadata": {
    "papermill": {
     "duration": null,
     "end_time": null,
     "exception": null,
     "start_time": null,
     "status": "pending"
    },
    "tags": []
   },
   "outputs": [],
   "source": [
    "phys_params=['sfr','agn','redshift']\n",
    "contrib_params=pd.DataFrame(np.array([samples[p][:,contrib_sources].T for p in phys_params]).reshape((len(phys_params)*contrib_sources.sum(),-1)).T,\n",
    "                            columns=np.concatenate([[s+'\\n'+str(priors[0].ID[contrib_sources][i]).split(\"b'\")[1] for i in range(0,contrib_sources.sum())] for s in phys_params])\n",
    ")\n",
    "contrib_params_prior=pd.DataFrame(np.array([prior_pred[p][:,contrib_sources].T for p in phys_params]).reshape((len(phys_params)*contrib_sources.sum(),-1)).T,\n",
    "                            columns=np.concatenate([[s+'\\n'+str(priors[0].ID[contrib_sources][i]).split(\"b'\")[1] for i in range(0,contrib_sources.sum())] for s in phys_params])\n",
    ")\n",
    "g=sns.PairGrid(contrib_params)\n",
    "g.map_diag(plt.hist,histtype='step',linewidth=3.0, alpha=0.5,color='Blue')\n",
    "g.data=contrib_params_prior\n",
    "g.map_diag(plt.hist,histtype='step',linewidth=3.0, alpha=0.5,color='Red')\n",
    "g.map_lower(sns.kdeplot, color='Red',alpha=0.5,n_levels=10,density=True,linewidth=3, shade=False,shade_lowest=False)\n",
    "\n",
    "g.data=contrib_params\n",
    "g.map_lower(sns.kdeplot, color='Blue',alpha=0.5,n_levels=10,density=True,linewidth=3, shade=False,shade_lowest=False)\n",
    "\n",
    "[a.axhline(y=esb[source[0]]['Z\\xa0comb'],color='black') for a in g.axes[-1,:-1]]\n",
    "g.axes[1,0].axhline(y=esb[source[0]]['SFR log(M\\xa0sol. yr−1)'],color='black') \n",
    "\n",
    "g.axes[-1,-1].axvline(x=esb[source[0]]['Z\\xa0comb'],color='black')\n",
    "[a.axvline(x=esb[source[0]]['SFR log(M\\xa0sol. yr−1)'],color='black') for a in g.axes[1:,1]]\n",
    "\n"
   ]
  },
  {
   "cell_type": "markdown",
   "id": "049e5c5a",
   "metadata": {
    "papermill": {
     "duration": null,
     "end_time": null,
     "exception": null,
     "start_time": null,
     "status": "pending"
    },
    "tags": []
   },
   "source": [
    "update the webtable to identify issues"
   ]
  },
  {
   "cell_type": "code",
   "execution_count": null,
   "id": "68638f8b",
   "metadata": {
    "papermill": {
     "duration": null,
     "end_time": null,
     "exception": null,
     "start_time": null,
     "status": "pending"
    },
    "tags": []
   },
   "outputs": [],
   "source": [
    "esb_web=Table.read('../../../data/MRR2018_tables/{}_web.csv'.format(field[0]),format='ascii',encoding='utf-8')\n",
    "if np.sum(divergences)<1:\n",
    "    esb_web['status'][source[0]]='[&#9745;](./output/{}/fit_{}.md)'.format(field[0],source[0]+1)\n",
    "    esb_web.write('../../../data/MRR2018_tables/{}_web.csv'.format(field[0]),overwrite=True)\n",
    "else:\n",
    "    esb_web['status'][source[0]]='[&#9744;](./output/{}/fit_{}.md)'.format(field[0],source[0]+1)\n",
    "    esb_web.write('../../../data/MRR2018_tables/{}_web.csv'.format(field[0]),overwrite=True)"
   ]
  },
  {
   "cell_type": "code",
   "execution_count": null,
   "id": "67f38ae2",
   "metadata": {
    "papermill": {
     "duration": null,
     "end_time": null,
     "exception": null,
     "start_time": null,
     "status": "pending"
    },
    "tags": []
   },
   "outputs": [],
   "source": []
  },
  {
   "cell_type": "code",
   "execution_count": null,
   "id": "ba352fa9",
   "metadata": {
    "papermill": {
     "duration": null,
     "end_time": null,
     "exception": null,
     "start_time": null,
     "status": "pending"
    },
    "tags": []
   },
   "outputs": [],
   "source": []
  },
  {
   "cell_type": "code",
   "execution_count": null,
   "id": "64571a7c",
   "metadata": {
    "papermill": {
     "duration": null,
     "end_time": null,
     "exception": null,
     "start_time": null,
     "status": "pending"
    },
    "tags": []
   },
   "outputs": [],
   "source": []
  }
 ],
 "metadata": {
  "celltoolbar": "Slideshow",
  "kernelspec": {
   "display_name": "Python 3",
   "language": "python",
   "name": "python3"
  },
  "language_info": {
   "codemirror_mode": {
    "name": "ipython",
    "version": 3
   },
   "file_extension": ".py",
   "mimetype": "text/x-python",
   "name": "python",
   "nbconvert_exporter": "python",
   "pygments_lexer": "ipython3",
   "version": "3.8.5"
  },
  "papermill": {
   "default_parameters": {},
   "duration": 28.8489,
   "end_time": "2021-04-30T13:18:04.084923",
   "environment_variables": {},
   "exception": true,
   "input_path": "XID+CIGALE-ESB_fit.ipynb",
   "output_path": "./output/ELAIS-S1/fit_2.ipynb",
   "parameters": {
    "emulator_path": [
     "/research/astro/fir/HELP/XID_plus/docs/notebooks/examples/SED_emulator/CIGALE_emulator_20210420_log10sfr_uniformAGN_z.npz"
    ],
    "field": [
     "ELAIS-S1"
    ]
   },
   "start_time": "2021-04-30T13:17:35.236023",
   "version": "2.3.3"
  }
 },
 "nbformat": 4,
 "nbformat_minor": 5
}