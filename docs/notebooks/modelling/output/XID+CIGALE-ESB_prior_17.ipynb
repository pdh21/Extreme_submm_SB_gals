{
 "cells": [
  {
   "cell_type": "markdown",
   "id": "5eeb5d9b",
   "metadata": {
    "tags": [
     "papermill-error-cell-tag"
    ]
   },
   "source": [
    "<span style=\"color:red; font-family:Helvetica Neue, Helvetica, Arial, sans-serif; font-size:2em;\">An Exception was encountered at '<a href=\"#papermill-error-cell\">In [3]</a>'.</span>"
   ]
  },
  {
   "cell_type": "markdown",
   "id": "6c4352cc",
   "metadata": {
    "papermill": {
     "duration": 0.034442,
     "end_time": "2021-04-20T14:59:14.186885",
     "exception": false,
     "start_time": "2021-04-20T14:59:14.152443",
     "status": "completed"
    },
    "tags": []
   },
   "source": [
    "# Applying XID+CIGALE to Extreme Starbursts\n",
    "In this notebook, we read in the data files and prepare them for fitting with XID+CIGALE, the SED prior model extension to XID+. Here we focus on sources in [Rowan-Robinson et al. 2018](https://arxiv.org/abs/1704.07783) and claimed to have a star formation rate of $> 10^{3}\\mathrm{M_{\\odot}yr^{-1}}$"
   ]
  },
  {
   "cell_type": "code",
   "execution_count": 1,
   "id": "b08edc8d",
   "metadata": {
    "execution": {
     "iopub.execute_input": "2021-04-20T14:59:14.256044Z",
     "iopub.status.busy": "2021-04-20T14:59:14.255264Z",
     "iopub.status.idle": "2021-04-20T14:59:14.258606Z",
     "shell.execute_reply": "2021-04-20T14:59:14.257617Z"
    },
    "papermill": {
     "duration": 0.04056,
     "end_time": "2021-04-20T14:59:14.258905",
     "exception": false,
     "start_time": "2021-04-20T14:59:14.218345",
     "status": "completed"
    },
    "tags": [
     "parameters"
    ]
   },
   "outputs": [],
   "source": [
    "\n",
    "field=['Lockman-SWIRE']\n",
    "#path_to_SPIRE=['/Volumes/pdh_storage/dmu_products/dmu19/dmu19_HELP-SPIRE-maps/data/']\n",
    "path_to_SPIRE=['/mnt/lustre/users/astro/pdh21/Extreme_submm_SB_gals/data/']\n",
    "#redshift_file=[\"/Volumes/pdh_storage/dmu_products/dmu24/dmu24_Lockman-SWIRE/data/master_catalogue_Lockman-SWIRE_20170710_photoz_20170802_r_and_irac1_optimised_UPDATED_IDs_20180219.fits\"]\n",
    "redshift_file=[\"/mnt/lustre/users/astro/pdh21/Extreme_submm_SB_gals/data/master_catalogue_Lockman-SWIRE_20170710_photoz_20170802_r_and_irac1_optimised_UPDATED_IDs_20180219.fits\"]"
   ]
  },
  {
   "cell_type": "code",
   "execution_count": 2,
   "id": "13855177",
   "metadata": {
    "execution": {
     "iopub.execute_input": "2021-04-20T14:59:14.323059Z",
     "iopub.status.busy": "2021-04-20T14:59:14.322137Z",
     "iopub.status.idle": "2021-04-20T14:59:14.324022Z",
     "shell.execute_reply": "2021-04-20T14:59:14.324763Z"
    },
    "papermill": {
     "duration": 0.036868,
     "end_time": "2021-04-20T14:59:14.324993",
     "exception": false,
     "start_time": "2021-04-20T14:59:14.288125",
     "status": "completed"
    },
    "tags": [
     "injected-parameters"
    ]
   },
   "outputs": [],
   "source": [
    "# Parameters\n",
    "field = [\"Lockman-SWIRE\"]\n",
    "path_to_SPIRE = [\"/mnt/lustre/users/astro/pdh21/Extreme_submm_SB_gals/data/\"]\n",
    "redshift_file = [\n",
    "    \"/mnt/lustre/users/astro/pdh21/Extreme_submm_SB_gals/data/master_catalogue_Lockman-SWIRE_20170710_photoz_20170802_r_and_irac1_optimised_UPDATED_IDs_20180219.fits\"\n",
    "]\n"
   ]
  },
  {
   "cell_type": "markdown",
   "id": "20d4c9ad",
   "metadata": {
    "tags": [
     "papermill-error-cell-tag"
    ]
   },
   "source": [
    "<span id=\"papermill-error-cell\" style=\"color:red; font-family:Helvetica Neue, Helvetica, Arial, sans-serif; font-size:2em;\">Execution using papermill encountered an exception here and stopped:</span>"
   ]
  },
  {
   "cell_type": "code",
   "execution_count": 3,
   "id": "619baddd",
   "metadata": {
    "execution": {
     "iopub.execute_input": "2021-04-20T14:59:14.394676Z",
     "iopub.status.busy": "2021-04-20T14:59:14.393701Z",
     "iopub.status.idle": "2021-04-20T14:59:14.486198Z",
     "shell.execute_reply": "2021-04-20T14:59:14.484965Z"
    },
    "papermill": {
     "duration": 0.129815,
     "end_time": "2021-04-20T14:59:14.486489",
     "exception": true,
     "start_time": "2021-04-20T14:59:14.356674",
     "status": "failed"
    },
    "tags": []
   },
   "outputs": [
    {
     "ename": "NameError",
     "evalue": "name 'np' is not defined",
     "output_type": "error",
     "traceback": [
      "\u001b[0;31m---------------------------------------------------------------------------\u001b[0m",
      "\u001b[0;31mNameError\u001b[0m                                 Traceback (most recent call last)",
      "\u001b[0;32m<ipython-input-3-a4c5470a8660>\u001b[0m in \u001b[0;36m<module>\u001b[0;34m\u001b[0m\n\u001b[0;32m----> 1\u001b[0;31m \u001b[0msource\u001b[0m\u001b[0;34m=\u001b[0m\u001b[0;34m[\u001b[0m\u001b[0mnp\u001b[0m\u001b[0;34m.\u001b[0m\u001b[0mint\u001b[0m\u001b[0;34m(\u001b[0m\u001b[0mos\u001b[0m\u001b[0;34m.\u001b[0m\u001b[0menviron\u001b[0m\u001b[0;34m[\u001b[0m\u001b[0;34m'SGE_TASK_ID'\u001b[0m\u001b[0;34m]\u001b[0m\u001b[0;34m)\u001b[0m\u001b[0;34m-\u001b[0m\u001b[0;36m1\u001b[0m\u001b[0;34m]\u001b[0m\u001b[0;34m\u001b[0m\u001b[0;34m\u001b[0m\u001b[0m\n\u001b[0m",
      "\u001b[0;31mNameError\u001b[0m: name 'np' is not defined"
     ]
    }
   ],
   "source": [
    "source=[np.int(os.environ['SGE_TASK_ID'])-1]"
   ]
  },
  {
   "cell_type": "markdown",
   "id": "9ee8d1fe",
   "metadata": {
    "papermill": {
     "duration": null,
     "end_time": null,
     "exception": null,
     "start_time": null,
     "status": "pending"
    },
    "tags": []
   },
   "source": [
    "Import required modules"
   ]
  },
  {
   "cell_type": "code",
   "execution_count": null,
   "id": "514c0ecc",
   "metadata": {
    "papermill": {
     "duration": null,
     "end_time": null,
     "exception": null,
     "start_time": null,
     "status": "pending"
    },
    "slideshow": {
     "slide_type": "skip"
    },
    "tags": []
   },
   "outputs": [],
   "source": [
    "from astropy.io import ascii, fits\n",
    "from astropy.table import Table\n",
    "import pylab as plt\n",
    "%matplotlib inline\n",
    "from astropy import wcs\n",
    "\n",
    "\n",
    "import numpy as np\n",
    "import xidplus\n",
    "from xidplus import moc_routines\n",
    "import pickle\n",
    "import os\n"
   ]
  },
  {
   "cell_type": "markdown",
   "id": "7f1070eb",
   "metadata": {
    "papermill": {
     "duration": null,
     "end_time": null,
     "exception": null,
     "start_time": null,
     "status": "pending"
    },
    "tags": []
   },
   "source": [
    "Set image and catalogue filenames"
   ]
  },
  {
   "cell_type": "code",
   "execution_count": null,
   "id": "198dc587",
   "metadata": {
    "papermill": {
     "duration": null,
     "end_time": null,
     "exception": null,
     "start_time": null,
     "status": "pending"
    },
    "tags": []
   },
   "outputs": [],
   "source": [
    "#Folder containing maps\n",
    "pswfits=path_to_SPIRE[0]+'{}_SPIRE250_v1.0.fits'.format(field[0])#SPIRE 250 map\n",
    "pmwfits=path_to_SPIRE[0]+'{}_SPIRE350_v1.0.fits'.format(field[0])#SPIRE 350 map\n",
    "plwfits=path_to_SPIRE[0]+'{}_SPIRE500_v1.0.fits'.format(field[0])#SPIRE 500 map\n",
    "\n",
    "\n",
    "\n",
    "\n",
    "#output folder\n",
    "output_folder='./'"
   ]
  },
  {
   "cell_type": "markdown",
   "id": "cb0b56ef",
   "metadata": {
    "papermill": {
     "duration": null,
     "end_time": null,
     "exception": null,
     "start_time": null,
     "status": "pending"
    },
    "tags": []
   },
   "source": [
    "Load in images, noise maps, header info and WCS information"
   ]
  },
  {
   "cell_type": "code",
   "execution_count": null,
   "id": "0a163869",
   "metadata": {
    "papermill": {
     "duration": null,
     "end_time": null,
     "exception": null,
     "start_time": null,
     "status": "pending"
    },
    "tags": []
   },
   "outputs": [],
   "source": [
    "#-----250-------------\n",
    "hdulist = fits.open(pswfits)\n",
    "im250phdu=hdulist[0].header\n",
    "im250hdu=hdulist[1].header\n",
    "\n",
    "im250=hdulist[1].data*1.0E3 #convert to mJy\n",
    "nim250=hdulist[3].data*1.0E3 #convert to mJy\n",
    "w_250 = wcs.WCS(hdulist[1].header)\n",
    "pixsize250=3600.0*w_250.wcs.cd[1,1] #pixel size (in arcseconds)\n",
    "hdulist.close()\n",
    "#-----350-------------\n",
    "hdulist = fits.open(pmwfits)\n",
    "im350phdu=hdulist[0].header\n",
    "im350hdu=hdulist[1].header\n",
    "\n",
    "im350=hdulist[1].data*1.0E3 #convert to mJy\n",
    "nim350=hdulist[3].data*1.0E3 #convert to mJy\n",
    "w_350 = wcs.WCS(hdulist[1].header)\n",
    "pixsize350=3600.0*w_350.wcs.cd[1,1] #pixel size (in arcseconds)\n",
    "hdulist.close()\n",
    "#-----500-------------\n",
    "hdulist = fits.open(plwfits)\n",
    "im500phdu=hdulist[0].header\n",
    "im500hdu=hdulist[1].header \n",
    "im500=hdulist[1].data*1.0E3 #convert to mJy\n",
    "nim500=hdulist[3].data*1.0E3 #convert to mJy\n",
    "w_500 = wcs.WCS(hdulist[1].header)\n",
    "pixsize500=3600.0*w_500.wcs.cd[1,1] #pixel size (in arcseconds)\n",
    "hdulist.close()"
   ]
  },
  {
   "cell_type": "markdown",
   "id": "3acf6624",
   "metadata": {
    "papermill": {
     "duration": null,
     "end_time": null,
     "exception": null,
     "start_time": null,
     "status": "pending"
    },
    "tags": []
   },
   "source": [
    "XID+ uses Multi Order Coverage (MOC) maps for cutting down maps and catalogues so they cover the same area. It can also take in MOCs as selection functions to carry out additional cuts. Lets use the python module [pymoc](http://pymoc.readthedocs.io/en/latest/) to create a MOC, centered on a specific position we are interested in. We will use a HEALPix order of 15 (the resolution: higher order means higher resolution)"
   ]
  },
  {
   "cell_type": "markdown",
   "id": "1a0281d8",
   "metadata": {
    "papermill": {
     "duration": null,
     "end_time": null,
     "exception": null,
     "start_time": null,
     "status": "pending"
    },
    "tags": []
   },
   "source": [
    "Read in the source we are interested in from Rowan-Robinsons's catalogue."
   ]
  },
  {
   "cell_type": "code",
   "execution_count": null,
   "id": "d87b791c",
   "metadata": {
    "papermill": {
     "duration": null,
     "end_time": null,
     "exception": null,
     "start_time": null,
     "status": "pending"
    },
    "tags": []
   },
   "outputs": [],
   "source": [
    "#ysb=Table.read('../../../data/MRRfiles/fromPaper.txt', format='ascii')\n",
    "esb=Table.read('../../../data/MRR2018_tables/{}_sources.csv'.format(field[0]),format='ascii')"
   ]
  },
  {
   "cell_type": "code",
   "execution_count": null,
   "id": "a4d8a098",
   "metadata": {
    "papermill": {
     "duration": null,
     "end_time": null,
     "exception": null,
     "start_time": null,
     "status": "pending"
    },
    "tags": []
   },
   "outputs": [],
   "source": [
    "esb"
   ]
  },
  {
   "cell_type": "code",
   "execution_count": null,
   "id": "c4b377be",
   "metadata": {
    "papermill": {
     "duration": null,
     "end_time": null,
     "exception": null,
     "start_time": null,
     "status": "pending"
    },
    "tags": []
   },
   "outputs": [],
   "source": [
    "from astropy.coordinates import SkyCoord\n",
    "from astropy import units as u\n",
    "import os\n",
    "\n",
    "c = SkyCoord(ra=[esb['RA'][source[0]]]*u.degree, dec=[esb['Dec'][source[0]]]*u.degree)\n",
    "\n",
    "import pymoc\n",
    "moc=pymoc.util.catalog.catalog_to_moc(c,100,15)"
   ]
  },
  {
   "cell_type": "code",
   "execution_count": null,
   "id": "076012bc",
   "metadata": {
    "papermill": {
     "duration": null,
     "end_time": null,
     "exception": null,
     "start_time": null,
     "status": "pending"
    },
    "tags": []
   },
   "outputs": [],
   "source": [
    "c.dec.deg[0]"
   ]
  },
  {
   "cell_type": "markdown",
   "id": "bf45ee94",
   "metadata": {
    "papermill": {
     "duration": null,
     "end_time": null,
     "exception": null,
     "start_time": null,
     "status": "pending"
    },
    "tags": []
   },
   "source": [
    "Load in catalogue you want to fit (and make any cuts). Here we use HELP's VO database and directly call it using PyVO"
   ]
  },
  {
   "cell_type": "code",
   "execution_count": null,
   "id": "a3789bdc",
   "metadata": {
    "papermill": {
     "duration": null,
     "end_time": null,
     "exception": null,
     "start_time": null,
     "status": "pending"
    },
    "tags": []
   },
   "outputs": [],
   "source": [
    "import pyvo as vo\n",
    "service = vo.dal.TAPService(\"https://herschel-vos.phys.sussex.ac.uk/__system__/tap/run/tap\")"
   ]
  },
  {
   "cell_type": "code",
   "execution_count": null,
   "id": "776ec045",
   "metadata": {
    "papermill": {
     "duration": null,
     "end_time": null,
     "exception": null,
     "start_time": null,
     "status": "pending"
    },
    "tags": []
   },
   "outputs": [],
   "source": [
    "resultset = service.search(\"SELECT TOP 10000 * FROM herschelhelp.main WHERE 1=CONTAINS(POINT('ICRS', ra, dec),CIRCLE('ICRS',\"+str(c.ra.deg[0])+\", \"+str(c.dec.deg[0])+\", 0.028 ))\")"
   ]
  },
  {
   "cell_type": "code",
   "execution_count": null,
   "id": "1bbd67a7",
   "metadata": {
    "papermill": {
     "duration": null,
     "end_time": null,
     "exception": null,
     "start_time": null,
     "status": "pending"
    },
    "tags": []
   },
   "outputs": [],
   "source": [
    "masterlist=resultset.table"
   ]
  },
  {
   "cell_type": "code",
   "execution_count": null,
   "id": "2b83b900",
   "metadata": {
    "papermill": {
     "duration": null,
     "end_time": null,
     "exception": null,
     "start_time": null,
     "status": "pending"
    },
    "tags": []
   },
   "outputs": [],
   "source": [
    "masterlist"
   ]
  },
  {
   "cell_type": "markdown",
   "id": "4a1a8d17",
   "metadata": {
    "papermill": {
     "duration": null,
     "end_time": null,
     "exception": null,
     "start_time": null,
     "status": "pending"
    },
    "tags": []
   },
   "source": [
    "## Filter table\n",
    "We will only use objects that are not stars (i.e. have `flag_gaia` = 3)"
   ]
  },
  {
   "cell_type": "code",
   "execution_count": null,
   "id": "31c1044f",
   "metadata": {
    "papermill": {
     "duration": null,
     "end_time": null,
     "exception": null,
     "start_time": null,
     "status": "pending"
    },
    "tags": []
   },
   "outputs": [],
   "source": [
    "prior_list=masterlist[(masterlist['flag_gaia']!=3) & (masterlist['flag_optnir_det']>=3)]"
   ]
  },
  {
   "cell_type": "markdown",
   "id": "694a9fe2",
   "metadata": {
    "papermill": {
     "duration": null,
     "end_time": null,
     "exception": null,
     "start_time": null,
     "status": "pending"
    },
    "tags": []
   },
   "source": [
    "### Check original source in prior list, if not then add"
   ]
  },
  {
   "cell_type": "code",
   "execution_count": null,
   "id": "791b8301",
   "metadata": {
    "papermill": {
     "duration": null,
     "end_time": null,
     "exception": null,
     "start_time": null,
     "status": "pending"
    },
    "tags": []
   },
   "outputs": [],
   "source": [
    "in_prior=prior_list['help_id']==masterlist[np.argmin(c.separation(SkyCoord(masterlist['ra'],masterlist['dec'])).arcsec)]['help_id']\n",
    "if in_prior.sum()==1:\n",
    "    print('in prior list')\n",
    "else:\n",
    "    from astropy.table import vstack,hstack\n",
    "    prior_list=vstack((prior_list,masterlist[masterlist['help_id']==masterlist[np.argmin(c.separation(SkyCoord(masterlist['ra'],masterlist['dec'])).arcsec)]['help_id']]))"
   ]
  },
  {
   "cell_type": "markdown",
   "id": "4d2a4c93",
   "metadata": {
    "papermill": {
     "duration": null,
     "end_time": null,
     "exception": null,
     "start_time": null,
     "status": "pending"
    },
    "tags": []
   },
   "source": [
    "## Get Redshift and Uncertianty\n"
   ]
  },
  {
   "cell_type": "markdown",
   "id": "4bf2389f",
   "metadata": {
    "papermill": {
     "duration": null,
     "end_time": null,
     "exception": null,
     "start_time": null,
     "status": "pending"
    },
    "tags": []
   },
   "source": [
    "Ken Duncan defines a median and a hierarchical bayes combination redshift. We need uncertianty so lets match via `help_id`"
   ]
  },
  {
   "cell_type": "code",
   "execution_count": null,
   "id": "2dd8e66a",
   "metadata": {
    "papermill": {
     "duration": null,
     "end_time": null,
     "exception": null,
     "start_time": null,
     "status": "pending"
    },
    "tags": []
   },
   "outputs": [],
   "source": [
    "photoz=Table.read(redshift_file[0])"
   ]
  },
  {
   "cell_type": "code",
   "execution_count": null,
   "id": "91380b07",
   "metadata": {
    "papermill": {
     "duration": null,
     "end_time": null,
     "exception": null,
     "start_time": null,
     "status": "pending"
    },
    "tags": []
   },
   "outputs": [],
   "source": [
    "#help_id=np.empty((len(photoz)),dtype=np.dtype('U27'))\n",
    "for i in range(0,len(photoz)):\n",
    "    photoz['help_id'][i]=str(photoz['help_id'][i].strip()).encode('utf-8')\n",
    "#photoz['help_id']=help_id"
   ]
  },
  {
   "cell_type": "code",
   "execution_count": null,
   "id": "194f0ce7",
   "metadata": {
    "papermill": {
     "duration": null,
     "end_time": null,
     "exception": null,
     "start_time": null,
     "status": "pending"
    },
    "tags": []
   },
   "outputs": [],
   "source": [
    "from astropy.table import Column, MaskedColumn\n",
    "prior_list['redshift']=MaskedColumn(np.full((len(prior_list)),fill_value=0.1),mask=[False]*len(prior_list))\n",
    "prior_list.add_column(MaskedColumn(np.full((len(prior_list)),fill_value=2.0),mask=[False]*len(prior_list),name='redshift_unc'))"
   ]
  },
  {
   "cell_type": "code",
   "execution_count": null,
   "id": "17451250",
   "metadata": {
    "papermill": {
     "duration": null,
     "end_time": null,
     "exception": null,
     "start_time": null,
     "status": "pending"
    },
    "tags": []
   },
   "outputs": [],
   "source": [
    "photoz"
   ]
  },
  {
   "cell_type": "code",
   "execution_count": null,
   "id": "92fa8baf",
   "metadata": {
    "papermill": {
     "duration": null,
     "end_time": null,
     "exception": null,
     "start_time": null,
     "status": "pending"
    },
    "slideshow": {
     "slide_type": "-"
    },
    "tags": []
   },
   "outputs": [],
   "source": [
    "ii=0\n",
    "for i in range(0,len(prior_list)):\n",
    "    ind=photoz['help_id'] == prior_list['help_id'][i]\n",
    "    try:\n",
    "        \n",
    "        prior_list['redshift'][i]=photoz['z1_median'][ind]\n",
    "        prior_list['redshift_unc'][i]=np.max(np.array([np.abs(photoz['z1_median'][ind]-photoz['z1_min'][ind]),np.abs(photoz['z1_max'][ind]-photoz['z1_median'][ind])]))\n",
    "        \n",
    "        #prior_list['redshift_unc'].mask[i]=False\n",
    "        #prior_list['redshift'].mask[i]=False\n",
    "\n",
    "    except ValueError:\n",
    "        None"
   ]
  },
  {
   "cell_type": "code",
   "execution_count": null,
   "id": "4c24f8bc",
   "metadata": {
    "papermill": {
     "duration": null,
     "end_time": null,
     "exception": null,
     "start_time": null,
     "status": "pending"
    },
    "tags": []
   },
   "outputs": [],
   "source": [
    "prior_list['redshift']"
   ]
  },
  {
   "cell_type": "code",
   "execution_count": null,
   "id": "86053f8a",
   "metadata": {
    "papermill": {
     "duration": null,
     "end_time": null,
     "exception": null,
     "start_time": null,
     "status": "pending"
    },
    "tags": []
   },
   "outputs": [],
   "source": [
    "prior_list[prior_list['redshift'].mask == False]"
   ]
  },
  {
   "cell_type": "code",
   "execution_count": null,
   "id": "f2c02b5d",
   "metadata": {
    "papermill": {
     "duration": null,
     "end_time": null,
     "exception": null,
     "start_time": null,
     "status": "pending"
    },
    "tags": []
   },
   "outputs": [],
   "source": [
    "dist_matrix=np.zeros((len(prior_list),len(prior_list)))\n",
    "from astropy.coordinates import SkyCoord\n",
    "from astropy import units as u\n",
    "for i in range(0,len(prior_list)):\n",
    "    for j in range(0,len(prior_list)):\n",
    "        if i>j:\n",
    "            coord1 = SkyCoord(ra=prior_list['ra'][i]*u.deg,dec=prior_list['dec'][i]*u.deg,frame='icrs')\n",
    "\n",
    "            coord2=SkyCoord(ra=prior_list['ra'][j]*u.deg,dec=prior_list['dec'][j]*u.deg)\n",
    "            dist_matrix[i,j] = coord1.separation(coord2).value"
   ]
  },
  {
   "cell_type": "code",
   "execution_count": null,
   "id": "c4ced93b",
   "metadata": {
    "papermill": {
     "duration": null,
     "end_time": null,
     "exception": null,
     "start_time": null,
     "status": "pending"
    },
    "tags": []
   },
   "outputs": [],
   "source": [
    "plt.hist(np.tril(dist_matrix).flatten()*3600.0,bins=np.arange(0.00001,5,0.1));"
   ]
  },
  {
   "cell_type": "code",
   "execution_count": null,
   "id": "91695a3b",
   "metadata": {
    "papermill": {
     "duration": null,
     "end_time": null,
     "exception": null,
     "start_time": null,
     "status": "pending"
    },
    "tags": []
   },
   "outputs": [],
   "source": [
    "ind=(np.tril(dist_matrix)<1.0/3600.0) & (np.tril(dist_matrix)>0)\n",
    "xx,yy=np.meshgrid(np.arange(0,len(prior_list)),np.arange(0,len(prior_list)))\n",
    "yy[ind]"
   ]
  },
  {
   "cell_type": "code",
   "execution_count": null,
   "id": "141e6171",
   "metadata": {
    "papermill": {
     "duration": null,
     "end_time": null,
     "exception": null,
     "start_time": null,
     "status": "pending"
    },
    "tags": []
   },
   "outputs": [],
   "source": [
    "prior_list[yy[ind]]"
   ]
  },
  {
   "cell_type": "code",
   "execution_count": null,
   "id": "8995cf48",
   "metadata": {
    "papermill": {
     "duration": null,
     "end_time": null,
     "exception": null,
     "start_time": null,
     "status": "pending"
    },
    "tags": []
   },
   "outputs": [],
   "source": [
    "prior_list['redshift'].mask[yy[ind]]=True"
   ]
  },
  {
   "cell_type": "code",
   "execution_count": null,
   "id": "58cd556e",
   "metadata": {
    "papermill": {
     "duration": null,
     "end_time": null,
     "exception": null,
     "start_time": null,
     "status": "pending"
    },
    "tags": []
   },
   "outputs": [],
   "source": [
    "\n",
    "prior_list=prior_list[prior_list['redshift'].mask == False]"
   ]
  },
  {
   "cell_type": "code",
   "execution_count": null,
   "id": "21261a72",
   "metadata": {
    "papermill": {
     "duration": null,
     "end_time": null,
     "exception": null,
     "start_time": null,
     "status": "pending"
    },
    "tags": []
   },
   "outputs": [],
   "source": [
    "prior_list"
   ]
  },
  {
   "cell_type": "markdown",
   "id": "365f1925",
   "metadata": {
    "papermill": {
     "duration": null,
     "end_time": null,
     "exception": null,
     "start_time": null,
     "status": "pending"
    },
    "tags": []
   },
   "source": [
    "XID+ is built around two python classes. A prior and posterior class. There should be a prior class for each map being fitted. It is initiated with a map, noise map, primary header and map header and can be set with a MOC. It also requires an input prior catalogue and point spread function.\n"
   ]
  },
  {
   "cell_type": "code",
   "execution_count": null,
   "id": "f02841a3",
   "metadata": {
    "papermill": {
     "duration": null,
     "end_time": null,
     "exception": null,
     "start_time": null,
     "status": "pending"
    },
    "tags": []
   },
   "outputs": [],
   "source": [
    "#---prior250--------\n",
    "prior250=xidplus.prior(im250,nim250,im250phdu,im250hdu, moc=moc)#Initialise with map, uncertianty map, wcs info and primary header\n",
    "prior250.prior_cat(prior_list['ra'],prior_list['dec'],'photoz',ID=prior_list['help_id'])\n",
    "prior250.prior_bkg(-5.0,5)#Set prior on background (assumes Gaussian pdf with mu and sigma)\n",
    "#---prior350--------\n",
    "prior350=xidplus.prior(im350,nim350,im350phdu,im350hdu, moc=moc)\n",
    "prior350.prior_cat(prior_list['ra'],prior_list['dec'],'photoz',ID=prior_list['help_id'])\n",
    "prior350.prior_bkg(-5.0,5)\n",
    "#---prior500--------\n",
    "prior500=xidplus.prior(im500,nim500,im500phdu,im500hdu, moc=moc)\n",
    "prior500.prior_cat(prior_list['ra'],prior_list['dec'],'photoz',ID=prior_list['help_id'])\n",
    "prior500.prior_bkg(-5.0,5)"
   ]
  },
  {
   "cell_type": "markdown",
   "id": "f60366d8",
   "metadata": {
    "papermill": {
     "duration": null,
     "end_time": null,
     "exception": null,
     "start_time": null,
     "status": "pending"
    },
    "tags": []
   },
   "source": [
    "Set PSF. For SPIRE, the PSF can be assumed to be Gaussian with a FWHM of 18.15, 25.15, 36.3 '' for 250, 350 and 500 $\\mathrm{\\mu m}$ respectively. Lets use the astropy module to construct a Gaussian PSF and assign it to the three XID+ prior classes."
   ]
  },
  {
   "cell_type": "code",
   "execution_count": null,
   "id": "e5c60d60",
   "metadata": {
    "papermill": {
     "duration": null,
     "end_time": null,
     "exception": null,
     "start_time": null,
     "status": "pending"
    },
    "tags": []
   },
   "outputs": [],
   "source": [
    "#pixsize array (size of pixels in arcseconds)\n",
    "pixsize=np.array([pixsize250,pixsize350,pixsize500])\n",
    "#point response function for the three bands\n",
    "prfsize=np.array([18.15,25.15,36.3])\n",
    "#use Gaussian2DKernel to create prf (requires stddev rather than fwhm hence pfwhm/2.355)\n",
    "from astropy.convolution import Gaussian2DKernel\n",
    "\n",
    "##---------fit using Gaussian beam-----------------------\n",
    "prf250=Gaussian2DKernel(prfsize[0]/2.355,x_size=101,y_size=101)\n",
    "prf250.normalize(mode='peak')\n",
    "prf350=Gaussian2DKernel(prfsize[1]/2.355,x_size=101,y_size=101)\n",
    "prf350.normalize(mode='peak')\n",
    "prf500=Gaussian2DKernel(prfsize[2]/2.355,x_size=101,y_size=101)\n",
    "prf500.normalize(mode='peak')\n",
    "\n",
    "pind250=np.arange(0,101,1)*1.0/pixsize[0] #get 250 scale in terms of pixel scale of map\n",
    "pind350=np.arange(0,101,1)*1.0/pixsize[1] #get 350 scale in terms of pixel scale of map\n",
    "pind500=np.arange(0,101,1)*1.0/pixsize[2] #get 500 scale in terms of pixel scale of map\n",
    "\n",
    "prior250.set_prf(prf250.array,pind250,pind250)#requires psf as 2d grid, and x and y bins for grid (in pixel scale)\n",
    "prior350.set_prf(prf350.array,pind350,pind350)\n",
    "prior500.set_prf(prf500.array,pind500,pind500)"
   ]
  },
  {
   "cell_type": "markdown",
   "id": "5c25db66",
   "metadata": {
    "papermill": {
     "duration": null,
     "end_time": null,
     "exception": null,
     "start_time": null,
     "status": "pending"
    },
    "tags": []
   },
   "source": [
    "#### Add MIPS 24 data"
   ]
  },
  {
   "cell_type": "markdown",
   "id": "4fd5b21d",
   "metadata": {
    "papermill": {
     "duration": null,
     "end_time": null,
     "exception": null,
     "start_time": null,
     "status": "pending"
    },
    "tags": []
   },
   "source": [
    "mipsfits='/Volumes/pdh_storage/dmu_products/dmu26/data/Lockman-SWIRE/MIPS/wp4_lockman-swire_mips24_map_v1.0.fits.gz'\n",
    "#-----24-------------\n",
    "hdulist = fits.open(mipsfits)\n",
    "im24phdu=hdulist[0].header\n",
    "im24hdu=hdulist[1].header\n",
    "\n",
    "im24=hdulist[1].data\n",
    "nim24=hdulist[2].data\n",
    "w_24 = wcs.WCS(hdulist[1].header)\n",
    "pixsize24=3600.0*w_24.wcs.cdelt[1] #pixel size (in arcseconds)\n",
    "hdulist.close()\n",
    "\n",
    "\n",
    "\n",
    "\n",
    "# Point response information, at the moment its 2D Gaussian,\n",
    "\n",
    "#pixsize array (size of pixels in arcseconds)\n",
    "pixsize=np.array([pixsize24])\n",
    "#point response function for the three bands\n",
    "\n",
    "\n",
    "#Set prior classes\n",
    "#---prior24--------\n",
    "prior24=xidplus.prior(im24.astype(float),nim24.astype(float),im24phdu,im24hdu,moc=moc)#Initialise with map, uncertianty map, wcs info and primary header\n",
    "prior24.prior_cat(prior_list['ra'],prior_list['dec'],'photoz',ID=prior_list['help_id'])#Set input catalogue\n",
    "prior24.prior_bkg(0,2)#Set prior on background\n",
    "\n",
    "##---------fit using seb's empiricall beam-----------------------\n",
    "#-----24-------------\n",
    "hdulist = fits.open('/Volumes/pdh_storage/dmu_products/dmu17/dmu17_HELP_Legacy_Maps/Lockman-SWIRE/data/dmu17_MIPS_Lockman-SWIRE_20171122.fits')\n",
    "prf24=hdulist[1].data\n",
    "centre=np.long((hdulist[1].header['NAXIS1']-1)/2)\n",
    "radius=20\n",
    "hdulist.close()\n",
    "\n",
    "\n",
    "import scipy.ndimage\n",
    "prior24.set_prf(prf24[centre-radius:centre+radius+1,centre-radius:centre+radius+1]/1.0E3,np.arange(0,41/2.0,0.5),np.arange(0,41/2.0,0.5))\n"
   ]
  },
  {
   "cell_type": "code",
   "execution_count": null,
   "id": "01b2c249",
   "metadata": {
    "papermill": {
     "duration": null,
     "end_time": null,
     "exception": null,
     "start_time": null,
     "status": "pending"
    },
    "tags": []
   },
   "outputs": [],
   "source": [
    "print('fitting '+ str(prior250.nsrc)+' sources \\n')\n",
    "print('using ' +  str(prior250.snpix)+', '+ str(prior350.snpix)+' and '+ str(prior500.snpix)+' pixels')\n",
    "print('source density = {}'.format(prior250.nsrc/moc.area_sq_deg))"
   ]
  },
  {
   "cell_type": "markdown",
   "id": "ed8359cc",
   "metadata": {
    "papermill": {
     "duration": null,
     "end_time": null,
     "exception": null,
     "start_time": null,
     "status": "pending"
    },
    "tags": []
   },
   "source": [
    "Before fitting, the prior classes need to take the PSF and calculate how muich each source contributes to each pixel. This process provides what we call a pointing matrix. Lets calculate the pointing matrix for each prior class"
   ]
  },
  {
   "cell_type": "code",
   "execution_count": null,
   "id": "9f490db4",
   "metadata": {
    "papermill": {
     "duration": null,
     "end_time": null,
     "exception": null,
     "start_time": null,
     "status": "pending"
    },
    "tags": []
   },
   "outputs": [],
   "source": [
    "#prior24.get_pointing_matrix()\n",
    "prior250.get_pointing_matrix()\n",
    "prior350.get_pointing_matrix()\n",
    "prior500.get_pointing_matrix()\n"
   ]
  },
  {
   "cell_type": "code",
   "execution_count": null,
   "id": "9c54c785",
   "metadata": {
    "papermill": {
     "duration": null,
     "end_time": null,
     "exception": null,
     "start_time": null,
     "status": "pending"
    },
    "tags": []
   },
   "outputs": [],
   "source": [
    "xidplus.save([prior250,prior350,prior500],None,'XID+CIGALE_ESB_'+esb['field'][source[0]]+'_'+str(source[0]))"
   ]
  },
  {
   "cell_type": "code",
   "execution_count": null,
   "id": "8f247c6c",
   "metadata": {
    "papermill": {
     "duration": null,
     "end_time": null,
     "exception": null,
     "start_time": null,
     "status": "pending"
    },
    "tags": []
   },
   "outputs": [],
   "source": [
    "prior_list.write('prior_list_'+esb['field'][source[0]]+'_'+str(source[0])+'.ascii',format='ascii',overwrite=True)"
   ]
  },
  {
   "cell_type": "code",
   "execution_count": null,
   "id": "3de21c4d",
   "metadata": {
    "papermill": {
     "duration": null,
     "end_time": null,
     "exception": null,
     "start_time": null,
     "status": "pending"
    },
    "tags": []
   },
   "outputs": [],
   "source": []
  }
 ],
 "metadata": {
  "celltoolbar": "Slideshow",
  "kernelspec": {
   "display_name": "Python 3",
   "language": "python",
   "name": "python3"
  },
  "language_info": {
   "codemirror_mode": {
    "name": "ipython",
    "version": 3
   },
   "file_extension": ".py",
   "mimetype": "text/x-python",
   "name": "python",
   "nbconvert_exporter": "python",
   "pygments_lexer": "ipython3",
   "version": "3.8.5"
  },
  "papermill": {
   "default_parameters": {},
   "duration": 2.646997,
   "end_time": "2021-04-20T14:59:14.795938",
   "environment_variables": {},
   "exception": true,
   "input_path": "XID+CIGALE-ESB_prior.ipynb",
   "output_path": "./output/XID+CIGALE-ESB_prior_17.ipynb",
   "parameters": {
    "field": [
     "Lockman-SWIRE"
    ],
    "path_to_SPIRE": [
     "/mnt/lustre/users/astro/pdh21/Extreme_submm_SB_gals/data/"
    ],
    "redshift_file": [
     "/mnt/lustre/users/astro/pdh21/Extreme_submm_SB_gals/data/master_catalogue_Lockman-SWIRE_20170710_photoz_20170802_r_and_irac1_optimised_UPDATED_IDs_20180219.fits"
    ]
   },
   "start_time": "2021-04-20T14:59:12.148941",
   "version": "2.3.3"
  }
 },
 "nbformat": 4,
 "nbformat_minor": 5
}