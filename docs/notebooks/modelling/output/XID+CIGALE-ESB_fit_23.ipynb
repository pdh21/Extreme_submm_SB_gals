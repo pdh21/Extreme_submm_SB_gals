{
 "cells": [
  {
   "cell_type": "markdown",
   "id": "47e230b4",
   "metadata": {
    "tags": [
     "papermill-error-cell-tag"
    ]
   },
   "source": [
    "<span style=\"color:red; font-family:Helvetica Neue, Helvetica, Arial, sans-serif; font-size:2em;\">An Exception was encountered at '<a href=\"#papermill-error-cell\">In [6]</a>'.</span>"
   ]
  },
  {
   "cell_type": "markdown",
   "id": "3d4d782d",
   "metadata": {
    "papermill": {
     "duration": 0.037292,
     "end_time": "2021-04-20T15:00:00.207147",
     "exception": false,
     "start_time": "2021-04-20T15:00:00.169855",
     "status": "completed"
    },
    "tags": []
   },
   "source": [
    "# Applying XID+CIGALE to Extreme Starbursts\n",
    "In this notebook, we read in the data files and prepare them for fitting with XID+CIGALE, the SED prior model extension to XID+. Here we focus on sources in [Rowan-Robinson et al. 2018](https://arxiv.org/abs/1704.07783) and claimed to have a star formation rate of $> 10^{3}\\mathrm{M_{\\odot}yr^{-1}}$"
   ]
  },
  {
   "cell_type": "markdown",
   "id": "d7f7e812",
   "metadata": {
    "papermill": {
     "duration": 0.029728,
     "end_time": "2021-04-20T15:00:00.270129",
     "exception": false,
     "start_time": "2021-04-20T15:00:00.240401",
     "status": "completed"
    },
    "tags": []
   },
   "source": [
    "Import required modules"
   ]
  },
  {
   "cell_type": "code",
   "execution_count": 1,
   "id": "bcf7ea8e",
   "metadata": {
    "execution": {
     "iopub.execute_input": "2021-04-20T15:00:00.337053Z",
     "iopub.status.busy": "2021-04-20T15:00:00.336036Z",
     "iopub.status.idle": "2021-04-20T15:00:04.305262Z",
     "shell.execute_reply": "2021-04-20T15:00:04.306318Z"
    },
    "papermill": {
     "duration": 4.008193,
     "end_time": "2021-04-20T15:00:04.306975",
     "exception": false,
     "start_time": "2021-04-20T15:00:00.298782",
     "status": "completed"
    },
    "slideshow": {
     "slide_type": "skip"
    },
    "tags": []
   },
   "outputs": [],
   "source": [
    "from astropy.io import ascii, fits\n",
    "from astropy.table import Table\n",
    "import pylab as plt\n",
    "%matplotlib inline\n",
    "from astropy import wcs\n",
    "import seaborn as sns\n",
    "\n",
    "import numpy as np\n",
    "import xidplus\n",
    "from xidplus import moc_routines\n",
    "import pickle\n",
    "import os"
   ]
  },
  {
   "cell_type": "code",
   "execution_count": 2,
   "id": "8c00b36e",
   "metadata": {
    "execution": {
     "iopub.execute_input": "2021-04-20T15:00:04.375144Z",
     "iopub.status.busy": "2021-04-20T15:00:04.374439Z",
     "iopub.status.idle": "2021-04-20T15:00:04.377265Z",
     "shell.execute_reply": "2021-04-20T15:00:04.376651Z"
    },
    "papermill": {
     "duration": 0.035713,
     "end_time": "2021-04-20T15:00:04.377412",
     "exception": false,
     "start_time": "2021-04-20T15:00:04.341699",
     "status": "completed"
    },
    "tags": [
     "parameters"
    ]
   },
   "outputs": [],
   "source": [
    "\n",
    "emulator_path=['/research/astro/fir/HELP/XID_plus/docs/notebooks/examples/SED_emulator/CIGALE_emulator_20210420_log10sfr_uniformAGN_z.npz']\n",
    "field=['Lockman-SWIRE']"
   ]
  },
  {
   "cell_type": "code",
   "execution_count": 3,
   "id": "814ced4a",
   "metadata": {
    "execution": {
     "iopub.execute_input": "2021-04-20T15:00:04.437883Z",
     "iopub.status.busy": "2021-04-20T15:00:04.436808Z",
     "iopub.status.idle": "2021-04-20T15:00:04.439043Z",
     "shell.execute_reply": "2021-04-20T15:00:04.439925Z"
    },
    "papermill": {
     "duration": 0.035334,
     "end_time": "2021-04-20T15:00:04.440189",
     "exception": false,
     "start_time": "2021-04-20T15:00:04.404855",
     "status": "completed"
    },
    "tags": [
     "injected-parameters"
    ]
   },
   "outputs": [],
   "source": [
    "# Parameters\n",
    "emulator_path = [\n",
    "    \"/research/astro/fir/HELP/XID_plus/docs/notebooks/examples/SED_emulator/CIGALE_emulator_20210420_log10sfr_uniformAGN_z.npz\"\n",
    "]\n",
    "field = [\"Lockman-SWIRE\"]\n"
   ]
  },
  {
   "cell_type": "code",
   "execution_count": 4,
   "id": "3cc4da9f",
   "metadata": {
    "execution": {
     "iopub.execute_input": "2021-04-20T15:00:04.503007Z",
     "iopub.status.busy": "2021-04-20T15:00:04.502391Z",
     "iopub.status.idle": "2021-04-20T15:00:04.504441Z",
     "shell.execute_reply": "2021-04-20T15:00:04.504929Z"
    },
    "papermill": {
     "duration": 0.03794,
     "end_time": "2021-04-20T15:00:04.505069",
     "exception": false,
     "start_time": "2021-04-20T15:00:04.467129",
     "status": "completed"
    },
    "tags": []
   },
   "outputs": [],
   "source": [
    "source = [np.int(os.environ['SGE_TASK_ID'])-1]"
   ]
  },
  {
   "cell_type": "code",
   "execution_count": 5,
   "id": "d7568e9f",
   "metadata": {
    "execution": {
     "iopub.execute_input": "2021-04-20T15:00:04.568264Z",
     "iopub.status.busy": "2021-04-20T15:00:04.566863Z",
     "iopub.status.idle": "2021-04-20T15:00:04.589720Z",
     "shell.execute_reply": "2021-04-20T15:00:04.588821Z"
    },
    "papermill": {
     "duration": 0.05746,
     "end_time": "2021-04-20T15:00:04.589930",
     "exception": false,
     "start_time": "2021-04-20T15:00:04.532470",
     "status": "completed"
    },
    "tags": []
   },
   "outputs": [],
   "source": [
    "#ysb=Table.read('../../../data/MRRfiles/fromPaper.txt', format='ascii')\n",
    "esb=Table.read('../../../data/MRR2018_tables/{}_sources.csv'.format(field[0]),format='ascii',encoding='utf-8')"
   ]
  },
  {
   "cell_type": "markdown",
   "id": "c7ad541a",
   "metadata": {
    "tags": [
     "papermill-error-cell-tag"
    ]
   },
   "source": [
    "<span id=\"papermill-error-cell\" style=\"color:red; font-family:Helvetica Neue, Helvetica, Arial, sans-serif; font-size:2em;\">Execution using papermill encountered an exception here and stopped:</span>"
   ]
  },
  {
   "cell_type": "code",
   "execution_count": 6,
   "id": "dd42a3e2",
   "metadata": {
    "execution": {
     "iopub.execute_input": "2021-04-20T15:00:04.654072Z",
     "iopub.status.busy": "2021-04-20T15:00:04.653348Z",
     "iopub.status.idle": "2021-04-20T15:00:04.669723Z",
     "shell.execute_reply": "2021-04-20T15:00:04.668649Z"
    },
    "papermill": {
     "duration": 0.051096,
     "end_time": "2021-04-20T15:00:04.670051",
     "exception": true,
     "start_time": "2021-04-20T15:00:04.618955",
     "status": "failed"
    },
    "tags": []
   },
   "outputs": [
    {
     "ename": "FileNotFoundError",
     "evalue": "[Errno 2] No such file or directory: 'XID+CIGALE_ESB_Lockman-SWIRE_22.pkl'",
     "output_type": "error",
     "traceback": [
      "\u001b[0;31m---------------------------------------------------------------------------\u001b[0m",
      "\u001b[0;31mFileNotFoundError\u001b[0m                         Traceback (most recent call last)",
      "\u001b[0;32m<ipython-input-6-080be69a6b5d>\u001b[0m in \u001b[0;36m<module>\u001b[0;34m\u001b[0m\n\u001b[0;32m----> 1\u001b[0;31m \u001b[0mpriors\u001b[0m\u001b[0;34m,\u001b[0m\u001b[0m_\u001b[0m\u001b[0;34m=\u001b[0m\u001b[0mxidplus\u001b[0m\u001b[0;34m.\u001b[0m\u001b[0mload\u001b[0m\u001b[0;34m(\u001b[0m\u001b[0;34m'XID+CIGALE_ESB_'\u001b[0m\u001b[0;34m+\u001b[0m\u001b[0mesb\u001b[0m\u001b[0;34m[\u001b[0m\u001b[0;34m'field'\u001b[0m\u001b[0;34m]\u001b[0m\u001b[0;34m[\u001b[0m\u001b[0msource\u001b[0m\u001b[0;34m[\u001b[0m\u001b[0;36m0\u001b[0m\u001b[0;34m]\u001b[0m\u001b[0;34m]\u001b[0m\u001b[0;34m+\u001b[0m\u001b[0;34m'_'\u001b[0m\u001b[0;34m+\u001b[0m\u001b[0mstr\u001b[0m\u001b[0;34m(\u001b[0m\u001b[0msource\u001b[0m\u001b[0;34m[\u001b[0m\u001b[0;36m0\u001b[0m\u001b[0;34m]\u001b[0m\u001b[0;34m)\u001b[0m\u001b[0;34m+\u001b[0m\u001b[0;34m'.pkl'\u001b[0m\u001b[0;34m)\u001b[0m\u001b[0;34m\u001b[0m\u001b[0;34m\u001b[0m\u001b[0m\n\u001b[0m",
      "\u001b[0;32m/research/astro/fir/HELP/XID_plus/xidplus/io.py\u001b[0m in \u001b[0;36mload\u001b[0;34m(filename)\u001b[0m\n\u001b[1;32m     61\u001b[0m     \u001b[0;34m:\u001b[0m\u001b[0;32mreturn\u001b[0m\u001b[0;34m:\u001b[0m \u001b[0mlist\u001b[0m \u001b[0mof\u001b[0m \u001b[0mprior\u001b[0m \u001b[0mclasses\u001b[0m \u001b[0;32mand\u001b[0m \u001b[0mposterior\u001b[0m \u001b[0;32mclass\u001b[0m\u001b[0;34m\u001b[0m\u001b[0;34m\u001b[0m\u001b[0m\n\u001b[1;32m     62\u001b[0m     \"\"\"\n\u001b[0;32m---> 63\u001b[0;31m     \u001b[0;32mwith\u001b[0m \u001b[0mopen\u001b[0m\u001b[0;34m(\u001b[0m\u001b[0mfilename\u001b[0m\u001b[0;34m,\u001b[0m \u001b[0;34m\"rb\"\u001b[0m\u001b[0;34m)\u001b[0m \u001b[0;32mas\u001b[0m \u001b[0mf\u001b[0m\u001b[0;34m:\u001b[0m\u001b[0;34m\u001b[0m\u001b[0;34m\u001b[0m\u001b[0m\n\u001b[0m\u001b[1;32m     64\u001b[0m         \u001b[0mobj\u001b[0m \u001b[0;34m=\u001b[0m \u001b[0mpickle\u001b[0m\u001b[0;34m.\u001b[0m\u001b[0mload\u001b[0m\u001b[0;34m(\u001b[0m\u001b[0mf\u001b[0m\u001b[0;34m)\u001b[0m\u001b[0;34m\u001b[0m\u001b[0;34m\u001b[0m\u001b[0m\n\u001b[1;32m     65\u001b[0m         \u001b[0mpriors\u001b[0m\u001b[0;34m=\u001b[0m\u001b[0mobj\u001b[0m\u001b[0;34m[\u001b[0m\u001b[0;34m'priors'\u001b[0m\u001b[0;34m]\u001b[0m\u001b[0;34m\u001b[0m\u001b[0;34m\u001b[0m\u001b[0m\n",
      "\u001b[0;31mFileNotFoundError\u001b[0m: [Errno 2] No such file or directory: 'XID+CIGALE_ESB_Lockman-SWIRE_22.pkl'"
     ]
    }
   ],
   "source": [
    "priors,_=xidplus.load('XID+CIGALE_ESB_'+esb['field'][source[0]]+'_'+str(source[0])+'.pkl')"
   ]
  },
  {
   "cell_type": "code",
   "execution_count": null,
   "id": "5c36f55b",
   "metadata": {
    "papermill": {
     "duration": null,
     "end_time": null,
     "exception": null,
     "start_time": null,
     "status": "pending"
    },
    "tags": []
   },
   "outputs": [],
   "source": [
    "prior_list=Table.read('prior_list_'+esb['field'][source[0]]+'_'+str(source[0])+'.ascii',format='ascii')\n"
   ]
  },
  {
   "cell_type": "code",
   "execution_count": null,
   "id": "54142548",
   "metadata": {
    "papermill": {
     "duration": null,
     "end_time": null,
     "exception": null,
     "start_time": null,
     "status": "pending"
    },
    "tags": []
   },
   "outputs": [],
   "source": [
    "z_mu=np.empty((priors[1].nsrc))\n",
    "z_sig=np.empty((priors[1].nsrc))\n",
    "\n",
    "for x,i in enumerate(priors[1].ID):\n",
    "    ind=prior_list['help_id']==str(i)\n",
    "    z_mu[x]=prior_list['redshift'][ind]\n",
    "    z_sig[x]=prior_list['redshift_unc'][ind]\n",
    "\n",
    "    \n",
    "\n",
    "sfr_mu=1.5*z_mu+1.0\n",
    "sfr_sig=np.full(priors[1].nsrc,0.5)\n",
    "\n",
    "agn_frac_mu=np.full(priors[1].nsrc,-1)\n",
    "agn_frac_sig=np.full(priors[1].nsrc,1)"
   ]
  },
  {
   "cell_type": "code",
   "execution_count": null,
   "id": "3eed3178",
   "metadata": {
    "papermill": {
     "duration": null,
     "end_time": null,
     "exception": null,
     "start_time": null,
     "status": "pending"
    },
    "tags": []
   },
   "outputs": [],
   "source": [
    "params_mu=np.vstack((sfr_mu,z_mu)).T\n",
    "params_sig=np.vstack((sfr_sig,z_sig)).T\n",
    "params_names=['log10sfr','z']\n",
    "hier_params={'m_mu':0.8,'m_sig':0.4,'c_mu':-1.0,'c_sig':0.5,'sfr_disp':0.5}\n"
   ]
  },
  {
   "cell_type": "code",
   "execution_count": null,
   "id": "868936f6",
   "metadata": {
    "papermill": {
     "duration": null,
     "end_time": null,
     "exception": null,
     "start_time": null,
     "status": "pending"
    },
    "tags": []
   },
   "outputs": [],
   "source": [
    "phys_prior=xidplus.hier_prior(priors[1].ID,params_mu,params_sig,params_names,emulator_path[0])"
   ]
  },
  {
   "cell_type": "code",
   "execution_count": null,
   "id": "a56c7bb0",
   "metadata": {
    "papermill": {
     "duration": null,
     "end_time": null,
     "exception": null,
     "start_time": null,
     "status": "pending"
    },
    "tags": []
   },
   "outputs": [],
   "source": [
    "from numpyro.infer import Predictive\n",
    "from jax import random, vmap\n",
    "from xidplus.numpyro_fit import SED_prior\n",
    "\n",
    "rng_key = random.PRNGKey(0)\n",
    "rng_key, rng_key_ = random.split(rng_key)"
   ]
  },
  {
   "cell_type": "code",
   "execution_count": null,
   "id": "a33af07b",
   "metadata": {
    "papermill": {
     "duration": null,
     "end_time": null,
     "exception": null,
     "start_time": null,
     "status": "pending"
    },
    "tags": []
   },
   "outputs": [],
   "source": [
    "\n",
    "## For numpyro to sample from the prior, the data needs to be set to None\n",
    "import copy\n",
    "#make a deepcopy of the priors\n",
    "priors_prior_pred=copy.deepcopy(priors)\n",
    "#set data to None\n",
    "for i in range(0,len(priors)):\n",
    "    priors_prior_pred[i].sim=None"
   ]
  },
  {
   "cell_type": "code",
   "execution_count": null,
   "id": "7ea3ed0a",
   "metadata": {
    "papermill": {
     "duration": null,
     "end_time": null,
     "exception": null,
     "start_time": null,
     "status": "pending"
    },
    "tags": []
   },
   "outputs": [],
   "source": [
    "%%time \n",
    "#sample from the prior using numpyro's Predictive function\n",
    "prior_predictive=Predictive(SED_prior.spire_model_CIGALE,posterior_samples = {}, num_samples = 1000,)\n",
    "prior_pred=prior_predictive(random.PRNGKey(0),priors_prior_pred,phys_prior,hier_params)"
   ]
  },
  {
   "cell_type": "markdown",
   "id": "957015cf",
   "metadata": {
    "papermill": {
     "duration": null,
     "end_time": null,
     "exception": null,
     "start_time": null,
     "status": "pending"
    },
    "tags": []
   },
   "source": [
    "## Fit Real data"
   ]
  },
  {
   "cell_type": "code",
   "execution_count": null,
   "id": "b592df36",
   "metadata": {
    "papermill": {
     "duration": null,
     "end_time": null,
     "exception": null,
     "start_time": null,
     "status": "pending"
    },
    "tags": []
   },
   "outputs": [],
   "source": [
    "import numpyro\n",
    "from numpyro.diagnostics import summary\n",
    "import jax.numpy as jnp\n",
    "from numpyro.infer import NUTS,MCMC\n",
    "import os\n",
    "numpyro.set_host_device_count(os.cpu_count())\n",
    "from operator import attrgetter\n",
    "nuts_kernel = NUTS(SED_prior.spire_model_CIGALE,init_strategy=numpyro.infer.init_to_feasible())\n",
    "mcmc = MCMC(nuts_kernel, num_samples=500, num_warmup=500,num_chains=4,chain_method='parallel')\n",
    "rng_key = random.PRNGKey(0)\n",
    "mcmc.run(rng_key,priors,phys_prior,hier_params)"
   ]
  },
  {
   "cell_type": "code",
   "execution_count": null,
   "id": "11135316",
   "metadata": {
    "papermill": {
     "duration": null,
     "end_time": null,
     "exception": null,
     "start_time": null,
     "status": "pending"
    },
    "tags": []
   },
   "outputs": [],
   "source": [
    "from operator import attrgetter\n",
    "from numpyro.diagnostics import summary\n",
    "import jax.numpy as jnp\n",
    "import os\n",
    "samples=mcmc.get_samples()\n",
    "divergences=mcmc.get_extra_fields()['diverging']\n",
    "prob = 0.9\n",
    "exclude_deterministic = True\n",
    "sites = mcmc._states[mcmc._sample_field]\n",
    "if isinstance(sites, dict) and exclude_deterministic:\n",
    "    state_sample_field = attrgetter(mcmc._sample_field)(mcmc._last_state)\n",
    "    # XXX: there might be the case that state.z is not a dictionary but\n",
    "    # its postprocessed value `sites` is a dictionary.\n",
    "    # TODO: in general, when both `sites` and `state.z` are dictionaries,\n",
    "    # they can have different key names, not necessary due to deterministic\n",
    "    # behavior. We might revise this logic if needed in the future.\n",
    "    if isinstance(state_sample_field, dict):\n",
    "        sites = {k: v for k, v in mcmc._states[mcmc._sample_field].items()\n",
    "                 if k in state_sample_field}\n",
    "\n",
    "stats_summary = summary(sites, prob=prob)"
   ]
  },
  {
   "cell_type": "markdown",
   "id": "15dae0e5",
   "metadata": {
    "papermill": {
     "duration": null,
     "end_time": null,
     "exception": null,
     "start_time": null,
     "status": "pending"
    },
    "tags": []
   },
   "source": [
    "## Check diagnostics\n",
    "When running any MCMC algorithm, you need to check that it has explored the full posterior probability space, and not got stuck in local minima. The standard MCMC diagnostics are:\n",
    "* $\\hat{R}$ compares variation within and between chains. You want $\\hat{R} < 1.1$\n",
    "* $n_{eff}$ effective sample size which is a measure of autocorrelation within the chains. More autocorrelation increases uncertainty in estimates. Typical MCMC has a low $n_{eff}$ and requires thinning (as to keep all samples would be too memory intensive). Since NUTS HMC is efficient, there is little need to chuck samples away. If $n_{eff} / N < 0.001$, then there is a problem with model\n",
    "\n",
    "The other diagnostic, exclusive to The NUTS sampler, is the identification of `divergent transitions`. These identify areas in parameter space where because of some the gradient is very different to the rest of parameter space, such that the tuned NUTS sampler cannot perform its next step accuractely. These tend to occur in funnel like or VERY correlated posterior spaces. Another good explanation can be found [here](https://dev.to/martinmodrak/taming-divergences-in-stan-models-5762). If `divergent transitions` are found, the posterior cannot be trusted and some reparamaterisation is required. Note: Standard MCMC algorithms cannot identify divergent transitions, but that does not mean they do not occur."
   ]
  },
  {
   "cell_type": "code",
   "execution_count": null,
   "id": "b4df04a2",
   "metadata": {
    "papermill": {
     "duration": null,
     "end_time": null,
     "exception": null,
     "start_time": null,
     "status": "pending"
    },
    "tags": []
   },
   "outputs": [],
   "source": [
    "fig,axes=plt.subplots(2,len(samples),figsize=(2*len(samples),10))\n",
    "for i,k in enumerate(samples):\n",
    "\n",
    "    axes[0,i].hist(stats_summary[k]['r_hat'].flatten(),color='Blue',bins=np.arange(0.5,2,0.1))\n",
    "    axes[1,i].hist(stats_summary[k]['n_eff'].flatten(),color='Blue',bins=np.arange(0,samples['m'].shape[0],100))\n",
    "    axes[0,i].set_xlabel(k+' $ \\hat{R}$')\n",
    "    axes[0,i].set_title('Div. Trans= {}'.format(np.sum(divergences)))\n",
    "    axes[1,i].set_xlabel(k+' $ n_{eff}$')\n",
    "plt.subplots_adjust(hspace=0.5,wspace=0.5)"
   ]
  },
  {
   "cell_type": "markdown",
   "id": "13298d83",
   "metadata": {
    "papermill": {
     "duration": null,
     "end_time": null,
     "exception": null,
     "start_time": null,
     "status": "pending"
    },
    "tags": []
   },
   "source": [
    "All diagnostics look fine. "
   ]
  },
  {
   "cell_type": "markdown",
   "id": "b1c8ba09",
   "metadata": {
    "papermill": {
     "duration": null,
     "end_time": null,
     "exception": null,
     "start_time": null,
     "status": "pending"
    },
    "tags": []
   },
   "source": [
    "## Posterior Probability distributions"
   ]
  },
  {
   "cell_type": "markdown",
   "id": "41255bc6",
   "metadata": {
    "papermill": {
     "duration": null,
     "end_time": null,
     "exception": null,
     "start_time": null,
     "status": "pending"
    },
    "tags": []
   },
   "source": [
    "#### Hierarchical parameters"
   ]
  },
  {
   "cell_type": "code",
   "execution_count": null,
   "id": "664bd63b",
   "metadata": {
    "papermill": {
     "duration": null,
     "end_time": null,
     "exception": null,
     "start_time": null,
     "status": "pending"
    },
    "tags": []
   },
   "outputs": [],
   "source": [
    "import pandas as pd\n",
    "hier_param_names=['m','c','sfr_sig']\n",
    "\n",
    "df_prior=pd.DataFrame(np.array([prior_pred[s] for s in hier_param_names]).T,columns=hier_param_names)\n",
    "g=sns.PairGrid(df_prior)\n",
    "g.map_lower(plt.scatter,alpha=0.5,color='Red')\n",
    "g.map_diag(plt.hist,alpha=0.5,histtype='step',linewidth=3.0,color='Red',density=True)\n",
    "\n",
    "df_post=pd.DataFrame(np.array([samples[s] for s in hier_param_names]).T,columns=hier_param_names)\n",
    "g.data=df_post\n",
    "g.map_lower(plt.scatter,alpha=0.5,color='Blue')\n",
    "g.map_diag(plt.hist,alpha=0.5,histtype='step',linewidth=3.0,color='Blue',density=True)\n",
    "g.map_upper(sns.kdeplot,alpha=0.5,color='Blue',n_levels=5, shade=False,linewidth=3.0,shade_lowest=False)\n",
    "\n",
    "#for some reason the contour plots will delete other plots so do last\n",
    "g.data=df_prior\n",
    "g.map_upper(sns.kdeplot,alpha=0.5,color='Red',n_levels=5, shade=False,linewidth=3.0,shade_lowest=False)"
   ]
  },
  {
   "cell_type": "markdown",
   "id": "b6d6455f",
   "metadata": {
    "papermill": {
     "duration": null,
     "end_time": null,
     "exception": null,
     "start_time": null,
     "status": "pending"
    },
    "tags": []
   },
   "source": [
    "#### Source parameters "
   ]
  },
  {
   "cell_type": "code",
   "execution_count": null,
   "id": "bbcda4ab",
   "metadata": {
    "papermill": {
     "duration": null,
     "end_time": null,
     "exception": null,
     "start_time": null,
     "status": "pending"
    },
    "tags": []
   },
   "outputs": [],
   "source": [
    "fig,axes=plt.subplots(3,1,figsize=(50,10))\n",
    "phys_params=['sfr','agn','redshift']\n",
    "for i ,p in enumerate(phys_params):\n",
    "    v_plot=axes[i].violinplot(prior_pred[p].T,showextrema=False);\n",
    "    plt.setp(v_plot['bodies'], facecolor='Red')\n",
    "    v_plot=axes[i].violinplot(samples[p].T,showextrema=False);\n",
    "    plt.setp(v_plot['bodies'], facecolor='Blue')\n",
    "\n",
    "axes[0].set_ylabel('$\\log_{10} SFR$')\n",
    "axes[1].set_ylabel('AGN frac')\n",
    "axes[2].set_ylabel('Redshift')"
   ]
  },
  {
   "cell_type": "markdown",
   "id": "937d3c0f",
   "metadata": {
    "papermill": {
     "duration": null,
     "end_time": null,
     "exception": null,
     "start_time": null,
     "status": "pending"
    },
    "tags": []
   },
   "source": [
    "### Posterior Predicitive Checks"
   ]
  },
  {
   "cell_type": "code",
   "execution_count": null,
   "id": "d6a7a62c",
   "metadata": {
    "papermill": {
     "duration": null,
     "end_time": null,
     "exception": null,
     "start_time": null,
     "status": "pending"
    },
    "tags": []
   },
   "outputs": [],
   "source": [
    "%%time \n",
    "#sample from the prior using numpyro's Predictive function\n",
    "prior_predictive_samp=Predictive(SED_prior.spire_model_CIGALE,posterior_samples = samples, num_samples = 50)\n",
    "prior_pred_samp=prior_predictive_samp(random.PRNGKey(0),priors_prior_pred,phys_prior,hier_params)\n",
    "mod_map_array_samp=[prior_pred_samp['obs_psw'].T,prior_pred_samp['obs_pmw'].T,prior_pred_samp['obs_plw'].T]"
   ]
  },
  {
   "cell_type": "code",
   "execution_count": null,
   "id": "154bd582",
   "metadata": {
    "papermill": {
     "duration": null,
     "end_time": null,
     "exception": null,
     "start_time": null,
     "status": "pending"
    },
    "tags": []
   },
   "outputs": [],
   "source": [
    "#feed the model map arrays the animation function\n",
    "#xidplus.plots.make_map_animation(priors,mod_map_array_samp,50)"
   ]
  },
  {
   "cell_type": "code",
   "execution_count": null,
   "id": "a43dc6fa",
   "metadata": {
    "papermill": {
     "duration": null,
     "end_time": null,
     "exception": null,
     "start_time": null,
     "status": "pending"
    },
    "scrolled": true,
    "tags": []
   },
   "outputs": [],
   "source": [
    "figures,fig=xidplus.plot_map(priors)"
   ]
  },
  {
   "cell_type": "code",
   "execution_count": null,
   "id": "cc2c129b",
   "metadata": {
    "papermill": {
     "duration": null,
     "end_time": null,
     "exception": null,
     "start_time": null,
     "status": "pending"
    },
    "tags": []
   },
   "outputs": [],
   "source": [
    "from xidplus import postmaps\n",
    "import aplpy\n",
    "sns.set_style(\"white\")\n",
    "cmap = sns.diverging_palette(220, 20, as_cmap=True)\n",
    "Bayes_pvals = []\n",
    "hdulists = list(map(lambda prior: postmaps.make_fits_image(prior, prior.sim), priors))\n",
    "fig = plt.figure(figsize=(10 * len(priors), 10))\n",
    "figs = []\n",
    "for i in range(0, len(priors)):\n",
    "    figs.append(aplpy.FITSFigure(hdulists[i][1], figure=fig, subplot=(1, len(priors), i + 1)))\n",
    "    Bayes_pvals.append(postmaps.make_Bayesian_pval_maps(priors[i], mod_map_array_samp[i]))\n",
    "    \n",
    "    \n",
    "for i in range(0, len(priors)):\n",
    "    figs[i].show_markers(priors[i].sra, priors[i].sdec, edgecolor='black', facecolor='black',\n",
    "                         marker='o', s=20, alpha=0.5)\n",
    "    figs[i].tick_labels.set_xformat('dd.dd')\n",
    "    figs[i].tick_labels.set_yformat('dd.dd')\n",
    "    figs[i]._data[\n",
    "        priors[i].sy_pix - np.min(priors[i].sy_pix) - 1, priors[i].sx_pix - np.min(priors[i].sx_pix) - 1] = \\\n",
    "    Bayes_pvals[i]\n",
    "    figs[i].show_colorscale(vmin=-6, vmax=6, cmap=cmap)\n",
    "    figs[i].add_colorbar()\n",
    "    figs[i].colorbar.set_location('top')"
   ]
  },
  {
   "cell_type": "markdown",
   "id": "538dee2c",
   "metadata": {
    "papermill": {
     "duration": null,
     "end_time": null,
     "exception": null,
     "start_time": null,
     "status": "pending"
    },
    "tags": []
   },
   "source": [
    "As a demonstration of how the flux is being distributed to the two sources, we can plot the posterior probability distribution function of fluxes in the marginalised 2-D colour spaces.\n",
    "\n",
    "`HELP_J104631.082+591021.253` is shown by the red contours and `HELP_J104631.170+591036.829` in blue. To illustrate how different these fluxes are from those coming from the blind catalogues, we show an additional contour, coming from running a blind source extraction routine on our replicated maps. This provides a probability distribution function for the flux that would be measured from our model of the data. We also plot the blind source extraction carried out on the real map, shown by the black dot.\n",
    "\n",
    "The black dot lies on top of our blind source extractions from our generated map, indicating that our model of the data is similar to the real map in regard to blind source extraction.\n",
    "\n",
    "More importantly, the flux probability contours for `HELP_J104631.170+591036.829` are in a completely different area of colour space with regard to those coming from the blind source extraction, where as there is some overlap with `HELP_J104631.082+591021.253`. We also plot the total flux of the two sources combined are shown in orange which is much greater than that coming from blind source extraction. This plot clearly illustrates how blind source extraction routines can give miss-leading results. Not only is the flux of `HELP_J104631.170+591036.829` significantly less than that coming from blind source extraction, but that these blind source extraction can significantly underestimate the total flux coming from slightly confused SPIRE sources."
   ]
  },
  {
   "cell_type": "markdown",
   "id": "731c09eb",
   "metadata": {
    "papermill": {
     "duration": null,
     "end_time": null,
     "exception": null,
     "start_time": null,
     "status": "pending"
    },
    "tags": []
   },
   "source": [
    "Read in the source we are interested in from Rowan-Robinsons's catalogue."
   ]
  },
  {
   "cell_type": "code",
   "execution_count": null,
   "id": "a3e14448",
   "metadata": {
    "papermill": {
     "duration": null,
     "end_time": null,
     "exception": null,
     "start_time": null,
     "status": "pending"
    },
    "tags": []
   },
   "outputs": [],
   "source": [
    "from astropy.coordinates import SkyCoord\n",
    "from astropy import units as u\n",
    "import os\n",
    "\n",
    "c = SkyCoord(ra=[esb['RA'][source[0]]]*u.degree, dec=[esb['Dec'][source[0]]]*u.degree)"
   ]
  },
  {
   "cell_type": "code",
   "execution_count": null,
   "id": "e1663394",
   "metadata": {
    "papermill": {
     "duration": null,
     "end_time": null,
     "exception": null,
     "start_time": null,
     "status": "pending"
    },
    "tags": []
   },
   "outputs": [],
   "source": [
    "#Run the DAOstarfinder on the original maps for all SPIRE bands\n",
    "from photutils import DAOStarFinder\n",
    "fwhm=[17.6,23.9,35.2]\n",
    "new_scat_flux=[]\n",
    "new_scat_pos=[]\n",
    "for b in range(0,len(priors)):\n",
    "    tmp_fits=postmaps.make_fits_image(priors[b],priors[b].sim)\n",
    "    wcs_temp = wcs.WCS(tmp_fits[1].header)\n",
    "    daofind = DAOStarFinder(fwhm=fwhm[b]/np.abs(tmp_fits[1].header['CD1_1']*3600.0), threshold=5.0,sky=0.0,roundlo=- 10.0,roundhi= 10.0,sharplo=-5,sharphi=5)    \n",
    "    new_scat = daofind(tmp_fits[1].data)\n",
    "    new_scat_coords=wcs_temp.pixel_to_world(new_scat['xcentroid'],new_scat['ycentroid'])\n",
    "    idx_new, d2d_new, d3d_new = c.match_to_catalog_sky(new_scat_coords)\n",
    "    new_scat_flux.append(new_scat['peak'][idx_new])\n",
    "    new_scat_pos.append(new_scat_coords[idx_new])\n"
   ]
  },
  {
   "cell_type": "code",
   "execution_count": null,
   "id": "8db9d1ab",
   "metadata": {
    "papermill": {
     "duration": null,
     "end_time": null,
     "exception": null,
     "start_time": null,
     "status": "pending"
    },
    "tags": []
   },
   "outputs": [],
   "source": [
    "posterior_blind_source_coords=[]\n",
    "posterior_blind_source_flux=[]\n",
    "# Run starfinder on all posterior maps\n",
    "for s in range(0,mod_map_array_samp[0].shape[-1]):\n",
    "    if s%1000==0:\n",
    "        print(s)\n",
    "    tmp_posterior_blind_source_coords=[]\n",
    "    tmp_posterior_blind_source_flux=[]\n",
    "    for b in range(0,len(priors)):\n",
    "        tmp_fits=postmaps.make_fits_image(priors[b],mod_map_array_samp[b][...,s])\n",
    "        #need to widen constriants on roundness and sharpness constraints\n",
    "        daofind = DAOStarFinder(fwhm=fwhm[b]/np.abs(tmp_fits[1].header['CD1_1']*3600.0), threshold=5,sky=0.0,roundlo=- 10.0,roundhi= 10.0,sharplo=-5,sharphi=5) \n",
    "        sources = daofind(tmp_fits[1].data)\n",
    "        #print(sources)\n",
    "        wcs_temp = wcs.WCS(tmp_fits[1].header)\n",
    "        new_coords=wcs_temp.pixel_to_world(sources['xcentroid'],sources['ycentroid'])\n",
    "   \n",
    "            \n",
    "        idx_tmp, d2d_tmp, d3d_tmp = c.match_to_catalog_sky(new_coords)\n",
    "        tmp_posterior_blind_source_coords.append(new_coords[idx_tmp])\n",
    "        tmp_posterior_blind_source_flux.append(sources[idx_tmp]['peak'])\n",
    "    posterior_blind_source_coords.append(tmp_posterior_blind_source_coords)\n",
    "    posterior_blind_source_flux.append(tmp_posterior_blind_source_flux)\n",
    "        \n",
    "    "
   ]
  },
  {
   "cell_type": "code",
   "execution_count": null,
   "id": "cd9987e2",
   "metadata": {
    "papermill": {
     "duration": null,
     "end_time": null,
     "exception": null,
     "start_time": null,
     "status": "pending"
    },
    "tags": []
   },
   "outputs": [],
   "source": [
    " # get original fluxes from scat\n",
    "band=[250,350,500]\n",
    "scat_flux=[]\n",
    "scat_pos=[]\n",
    "for b in band:\n",
    "    scat=Table.read('../../../data/WP5-{}-SCAT{}-v1.0.fits.gz'.format(field[0],b))\n",
    "    orig_scat_coords=SkyCoord(scat['RA'],scat['Dec'])\n",
    "    idx, d2d, d3d = c.match_to_catalog_sky(orig_scat_coords)\n",
    "    scat_flux.append(scat['F_SPIRE_{}'.format(b)][idx].data)\n",
    "    scat_pos.append(orig_scat_coords[idx])\n",
    "scat_flux=np.array(scat_flux)"
   ]
  },
  {
   "cell_type": "code",
   "execution_count": null,
   "id": "402418e0",
   "metadata": {
    "papermill": {
     "duration": null,
     "end_time": null,
     "exception": null,
     "start_time": null,
     "status": "pending"
    },
    "tags": []
   },
   "outputs": [],
   "source": [
    "orig_map=xidplus.plot_map(priors)\n",
    "for i in range(0,3):\n",
    "    #plot new scat coords\n",
    "    orig_map[0][i].show_markers(new_scat_pos[i].ra.value,new_scat_pos[i].dec.value,edgecolor='blue', facecolor='blue',\n",
    "                marker='o', s=200, alpha=0.5)\n",
    "    orig_map[0][i].show_markers(c.ra.value,c.dec.value, edgecolor='red', facecolor='red',\n",
    "                marker='x', s=200, alpha=0.5)\n",
    "    orig_map[0][i].show_markers(scat_pos[i].ra.value,scat_pos[i].dec.value,edgecolor='yellow', facecolor='yellow',\n",
    "                marker='x', s=200, alpha=0.5)\n"
   ]
  },
  {
   "cell_type": "code",
   "execution_count": null,
   "id": "c0e306c0",
   "metadata": {
    "papermill": {
     "duration": null,
     "end_time": null,
     "exception": null,
     "start_time": null,
     "status": "pending"
    },
    "tags": []
   },
   "outputs": [],
   "source": [
    "#stack params and make vector ready to be used by emualator\n",
    "params = jnp.stack((samples['sfr'].T, samples['agn'].T, samples['redshift'].T)).T\n",
    "# Use emulator to get fluxes. As emulator provides log flux, convert.\n",
    "src_f = np.array(jnp.exp(phys_prior.emulator['net_apply'](phys_prior.emulator['params'], params)))\n",
    "\n",
    "\n",
    "#stack params and make vector ready to be used by emualator\n",
    "params_prior = jnp.stack((prior_pred['sfr'].T, prior_pred['agn'].T, prior_pred['redshift'].T)).T\n",
    "# Use emulator to get fluxes. As emulator provides log flux, convert.\n",
    "src_f_prior = np.array(jnp.exp(phys_prior.emulator['net_apply'](phys_prior.emulator['params'], params_prior)))"
   ]
  },
  {
   "cell_type": "code",
   "execution_count": null,
   "id": "87a31e01",
   "metadata": {
    "papermill": {
     "duration": null,
     "end_time": null,
     "exception": null,
     "start_time": null,
     "status": "pending"
    },
    "tags": []
   },
   "outputs": [],
   "source": [
    "src_f.shape"
   ]
  },
  {
   "cell_type": "code",
   "execution_count": null,
   "id": "695d09b8",
   "metadata": {
    "papermill": {
     "duration": null,
     "end_time": null,
     "exception": null,
     "start_time": null,
     "status": "pending"
    },
    "tags": []
   },
   "outputs": [],
   "source": [
    "#find the sources that are within a certain separation of the extreme starburst candidate\n",
    "sep=12\n",
    "separation=new_scat_pos[0].separation(SkyCoord(priors[0].sra,priors[0].sdec)).arcsec\n",
    "contrib_sources=separation<sep\n",
    "print(' Sources \\n {} \\n are possible contributers to flux of extreme starburst'.format(priors[0].ID[contrib_sources]))"
   ]
  },
  {
   "cell_type": "code",
   "execution_count": null,
   "id": "cedbb0cb",
   "metadata": {
    "papermill": {
     "duration": null,
     "end_time": null,
     "exception": null,
     "start_time": null,
     "status": "pending"
    },
    "tags": []
   },
   "outputs": [],
   "source": [
    "cmap=sns.color_palette('colorblind')\n",
    "sns.set_style(\"white\")\n",
    "#set up Pairgrid plot and plot blind source flux\n",
    "df_blind=pd.DataFrame(np.array(posterior_blind_source_flux)[:,:,0],columns=['$S_{250\\mathrm{mJy}}$', '$S_{350\\mathrm{mJy}}$', '$S_{500\\mathrm{mJy}}$'])\n",
    "g=sns.PairGrid(df_blind)\n",
    "g.map_diag(plt.hist,histtype='step',linewidth=3.0, alpha=0.5,color='black')\n",
    "#g.map_lower(sns.kdeplot, color=\"black\",alpha=0.5,n_levels=10,density=True, shade=False,linewidth=3,shade_lowest=False)\n",
    "\n",
    "#plot the fluxes for the possible sources that could contribute\n",
    "for i in range(0,contrib_sources.sum()):\n",
    "    df_tmp=pd.DataFrame(src_f[:,contrib_sources,:][:,i,:],columns=['$S_{250\\mathrm{mJy}}$', '$S_{350\\mathrm{mJy}}$', '$S_{500\\mathrm{mJy}}$'])\n",
    "    g.data=df_tmp\n",
    "    g.map_diag(plt.hist,histtype='step',linewidth=3.0, alpha=0.5,color=cmap[i])\n",
    "    #g.map_lower(sns.kdeplot, color=cmap[i],alpha=0.5,n_levels=10,density=True,linewidth=3, shade=False,shade_lowest=False)\n",
    "\n",
    "# plot the combination of flux from those sources\n",
    "df_sum=pd.DataFrame(np.sum(src_f[:,contrib_sources,:],axis=1),columns=['$S_{250\\mathrm{mJy}}$', '$S_{350\\mathrm{mJy}}$', '$S_{500\\mathrm{mJy}}$'])\n",
    "g.data=df_sum\n",
    "g.map_diag(plt.hist,histtype='step',linewidth=3.0, alpha=0.5,color='Red')\n",
    "\n",
    "\n",
    "\n",
    "\n",
    "g.data=df_blind\n",
    "g.map_lower(sns.kdeplot, color=\"black\",alpha=0.5,n_levels=10,density=True, shade=False,linewidth=3,shade_lowest=False)\n",
    "for i in range(0,contrib_sources.sum()):\n",
    "    df_tmp=pd.DataFrame(src_f[:,contrib_sources,:][:,i,:],columns=['$S_{250\\mathrm{mJy}}$', '$S_{350\\mathrm{mJy}}$', '$S_{500\\mathrm{mJy}}$'])\n",
    "    g.data=df_tmp\n",
    "    #g.map_diag(plt.hist,histtype='step',linewidth=3.0, alpha=0.5,color=cmap[i])\n",
    "    g.map_lower(sns.kdeplot, color=cmap[i],alpha=0.5,n_levels=10,density=True,linewidth=3, shade=False,shade_lowest=False)\n",
    "g.data=df_sum\n",
    "g.map_lower(sns.kdeplot, color='Red',alpha=0.5,n_levels=10,density=True,linewidth=3, shade=False,shade_lowest=False)\n",
    "    \n",
    "    \n",
    "#turn off the axes not used\n",
    "g.axes[0,1].set_axis_off()\n",
    "g.axes[0,2].set_axis_off()\n",
    "g.axes[1,2].set_axis_off()\n",
    "\n",
    "#plot the fluxes from new scat and orig scat\n",
    "for i in range(0,len(priors)):\n",
    "    g.axes[i,i].axvline(x=new_scat_flux[i],color='black')\n",
    "    g.axes[i,i].axvline(x=scat_flux[i],color='green')\n",
    "    for j in range(0,len(priors)):\n",
    "        if j>i:\n",
    "            g.axes[j,i].plot(new_scat_flux[i],new_scat_flux[j],'ko',ms=10)\n",
    "            g.axes[j,i].plot(scat_flux[i],scat_flux[j],'go',ms=10)\n",
    "#g.axes[2,0].plot(0.39,32.63,'ko',ms=10)\n",
    "#g.axes[3,0].plot(0.39,27.0,'ko',ms=10)\n"
   ]
  },
  {
   "cell_type": "markdown",
   "id": "254a0278",
   "metadata": {
    "papermill": {
     "duration": null,
     "end_time": null,
     "exception": null,
     "start_time": null,
     "status": "pending"
    },
    "tags": []
   },
   "source": [
    "### Parameters of contributing sources\n",
    "The physical parameters of our sources which could be contributing to the extreme starburst"
   ]
  },
  {
   "cell_type": "code",
   "execution_count": null,
   "id": "555cb697",
   "metadata": {
    "papermill": {
     "duration": null,
     "end_time": null,
     "exception": null,
     "start_time": null,
     "status": "pending"
    },
    "tags": []
   },
   "outputs": [],
   "source": [
    "phys_params=['sfr','agn','redshift']\n",
    "contrib_params=pd.DataFrame(np.array([samples[p][:,contrib_sources].T for p in phys_params]).reshape((len(phys_params)*contrib_sources.sum(),-1)).T,\n",
    "                            columns=np.concatenate([[s+'\\n'+str(priors[0].ID[contrib_sources][i]).split(\"b'\")[1] for i in range(0,contrib_sources.sum())] for s in phys_params])\n",
    ")\n",
    "contrib_params_prior=pd.DataFrame(np.array([prior_pred[p][:,contrib_sources].T for p in phys_params]).reshape((len(phys_params)*contrib_sources.sum(),-1)).T,\n",
    "                            columns=np.concatenate([[s+'\\n'+str(priors[0].ID[contrib_sources][i]).split(\"b'\")[1] for i in range(0,contrib_sources.sum())] for s in phys_params])\n",
    ")\n",
    "g=sns.PairGrid(contrib_params)\n",
    "g.map_diag(plt.hist,histtype='step',linewidth=3.0, alpha=0.5,color='Blue')\n",
    "g.data=contrib_params_prior\n",
    "g.map_diag(plt.hist,histtype='step',linewidth=3.0, alpha=0.5,color='Red')\n",
    "g.map_lower(sns.kdeplot, color='Red',alpha=0.5,n_levels=10,density=True,linewidth=3, shade=False,shade_lowest=False)\n",
    "\n",
    "g.data=contrib_params\n",
    "g.map_lower(sns.kdeplot, color='Blue',alpha=0.5,n_levels=10,density=True,linewidth=3, shade=False,shade_lowest=False)\n",
    "\n",
    "[a.axhline(y=esb[source[0]]['Z\\xa0comb'],color='black') for a in g.axes[-1,:-1]]\n",
    "g.axes[1,0].axhline(y=esb[source[0]]['SFR log(M\\xa0sol. yr−1)'],color='black') \n",
    "\n",
    "g.axes[-1,-1].axvline(x=esb[source[0]]['Z\\xa0comb'],color='black')\n",
    "[a.axvline(x=esb[source[0]]['SFR log(M\\xa0sol. yr−1)'],color='black') for a in g.axes[1:,1]]\n",
    "\n"
   ]
  },
  {
   "cell_type": "code",
   "execution_count": null,
   "id": "286f0cc8",
   "metadata": {
    "papermill": {
     "duration": null,
     "end_time": null,
     "exception": null,
     "start_time": null,
     "status": "pending"
    },
    "tags": []
   },
   "outputs": [],
   "source": []
  }
 ],
 "metadata": {
  "celltoolbar": "Slideshow",
  "kernelspec": {
   "display_name": "Python 3",
   "language": "python",
   "name": "python3"
  },
  "language_info": {
   "codemirror_mode": {
    "name": "ipython",
    "version": 3
   },
   "file_extension": ".py",
   "mimetype": "text/x-python",
   "name": "python",
   "nbconvert_exporter": "python",
   "pygments_lexer": "ipython3",
   "version": "3.8.5"
  },
  "papermill": {
   "default_parameters": {},
   "duration": 7.573348,
   "end_time": "2021-04-20T15:00:05.986665",
   "environment_variables": {},
   "exception": true,
   "input_path": "XID+CIGALE-ESB_fit.ipynb",
   "output_path": "./output/XID+CIGALE-ESB_fit_23.ipynb",
   "parameters": {
    "emulator_path": [
     "/research/astro/fir/HELP/XID_plus/docs/notebooks/examples/SED_emulator/CIGALE_emulator_20210420_log10sfr_uniformAGN_z.npz"
    ],
    "field": [
     "Lockman-SWIRE"
    ]
   },
   "start_time": "2021-04-20T14:59:58.413317",
   "version": "2.3.3"
  }
 },
 "nbformat": 4,
 "nbformat_minor": 5
}