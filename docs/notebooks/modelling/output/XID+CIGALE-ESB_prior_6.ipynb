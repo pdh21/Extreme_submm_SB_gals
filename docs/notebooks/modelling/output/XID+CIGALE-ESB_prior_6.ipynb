{
 "cells": [
  {
   "cell_type": "markdown",
   "id": "b08310ce",
   "metadata": {
    "tags": [
     "papermill-error-cell-tag"
    ]
   },
   "source": [
    "<span style=\"color:red; font-family:Helvetica Neue, Helvetica, Arial, sans-serif; font-size:2em;\">An Exception was encountered at '<a href=\"#papermill-error-cell\">In [3]</a>'.</span>"
   ]
  },
  {
   "cell_type": "markdown",
   "id": "37b0943a",
   "metadata": {
    "papermill": {
     "duration": 0.036357,
     "end_time": "2021-04-20T14:57:57.941023",
     "exception": false,
     "start_time": "2021-04-20T14:57:57.904666",
     "status": "completed"
    },
    "tags": []
   },
   "source": [
    "# Applying XID+CIGALE to Extreme Starbursts\n",
    "In this notebook, we read in the data files and prepare them for fitting with XID+CIGALE, the SED prior model extension to XID+. Here we focus on sources in [Rowan-Robinson et al. 2018](https://arxiv.org/abs/1704.07783) and claimed to have a star formation rate of $> 10^{3}\\mathrm{M_{\\odot}yr^{-1}}$"
   ]
  },
  {
   "cell_type": "code",
   "execution_count": 1,
   "id": "407323a8",
   "metadata": {
    "execution": {
     "iopub.execute_input": "2021-04-20T14:57:58.011306Z",
     "iopub.status.busy": "2021-04-20T14:57:58.010238Z",
     "iopub.status.idle": "2021-04-20T14:57:58.014405Z",
     "shell.execute_reply": "2021-04-20T14:57:58.013386Z"
    },
    "papermill": {
     "duration": 0.042672,
     "end_time": "2021-04-20T14:57:58.014660",
     "exception": false,
     "start_time": "2021-04-20T14:57:57.971988",
     "status": "completed"
    },
    "tags": [
     "parameters"
    ]
   },
   "outputs": [],
   "source": [
    "\n",
    "field=['Lockman-SWIRE']\n",
    "#path_to_SPIRE=['/Volumes/pdh_storage/dmu_products/dmu19/dmu19_HELP-SPIRE-maps/data/']\n",
    "path_to_SPIRE=['/mnt/lustre/users/astro/pdh21/Extreme_submm_SB_gals/data/']\n",
    "#redshift_file=[\"/Volumes/pdh_storage/dmu_products/dmu24/dmu24_Lockman-SWIRE/data/master_catalogue_Lockman-SWIRE_20170710_photoz_20170802_r_and_irac1_optimised_UPDATED_IDs_20180219.fits\"]\n",
    "redshift_file=[\"/mnt/lustre/users/astro/pdh21/Extreme_submm_SB_gals/data/master_catalogue_Lockman-SWIRE_20170710_photoz_20170802_r_and_irac1_optimised_UPDATED_IDs_20180219.fits\"]"
   ]
  },
  {
   "cell_type": "code",
   "execution_count": 2,
   "id": "ce23cde6",
   "metadata": {
    "execution": {
     "iopub.execute_input": "2021-04-20T14:57:58.081785Z",
     "iopub.status.busy": "2021-04-20T14:57:58.080712Z",
     "iopub.status.idle": "2021-04-20T14:57:58.084578Z",
     "shell.execute_reply": "2021-04-20T14:57:58.083912Z"
    },
    "papermill": {
     "duration": 0.039653,
     "end_time": "2021-04-20T14:57:58.084755",
     "exception": false,
     "start_time": "2021-04-20T14:57:58.045102",
     "status": "completed"
    },
    "tags": [
     "injected-parameters"
    ]
   },
   "outputs": [],
   "source": [
    "# Parameters\n",
    "field = [\"Lockman-SWIRE\"]\n",
    "path_to_SPIRE = [\"/mnt/lustre/users/astro/pdh21/Extreme_submm_SB_gals/data/\"]\n",
    "redshift_file = [\n",
    "    \"/mnt/lustre/users/astro/pdh21/Extreme_submm_SB_gals/data/master_catalogue_Lockman-SWIRE_20170710_photoz_20170802_r_and_irac1_optimised_UPDATED_IDs_20180219.fits\"\n",
    "]\n"
   ]
  },
  {
   "cell_type": "markdown",
   "id": "8d814ff9",
   "metadata": {
    "tags": [
     "papermill-error-cell-tag"
    ]
   },
   "source": [
    "<span id=\"papermill-error-cell\" style=\"color:red; font-family:Helvetica Neue, Helvetica, Arial, sans-serif; font-size:2em;\">Execution using papermill encountered an exception here and stopped:</span>"
   ]
  },
  {
   "cell_type": "code",
   "execution_count": 3,
   "id": "0c11dea3",
   "metadata": {
    "execution": {
     "iopub.execute_input": "2021-04-20T14:57:58.154148Z",
     "iopub.status.busy": "2021-04-20T14:57:58.153393Z",
     "iopub.status.idle": "2021-04-20T14:57:58.245935Z",
     "shell.execute_reply": "2021-04-20T14:57:58.244025Z"
    },
    "papermill": {
     "duration": 0.129468,
     "end_time": "2021-04-20T14:57:58.246125",
     "exception": true,
     "start_time": "2021-04-20T14:57:58.116657",
     "status": "failed"
    },
    "tags": []
   },
   "outputs": [
    {
     "ename": "NameError",
     "evalue": "name 'np' is not defined",
     "output_type": "error",
     "traceback": [
      "\u001b[0;31m---------------------------------------------------------------------------\u001b[0m",
      "\u001b[0;31mNameError\u001b[0m                                 Traceback (most recent call last)",
      "\u001b[0;32m<ipython-input-3-a4c5470a8660>\u001b[0m in \u001b[0;36m<module>\u001b[0;34m\u001b[0m\n\u001b[0;32m----> 1\u001b[0;31m \u001b[0msource\u001b[0m\u001b[0;34m=\u001b[0m\u001b[0;34m[\u001b[0m\u001b[0mnp\u001b[0m\u001b[0;34m.\u001b[0m\u001b[0mint\u001b[0m\u001b[0;34m(\u001b[0m\u001b[0mos\u001b[0m\u001b[0;34m.\u001b[0m\u001b[0menviron\u001b[0m\u001b[0;34m[\u001b[0m\u001b[0;34m'SGE_TASK_ID'\u001b[0m\u001b[0;34m]\u001b[0m\u001b[0;34m)\u001b[0m\u001b[0;34m-\u001b[0m\u001b[0;36m1\u001b[0m\u001b[0;34m]\u001b[0m\u001b[0;34m\u001b[0m\u001b[0;34m\u001b[0m\u001b[0m\n\u001b[0m",
      "\u001b[0;31mNameError\u001b[0m: name 'np' is not defined"
     ]
    }
   ],
   "source": [
    "source=[np.int(os.environ['SGE_TASK_ID'])-1]"
   ]
  },
  {
   "cell_type": "markdown",
   "id": "0ab620a1",
   "metadata": {
    "papermill": {
     "duration": null,
     "end_time": null,
     "exception": null,
     "start_time": null,
     "status": "pending"
    },
    "tags": []
   },
   "source": [
    "Import required modules"
   ]
  },
  {
   "cell_type": "code",
   "execution_count": null,
   "id": "39fed308",
   "metadata": {
    "papermill": {
     "duration": null,
     "end_time": null,
     "exception": null,
     "start_time": null,
     "status": "pending"
    },
    "slideshow": {
     "slide_type": "skip"
    },
    "tags": []
   },
   "outputs": [],
   "source": [
    "from astropy.io import ascii, fits\n",
    "from astropy.table import Table\n",
    "import pylab as plt\n",
    "%matplotlib inline\n",
    "from astropy import wcs\n",
    "\n",
    "\n",
    "import numpy as np\n",
    "import xidplus\n",
    "from xidplus import moc_routines\n",
    "import pickle\n",
    "import os\n"
   ]
  },
  {
   "cell_type": "markdown",
   "id": "273ee290",
   "metadata": {
    "papermill": {
     "duration": null,
     "end_time": null,
     "exception": null,
     "start_time": null,
     "status": "pending"
    },
    "tags": []
   },
   "source": [
    "Set image and catalogue filenames"
   ]
  },
  {
   "cell_type": "code",
   "execution_count": null,
   "id": "f0c3efc5",
   "metadata": {
    "papermill": {
     "duration": null,
     "end_time": null,
     "exception": null,
     "start_time": null,
     "status": "pending"
    },
    "tags": []
   },
   "outputs": [],
   "source": [
    "#Folder containing maps\n",
    "pswfits=path_to_SPIRE[0]+'{}_SPIRE250_v1.0.fits'.format(field[0])#SPIRE 250 map\n",
    "pmwfits=path_to_SPIRE[0]+'{}_SPIRE350_v1.0.fits'.format(field[0])#SPIRE 350 map\n",
    "plwfits=path_to_SPIRE[0]+'{}_SPIRE500_v1.0.fits'.format(field[0])#SPIRE 500 map\n",
    "\n",
    "\n",
    "\n",
    "\n",
    "#output folder\n",
    "output_folder='./'"
   ]
  },
  {
   "cell_type": "markdown",
   "id": "84d86143",
   "metadata": {
    "papermill": {
     "duration": null,
     "end_time": null,
     "exception": null,
     "start_time": null,
     "status": "pending"
    },
    "tags": []
   },
   "source": [
    "Load in images, noise maps, header info and WCS information"
   ]
  },
  {
   "cell_type": "code",
   "execution_count": null,
   "id": "23f0cd60",
   "metadata": {
    "papermill": {
     "duration": null,
     "end_time": null,
     "exception": null,
     "start_time": null,
     "status": "pending"
    },
    "tags": []
   },
   "outputs": [],
   "source": [
    "#-----250-------------\n",
    "hdulist = fits.open(pswfits)\n",
    "im250phdu=hdulist[0].header\n",
    "im250hdu=hdulist[1].header\n",
    "\n",
    "im250=hdulist[1].data*1.0E3 #convert to mJy\n",
    "nim250=hdulist[3].data*1.0E3 #convert to mJy\n",
    "w_250 = wcs.WCS(hdulist[1].header)\n",
    "pixsize250=3600.0*w_250.wcs.cd[1,1] #pixel size (in arcseconds)\n",
    "hdulist.close()\n",
    "#-----350-------------\n",
    "hdulist = fits.open(pmwfits)\n",
    "im350phdu=hdulist[0].header\n",
    "im350hdu=hdulist[1].header\n",
    "\n",
    "im350=hdulist[1].data*1.0E3 #convert to mJy\n",
    "nim350=hdulist[3].data*1.0E3 #convert to mJy\n",
    "w_350 = wcs.WCS(hdulist[1].header)\n",
    "pixsize350=3600.0*w_350.wcs.cd[1,1] #pixel size (in arcseconds)\n",
    "hdulist.close()\n",
    "#-----500-------------\n",
    "hdulist = fits.open(plwfits)\n",
    "im500phdu=hdulist[0].header\n",
    "im500hdu=hdulist[1].header \n",
    "im500=hdulist[1].data*1.0E3 #convert to mJy\n",
    "nim500=hdulist[3].data*1.0E3 #convert to mJy\n",
    "w_500 = wcs.WCS(hdulist[1].header)\n",
    "pixsize500=3600.0*w_500.wcs.cd[1,1] #pixel size (in arcseconds)\n",
    "hdulist.close()"
   ]
  },
  {
   "cell_type": "markdown",
   "id": "c335c62c",
   "metadata": {
    "papermill": {
     "duration": null,
     "end_time": null,
     "exception": null,
     "start_time": null,
     "status": "pending"
    },
    "tags": []
   },
   "source": [
    "XID+ uses Multi Order Coverage (MOC) maps for cutting down maps and catalogues so they cover the same area. It can also take in MOCs as selection functions to carry out additional cuts. Lets use the python module [pymoc](http://pymoc.readthedocs.io/en/latest/) to create a MOC, centered on a specific position we are interested in. We will use a HEALPix order of 15 (the resolution: higher order means higher resolution)"
   ]
  },
  {
   "cell_type": "markdown",
   "id": "22fa4513",
   "metadata": {
    "papermill": {
     "duration": null,
     "end_time": null,
     "exception": null,
     "start_time": null,
     "status": "pending"
    },
    "tags": []
   },
   "source": [
    "Read in the source we are interested in from Rowan-Robinsons's catalogue."
   ]
  },
  {
   "cell_type": "code",
   "execution_count": null,
   "id": "f4881248",
   "metadata": {
    "papermill": {
     "duration": null,
     "end_time": null,
     "exception": null,
     "start_time": null,
     "status": "pending"
    },
    "tags": []
   },
   "outputs": [],
   "source": [
    "#ysb=Table.read('../../../data/MRRfiles/fromPaper.txt', format='ascii')\n",
    "esb=Table.read('../../../data/MRR2018_tables/{}_sources.csv'.format(field[0]),format='ascii')"
   ]
  },
  {
   "cell_type": "code",
   "execution_count": null,
   "id": "6c18c4b7",
   "metadata": {
    "papermill": {
     "duration": null,
     "end_time": null,
     "exception": null,
     "start_time": null,
     "status": "pending"
    },
    "tags": []
   },
   "outputs": [],
   "source": [
    "esb"
   ]
  },
  {
   "cell_type": "code",
   "execution_count": null,
   "id": "6bda215c",
   "metadata": {
    "papermill": {
     "duration": null,
     "end_time": null,
     "exception": null,
     "start_time": null,
     "status": "pending"
    },
    "tags": []
   },
   "outputs": [],
   "source": [
    "from astropy.coordinates import SkyCoord\n",
    "from astropy import units as u\n",
    "import os\n",
    "\n",
    "c = SkyCoord(ra=[esb['RA'][source[0]]]*u.degree, dec=[esb['Dec'][source[0]]]*u.degree)\n",
    "\n",
    "import pymoc\n",
    "moc=pymoc.util.catalog.catalog_to_moc(c,100,15)"
   ]
  },
  {
   "cell_type": "code",
   "execution_count": null,
   "id": "db9afb14",
   "metadata": {
    "papermill": {
     "duration": null,
     "end_time": null,
     "exception": null,
     "start_time": null,
     "status": "pending"
    },
    "tags": []
   },
   "outputs": [],
   "source": [
    "c.dec.deg[0]"
   ]
  },
  {
   "cell_type": "markdown",
   "id": "150e2238",
   "metadata": {
    "papermill": {
     "duration": null,
     "end_time": null,
     "exception": null,
     "start_time": null,
     "status": "pending"
    },
    "tags": []
   },
   "source": [
    "Load in catalogue you want to fit (and make any cuts). Here we use HELP's VO database and directly call it using PyVO"
   ]
  },
  {
   "cell_type": "code",
   "execution_count": null,
   "id": "ccc1f654",
   "metadata": {
    "papermill": {
     "duration": null,
     "end_time": null,
     "exception": null,
     "start_time": null,
     "status": "pending"
    },
    "tags": []
   },
   "outputs": [],
   "source": [
    "import pyvo as vo\n",
    "service = vo.dal.TAPService(\"https://herschel-vos.phys.sussex.ac.uk/__system__/tap/run/tap\")"
   ]
  },
  {
   "cell_type": "code",
   "execution_count": null,
   "id": "cbd3f66b",
   "metadata": {
    "papermill": {
     "duration": null,
     "end_time": null,
     "exception": null,
     "start_time": null,
     "status": "pending"
    },
    "tags": []
   },
   "outputs": [],
   "source": [
    "resultset = service.search(\"SELECT TOP 10000 * FROM herschelhelp.main WHERE 1=CONTAINS(POINT('ICRS', ra, dec),CIRCLE('ICRS',\"+str(c.ra.deg[0])+\", \"+str(c.dec.deg[0])+\", 0.028 ))\")"
   ]
  },
  {
   "cell_type": "code",
   "execution_count": null,
   "id": "d83087ec",
   "metadata": {
    "papermill": {
     "duration": null,
     "end_time": null,
     "exception": null,
     "start_time": null,
     "status": "pending"
    },
    "tags": []
   },
   "outputs": [],
   "source": [
    "masterlist=resultset.table"
   ]
  },
  {
   "cell_type": "code",
   "execution_count": null,
   "id": "cdf05125",
   "metadata": {
    "papermill": {
     "duration": null,
     "end_time": null,
     "exception": null,
     "start_time": null,
     "status": "pending"
    },
    "tags": []
   },
   "outputs": [],
   "source": [
    "masterlist"
   ]
  },
  {
   "cell_type": "markdown",
   "id": "c68ab9f2",
   "metadata": {
    "papermill": {
     "duration": null,
     "end_time": null,
     "exception": null,
     "start_time": null,
     "status": "pending"
    },
    "tags": []
   },
   "source": [
    "## Filter table\n",
    "We will only use objects that are not stars (i.e. have `flag_gaia` = 3)"
   ]
  },
  {
   "cell_type": "code",
   "execution_count": null,
   "id": "7e94653a",
   "metadata": {
    "papermill": {
     "duration": null,
     "end_time": null,
     "exception": null,
     "start_time": null,
     "status": "pending"
    },
    "tags": []
   },
   "outputs": [],
   "source": [
    "prior_list=masterlist[(masterlist['flag_gaia']!=3) & (masterlist['flag_optnir_det']>=3)]"
   ]
  },
  {
   "cell_type": "markdown",
   "id": "f1f3962b",
   "metadata": {
    "papermill": {
     "duration": null,
     "end_time": null,
     "exception": null,
     "start_time": null,
     "status": "pending"
    },
    "tags": []
   },
   "source": [
    "### Check original source in prior list, if not then add"
   ]
  },
  {
   "cell_type": "code",
   "execution_count": null,
   "id": "25d07869",
   "metadata": {
    "papermill": {
     "duration": null,
     "end_time": null,
     "exception": null,
     "start_time": null,
     "status": "pending"
    },
    "tags": []
   },
   "outputs": [],
   "source": [
    "in_prior=prior_list['help_id']==masterlist[np.argmin(c.separation(SkyCoord(masterlist['ra'],masterlist['dec'])).arcsec)]['help_id']\n",
    "if in_prior.sum()==1:\n",
    "    print('in prior list')\n",
    "else:\n",
    "    from astropy.table import vstack,hstack\n",
    "    prior_list=vstack((prior_list,masterlist[masterlist['help_id']==masterlist[np.argmin(c.separation(SkyCoord(masterlist['ra'],masterlist['dec'])).arcsec)]['help_id']]))"
   ]
  },
  {
   "cell_type": "markdown",
   "id": "8c5c6cdb",
   "metadata": {
    "papermill": {
     "duration": null,
     "end_time": null,
     "exception": null,
     "start_time": null,
     "status": "pending"
    },
    "tags": []
   },
   "source": [
    "## Get Redshift and Uncertianty\n"
   ]
  },
  {
   "cell_type": "markdown",
   "id": "f5681baa",
   "metadata": {
    "papermill": {
     "duration": null,
     "end_time": null,
     "exception": null,
     "start_time": null,
     "status": "pending"
    },
    "tags": []
   },
   "source": [
    "Ken Duncan defines a median and a hierarchical bayes combination redshift. We need uncertianty so lets match via `help_id`"
   ]
  },
  {
   "cell_type": "code",
   "execution_count": null,
   "id": "602c2ab6",
   "metadata": {
    "papermill": {
     "duration": null,
     "end_time": null,
     "exception": null,
     "start_time": null,
     "status": "pending"
    },
    "tags": []
   },
   "outputs": [],
   "source": [
    "photoz=Table.read(redshift_file[0])"
   ]
  },
  {
   "cell_type": "code",
   "execution_count": null,
   "id": "0001cc8d",
   "metadata": {
    "papermill": {
     "duration": null,
     "end_time": null,
     "exception": null,
     "start_time": null,
     "status": "pending"
    },
    "tags": []
   },
   "outputs": [],
   "source": [
    "#help_id=np.empty((len(photoz)),dtype=np.dtype('U27'))\n",
    "for i in range(0,len(photoz)):\n",
    "    photoz['help_id'][i]=str(photoz['help_id'][i].strip()).encode('utf-8')\n",
    "#photoz['help_id']=help_id"
   ]
  },
  {
   "cell_type": "code",
   "execution_count": null,
   "id": "fefab24b",
   "metadata": {
    "papermill": {
     "duration": null,
     "end_time": null,
     "exception": null,
     "start_time": null,
     "status": "pending"
    },
    "tags": []
   },
   "outputs": [],
   "source": [
    "from astropy.table import Column, MaskedColumn\n",
    "prior_list['redshift']=MaskedColumn(np.full((len(prior_list)),fill_value=0.1),mask=[False]*len(prior_list))\n",
    "prior_list.add_column(MaskedColumn(np.full((len(prior_list)),fill_value=2.0),mask=[False]*len(prior_list),name='redshift_unc'))"
   ]
  },
  {
   "cell_type": "code",
   "execution_count": null,
   "id": "42096dba",
   "metadata": {
    "papermill": {
     "duration": null,
     "end_time": null,
     "exception": null,
     "start_time": null,
     "status": "pending"
    },
    "tags": []
   },
   "outputs": [],
   "source": [
    "photoz"
   ]
  },
  {
   "cell_type": "code",
   "execution_count": null,
   "id": "b9b52136",
   "metadata": {
    "papermill": {
     "duration": null,
     "end_time": null,
     "exception": null,
     "start_time": null,
     "status": "pending"
    },
    "slideshow": {
     "slide_type": "-"
    },
    "tags": []
   },
   "outputs": [],
   "source": [
    "ii=0\n",
    "for i in range(0,len(prior_list)):\n",
    "    ind=photoz['help_id'] == prior_list['help_id'][i]\n",
    "    try:\n",
    "        \n",
    "        prior_list['redshift'][i]=photoz['z1_median'][ind]\n",
    "        prior_list['redshift_unc'][i]=np.max(np.array([np.abs(photoz['z1_median'][ind]-photoz['z1_min'][ind]),np.abs(photoz['z1_max'][ind]-photoz['z1_median'][ind])]))\n",
    "        \n",
    "        #prior_list['redshift_unc'].mask[i]=False\n",
    "        #prior_list['redshift'].mask[i]=False\n",
    "\n",
    "    except ValueError:\n",
    "        None"
   ]
  },
  {
   "cell_type": "code",
   "execution_count": null,
   "id": "f15bee85",
   "metadata": {
    "papermill": {
     "duration": null,
     "end_time": null,
     "exception": null,
     "start_time": null,
     "status": "pending"
    },
    "tags": []
   },
   "outputs": [],
   "source": [
    "prior_list['redshift']"
   ]
  },
  {
   "cell_type": "code",
   "execution_count": null,
   "id": "c2802c90",
   "metadata": {
    "papermill": {
     "duration": null,
     "end_time": null,
     "exception": null,
     "start_time": null,
     "status": "pending"
    },
    "tags": []
   },
   "outputs": [],
   "source": [
    "prior_list[prior_list['redshift'].mask == False]"
   ]
  },
  {
   "cell_type": "code",
   "execution_count": null,
   "id": "42b26c65",
   "metadata": {
    "papermill": {
     "duration": null,
     "end_time": null,
     "exception": null,
     "start_time": null,
     "status": "pending"
    },
    "tags": []
   },
   "outputs": [],
   "source": [
    "dist_matrix=np.zeros((len(prior_list),len(prior_list)))\n",
    "from astropy.coordinates import SkyCoord\n",
    "from astropy import units as u\n",
    "for i in range(0,len(prior_list)):\n",
    "    for j in range(0,len(prior_list)):\n",
    "        if i>j:\n",
    "            coord1 = SkyCoord(ra=prior_list['ra'][i]*u.deg,dec=prior_list['dec'][i]*u.deg,frame='icrs')\n",
    "\n",
    "            coord2=SkyCoord(ra=prior_list['ra'][j]*u.deg,dec=prior_list['dec'][j]*u.deg)\n",
    "            dist_matrix[i,j] = coord1.separation(coord2).value"
   ]
  },
  {
   "cell_type": "code",
   "execution_count": null,
   "id": "5b62ff03",
   "metadata": {
    "papermill": {
     "duration": null,
     "end_time": null,
     "exception": null,
     "start_time": null,
     "status": "pending"
    },
    "tags": []
   },
   "outputs": [],
   "source": [
    "plt.hist(np.tril(dist_matrix).flatten()*3600.0,bins=np.arange(0.00001,5,0.1));"
   ]
  },
  {
   "cell_type": "code",
   "execution_count": null,
   "id": "adb8742c",
   "metadata": {
    "papermill": {
     "duration": null,
     "end_time": null,
     "exception": null,
     "start_time": null,
     "status": "pending"
    },
    "tags": []
   },
   "outputs": [],
   "source": [
    "ind=(np.tril(dist_matrix)<1.0/3600.0) & (np.tril(dist_matrix)>0)\n",
    "xx,yy=np.meshgrid(np.arange(0,len(prior_list)),np.arange(0,len(prior_list)))\n",
    "yy[ind]"
   ]
  },
  {
   "cell_type": "code",
   "execution_count": null,
   "id": "1ce966df",
   "metadata": {
    "papermill": {
     "duration": null,
     "end_time": null,
     "exception": null,
     "start_time": null,
     "status": "pending"
    },
    "tags": []
   },
   "outputs": [],
   "source": [
    "prior_list[yy[ind]]"
   ]
  },
  {
   "cell_type": "code",
   "execution_count": null,
   "id": "4639670a",
   "metadata": {
    "papermill": {
     "duration": null,
     "end_time": null,
     "exception": null,
     "start_time": null,
     "status": "pending"
    },
    "tags": []
   },
   "outputs": [],
   "source": [
    "prior_list['redshift'].mask[yy[ind]]=True"
   ]
  },
  {
   "cell_type": "code",
   "execution_count": null,
   "id": "276fa58b",
   "metadata": {
    "papermill": {
     "duration": null,
     "end_time": null,
     "exception": null,
     "start_time": null,
     "status": "pending"
    },
    "tags": []
   },
   "outputs": [],
   "source": [
    "\n",
    "prior_list=prior_list[prior_list['redshift'].mask == False]"
   ]
  },
  {
   "cell_type": "code",
   "execution_count": null,
   "id": "c571b2d9",
   "metadata": {
    "papermill": {
     "duration": null,
     "end_time": null,
     "exception": null,
     "start_time": null,
     "status": "pending"
    },
    "tags": []
   },
   "outputs": [],
   "source": [
    "prior_list"
   ]
  },
  {
   "cell_type": "markdown",
   "id": "49defada",
   "metadata": {
    "papermill": {
     "duration": null,
     "end_time": null,
     "exception": null,
     "start_time": null,
     "status": "pending"
    },
    "tags": []
   },
   "source": [
    "XID+ is built around two python classes. A prior and posterior class. There should be a prior class for each map being fitted. It is initiated with a map, noise map, primary header and map header and can be set with a MOC. It also requires an input prior catalogue and point spread function.\n"
   ]
  },
  {
   "cell_type": "code",
   "execution_count": null,
   "id": "11830af5",
   "metadata": {
    "papermill": {
     "duration": null,
     "end_time": null,
     "exception": null,
     "start_time": null,
     "status": "pending"
    },
    "tags": []
   },
   "outputs": [],
   "source": [
    "#---prior250--------\n",
    "prior250=xidplus.prior(im250,nim250,im250phdu,im250hdu, moc=moc)#Initialise with map, uncertianty map, wcs info and primary header\n",
    "prior250.prior_cat(prior_list['ra'],prior_list['dec'],'photoz',ID=prior_list['help_id'])\n",
    "prior250.prior_bkg(-5.0,5)#Set prior on background (assumes Gaussian pdf with mu and sigma)\n",
    "#---prior350--------\n",
    "prior350=xidplus.prior(im350,nim350,im350phdu,im350hdu, moc=moc)\n",
    "prior350.prior_cat(prior_list['ra'],prior_list['dec'],'photoz',ID=prior_list['help_id'])\n",
    "prior350.prior_bkg(-5.0,5)\n",
    "#---prior500--------\n",
    "prior500=xidplus.prior(im500,nim500,im500phdu,im500hdu, moc=moc)\n",
    "prior500.prior_cat(prior_list['ra'],prior_list['dec'],'photoz',ID=prior_list['help_id'])\n",
    "prior500.prior_bkg(-5.0,5)"
   ]
  },
  {
   "cell_type": "markdown",
   "id": "47ec97e7",
   "metadata": {
    "papermill": {
     "duration": null,
     "end_time": null,
     "exception": null,
     "start_time": null,
     "status": "pending"
    },
    "tags": []
   },
   "source": [
    "Set PSF. For SPIRE, the PSF can be assumed to be Gaussian with a FWHM of 18.15, 25.15, 36.3 '' for 250, 350 and 500 $\\mathrm{\\mu m}$ respectively. Lets use the astropy module to construct a Gaussian PSF and assign it to the three XID+ prior classes."
   ]
  },
  {
   "cell_type": "code",
   "execution_count": null,
   "id": "4d759cd2",
   "metadata": {
    "papermill": {
     "duration": null,
     "end_time": null,
     "exception": null,
     "start_time": null,
     "status": "pending"
    },
    "tags": []
   },
   "outputs": [],
   "source": [
    "#pixsize array (size of pixels in arcseconds)\n",
    "pixsize=np.array([pixsize250,pixsize350,pixsize500])\n",
    "#point response function for the three bands\n",
    "prfsize=np.array([18.15,25.15,36.3])\n",
    "#use Gaussian2DKernel to create prf (requires stddev rather than fwhm hence pfwhm/2.355)\n",
    "from astropy.convolution import Gaussian2DKernel\n",
    "\n",
    "##---------fit using Gaussian beam-----------------------\n",
    "prf250=Gaussian2DKernel(prfsize[0]/2.355,x_size=101,y_size=101)\n",
    "prf250.normalize(mode='peak')\n",
    "prf350=Gaussian2DKernel(prfsize[1]/2.355,x_size=101,y_size=101)\n",
    "prf350.normalize(mode='peak')\n",
    "prf500=Gaussian2DKernel(prfsize[2]/2.355,x_size=101,y_size=101)\n",
    "prf500.normalize(mode='peak')\n",
    "\n",
    "pind250=np.arange(0,101,1)*1.0/pixsize[0] #get 250 scale in terms of pixel scale of map\n",
    "pind350=np.arange(0,101,1)*1.0/pixsize[1] #get 350 scale in terms of pixel scale of map\n",
    "pind500=np.arange(0,101,1)*1.0/pixsize[2] #get 500 scale in terms of pixel scale of map\n",
    "\n",
    "prior250.set_prf(prf250.array,pind250,pind250)#requires psf as 2d grid, and x and y bins for grid (in pixel scale)\n",
    "prior350.set_prf(prf350.array,pind350,pind350)\n",
    "prior500.set_prf(prf500.array,pind500,pind500)"
   ]
  },
  {
   "cell_type": "markdown",
   "id": "fdf2ba9e",
   "metadata": {
    "papermill": {
     "duration": null,
     "end_time": null,
     "exception": null,
     "start_time": null,
     "status": "pending"
    },
    "tags": []
   },
   "source": [
    "#### Add MIPS 24 data"
   ]
  },
  {
   "cell_type": "markdown",
   "id": "717d1859",
   "metadata": {
    "papermill": {
     "duration": null,
     "end_time": null,
     "exception": null,
     "start_time": null,
     "status": "pending"
    },
    "tags": []
   },
   "source": [
    "mipsfits='/Volumes/pdh_storage/dmu_products/dmu26/data/Lockman-SWIRE/MIPS/wp4_lockman-swire_mips24_map_v1.0.fits.gz'\n",
    "#-----24-------------\n",
    "hdulist = fits.open(mipsfits)\n",
    "im24phdu=hdulist[0].header\n",
    "im24hdu=hdulist[1].header\n",
    "\n",
    "im24=hdulist[1].data\n",
    "nim24=hdulist[2].data\n",
    "w_24 = wcs.WCS(hdulist[1].header)\n",
    "pixsize24=3600.0*w_24.wcs.cdelt[1] #pixel size (in arcseconds)\n",
    "hdulist.close()\n",
    "\n",
    "\n",
    "\n",
    "\n",
    "# Point response information, at the moment its 2D Gaussian,\n",
    "\n",
    "#pixsize array (size of pixels in arcseconds)\n",
    "pixsize=np.array([pixsize24])\n",
    "#point response function for the three bands\n",
    "\n",
    "\n",
    "#Set prior classes\n",
    "#---prior24--------\n",
    "prior24=xidplus.prior(im24.astype(float),nim24.astype(float),im24phdu,im24hdu,moc=moc)#Initialise with map, uncertianty map, wcs info and primary header\n",
    "prior24.prior_cat(prior_list['ra'],prior_list['dec'],'photoz',ID=prior_list['help_id'])#Set input catalogue\n",
    "prior24.prior_bkg(0,2)#Set prior on background\n",
    "\n",
    "##---------fit using seb's empiricall beam-----------------------\n",
    "#-----24-------------\n",
    "hdulist = fits.open('/Volumes/pdh_storage/dmu_products/dmu17/dmu17_HELP_Legacy_Maps/Lockman-SWIRE/data/dmu17_MIPS_Lockman-SWIRE_20171122.fits')\n",
    "prf24=hdulist[1].data\n",
    "centre=np.long((hdulist[1].header['NAXIS1']-1)/2)\n",
    "radius=20\n",
    "hdulist.close()\n",
    "\n",
    "\n",
    "import scipy.ndimage\n",
    "prior24.set_prf(prf24[centre-radius:centre+radius+1,centre-radius:centre+radius+1]/1.0E3,np.arange(0,41/2.0,0.5),np.arange(0,41/2.0,0.5))\n"
   ]
  },
  {
   "cell_type": "code",
   "execution_count": null,
   "id": "e81f13a4",
   "metadata": {
    "papermill": {
     "duration": null,
     "end_time": null,
     "exception": null,
     "start_time": null,
     "status": "pending"
    },
    "tags": []
   },
   "outputs": [],
   "source": [
    "print('fitting '+ str(prior250.nsrc)+' sources \\n')\n",
    "print('using ' +  str(prior250.snpix)+', '+ str(prior350.snpix)+' and '+ str(prior500.snpix)+' pixels')\n",
    "print('source density = {}'.format(prior250.nsrc/moc.area_sq_deg))"
   ]
  },
  {
   "cell_type": "markdown",
   "id": "eb0f643a",
   "metadata": {
    "papermill": {
     "duration": null,
     "end_time": null,
     "exception": null,
     "start_time": null,
     "status": "pending"
    },
    "tags": []
   },
   "source": [
    "Before fitting, the prior classes need to take the PSF and calculate how muich each source contributes to each pixel. This process provides what we call a pointing matrix. Lets calculate the pointing matrix for each prior class"
   ]
  },
  {
   "cell_type": "code",
   "execution_count": null,
   "id": "6163160e",
   "metadata": {
    "papermill": {
     "duration": null,
     "end_time": null,
     "exception": null,
     "start_time": null,
     "status": "pending"
    },
    "tags": []
   },
   "outputs": [],
   "source": [
    "#prior24.get_pointing_matrix()\n",
    "prior250.get_pointing_matrix()\n",
    "prior350.get_pointing_matrix()\n",
    "prior500.get_pointing_matrix()\n"
   ]
  },
  {
   "cell_type": "code",
   "execution_count": null,
   "id": "6e2a0d15",
   "metadata": {
    "papermill": {
     "duration": null,
     "end_time": null,
     "exception": null,
     "start_time": null,
     "status": "pending"
    },
    "tags": []
   },
   "outputs": [],
   "source": [
    "xidplus.save([prior250,prior350,prior500],None,'XID+CIGALE_ESB_'+esb['field'][source[0]]+'_'+str(source[0]))"
   ]
  },
  {
   "cell_type": "code",
   "execution_count": null,
   "id": "f700bf8f",
   "metadata": {
    "papermill": {
     "duration": null,
     "end_time": null,
     "exception": null,
     "start_time": null,
     "status": "pending"
    },
    "tags": []
   },
   "outputs": [],
   "source": [
    "prior_list.write('prior_list_'+esb['field'][source[0]]+'_'+str(source[0])+'.ascii',format='ascii',overwrite=True)"
   ]
  },
  {
   "cell_type": "code",
   "execution_count": null,
   "id": "b15f1472",
   "metadata": {
    "papermill": {
     "duration": null,
     "end_time": null,
     "exception": null,
     "start_time": null,
     "status": "pending"
    },
    "tags": []
   },
   "outputs": [],
   "source": []
  }
 ],
 "metadata": {
  "celltoolbar": "Slideshow",
  "kernelspec": {
   "display_name": "Python 3",
   "language": "python",
   "name": "python3"
  },
  "language_info": {
   "codemirror_mode": {
    "name": "ipython",
    "version": 3
   },
   "file_extension": ".py",
   "mimetype": "text/x-python",
   "name": "python",
   "nbconvert_exporter": "python",
   "pygments_lexer": "ipython3",
   "version": "3.8.5"
  },
  "papermill": {
   "default_parameters": {},
   "duration": 2.73629,
   "end_time": "2021-04-20T14:57:58.556444",
   "environment_variables": {},
   "exception": true,
   "input_path": "XID+CIGALE-ESB_prior.ipynb",
   "output_path": "./output/XID+CIGALE-ESB_prior_6.ipynb",
   "parameters": {
    "field": [
     "Lockman-SWIRE"
    ],
    "path_to_SPIRE": [
     "/mnt/lustre/users/astro/pdh21/Extreme_submm_SB_gals/data/"
    ],
    "redshift_file": [
     "/mnt/lustre/users/astro/pdh21/Extreme_submm_SB_gals/data/master_catalogue_Lockman-SWIRE_20170710_photoz_20170802_r_and_irac1_optimised_UPDATED_IDs_20180219.fits"
    ]
   },
   "start_time": "2021-04-20T14:57:55.820154",
   "version": "2.3.3"
  }
 },
 "nbformat": 4,
 "nbformat_minor": 5
}