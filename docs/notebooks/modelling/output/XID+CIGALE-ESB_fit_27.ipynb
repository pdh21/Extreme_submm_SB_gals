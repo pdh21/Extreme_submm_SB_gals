{
 "cells": [
  {
   "cell_type": "markdown",
   "id": "4e678fa9",
   "metadata": {
    "papermill": {
     "duration": 0.032111,
     "end_time": "2021-04-20T15:00:27.948152",
     "exception": false,
     "start_time": "2021-04-20T15:00:27.916041",
     "status": "completed"
    },
    "tags": []
   },
   "source": [
    "# Applying XID+CIGALE to Extreme Starbursts\n",
    "In this notebook, we read in the data files and prepare them for fitting with XID+CIGALE, the SED prior model extension to XID+. Here we focus on sources in [Rowan-Robinson et al. 2018](https://arxiv.org/abs/1704.07783) and claimed to have a star formation rate of $> 10^{3}\\mathrm{M_{\\odot}yr^{-1}}$"
   ]
  },
  {
   "cell_type": "markdown",
   "id": "b5a02792",
   "metadata": {
    "papermill": {
     "duration": 0.028019,
     "end_time": "2021-04-20T15:00:28.005161",
     "exception": false,
     "start_time": "2021-04-20T15:00:27.977142",
     "status": "completed"
    },
    "tags": []
   },
   "source": [
    "Import required modules"
   ]
  },
  {
   "cell_type": "code",
   "execution_count": 1,
   "id": "fa62b99f",
   "metadata": {
    "execution": {
     "iopub.execute_input": "2021-04-20T15:00:28.071063Z",
     "iopub.status.busy": "2021-04-20T15:00:28.069867Z",
     "iopub.status.idle": "2021-04-20T15:00:32.324684Z",
     "shell.execute_reply": "2021-04-20T15:00:32.325554Z"
    },
    "papermill": {
     "duration": 4.293123,
     "end_time": "2021-04-20T15:00:32.326056",
     "exception": false,
     "start_time": "2021-04-20T15:00:28.032933",
     "status": "completed"
    },
    "slideshow": {
     "slide_type": "skip"
    },
    "tags": []
   },
   "outputs": [],
   "source": [
    "from astropy.io import ascii, fits\n",
    "from astropy.table import Table\n",
    "import pylab as plt\n",
    "%matplotlib inline\n",
    "from astropy import wcs\n",
    "import seaborn as sns\n",
    "\n",
    "import numpy as np\n",
    "import xidplus\n",
    "from xidplus import moc_routines\n",
    "import pickle\n",
    "import os"
   ]
  },
  {
   "cell_type": "code",
   "execution_count": 2,
   "id": "97486f50",
   "metadata": {
    "execution": {
     "iopub.execute_input": "2021-04-20T15:00:32.388579Z",
     "iopub.status.busy": "2021-04-20T15:00:32.386408Z",
     "iopub.status.idle": "2021-04-20T15:00:32.391017Z",
     "shell.execute_reply": "2021-04-20T15:00:32.392184Z"
    },
    "papermill": {
     "duration": 0.036354,
     "end_time": "2021-04-20T15:00:32.392499",
     "exception": false,
     "start_time": "2021-04-20T15:00:32.356145",
     "status": "completed"
    },
    "tags": [
     "parameters"
    ]
   },
   "outputs": [],
   "source": [
    "\n",
    "emulator_path=['/research/astro/fir/HELP/XID_plus/docs/notebooks/examples/SED_emulator/CIGALE_emulator_20210420_log10sfr_uniformAGN_z.npz']\n",
    "field=['Lockman-SWIRE']"
   ]
  },
  {
   "cell_type": "code",
   "execution_count": 3,
   "id": "6e35f9b8",
   "metadata": {
    "execution": {
     "iopub.execute_input": "2021-04-20T15:00:32.457791Z",
     "iopub.status.busy": "2021-04-20T15:00:32.456455Z",
     "iopub.status.idle": "2021-04-20T15:00:32.458928Z",
     "shell.execute_reply": "2021-04-20T15:00:32.459784Z"
    },
    "papermill": {
     "duration": 0.035886,
     "end_time": "2021-04-20T15:00:32.460039",
     "exception": false,
     "start_time": "2021-04-20T15:00:32.424153",
     "status": "completed"
    },
    "tags": [
     "injected-parameters"
    ]
   },
   "outputs": [],
   "source": [
    "# Parameters\n",
    "emulator_path = [\n",
    "    \"/research/astro/fir/HELP/XID_plus/docs/notebooks/examples/SED_emulator/CIGALE_emulator_20210420_log10sfr_uniformAGN_z.npz\"\n",
    "]\n",
    "field = [\"Lockman-SWIRE\"]\n"
   ]
  },
  {
   "cell_type": "code",
   "execution_count": 4,
   "id": "5511d075",
   "metadata": {
    "execution": {
     "iopub.execute_input": "2021-04-20T15:00:32.518857Z",
     "iopub.status.busy": "2021-04-20T15:00:32.517897Z",
     "iopub.status.idle": "2021-04-20T15:00:32.520933Z",
     "shell.execute_reply": "2021-04-20T15:00:32.522022Z"
    },
    "papermill": {
     "duration": 0.035585,
     "end_time": "2021-04-20T15:00:32.522210",
     "exception": false,
     "start_time": "2021-04-20T15:00:32.486625",
     "status": "completed"
    },
    "tags": []
   },
   "outputs": [],
   "source": [
    "source = [np.int(os.environ['SGE_TASK_ID'])-1]"
   ]
  },
  {
   "cell_type": "code",
   "execution_count": 5,
   "id": "4c1aac53",
   "metadata": {
    "execution": {
     "iopub.execute_input": "2021-04-20T15:00:32.581050Z",
     "iopub.status.busy": "2021-04-20T15:00:32.580502Z",
     "iopub.status.idle": "2021-04-20T15:00:32.597852Z",
     "shell.execute_reply": "2021-04-20T15:00:32.598722Z"
    },
    "papermill": {
     "duration": 0.049599,
     "end_time": "2021-04-20T15:00:32.598973",
     "exception": false,
     "start_time": "2021-04-20T15:00:32.549374",
     "status": "completed"
    },
    "tags": []
   },
   "outputs": [],
   "source": [
    "#ysb=Table.read('../../../data/MRRfiles/fromPaper.txt', format='ascii')\n",
    "esb=Table.read('../../../data/MRR2018_tables/{}_sources.csv'.format(field[0]),format='ascii',encoding='utf-8')"
   ]
  },
  {
   "cell_type": "code",
   "execution_count": 6,
   "id": "72de59f4",
   "metadata": {
    "execution": {
     "iopub.execute_input": "2021-04-20T15:00:32.655755Z",
     "iopub.status.busy": "2021-04-20T15:00:32.655193Z",
     "iopub.status.idle": "2021-04-20T15:00:32.692967Z",
     "shell.execute_reply": "2021-04-20T15:00:32.692080Z"
    },
    "papermill": {
     "duration": 0.066979,
     "end_time": "2021-04-20T15:00:32.693222",
     "exception": false,
     "start_time": "2021-04-20T15:00:32.626243",
     "status": "completed"
    },
    "tags": []
   },
   "outputs": [],
   "source": [
    "priors,_=xidplus.load('XID+CIGALE_ESB_'+esb['field'][source[0]]+'_'+str(source[0])+'.pkl')"
   ]
  },
  {
   "cell_type": "code",
   "execution_count": 7,
   "id": "d65a80d1",
   "metadata": {
    "execution": {
     "iopub.execute_input": "2021-04-20T15:00:32.754948Z",
     "iopub.status.busy": "2021-04-20T15:00:32.754075Z",
     "iopub.status.idle": "2021-04-20T15:00:33.104942Z",
     "shell.execute_reply": "2021-04-20T15:00:33.104133Z"
    },
    "papermill": {
     "duration": 0.382071,
     "end_time": "2021-04-20T15:00:33.105168",
     "exception": false,
     "start_time": "2021-04-20T15:00:32.723097",
     "status": "completed"
    },
    "tags": []
   },
   "outputs": [],
   "source": [
    "prior_list=Table.read('prior_list_'+esb['field'][source[0]]+'_'+str(source[0])+'.ascii',format='ascii')\n"
   ]
  },
  {
   "cell_type": "code",
   "execution_count": 8,
   "id": "3a9d3d1f",
   "metadata": {
    "execution": {
     "iopub.execute_input": "2021-04-20T15:00:33.187284Z",
     "iopub.status.busy": "2021-04-20T15:00:33.167099Z",
     "iopub.status.idle": "2021-04-20T15:00:33.189850Z",
     "shell.execute_reply": "2021-04-20T15:00:33.190370Z"
    },
    "papermill": {
     "duration": 0.056916,
     "end_time": "2021-04-20T15:00:33.190524",
     "exception": false,
     "start_time": "2021-04-20T15:00:33.133608",
     "status": "completed"
    },
    "tags": []
   },
   "outputs": [],
   "source": [
    "z_mu=np.empty((priors[1].nsrc))\n",
    "z_sig=np.empty((priors[1].nsrc))\n",
    "\n",
    "for x,i in enumerate(priors[1].ID):\n",
    "    ind=prior_list['help_id']==str(i)\n",
    "    z_mu[x]=prior_list['redshift'][ind]\n",
    "    z_sig[x]=prior_list['redshift_unc'][ind]\n",
    "\n",
    "    \n",
    "\n",
    "sfr_mu=1.5*z_mu+1.0\n",
    "sfr_sig=np.full(priors[1].nsrc,0.5)\n",
    "\n",
    "agn_frac_mu=np.full(priors[1].nsrc,-1)\n",
    "agn_frac_sig=np.full(priors[1].nsrc,1)"
   ]
  },
  {
   "cell_type": "code",
   "execution_count": 9,
   "id": "4bc6e870",
   "metadata": {
    "execution": {
     "iopub.execute_input": "2021-04-20T15:00:33.251823Z",
     "iopub.status.busy": "2021-04-20T15:00:33.250298Z",
     "iopub.status.idle": "2021-04-20T15:00:33.253584Z",
     "shell.execute_reply": "2021-04-20T15:00:33.252886Z"
    },
    "papermill": {
     "duration": 0.037529,
     "end_time": "2021-04-20T15:00:33.253767",
     "exception": false,
     "start_time": "2021-04-20T15:00:33.216238",
     "status": "completed"
    },
    "tags": []
   },
   "outputs": [],
   "source": [
    "params_mu=np.vstack((sfr_mu,z_mu)).T\n",
    "params_sig=np.vstack((sfr_sig,z_sig)).T\n",
    "params_names=['log10sfr','z']\n",
    "hier_params={'m_mu':0.8,'m_sig':0.4,'c_mu':-1.0,'c_sig':0.5,'sfr_disp':0.5}\n"
   ]
  },
  {
   "cell_type": "code",
   "execution_count": 10,
   "id": "30c30bb1",
   "metadata": {
    "execution": {
     "iopub.execute_input": "2021-04-20T15:00:33.313528Z",
     "iopub.status.busy": "2021-04-20T15:00:33.312967Z",
     "iopub.status.idle": "2021-04-20T15:00:34.773198Z",
     "shell.execute_reply": "2021-04-20T15:00:34.773838Z"
    },
    "papermill": {
     "duration": 1.492297,
     "end_time": "2021-04-20T15:00:34.774082",
     "exception": false,
     "start_time": "2021-04-20T15:00:33.281785",
     "status": "completed"
    },
    "tags": []
   },
   "outputs": [
    {
     "name": "stderr",
     "output_type": "stream",
     "text": [
      "WARNING:absl:No GPU/TPU found, falling back to CPU. (Set TF_CPP_MIN_LOG_LEVEL=0 and rerun for more info.)\n"
     ]
    }
   ],
   "source": [
    "phys_prior=xidplus.hier_prior(priors[1].ID,params_mu,params_sig,params_names,emulator_path[0])"
   ]
  },
  {
   "cell_type": "code",
   "execution_count": 11,
   "id": "f8f25143",
   "metadata": {
    "execution": {
     "iopub.execute_input": "2021-04-20T15:00:34.839538Z",
     "iopub.status.busy": "2021-04-20T15:00:34.836133Z",
     "iopub.status.idle": "2021-04-20T15:00:35.328400Z",
     "shell.execute_reply": "2021-04-20T15:00:35.327324Z"
    },
    "papermill": {
     "duration": 0.524033,
     "end_time": "2021-04-20T15:00:35.328643",
     "exception": false,
     "start_time": "2021-04-20T15:00:34.804610",
     "status": "completed"
    },
    "tags": []
   },
   "outputs": [],
   "source": [
    "from numpyro.infer import Predictive\n",
    "from jax import random, vmap\n",
    "from xidplus.numpyro_fit import SED_prior\n",
    "\n",
    "rng_key = random.PRNGKey(0)\n",
    "rng_key, rng_key_ = random.split(rng_key)"
   ]
  },
  {
   "cell_type": "code",
   "execution_count": 12,
   "id": "cbdc30d8",
   "metadata": {
    "execution": {
     "iopub.execute_input": "2021-04-20T15:00:35.396747Z",
     "iopub.status.busy": "2021-04-20T15:00:35.395745Z",
     "iopub.status.idle": "2021-04-20T15:00:35.406039Z",
     "shell.execute_reply": "2021-04-20T15:00:35.405136Z"
    },
    "papermill": {
     "duration": 0.048448,
     "end_time": "2021-04-20T15:00:35.406245",
     "exception": false,
     "start_time": "2021-04-20T15:00:35.357797",
     "status": "completed"
    },
    "tags": []
   },
   "outputs": [],
   "source": [
    "\n",
    "## For numpyro to sample from the prior, the data needs to be set to None\n",
    "import copy\n",
    "#make a deepcopy of the priors\n",
    "priors_prior_pred=copy.deepcopy(priors)\n",
    "#set data to None\n",
    "for i in range(0,len(priors)):\n",
    "    priors_prior_pred[i].sim=None"
   ]
  },
  {
   "cell_type": "code",
   "execution_count": 13,
   "id": "43e8f61d",
   "metadata": {
    "execution": {
     "iopub.execute_input": "2021-04-20T15:00:35.469582Z",
     "iopub.status.busy": "2021-04-20T15:00:35.468993Z",
     "iopub.status.idle": "2021-04-20T15:00:43.074612Z",
     "shell.execute_reply": "2021-04-20T15:00:43.075123Z"
    },
    "papermill": {
     "duration": 7.639964,
     "end_time": "2021-04-20T15:00:43.075298",
     "exception": false,
     "start_time": "2021-04-20T15:00:35.435334",
     "status": "completed"
    },
    "tags": []
   },
   "outputs": [
    {
     "name": "stdout",
     "output_type": "stream",
     "text": [
      "CPU times: user 7.52 s, sys: 106 ms, total: 7.62 s\n",
      "Wall time: 7.6 s\n"
     ]
    }
   ],
   "source": [
    "%%time \n",
    "#sample from the prior using numpyro's Predictive function\n",
    "prior_predictive=Predictive(SED_prior.spire_model_CIGALE,posterior_samples = {}, num_samples = 1000,)\n",
    "prior_pred=prior_predictive(random.PRNGKey(0),priors_prior_pred,phys_prior,hier_params)"
   ]
  },
  {
   "cell_type": "markdown",
   "id": "ccd18be8",
   "metadata": {
    "papermill": {
     "duration": 0.026258,
     "end_time": "2021-04-20T15:00:43.128740",
     "exception": false,
     "start_time": "2021-04-20T15:00:43.102482",
     "status": "completed"
    },
    "tags": []
   },
   "source": [
    "## Fit Real data"
   ]
  },
  {
   "cell_type": "code",
   "execution_count": 14,
   "id": "24c0f7e3",
   "metadata": {
    "execution": {
     "iopub.execute_input": "2021-04-20T15:00:43.189221Z",
     "iopub.status.busy": "2021-04-20T15:00:43.188528Z"
    },
    "papermill": {
     "duration": null,
     "end_time": null,
     "exception": false,
     "start_time": "2021-04-20T15:00:43.154730",
     "status": "running"
    },
    "tags": []
   },
   "outputs": [
    {
     "name": "stderr",
     "output_type": "stream",
     "text": [
      "\r",
      "  0%|          | 0/1000 [00:00<?, ?it/s]"
     ]
    },
    {
     "name": "stderr",
     "output_type": "stream",
     "text": [
      "\r",
      "warmup:   0%|          | 1/1000 [00:06<1:53:15,  6.80s/it, 1 steps of size 2.34e+00. acc. prob=0.00]"
     ]
    },
    {
     "name": "stderr",
     "output_type": "stream",
     "text": [
      "\r",
      "warmup:   1%|          | 8/1000 [00:07<1:18:53,  4.77s/it, 127 steps of size 3.92e-03. acc. prob=0.49]"
     ]
    },
    {
     "name": "stderr",
     "output_type": "stream",
     "text": [
      "\r",
      "warmup:   1%|          | 9/1000 [00:07<58:30,  3.54s/it, 511 steps of size 6.96e-04. acc. prob=0.46]  "
     ]
    },
    {
     "name": "stderr",
     "output_type": "stream",
     "text": [
      "\r",
      "warmup:   1%|          | 10/1000 [00:09<47:39,  2.89s/it, 1023 steps of size 1.09e-03. acc. prob=0.51]"
     ]
    },
    {
     "name": "stderr",
     "output_type": "stream",
     "text": [
      "\r",
      "warmup:   1%|          | 11/1000 [00:10<40:05,  2.43s/it, 1023 steps of size 6.57e-04. acc. prob=0.52]"
     ]
    },
    {
     "name": "stderr",
     "output_type": "stream",
     "text": [
      "\r",
      "warmup:   1%|          | 12/1000 [00:11<35:03,  2.13s/it, 1023 steps of size 1.26e-03. acc. prob=0.56]"
     ]
    },
    {
     "name": "stderr",
     "output_type": "stream",
     "text": [
      "\r",
      "warmup:   1%|▏         | 13/1000 [00:13<31:04,  1.89s/it, 1023 steps of size 8.47e-04. acc. prob=0.57]"
     ]
    },
    {
     "name": "stderr",
     "output_type": "stream",
     "text": [
      "\r",
      "warmup:   1%|▏         | 14/1000 [00:14<28:42,  1.75s/it, 1023 steps of size 1.52e-03. acc. prob=0.60]"
     ]
    },
    {
     "name": "stderr",
     "output_type": "stream",
     "text": [
      "\r",
      "warmup:   2%|▏         | 15/1000 [00:15<26:50,  1.64s/it, 1023 steps of size 2.63e-03. acc. prob=0.62]"
     ]
    },
    {
     "name": "stderr",
     "output_type": "stream",
     "text": [
      "\r",
      "warmup:   2%|▏         | 16/1000 [00:17<25:26,  1.55s/it, 1023 steps of size 5.15e-03. acc. prob=0.65]"
     ]
    },
    {
     "name": "stderr",
     "output_type": "stream",
     "text": [
      "\r",
      "warmup:   2%|▏         | 17/1000 [00:18<24:40,  1.51s/it, 1023 steps of size 7.64e-03. acc. prob=0.66]"
     ]
    },
    {
     "name": "stderr",
     "output_type": "stream",
     "text": [
      "\r",
      "warmup:   2%|▏         | 18/1000 [00:20<24:09,  1.48s/it, 1023 steps of size 1.01e-02. acc. prob=0.67]"
     ]
    },
    {
     "name": "stderr",
     "output_type": "stream",
     "text": [
      "\r",
      "warmup:   2%|▏         | 19/1000 [00:20<20:17,  1.24s/it, 511 steps of size 1.79e-03. acc. prob=0.65] "
     ]
    },
    {
     "name": "stderr",
     "output_type": "stream",
     "text": [
      "\r",
      "warmup:   2%|▏         | 20/1000 [00:22<20:29,  1.25s/it, 1023 steps of size 3.28e-03. acc. prob=0.67]"
     ]
    },
    {
     "name": "stderr",
     "output_type": "stream",
     "text": [
      "\r",
      "warmup:   2%|▏         | 21/1000 [00:23<21:13,  1.30s/it, 1023 steps of size 5.27e-03. acc. prob=0.68]"
     ]
    },
    {
     "name": "stderr",
     "output_type": "stream",
     "text": [
      "\r",
      "warmup:   2%|▏         | 22/1000 [00:24<21:43,  1.33s/it, 1023 steps of size 6.47e-03. acc. prob=0.69]"
     ]
    },
    {
     "name": "stderr",
     "output_type": "stream",
     "text": [
      "\r",
      "warmup:   2%|▏         | 23/1000 [00:26<21:45,  1.34s/it, 1023 steps of size 4.33e-03. acc. prob=0.68]"
     ]
    },
    {
     "name": "stderr",
     "output_type": "stream",
     "text": [
      "\r",
      "warmup:   2%|▏         | 24/1000 [00:27<22:06,  1.36s/it, 1023 steps of size 6.94e-03. acc. prob=0.69]"
     ]
    },
    {
     "name": "stderr",
     "output_type": "stream",
     "text": [
      "\r",
      "warmup:   2%|▎         | 25/1000 [00:29<22:14,  1.37s/it, 1023 steps of size 5.75e-03. acc. prob=0.70]"
     ]
    },
    {
     "name": "stderr",
     "output_type": "stream",
     "text": [
      "\r",
      "warmup:   3%|▎         | 26/1000 [00:30<22:05,  1.36s/it, 1023 steps of size 8.04e-03. acc. prob=0.70]"
     ]
    },
    {
     "name": "stderr",
     "output_type": "stream",
     "text": [
      "\r",
      "warmup:   3%|▎         | 27/1000 [00:31<18:58,  1.17s/it, 511 steps of size 9.60e-03. acc. prob=0.71] "
     ]
    },
    {
     "name": "stderr",
     "output_type": "stream",
     "text": [
      "\r",
      "warmup:   3%|▎         | 28/1000 [00:31<16:41,  1.03s/it, 511 steps of size 3.70e-03. acc. prob=0.70]"
     ]
    },
    {
     "name": "stderr",
     "output_type": "stream",
     "text": [
      "\r",
      "warmup:   3%|▎         | 29/1000 [00:33<18:10,  1.12s/it, 1023 steps of size 5.49e-03. acc. prob=0.71]"
     ]
    },
    {
     "name": "stderr",
     "output_type": "stream",
     "text": [
      "\r",
      "warmup:   3%|▎         | 30/1000 [00:34<19:11,  1.19s/it, 1023 steps of size 4.59e-03. acc. prob=0.71]"
     ]
    },
    {
     "name": "stderr",
     "output_type": "stream",
     "text": [
      "\r",
      "warmup:   3%|▎         | 31/1000 [00:35<20:02,  1.24s/it, 1023 steps of size 7.05e-03. acc. prob=0.71]"
     ]
    },
    {
     "name": "stderr",
     "output_type": "stream",
     "text": [
      "\r",
      "warmup:   3%|▎         | 32/1000 [00:37<20:50,  1.29s/it, 1023 steps of size 8.05e-03. acc. prob=0.72]"
     ]
    },
    {
     "name": "stderr",
     "output_type": "stream",
     "text": [
      "\r",
      "warmup:   3%|▎         | 33/1000 [00:38<17:57,  1.11s/it, 511 steps of size 1.19e-02. acc. prob=0.72] "
     ]
    },
    {
     "name": "stderr",
     "output_type": "stream",
     "text": [
      "\r",
      "warmup:   3%|▎         | 34/1000 [00:38<15:59,  1.01it/s, 511 steps of size 5.64e-03. acc. prob=0.72]"
     ]
    },
    {
     "name": "stderr",
     "output_type": "stream",
     "text": [
      "\r",
      "warmup:   4%|▎         | 35/1000 [00:40<17:45,  1.10s/it, 1023 steps of size 6.52e-03. acc. prob=0.72]"
     ]
    },
    {
     "name": "stderr",
     "output_type": "stream",
     "text": [
      "\r",
      "warmup:   4%|▎         | 36/1000 [00:41<19:14,  1.20s/it, 1023 steps of size 6.32e-03. acc. prob=0.72]"
     ]
    },
    {
     "name": "stderr",
     "output_type": "stream",
     "text": [
      "\r",
      "warmup:   4%|▎         | 37/1000 [00:42<20:03,  1.25s/it, 1023 steps of size 4.39e-03. acc. prob=0.72]"
     ]
    },
    {
     "name": "stderr",
     "output_type": "stream",
     "text": [
      "\r",
      "warmup:   4%|▍         | 38/1000 [00:44<20:38,  1.29s/it, 1023 steps of size 4.86e-03. acc. prob=0.72]"
     ]
    },
    {
     "name": "stderr",
     "output_type": "stream",
     "text": [
      "\r",
      "warmup:   4%|▍         | 39/1000 [00:45<20:59,  1.31s/it, 1023 steps of size 6.83e-03. acc. prob=0.73]"
     ]
    },
    {
     "name": "stderr",
     "output_type": "stream",
     "text": [
      "\r",
      "warmup:   4%|▍         | 40/1000 [00:47<21:24,  1.34s/it, 1023 steps of size 7.46e-03. acc. prob=0.73]"
     ]
    },
    {
     "name": "stderr",
     "output_type": "stream",
     "text": [
      "\r",
      "warmup:   4%|▍         | 41/1000 [00:48<21:18,  1.33s/it, 1023 steps of size 1.30e-02. acc. prob=0.74]"
     ]
    },
    {
     "name": "stderr",
     "output_type": "stream",
     "text": [
      "\r",
      "warmup:   4%|▍         | 42/1000 [00:49<18:17,  1.15s/it, 511 steps of size 3.55e-03. acc. prob=0.72] "
     ]
    },
    {
     "name": "stderr",
     "output_type": "stream",
     "text": [
      "\r",
      "warmup:   4%|▍         | 43/1000 [00:50<19:01,  1.19s/it, 1023 steps of size 6.13e-03. acc. prob=0.73]"
     ]
    },
    {
     "name": "stderr",
     "output_type": "stream",
     "text": [
      "\r",
      "warmup:   4%|▍         | 44/1000 [00:51<19:56,  1.25s/it, 1023 steps of size 9.23e-03. acc. prob=0.74]"
     ]
    },
    {
     "name": "stderr",
     "output_type": "stream",
     "text": [
      "\r",
      "warmup:   4%|▍         | 45/1000 [00:52<17:17,  1.09s/it, 511 steps of size 5.83e-03. acc. prob=0.73] "
     ]
    },
    {
     "name": "stderr",
     "output_type": "stream",
     "text": [
      "\r",
      "warmup:   5%|▍         | 46/1000 [00:53<18:37,  1.17s/it, 1023 steps of size 5.44e-03. acc. prob=0.73]"
     ]
    },
    {
     "name": "stderr",
     "output_type": "stream",
     "text": [
      "\r",
      "warmup:   5%|▍         | 47/1000 [00:55<19:30,  1.23s/it, 1023 steps of size 6.62e-03. acc. prob=0.74]"
     ]
    },
    {
     "name": "stderr",
     "output_type": "stream",
     "text": [
      "\r",
      "warmup:   5%|▍         | 48/1000 [00:56<20:13,  1.27s/it, 1023 steps of size 5.14e-03. acc. prob=0.73]"
     ]
    },
    {
     "name": "stderr",
     "output_type": "stream",
     "text": [
      "\r",
      "warmup:   5%|▍         | 49/1000 [00:57<20:26,  1.29s/it, 1023 steps of size 8.63e-03. acc. prob=0.74]"
     ]
    },
    {
     "name": "stderr",
     "output_type": "stream",
     "text": [
      "\r",
      "warmup:   5%|▌         | 50/1000 [00:58<17:33,  1.11s/it, 511 steps of size 1.06e-02. acc. prob=0.74] "
     ]
    },
    {
     "name": "stderr",
     "output_type": "stream",
     "text": [
      "\r",
      "warmup:   5%|▌         | 51/1000 [00:59<15:26,  1.02it/s, 511 steps of size 9.93e-03. acc. prob=0.74]"
     ]
    },
    {
     "name": "stderr",
     "output_type": "stream",
     "text": [
      "\r",
      "warmup:   5%|▌         | 52/1000 [00:59<14:06,  1.12it/s, 511 steps of size 1.41e-02. acc. prob=0.75]"
     ]
    },
    {
     "name": "stderr",
     "output_type": "stream",
     "text": [
      "\r",
      "warmup:   5%|▌         | 53/1000 [01:00<10:36,  1.49it/s, 110 steps of size 3.67e-03. acc. prob=0.74]"
     ]
    },
    {
     "name": "stderr",
     "output_type": "stream",
     "text": [
      "\r",
      "warmup:   5%|▌         | 54/1000 [01:01<13:51,  1.14it/s, 1023 steps of size 5.43e-03. acc. prob=0.74]"
     ]
    },
    {
     "name": "stderr",
     "output_type": "stream",
     "text": [
      "\r",
      "warmup:   6%|▌         | 55/1000 [01:02<16:23,  1.04s/it, 1023 steps of size 6.11e-03. acc. prob=0.74]"
     ]
    },
    {
     "name": "stderr",
     "output_type": "stream",
     "text": [
      "\r",
      "warmup:   6%|▌         | 56/1000 [01:04<17:54,  1.14s/it, 1023 steps of size 7.03e-03. acc. prob=0.74]"
     ]
    },
    {
     "name": "stderr",
     "output_type": "stream",
     "text": [
      "\r",
      "warmup:   6%|▌         | 57/1000 [01:04<15:26,  1.02it/s, 511 steps of size 9.71e-03. acc. prob=0.75] "
     ]
    },
    {
     "name": "stderr",
     "output_type": "stream",
     "text": [
      "\r",
      "warmup:   6%|▌         | 58/1000 [01:05<14:03,  1.12it/s, 511 steps of size 1.45e-02. acc. prob=0.75]"
     ]
    },
    {
     "name": "stderr",
     "output_type": "stream",
     "text": [
      "\r",
      "warmup:   6%|▌         | 59/1000 [01:05<11:27,  1.37it/s, 255 steps of size 3.93e-03. acc. prob=0.74]"
     ]
    },
    {
     "name": "stderr",
     "output_type": "stream",
     "text": [
      "\r",
      "warmup:   6%|▌         | 60/1000 [01:07<14:32,  1.08it/s, 1023 steps of size 5.84e-03. acc. prob=0.74]"
     ]
    },
    {
     "name": "stderr",
     "output_type": "stream",
     "text": [
      "\r",
      "warmup:   6%|▌         | 61/1000 [01:08<16:30,  1.06s/it, 1023 steps of size 8.07e-03. acc. prob=0.75]"
     ]
    },
    {
     "name": "stderr",
     "output_type": "stream",
     "text": [
      "\r",
      "warmup:   6%|▌         | 62/1000 [01:09<14:39,  1.07it/s, 511 steps of size 9.27e-03. acc. prob=0.75] "
     ]
    },
    {
     "name": "stderr",
     "output_type": "stream",
     "text": [
      "\r",
      "warmup:   6%|▋         | 63/1000 [01:09<13:28,  1.16it/s, 511 steps of size 9.21e-03. acc. prob=0.75]"
     ]
    },
    {
     "name": "stderr",
     "output_type": "stream",
     "text": [
      "\r",
      "warmup:   6%|▋         | 64/1000 [01:10<12:46,  1.22it/s, 511 steps of size 5.35e-03. acc. prob=0.75]"
     ]
    },
    {
     "name": "stderr",
     "output_type": "stream",
     "text": [
      "\r",
      "warmup:   6%|▋         | 65/1000 [01:12<15:26,  1.01it/s, 1023 steps of size 6.98e-03. acc. prob=0.75]"
     ]
    },
    {
     "name": "stderr",
     "output_type": "stream",
     "text": [
      "\r",
      "warmup:   7%|▋         | 66/1000 [01:13<17:21,  1.12s/it, 1023 steps of size 6.90e-03. acc. prob=0.75]"
     ]
    },
    {
     "name": "stderr",
     "output_type": "stream",
     "text": [
      "\r",
      "warmup:   7%|▋         | 67/1000 [01:14<18:38,  1.20s/it, 1023 steps of size 7.82e-03. acc. prob=0.75]"
     ]
    },
    {
     "name": "stderr",
     "output_type": "stream",
     "text": [
      "\r",
      "warmup:   7%|▋         | 68/1000 [01:15<16:16,  1.05s/it, 511 steps of size 9.21e-03. acc. prob=0.75] "
     ]
    },
    {
     "name": "stderr",
     "output_type": "stream",
     "text": [
      "\r",
      "warmup:   7%|▋         | 69/1000 [01:16<14:29,  1.07it/s, 511 steps of size 6.57e-03. acc. prob=0.75]"
     ]
    },
    {
     "name": "stderr",
     "output_type": "stream",
     "text": [
      "\r",
      "warmup:   7%|▋         | 70/1000 [01:17<16:13,  1.05s/it, 1023 steps of size 5.64e-03. acc. prob=0.75]"
     ]
    },
    {
     "name": "stderr",
     "output_type": "stream",
     "text": [
      "\r",
      "warmup:   7%|▋         | 71/1000 [01:18<17:35,  1.14s/it, 1023 steps of size 7.47e-03. acc. prob=0.75]"
     ]
    },
    {
     "name": "stderr",
     "output_type": "stream",
     "text": [
      "\r",
      "warmup:   7%|▋         | 72/1000 [01:19<15:28,  1.00s/it, 511 steps of size 1.17e-02. acc. prob=0.75] "
     ]
    },
    {
     "name": "stderr",
     "output_type": "stream",
     "text": [
      "\r",
      "warmup:   7%|▋         | 73/1000 [01:20<13:56,  1.11it/s, 511 steps of size 6.54e-03. acc. prob=0.75]"
     ]
    },
    {
     "name": "stderr",
     "output_type": "stream",
     "text": [
      "\r",
      "warmup:   7%|▋         | 74/1000 [01:21<16:02,  1.04s/it, 1023 steps of size 8.83e-03. acc. prob=0.75]"
     ]
    },
    {
     "name": "stderr",
     "output_type": "stream",
     "text": [
      "\r",
      "warmup:   8%|▊         | 75/1000 [01:22<14:31,  1.06it/s, 511 steps of size 7.60e-03. acc. prob=0.75] "
     ]
    },
    {
     "name": "stderr",
     "output_type": "stream",
     "text": [
      "\r",
      "warmup:   8%|▊         | 76/1000 [01:23<13:23,  1.15it/s, 511 steps of size 1.17e-02. acc. prob=0.76]"
     ]
    },
    {
     "name": "stderr",
     "output_type": "stream",
     "text": [
      "\r",
      "warmup:   8%|▊         | 77/1000 [01:23<12:28,  1.23it/s, 511 steps of size 7.06e-03. acc. prob=0.75]"
     ]
    },
    {
     "name": "stderr",
     "output_type": "stream",
     "text": [
      "\r",
      "warmup:   8%|▊         | 78/1000 [01:25<15:10,  1.01it/s, 1023 steps of size 6.90e-03. acc. prob=0.75]"
     ]
    },
    {
     "name": "stderr",
     "output_type": "stream",
     "text": [
      "\r",
      "warmup:   8%|▊         | 79/1000 [01:26<16:47,  1.09s/it, 1023 steps of size 7.67e-03. acc. prob=0.75]"
     ]
    },
    {
     "name": "stderr",
     "output_type": "stream",
     "text": [
      "\r",
      "warmup:   8%|▊         | 80/1000 [01:27<14:49,  1.03it/s, 511 steps of size 6.65e-03. acc. prob=0.75] "
     ]
    },
    {
     "name": "stderr",
     "output_type": "stream",
     "text": [
      "\r",
      "warmup:   8%|▊         | 81/1000 [01:28<16:37,  1.09s/it, 1023 steps of size 6.80e-03. acc. prob=0.75]"
     ]
    },
    {
     "name": "stderr",
     "output_type": "stream",
     "text": [
      "\r",
      "warmup:   8%|▊         | 82/1000 [01:29<17:43,  1.16s/it, 1023 steps of size 9.67e-03. acc. prob=0.76]"
     ]
    },
    {
     "name": "stderr",
     "output_type": "stream",
     "text": [
      "\r",
      "warmup:   8%|▊         | 83/1000 [01:30<15:33,  1.02s/it, 511 steps of size 1.11e-02. acc. prob=0.76] "
     ]
    },
    {
     "name": "stderr",
     "output_type": "stream",
     "text": [
      "\r",
      "warmup:   8%|▊         | 84/1000 [01:31<14:07,  1.08it/s, 511 steps of size 1.47e-02. acc. prob=0.76]"
     ]
    },
    {
     "name": "stderr",
     "output_type": "stream",
     "text": [
      "\r",
      "warmup:   8%|▊         | 85/1000 [01:31<11:25,  1.33it/s, 255 steps of size 1.45e-02. acc. prob=0.76]"
     ]
    },
    {
     "name": "stderr",
     "output_type": "stream",
     "text": [
      "\r",
      "warmup:   9%|▊         | 86/1000 [01:31<09:35,  1.59it/s, 255 steps of size 1.53e-02. acc. prob=0.76]"
     ]
    },
    {
     "name": "stderr",
     "output_type": "stream",
     "text": [
      "\r",
      "warmup:   9%|▊         | 87/1000 [01:32<07:21,  2.07it/s, 105 steps of size 4.07e-03. acc. prob=0.75]"
     ]
    },
    {
     "name": "stderr",
     "output_type": "stream",
     "text": [
      "\r",
      "warmup:   9%|▉         | 88/1000 [01:33<11:23,  1.33it/s, 1023 steps of size 6.15e-03. acc. prob=0.76]"
     ]
    },
    {
     "name": "stderr",
     "output_type": "stream",
     "text": [
      "\r",
      "warmup:   9%|▉         | 89/1000 [01:34<14:21,  1.06it/s, 1023 steps of size 9.21e-03. acc. prob=0.76]"
     ]
    },
    {
     "name": "stderr",
     "output_type": "stream",
     "text": [
      "\r",
      "warmup:   9%|▉         | 90/1000 [01:35<13:02,  1.16it/s, 511 steps of size 1.29e-02. acc. prob=0.76] "
     ]
    },
    {
     "name": "stderr",
     "output_type": "stream",
     "text": [
      "\r",
      "warmup:   9%|▉         | 91/1000 [01:35<10:53,  1.39it/s, 281 steps of size 4.14e-03. acc. prob=0.75]"
     ]
    },
    {
     "name": "stderr",
     "output_type": "stream",
     "text": [
      "\r",
      "warmup:   9%|▉         | 92/1000 [01:37<13:35,  1.11it/s, 1023 steps of size 5.05e-03. acc. prob=0.76]"
     ]
    },
    {
     "name": "stderr",
     "output_type": "stream",
     "text": [
      "\r",
      "warmup:   9%|▉         | 93/1000 [01:38<15:38,  1.04s/it, 1023 steps of size 3.62e-03. acc. prob=0.75]"
     ]
    },
    {
     "name": "stderr",
     "output_type": "stream",
     "text": [
      "\r",
      "warmup:   9%|▉         | 94/1000 [01:39<17:18,  1.15s/it, 1023 steps of size 4.40e-03. acc. prob=0.76]"
     ]
    },
    {
     "name": "stderr",
     "output_type": "stream",
     "text": [
      "\r",
      "warmup:  10%|▉         | 95/1000 [01:41<18:19,  1.21s/it, 1023 steps of size 5.45e-03. acc. prob=0.76]"
     ]
    },
    {
     "name": "stderr",
     "output_type": "stream",
     "text": [
      "\r",
      "warmup:  10%|▉         | 96/1000 [01:42<19:07,  1.27s/it, 1023 steps of size 4.68e-03. acc. prob=0.76]"
     ]
    },
    {
     "name": "stderr",
     "output_type": "stream",
     "text": [
      "\r",
      "warmup:  10%|▉         | 97/1000 [01:44<19:12,  1.28s/it, 1023 steps of size 5.82e-03. acc. prob=0.76]"
     ]
    },
    {
     "name": "stderr",
     "output_type": "stream",
     "text": [
      "\r",
      "warmup:  10%|▉         | 98/1000 [01:45<19:39,  1.31s/it, 1023 steps of size 6.67e-03. acc. prob=0.76]"
     ]
    },
    {
     "name": "stderr",
     "output_type": "stream",
     "text": [
      "\r",
      "warmup:  10%|▉         | 99/1000 [01:46<20:02,  1.34s/it, 1023 steps of size 9.51e-03. acc. prob=0.76]"
     ]
    },
    {
     "name": "stderr",
     "output_type": "stream",
     "text": [
      "\r",
      "warmup:  10%|█         | 100/1000 [01:47<17:16,  1.15s/it, 511 steps of size 4.89e-03. acc. prob=0.76]"
     ]
    },
    {
     "name": "stderr",
     "output_type": "stream",
     "text": [
      "\r",
      "warmup:  10%|█         | 101/1000 [01:48<18:25,  1.23s/it, 1023 steps of size 6.77e-02. acc. prob=0.76]"
     ]
    },
    {
     "name": "stderr",
     "output_type": "stream",
     "text": [
      "\r",
      "warmup:  10%|█         | 103/1000 [01:49<14:23,  1.04it/s, 511 steps of size 1.03e-02. acc. prob=0.75] "
     ]
    },
    {
     "name": "stderr",
     "output_type": "stream",
     "text": [
      "\r",
      "warmup:  10%|█         | 104/1000 [01:50<12:58,  1.15it/s, 511 steps of size 9.79e-03. acc. prob=0.75]"
     ]
    },
    {
     "name": "stderr",
     "output_type": "stream",
     "text": [
      "\r",
      "warmup:  10%|█         | 105/1000 [01:50<12:15,  1.22it/s, 511 steps of size 1.60e-02. acc. prob=0.76]"
     ]
    },
    {
     "name": "stderr",
     "output_type": "stream",
     "text": [
      "\r",
      "warmup:  11%|█         | 106/1000 [01:51<10:07,  1.47it/s, 255 steps of size 1.40e-02. acc. prob=0.76]"
     ]
    },
    {
     "name": "stderr",
     "output_type": "stream",
     "text": [
      "\r",
      "warmup:  11%|█         | 107/1000 [01:51<10:05,  1.47it/s, 511 steps of size 1.69e-02. acc. prob=0.76]"
     ]
    },
    {
     "name": "stderr",
     "output_type": "stream",
     "text": [
      "\r",
      "warmup:  11%|█         | 108/1000 [01:52<08:36,  1.73it/s, 255 steps of size 2.81e-02. acc. prob=0.76]"
     ]
    },
    {
     "name": "stderr",
     "output_type": "stream",
     "text": [
      "\r",
      "warmup:  11%|█         | 109/1000 [01:52<07:35,  1.96it/s, 255 steps of size 4.16e-02. acc. prob=0.76]"
     ]
    },
    {
     "name": "stderr",
     "output_type": "stream",
     "text": [
      "\r",
      "warmup:  11%|█         | 111/1000 [01:54<08:26,  1.75it/s, 1023 steps of size 6.25e-03. acc. prob=0.76]"
     ]
    },
    {
     "name": "stderr",
     "output_type": "stream",
     "text": [
      "\r",
      "warmup:  11%|█         | 112/1000 [01:55<12:06,  1.22it/s, 1023 steps of size 1.05e-02. acc. prob=0.76]"
     ]
    },
    {
     "name": "stderr",
     "output_type": "stream",
     "text": [
      "\r",
      "warmup:  11%|█▏        | 113/1000 [01:56<11:24,  1.29it/s, 511 steps of size 1.94e-02. acc. prob=0.76] "
     ]
    },
    {
     "name": "stderr",
     "output_type": "stream",
     "text": [
      "\r",
      "warmup:  11%|█▏        | 114/1000 [01:56<09:27,  1.56it/s, 255 steps of size 2.33e-02. acc. prob=0.76]"
     ]
    },
    {
     "name": "stderr",
     "output_type": "stream",
     "text": [
      "\r",
      "warmup:  12%|█▏        | 115/1000 [01:56<08:03,  1.83it/s, 255 steps of size 1.24e-02. acc. prob=0.76]"
     ]
    },
    {
     "name": "stderr",
     "output_type": "stream",
     "text": [
      "\r",
      "warmup:  12%|█▏        | 116/1000 [01:57<08:47,  1.68it/s, 511 steps of size 2.09e-02. acc. prob=0.76]"
     ]
    }
   ],
   "source": [
    "import numpyro\n",
    "from numpyro.diagnostics import summary\n",
    "import jax.numpy as jnp\n",
    "from numpyro.infer import NUTS,MCMC\n",
    "import os\n",
    "numpyro.set_host_device_count(os.cpu_count())\n",
    "from operator import attrgetter\n",
    "nuts_kernel = NUTS(SED_prior.spire_model_CIGALE,init_strategy=numpyro.infer.init_to_feasible())\n",
    "mcmc = MCMC(nuts_kernel, num_samples=500, num_warmup=500,num_chains=4,chain_method='parallel')\n",
    "rng_key = random.PRNGKey(0)\n",
    "mcmc.run(rng_key,priors,phys_prior,hier_params)"
   ]
  },
  {
   "cell_type": "code",
   "execution_count": null,
   "id": "e04e825c",
   "metadata": {
    "papermill": {
     "duration": null,
     "end_time": null,
     "exception": null,
     "start_time": null,
     "status": "pending"
    },
    "tags": []
   },
   "outputs": [],
   "source": [
    "from operator import attrgetter\n",
    "from numpyro.diagnostics import summary\n",
    "import jax.numpy as jnp\n",
    "import os\n",
    "samples=mcmc.get_samples()\n",
    "divergences=mcmc.get_extra_fields()['diverging']\n",
    "prob = 0.9\n",
    "exclude_deterministic = True\n",
    "sites = mcmc._states[mcmc._sample_field]\n",
    "if isinstance(sites, dict) and exclude_deterministic:\n",
    "    state_sample_field = attrgetter(mcmc._sample_field)(mcmc._last_state)\n",
    "    # XXX: there might be the case that state.z is not a dictionary but\n",
    "    # its postprocessed value `sites` is a dictionary.\n",
    "    # TODO: in general, when both `sites` and `state.z` are dictionaries,\n",
    "    # they can have different key names, not necessary due to deterministic\n",
    "    # behavior. We might revise this logic if needed in the future.\n",
    "    if isinstance(state_sample_field, dict):\n",
    "        sites = {k: v for k, v in mcmc._states[mcmc._sample_field].items()\n",
    "                 if k in state_sample_field}\n",
    "\n",
    "stats_summary = summary(sites, prob=prob)"
   ]
  },
  {
   "cell_type": "markdown",
   "id": "481c76f2",
   "metadata": {
    "papermill": {
     "duration": null,
     "end_time": null,
     "exception": null,
     "start_time": null,
     "status": "pending"
    },
    "tags": []
   },
   "source": [
    "## Check diagnostics\n",
    "When running any MCMC algorithm, you need to check that it has explored the full posterior probability space, and not got stuck in local minima. The standard MCMC diagnostics are:\n",
    "* $\\hat{R}$ compares variation within and between chains. You want $\\hat{R} < 1.1$\n",
    "* $n_{eff}$ effective sample size which is a measure of autocorrelation within the chains. More autocorrelation increases uncertainty in estimates. Typical MCMC has a low $n_{eff}$ and requires thinning (as to keep all samples would be too memory intensive). Since NUTS HMC is efficient, there is little need to chuck samples away. If $n_{eff} / N < 0.001$, then there is a problem with model\n",
    "\n",
    "The other diagnostic, exclusive to The NUTS sampler, is the identification of `divergent transitions`. These identify areas in parameter space where because of some the gradient is very different to the rest of parameter space, such that the tuned NUTS sampler cannot perform its next step accuractely. These tend to occur in funnel like or VERY correlated posterior spaces. Another good explanation can be found [here](https://dev.to/martinmodrak/taming-divergences-in-stan-models-5762). If `divergent transitions` are found, the posterior cannot be trusted and some reparamaterisation is required. Note: Standard MCMC algorithms cannot identify divergent transitions, but that does not mean they do not occur."
   ]
  },
  {
   "cell_type": "code",
   "execution_count": null,
   "id": "bba38bfa",
   "metadata": {
    "papermill": {
     "duration": null,
     "end_time": null,
     "exception": null,
     "start_time": null,
     "status": "pending"
    },
    "tags": []
   },
   "outputs": [],
   "source": [
    "fig,axes=plt.subplots(2,len(samples),figsize=(2*len(samples),10))\n",
    "for i,k in enumerate(samples):\n",
    "\n",
    "    axes[0,i].hist(stats_summary[k]['r_hat'].flatten(),color='Blue',bins=np.arange(0.5,2,0.1))\n",
    "    axes[1,i].hist(stats_summary[k]['n_eff'].flatten(),color='Blue',bins=np.arange(0,samples['m'].shape[0],100))\n",
    "    axes[0,i].set_xlabel(k+' $ \\hat{R}$')\n",
    "    axes[0,i].set_title('Div. Trans= {}'.format(np.sum(divergences)))\n",
    "    axes[1,i].set_xlabel(k+' $ n_{eff}$')\n",
    "plt.subplots_adjust(hspace=0.5,wspace=0.5)"
   ]
  },
  {
   "cell_type": "markdown",
   "id": "11a6842d",
   "metadata": {
    "papermill": {
     "duration": null,
     "end_time": null,
     "exception": null,
     "start_time": null,
     "status": "pending"
    },
    "tags": []
   },
   "source": [
    "All diagnostics look fine. "
   ]
  },
  {
   "cell_type": "markdown",
   "id": "8e488314",
   "metadata": {
    "papermill": {
     "duration": null,
     "end_time": null,
     "exception": null,
     "start_time": null,
     "status": "pending"
    },
    "tags": []
   },
   "source": [
    "## Posterior Probability distributions"
   ]
  },
  {
   "cell_type": "markdown",
   "id": "2ac2cd76",
   "metadata": {
    "papermill": {
     "duration": null,
     "end_time": null,
     "exception": null,
     "start_time": null,
     "status": "pending"
    },
    "tags": []
   },
   "source": [
    "#### Hierarchical parameters"
   ]
  },
  {
   "cell_type": "code",
   "execution_count": null,
   "id": "dbcb6307",
   "metadata": {
    "papermill": {
     "duration": null,
     "end_time": null,
     "exception": null,
     "start_time": null,
     "status": "pending"
    },
    "tags": []
   },
   "outputs": [],
   "source": [
    "import pandas as pd\n",
    "hier_param_names=['m','c','sfr_sig']\n",
    "\n",
    "df_prior=pd.DataFrame(np.array([prior_pred[s] for s in hier_param_names]).T,columns=hier_param_names)\n",
    "g=sns.PairGrid(df_prior)\n",
    "g.map_lower(plt.scatter,alpha=0.5,color='Red')\n",
    "g.map_diag(plt.hist,alpha=0.5,histtype='step',linewidth=3.0,color='Red',density=True)\n",
    "\n",
    "df_post=pd.DataFrame(np.array([samples[s] for s in hier_param_names]).T,columns=hier_param_names)\n",
    "g.data=df_post\n",
    "g.map_lower(plt.scatter,alpha=0.5,color='Blue')\n",
    "g.map_diag(plt.hist,alpha=0.5,histtype='step',linewidth=3.0,color='Blue',density=True)\n",
    "g.map_upper(sns.kdeplot,alpha=0.5,color='Blue',n_levels=5, shade=False,linewidth=3.0,shade_lowest=False)\n",
    "\n",
    "#for some reason the contour plots will delete other plots so do last\n",
    "g.data=df_prior\n",
    "g.map_upper(sns.kdeplot,alpha=0.5,color='Red',n_levels=5, shade=False,linewidth=3.0,shade_lowest=False)"
   ]
  },
  {
   "cell_type": "markdown",
   "id": "2f39fe4e",
   "metadata": {
    "papermill": {
     "duration": null,
     "end_time": null,
     "exception": null,
     "start_time": null,
     "status": "pending"
    },
    "tags": []
   },
   "source": [
    "#### Source parameters "
   ]
  },
  {
   "cell_type": "code",
   "execution_count": null,
   "id": "5e9354bd",
   "metadata": {
    "papermill": {
     "duration": null,
     "end_time": null,
     "exception": null,
     "start_time": null,
     "status": "pending"
    },
    "tags": []
   },
   "outputs": [],
   "source": [
    "fig,axes=plt.subplots(3,1,figsize=(50,10))\n",
    "phys_params=['sfr','agn','redshift']\n",
    "for i ,p in enumerate(phys_params):\n",
    "    v_plot=axes[i].violinplot(prior_pred[p].T,showextrema=False);\n",
    "    plt.setp(v_plot['bodies'], facecolor='Red')\n",
    "    v_plot=axes[i].violinplot(samples[p].T,showextrema=False);\n",
    "    plt.setp(v_plot['bodies'], facecolor='Blue')\n",
    "\n",
    "axes[0].set_ylabel('$\\log_{10} SFR$')\n",
    "axes[1].set_ylabel('AGN frac')\n",
    "axes[2].set_ylabel('Redshift')"
   ]
  },
  {
   "cell_type": "markdown",
   "id": "d9548fb1",
   "metadata": {
    "papermill": {
     "duration": null,
     "end_time": null,
     "exception": null,
     "start_time": null,
     "status": "pending"
    },
    "tags": []
   },
   "source": [
    "### Posterior Predicitive Checks"
   ]
  },
  {
   "cell_type": "code",
   "execution_count": null,
   "id": "e255ee67",
   "metadata": {
    "papermill": {
     "duration": null,
     "end_time": null,
     "exception": null,
     "start_time": null,
     "status": "pending"
    },
    "tags": []
   },
   "outputs": [],
   "source": [
    "%%time \n",
    "#sample from the prior using numpyro's Predictive function\n",
    "prior_predictive_samp=Predictive(SED_prior.spire_model_CIGALE,posterior_samples = samples, num_samples = 50)\n",
    "prior_pred_samp=prior_predictive_samp(random.PRNGKey(0),priors_prior_pred,phys_prior,hier_params)\n",
    "mod_map_array_samp=[prior_pred_samp['obs_psw'].T,prior_pred_samp['obs_pmw'].T,prior_pred_samp['obs_plw'].T]"
   ]
  },
  {
   "cell_type": "code",
   "execution_count": null,
   "id": "556a73be",
   "metadata": {
    "papermill": {
     "duration": null,
     "end_time": null,
     "exception": null,
     "start_time": null,
     "status": "pending"
    },
    "tags": []
   },
   "outputs": [],
   "source": [
    "#feed the model map arrays the animation function\n",
    "#xidplus.plots.make_map_animation(priors,mod_map_array_samp,50)"
   ]
  },
  {
   "cell_type": "code",
   "execution_count": null,
   "id": "f15511f6",
   "metadata": {
    "papermill": {
     "duration": null,
     "end_time": null,
     "exception": null,
     "start_time": null,
     "status": "pending"
    },
    "scrolled": true,
    "tags": []
   },
   "outputs": [],
   "source": [
    "figures,fig=xidplus.plot_map(priors)"
   ]
  },
  {
   "cell_type": "code",
   "execution_count": null,
   "id": "845e5e12",
   "metadata": {
    "papermill": {
     "duration": null,
     "end_time": null,
     "exception": null,
     "start_time": null,
     "status": "pending"
    },
    "tags": []
   },
   "outputs": [],
   "source": [
    "from xidplus import postmaps\n",
    "import aplpy\n",
    "sns.set_style(\"white\")\n",
    "cmap = sns.diverging_palette(220, 20, as_cmap=True)\n",
    "Bayes_pvals = []\n",
    "hdulists = list(map(lambda prior: postmaps.make_fits_image(prior, prior.sim), priors))\n",
    "fig = plt.figure(figsize=(10 * len(priors), 10))\n",
    "figs = []\n",
    "for i in range(0, len(priors)):\n",
    "    figs.append(aplpy.FITSFigure(hdulists[i][1], figure=fig, subplot=(1, len(priors), i + 1)))\n",
    "    Bayes_pvals.append(postmaps.make_Bayesian_pval_maps(priors[i], mod_map_array_samp[i]))\n",
    "    \n",
    "    \n",
    "for i in range(0, len(priors)):\n",
    "    figs[i].show_markers(priors[i].sra, priors[i].sdec, edgecolor='black', facecolor='black',\n",
    "                         marker='o', s=20, alpha=0.5)\n",
    "    figs[i].tick_labels.set_xformat('dd.dd')\n",
    "    figs[i].tick_labels.set_yformat('dd.dd')\n",
    "    figs[i]._data[\n",
    "        priors[i].sy_pix - np.min(priors[i].sy_pix) - 1, priors[i].sx_pix - np.min(priors[i].sx_pix) - 1] = \\\n",
    "    Bayes_pvals[i]\n",
    "    figs[i].show_colorscale(vmin=-6, vmax=6, cmap=cmap)\n",
    "    figs[i].add_colorbar()\n",
    "    figs[i].colorbar.set_location('top')"
   ]
  },
  {
   "cell_type": "markdown",
   "id": "357eeccc",
   "metadata": {
    "papermill": {
     "duration": null,
     "end_time": null,
     "exception": null,
     "start_time": null,
     "status": "pending"
    },
    "tags": []
   },
   "source": [
    "As a demonstration of how the flux is being distributed to the two sources, we can plot the posterior probability distribution function of fluxes in the marginalised 2-D colour spaces.\n",
    "\n",
    "`HELP_J104631.082+591021.253` is shown by the red contours and `HELP_J104631.170+591036.829` in blue. To illustrate how different these fluxes are from those coming from the blind catalogues, we show an additional contour, coming from running a blind source extraction routine on our replicated maps. This provides a probability distribution function for the flux that would be measured from our model of the data. We also plot the blind source extraction carried out on the real map, shown by the black dot.\n",
    "\n",
    "The black dot lies on top of our blind source extractions from our generated map, indicating that our model of the data is similar to the real map in regard to blind source extraction.\n",
    "\n",
    "More importantly, the flux probability contours for `HELP_J104631.170+591036.829` are in a completely different area of colour space with regard to those coming from the blind source extraction, where as there is some overlap with `HELP_J104631.082+591021.253`. We also plot the total flux of the two sources combined are shown in orange which is much greater than that coming from blind source extraction. This plot clearly illustrates how blind source extraction routines can give miss-leading results. Not only is the flux of `HELP_J104631.170+591036.829` significantly less than that coming from blind source extraction, but that these blind source extraction can significantly underestimate the total flux coming from slightly confused SPIRE sources."
   ]
  },
  {
   "cell_type": "markdown",
   "id": "35a1560f",
   "metadata": {
    "papermill": {
     "duration": null,
     "end_time": null,
     "exception": null,
     "start_time": null,
     "status": "pending"
    },
    "tags": []
   },
   "source": [
    "Read in the source we are interested in from Rowan-Robinsons's catalogue."
   ]
  },
  {
   "cell_type": "code",
   "execution_count": null,
   "id": "24a2ecfb",
   "metadata": {
    "papermill": {
     "duration": null,
     "end_time": null,
     "exception": null,
     "start_time": null,
     "status": "pending"
    },
    "tags": []
   },
   "outputs": [],
   "source": [
    "from astropy.coordinates import SkyCoord\n",
    "from astropy import units as u\n",
    "import os\n",
    "\n",
    "c = SkyCoord(ra=[esb['RA'][source[0]]]*u.degree, dec=[esb['Dec'][source[0]]]*u.degree)"
   ]
  },
  {
   "cell_type": "code",
   "execution_count": null,
   "id": "18775418",
   "metadata": {
    "papermill": {
     "duration": null,
     "end_time": null,
     "exception": null,
     "start_time": null,
     "status": "pending"
    },
    "tags": []
   },
   "outputs": [],
   "source": [
    "#Run the DAOstarfinder on the original maps for all SPIRE bands\n",
    "from photutils import DAOStarFinder\n",
    "fwhm=[17.6,23.9,35.2]\n",
    "new_scat_flux=[]\n",
    "new_scat_pos=[]\n",
    "for b in range(0,len(priors)):\n",
    "    tmp_fits=postmaps.make_fits_image(priors[b],priors[b].sim)\n",
    "    wcs_temp = wcs.WCS(tmp_fits[1].header)\n",
    "    daofind = DAOStarFinder(fwhm=fwhm[b]/np.abs(tmp_fits[1].header['CD1_1']*3600.0), threshold=5.0,sky=0.0,roundlo=- 10.0,roundhi= 10.0,sharplo=-5,sharphi=5)    \n",
    "    new_scat = daofind(tmp_fits[1].data)\n",
    "    new_scat_coords=wcs_temp.pixel_to_world(new_scat['xcentroid'],new_scat['ycentroid'])\n",
    "    idx_new, d2d_new, d3d_new = c.match_to_catalog_sky(new_scat_coords)\n",
    "    new_scat_flux.append(new_scat['peak'][idx_new])\n",
    "    new_scat_pos.append(new_scat_coords[idx_new])\n"
   ]
  },
  {
   "cell_type": "code",
   "execution_count": null,
   "id": "9e856231",
   "metadata": {
    "papermill": {
     "duration": null,
     "end_time": null,
     "exception": null,
     "start_time": null,
     "status": "pending"
    },
    "tags": []
   },
   "outputs": [],
   "source": [
    "posterior_blind_source_coords=[]\n",
    "posterior_blind_source_flux=[]\n",
    "# Run starfinder on all posterior maps\n",
    "for s in range(0,mod_map_array_samp[0].shape[-1]):\n",
    "    if s%1000==0:\n",
    "        print(s)\n",
    "    tmp_posterior_blind_source_coords=[]\n",
    "    tmp_posterior_blind_source_flux=[]\n",
    "    for b in range(0,len(priors)):\n",
    "        tmp_fits=postmaps.make_fits_image(priors[b],mod_map_array_samp[b][...,s])\n",
    "        #need to widen constriants on roundness and sharpness constraints\n",
    "        daofind = DAOStarFinder(fwhm=fwhm[b]/np.abs(tmp_fits[1].header['CD1_1']*3600.0), threshold=5,sky=0.0,roundlo=- 10.0,roundhi= 10.0,sharplo=-5,sharphi=5) \n",
    "        sources = daofind(tmp_fits[1].data)\n",
    "        #print(sources)\n",
    "        wcs_temp = wcs.WCS(tmp_fits[1].header)\n",
    "        new_coords=wcs_temp.pixel_to_world(sources['xcentroid'],sources['ycentroid'])\n",
    "   \n",
    "            \n",
    "        idx_tmp, d2d_tmp, d3d_tmp = c.match_to_catalog_sky(new_coords)\n",
    "        tmp_posterior_blind_source_coords.append(new_coords[idx_tmp])\n",
    "        tmp_posterior_blind_source_flux.append(sources[idx_tmp]['peak'])\n",
    "    posterior_blind_source_coords.append(tmp_posterior_blind_source_coords)\n",
    "    posterior_blind_source_flux.append(tmp_posterior_blind_source_flux)\n",
    "        \n",
    "    "
   ]
  },
  {
   "cell_type": "code",
   "execution_count": null,
   "id": "aa4d296e",
   "metadata": {
    "papermill": {
     "duration": null,
     "end_time": null,
     "exception": null,
     "start_time": null,
     "status": "pending"
    },
    "tags": []
   },
   "outputs": [],
   "source": [
    " # get original fluxes from scat\n",
    "band=[250,350,500]\n",
    "scat_flux=[]\n",
    "scat_pos=[]\n",
    "for b in band:\n",
    "    scat=Table.read('../../../data/WP5-{}-SCAT{}-v1.0.fits.gz'.format(field[0],b))\n",
    "    orig_scat_coords=SkyCoord(scat['RA'],scat['Dec'])\n",
    "    idx, d2d, d3d = c.match_to_catalog_sky(orig_scat_coords)\n",
    "    scat_flux.append(scat['F_SPIRE_{}'.format(b)][idx].data)\n",
    "    scat_pos.append(orig_scat_coords[idx])\n",
    "scat_flux=np.array(scat_flux)"
   ]
  },
  {
   "cell_type": "code",
   "execution_count": null,
   "id": "0f41e12c",
   "metadata": {
    "papermill": {
     "duration": null,
     "end_time": null,
     "exception": null,
     "start_time": null,
     "status": "pending"
    },
    "tags": []
   },
   "outputs": [],
   "source": [
    "orig_map=xidplus.plot_map(priors)\n",
    "for i in range(0,3):\n",
    "    #plot new scat coords\n",
    "    orig_map[0][i].show_markers(new_scat_pos[i].ra.value,new_scat_pos[i].dec.value,edgecolor='blue', facecolor='blue',\n",
    "                marker='o', s=200, alpha=0.5)\n",
    "    orig_map[0][i].show_markers(c.ra.value,c.dec.value, edgecolor='red', facecolor='red',\n",
    "                marker='x', s=200, alpha=0.5)\n",
    "    orig_map[0][i].show_markers(scat_pos[i].ra.value,scat_pos[i].dec.value,edgecolor='yellow', facecolor='yellow',\n",
    "                marker='x', s=200, alpha=0.5)\n"
   ]
  },
  {
   "cell_type": "code",
   "execution_count": null,
   "id": "4c4bf77b",
   "metadata": {
    "papermill": {
     "duration": null,
     "end_time": null,
     "exception": null,
     "start_time": null,
     "status": "pending"
    },
    "tags": []
   },
   "outputs": [],
   "source": [
    "#stack params and make vector ready to be used by emualator\n",
    "params = jnp.stack((samples['sfr'].T, samples['agn'].T, samples['redshift'].T)).T\n",
    "# Use emulator to get fluxes. As emulator provides log flux, convert.\n",
    "src_f = np.array(jnp.exp(phys_prior.emulator['net_apply'](phys_prior.emulator['params'], params)))\n",
    "\n",
    "\n",
    "#stack params and make vector ready to be used by emualator\n",
    "params_prior = jnp.stack((prior_pred['sfr'].T, prior_pred['agn'].T, prior_pred['redshift'].T)).T\n",
    "# Use emulator to get fluxes. As emulator provides log flux, convert.\n",
    "src_f_prior = np.array(jnp.exp(phys_prior.emulator['net_apply'](phys_prior.emulator['params'], params_prior)))"
   ]
  },
  {
   "cell_type": "code",
   "execution_count": null,
   "id": "127c36e8",
   "metadata": {
    "papermill": {
     "duration": null,
     "end_time": null,
     "exception": null,
     "start_time": null,
     "status": "pending"
    },
    "tags": []
   },
   "outputs": [],
   "source": [
    "src_f.shape"
   ]
  },
  {
   "cell_type": "code",
   "execution_count": null,
   "id": "20f2c711",
   "metadata": {
    "papermill": {
     "duration": null,
     "end_time": null,
     "exception": null,
     "start_time": null,
     "status": "pending"
    },
    "tags": []
   },
   "outputs": [],
   "source": [
    "#find the sources that are within a certain separation of the extreme starburst candidate\n",
    "sep=12\n",
    "separation=new_scat_pos[0].separation(SkyCoord(priors[0].sra,priors[0].sdec)).arcsec\n",
    "contrib_sources=separation<sep\n",
    "print(' Sources \\n {} \\n are possible contributers to flux of extreme starburst'.format(priors[0].ID[contrib_sources]))"
   ]
  },
  {
   "cell_type": "code",
   "execution_count": null,
   "id": "27b99530",
   "metadata": {
    "papermill": {
     "duration": null,
     "end_time": null,
     "exception": null,
     "start_time": null,
     "status": "pending"
    },
    "tags": []
   },
   "outputs": [],
   "source": [
    "cmap=sns.color_palette('colorblind')\n",
    "sns.set_style(\"white\")\n",
    "#set up Pairgrid plot and plot blind source flux\n",
    "df_blind=pd.DataFrame(np.array(posterior_blind_source_flux)[:,:,0],columns=['$S_{250\\mathrm{mJy}}$', '$S_{350\\mathrm{mJy}}$', '$S_{500\\mathrm{mJy}}$'])\n",
    "g=sns.PairGrid(df_blind)\n",
    "g.map_diag(plt.hist,histtype='step',linewidth=3.0, alpha=0.5,color='black')\n",
    "#g.map_lower(sns.kdeplot, color=\"black\",alpha=0.5,n_levels=10,density=True, shade=False,linewidth=3,shade_lowest=False)\n",
    "\n",
    "#plot the fluxes for the possible sources that could contribute\n",
    "for i in range(0,contrib_sources.sum()):\n",
    "    df_tmp=pd.DataFrame(src_f[:,contrib_sources,:][:,i,:],columns=['$S_{250\\mathrm{mJy}}$', '$S_{350\\mathrm{mJy}}$', '$S_{500\\mathrm{mJy}}$'])\n",
    "    g.data=df_tmp\n",
    "    g.map_diag(plt.hist,histtype='step',linewidth=3.0, alpha=0.5,color=cmap[i])\n",
    "    #g.map_lower(sns.kdeplot, color=cmap[i],alpha=0.5,n_levels=10,density=True,linewidth=3, shade=False,shade_lowest=False)\n",
    "\n",
    "# plot the combination of flux from those sources\n",
    "df_sum=pd.DataFrame(np.sum(src_f[:,contrib_sources,:],axis=1),columns=['$S_{250\\mathrm{mJy}}$', '$S_{350\\mathrm{mJy}}$', '$S_{500\\mathrm{mJy}}$'])\n",
    "g.data=df_sum\n",
    "g.map_diag(plt.hist,histtype='step',linewidth=3.0, alpha=0.5,color='Red')\n",
    "\n",
    "\n",
    "\n",
    "\n",
    "g.data=df_blind\n",
    "g.map_lower(sns.kdeplot, color=\"black\",alpha=0.5,n_levels=10,density=True, shade=False,linewidth=3,shade_lowest=False)\n",
    "for i in range(0,contrib_sources.sum()):\n",
    "    df_tmp=pd.DataFrame(src_f[:,contrib_sources,:][:,i,:],columns=['$S_{250\\mathrm{mJy}}$', '$S_{350\\mathrm{mJy}}$', '$S_{500\\mathrm{mJy}}$'])\n",
    "    g.data=df_tmp\n",
    "    #g.map_diag(plt.hist,histtype='step',linewidth=3.0, alpha=0.5,color=cmap[i])\n",
    "    g.map_lower(sns.kdeplot, color=cmap[i],alpha=0.5,n_levels=10,density=True,linewidth=3, shade=False,shade_lowest=False)\n",
    "g.data=df_sum\n",
    "g.map_lower(sns.kdeplot, color='Red',alpha=0.5,n_levels=10,density=True,linewidth=3, shade=False,shade_lowest=False)\n",
    "    \n",
    "    \n",
    "#turn off the axes not used\n",
    "g.axes[0,1].set_axis_off()\n",
    "g.axes[0,2].set_axis_off()\n",
    "g.axes[1,2].set_axis_off()\n",
    "\n",
    "#plot the fluxes from new scat and orig scat\n",
    "for i in range(0,len(priors)):\n",
    "    g.axes[i,i].axvline(x=new_scat_flux[i],color='black')\n",
    "    g.axes[i,i].axvline(x=scat_flux[i],color='green')\n",
    "    for j in range(0,len(priors)):\n",
    "        if j>i:\n",
    "            g.axes[j,i].plot(new_scat_flux[i],new_scat_flux[j],'ko',ms=10)\n",
    "            g.axes[j,i].plot(scat_flux[i],scat_flux[j],'go',ms=10)\n",
    "#g.axes[2,0].plot(0.39,32.63,'ko',ms=10)\n",
    "#g.axes[3,0].plot(0.39,27.0,'ko',ms=10)\n"
   ]
  },
  {
   "cell_type": "markdown",
   "id": "23302657",
   "metadata": {
    "papermill": {
     "duration": null,
     "end_time": null,
     "exception": null,
     "start_time": null,
     "status": "pending"
    },
    "tags": []
   },
   "source": [
    "### Parameters of contributing sources\n",
    "The physical parameters of our sources which could be contributing to the extreme starburst"
   ]
  },
  {
   "cell_type": "code",
   "execution_count": null,
   "id": "f6359355",
   "metadata": {
    "papermill": {
     "duration": null,
     "end_time": null,
     "exception": null,
     "start_time": null,
     "status": "pending"
    },
    "tags": []
   },
   "outputs": [],
   "source": [
    "phys_params=['sfr','agn','redshift']\n",
    "contrib_params=pd.DataFrame(np.array([samples[p][:,contrib_sources].T for p in phys_params]).reshape((len(phys_params)*contrib_sources.sum(),-1)).T,\n",
    "                            columns=np.concatenate([[s+'\\n'+str(priors[0].ID[contrib_sources][i]).split(\"b'\")[1] for i in range(0,contrib_sources.sum())] for s in phys_params])\n",
    ")\n",
    "contrib_params_prior=pd.DataFrame(np.array([prior_pred[p][:,contrib_sources].T for p in phys_params]).reshape((len(phys_params)*contrib_sources.sum(),-1)).T,\n",
    "                            columns=np.concatenate([[s+'\\n'+str(priors[0].ID[contrib_sources][i]).split(\"b'\")[1] for i in range(0,contrib_sources.sum())] for s in phys_params])\n",
    ")\n",
    "g=sns.PairGrid(contrib_params)\n",
    "g.map_diag(plt.hist,histtype='step',linewidth=3.0, alpha=0.5,color='Blue')\n",
    "g.data=contrib_params_prior\n",
    "g.map_diag(plt.hist,histtype='step',linewidth=3.0, alpha=0.5,color='Red')\n",
    "g.map_lower(sns.kdeplot, color='Red',alpha=0.5,n_levels=10,density=True,linewidth=3, shade=False,shade_lowest=False)\n",
    "\n",
    "g.data=contrib_params\n",
    "g.map_lower(sns.kdeplot, color='Blue',alpha=0.5,n_levels=10,density=True,linewidth=3, shade=False,shade_lowest=False)\n",
    "\n",
    "[a.axhline(y=esb[source[0]]['Z\\xa0comb'],color='black') for a in g.axes[-1,:-1]]\n",
    "g.axes[1,0].axhline(y=esb[source[0]]['SFR log(M\\xa0sol. yr−1)'],color='black') \n",
    "\n",
    "g.axes[-1,-1].axvline(x=esb[source[0]]['Z\\xa0comb'],color='black')\n",
    "[a.axvline(x=esb[source[0]]['SFR log(M\\xa0sol. yr−1)'],color='black') for a in g.axes[1:,1]]\n",
    "\n"
   ]
  },
  {
   "cell_type": "code",
   "execution_count": null,
   "id": "80adeb48",
   "metadata": {
    "papermill": {
     "duration": null,
     "end_time": null,
     "exception": null,
     "start_time": null,
     "status": "pending"
    },
    "tags": []
   },
   "outputs": [],
   "source": []
  }
 ],
 "metadata": {
  "celltoolbar": "Slideshow",
  "kernelspec": {
   "display_name": "Python 3",
   "language": "python",
   "name": "python3"
  },
  "language_info": {
   "codemirror_mode": {
    "name": "ipython",
    "version": 3
   },
   "file_extension": ".py",
   "mimetype": "text/x-python",
   "name": "python",
   "nbconvert_exporter": "python",
   "pygments_lexer": "ipython3",
   "version": "3.8.5"
  },
  "papermill": {
   "default_parameters": {},
   "duration": null,
   "end_time": null,
   "environment_variables": {},
   "exception": null,
   "input_path": "XID+CIGALE-ESB_fit.ipynb",
   "output_path": "./output/XID+CIGALE-ESB_fit_27.ipynb",
   "parameters": {
    "emulator_path": [
     "/research/astro/fir/HELP/XID_plus/docs/notebooks/examples/SED_emulator/CIGALE_emulator_20210420_log10sfr_uniformAGN_z.npz"
    ],
    "field": [
     "Lockman-SWIRE"
    ]
   },
   "start_time": "2021-04-20T15:00:26.069211",
   "version": "2.3.3"
  }
 },
 "nbformat": 4,
 "nbformat_minor": 5
}