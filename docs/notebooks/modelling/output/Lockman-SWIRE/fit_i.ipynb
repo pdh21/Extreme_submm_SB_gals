{
 "cells": [
  {
   "cell_type": "markdown",
   "id": "ba52d177",
   "metadata": {
    "papermill": {
     "duration": 0.034833,
     "end_time": "2021-05-27T17:47:47.897632",
     "exception": false,
     "start_time": "2021-05-27T17:47:47.862799",
     "status": "completed"
    },
    "tags": []
   },
   "source": [
    "# Applying XID+CIGALE to Extreme Starbursts\n",
    "In this notebook, we read in the data files and prepare them for fitting with XID+CIGALE, the SED prior model extension to XID+. Here we focus on sources in [Rowan-Robinson et al. 2018](https://arxiv.org/abs/1704.07783) and claimed to have a star formation rate of $> 10^{3}\\mathrm{M_{\\odot}yr^{-1}}$"
   ]
  },
  {
   "cell_type": "markdown",
   "id": "e4087a33",
   "metadata": {
    "papermill": {
     "duration": 0.056139,
     "end_time": "2021-05-27T17:47:47.984853",
     "exception": false,
     "start_time": "2021-05-27T17:47:47.928714",
     "status": "completed"
    },
    "tags": []
   },
   "source": [
    "Import required modules"
   ]
  },
  {
   "cell_type": "code",
   "execution_count": 1,
   "id": "81c29ee6",
   "metadata": {
    "execution": {
     "iopub.execute_input": "2021-05-27T17:47:48.052519Z",
     "iopub.status.busy": "2021-05-27T17:47:48.051773Z",
     "iopub.status.idle": "2021-05-27T17:47:49.926924Z",
     "shell.execute_reply": "2021-05-27T17:47:49.927443Z"
    },
    "papermill": {
     "duration": 1.914351,
     "end_time": "2021-05-27T17:47:49.927653",
     "exception": false,
     "start_time": "2021-05-27T17:47:48.013302",
     "status": "completed"
    },
    "slideshow": {
     "slide_type": "skip"
    },
    "tags": []
   },
   "outputs": [
    {
     "name": "stderr",
     "output_type": "stream",
     "text": [
      "WARNING: AstropyDeprecationWarning: block_reduce was moved to the astropy.nddata.blocks module.  Please update your import statement. [astropy.nddata.utils]\n"
     ]
    }
   ],
   "source": [
    "from astropy.io import ascii, fits\n",
    "from astropy.table import Table\n",
    "import pylab as plt\n",
    "%matplotlib inline\n",
    "from astropy import wcs\n",
    "import seaborn as sns\n",
    "import glob\n",
    "\n",
    "\n",
    "import numpy as np\n",
    "import xidplus\n",
    "from xidplus import moc_routines\n",
    "import pickle\n",
    "import os\n",
    "from ESB_functions import *"
   ]
  },
  {
   "cell_type": "code",
   "execution_count": 2,
   "id": "2affff24",
   "metadata": {
    "execution": {
     "iopub.execute_input": "2021-05-27T17:47:49.992144Z",
     "iopub.status.busy": "2021-05-27T17:47:49.991421Z",
     "iopub.status.idle": "2021-05-27T17:47:49.993839Z",
     "shell.execute_reply": "2021-05-27T17:47:49.994474Z"
    },
    "papermill": {
     "duration": 0.035986,
     "end_time": "2021-05-27T17:47:49.994677",
     "exception": false,
     "start_time": "2021-05-27T17:47:49.958691",
     "status": "completed"
    },
    "tags": [
     "parameters"
    ]
   },
   "outputs": [],
   "source": [
    "\n",
    "emulator_path=['/Users/pdh21/Google_Drive/WORK/XID_plus/docs/notebooks/examples/SED_emulator/CIGALE_emulator_20210420_log10sfr_uniformAGN_z.npz']\n",
    "field=['Lockman-SWIRE']\n",
    "path_to_SPIRE=['/Volumes/pdh_storage/dmu_products/dmu19/dmu19_HELP-SPIRE-maps/data/']\n",
    "redshift_file=[\"/Volumes/pdh_storage/dmu_products/dmu24/dmu24_Lockman-SWIRE/data/master_catalogue_Lockman-SWIRE_20170710_photoz_20170802_r_and_irac1_optimised_UPDATED_IDs_20180219.fits\"]\n",
    "\n",
    "\n"
   ]
  },
  {
   "cell_type": "code",
   "execution_count": 3,
   "id": "a0204112",
   "metadata": {
    "execution": {
     "iopub.execute_input": "2021-05-27T17:47:50.057628Z",
     "iopub.status.busy": "2021-05-27T17:47:50.056902Z",
     "iopub.status.idle": "2021-05-27T17:47:50.059033Z",
     "shell.execute_reply": "2021-05-27T17:47:50.059509Z"
    },
    "papermill": {
     "duration": 0.035365,
     "end_time": "2021-05-27T17:47:50.059709",
     "exception": false,
     "start_time": "2021-05-27T17:47:50.024344",
     "status": "completed"
    },
    "tags": [
     "injected-parameters"
    ]
   },
   "outputs": [],
   "source": [
    "# Parameters\n",
    "emulator_path = [\n",
    "    \"/users/pdh21/Work/XID_plus/docs/notebooks/examples/SED_emulator/CIGALE_emulator_20210420_log10sfr_uniformAGN_z.npz\"\n",
    "]\n",
    "field = [\"Lockman-SWIRE\"]\n",
    "path_to_SPIRE = [\"/users/pdh21/Work/Extreme_submm_SB_gals/data/\"]\n",
    "redshift_file = [\n",
    "    \"/users/pdh21/Work/Extreme_submm_SB_gals/data/master_catalogue_Lockman-SWIRE_20170710_photoz_20170802_r_and_irac1_optimised_UPDATED_IDs_20180219.fits\"\n",
    "]\n"
   ]
  },
  {
   "cell_type": "code",
   "execution_count": 4,
   "id": "a410b24e",
   "metadata": {
    "execution": {
     "iopub.execute_input": "2021-05-27T17:47:50.124099Z",
     "iopub.status.busy": "2021-05-27T17:47:50.123299Z",
     "iopub.status.idle": "2021-05-27T17:47:50.125573Z",
     "shell.execute_reply": "2021-05-27T17:47:50.126056Z"
    },
    "papermill": {
     "duration": 0.037617,
     "end_time": "2021-05-27T17:47:50.126265",
     "exception": false,
     "start_time": "2021-05-27T17:47:50.088648",
     "status": "completed"
    },
    "tags": []
   },
   "outputs": [],
   "source": [
    "try:\n",
    "    source = [np.int(os.environ['SGE_TASK_ID'])-1]\n",
    "except:\n",
    "    source=[1]"
   ]
  },
  {
   "cell_type": "code",
   "execution_count": 5,
   "id": "3b1444ed",
   "metadata": {
    "execution": {
     "iopub.execute_input": "2021-05-27T17:47:50.188045Z",
     "iopub.status.busy": "2021-05-27T17:47:50.187416Z",
     "iopub.status.idle": "2021-05-27T17:47:50.202478Z",
     "shell.execute_reply": "2021-05-27T17:47:50.201952Z"
    },
    "papermill": {
     "duration": 0.04705,
     "end_time": "2021-05-27T17:47:50.202644",
     "exception": false,
     "start_time": "2021-05-27T17:47:50.155594",
     "status": "completed"
    },
    "tags": []
   },
   "outputs": [],
   "source": [
    "#ysb=Table.read('../../../data/MRRfiles/fromPaper.txt', format='ascii')\n",
    "esb=Table.read('../../../data/MRR2018_tables/{}_sources.csv'.format(field[0]),format='ascii',encoding='utf-8')\n"
   ]
  },
  {
   "cell_type": "code",
   "execution_count": 6,
   "id": "86b89a06",
   "metadata": {
    "execution": {
     "iopub.execute_input": "2021-05-27T17:47:50.268014Z",
     "iopub.status.busy": "2021-05-27T17:47:50.267290Z",
     "iopub.status.idle": "2021-05-27T17:47:58.614141Z",
     "shell.execute_reply": "2021-05-27T17:47:58.613226Z"
    },
    "papermill": {
     "duration": 8.305589,
     "end_time": "2021-05-27T17:47:58.537272",
     "exception": false,
     "start_time": "2021-05-27T17:47:50.231683",
     "status": "completed"
    },
    "tags": []
   },
   "outputs": [
    {
     "ename": "KeyboardInterrupt",
     "evalue": "",
     "output_type": "error",
     "traceback": [
      "\u001b[0;31m---------------------------------------------------------------------------\u001b[0m",
      "\u001b[0;31mKeyboardInterrupt\u001b[0m                         Traceback (most recent call last)",
      "\u001b[0;32m<ipython-input-6-182d36d9fdaa>\u001b[0m in \u001b[0;36m<module>\u001b[0;34m\u001b[0m\n\u001b[1;32m      5\u001b[0m                   \u001b[0mpath_to_SPIRE\u001b[0m\u001b[0;34m=\u001b[0m\u001b[0mpath_to_SPIRE\u001b[0m\u001b[0;34m,\u001b[0m\u001b[0;34m\u001b[0m\u001b[0;34m\u001b[0m\u001b[0m\n\u001b[1;32m      6\u001b[0m                   \u001b[0mredshift_file\u001b[0m\u001b[0;34m=\u001b[0m\u001b[0mredshift_file\u001b[0m\u001b[0;34m,\u001b[0m\u001b[0;34m\u001b[0m\u001b[0;34m\u001b[0m\u001b[0m\n\u001b[0;32m----> 7\u001b[0;31m                   redshift_prior=[0.1,2.0])\n\u001b[0m\u001b[1;32m      8\u001b[0m \u001b[0mxidplus\u001b[0m\u001b[0;34m.\u001b[0m\u001b[0msave\u001b[0m\u001b[0;34m(\u001b[0m\u001b[0mpriors\u001b[0m\u001b[0;34m,\u001b[0m\u001b[0;32mNone\u001b[0m\u001b[0;34m,\u001b[0m\u001b[0;34m'./output/{}/prior_'\u001b[0m\u001b[0;34m.\u001b[0m\u001b[0mformat\u001b[0m\u001b[0;34m(\u001b[0m\u001b[0mfield\u001b[0m\u001b[0;34m[\u001b[0m\u001b[0;36m0\u001b[0m\u001b[0;34m]\u001b[0m\u001b[0;34m)\u001b[0m\u001b[0;34m+\u001b[0m\u001b[0mesb\u001b[0m\u001b[0;34m[\u001b[0m\u001b[0;34m'field'\u001b[0m\u001b[0;34m]\u001b[0m\u001b[0;34m[\u001b[0m\u001b[0msource\u001b[0m\u001b[0;34m[\u001b[0m\u001b[0;36m0\u001b[0m\u001b[0;34m]\u001b[0m\u001b[0;34m]\u001b[0m\u001b[0;34m+\u001b[0m\u001b[0;34m'_'\u001b[0m\u001b[0;34m+\u001b[0m\u001b[0mstr\u001b[0m\u001b[0;34m(\u001b[0m\u001b[0msource\u001b[0m\u001b[0;34m[\u001b[0m\u001b[0;36m0\u001b[0m\u001b[0;34m]\u001b[0m\u001b[0;34m)\u001b[0m\u001b[0;34m+\u001b[0m\u001b[0;34m'_model1'\u001b[0m\u001b[0;34m)\u001b[0m\u001b[0;34m\u001b[0m\u001b[0;34m\u001b[0m\u001b[0m\n\u001b[1;32m      9\u001b[0m \u001b[0mprior_list\u001b[0m\u001b[0;34m.\u001b[0m\u001b[0mwrite\u001b[0m\u001b[0;34m(\u001b[0m\u001b[0;34m'./output/{}/prior_list_'\u001b[0m\u001b[0;34m.\u001b[0m\u001b[0mformat\u001b[0m\u001b[0;34m(\u001b[0m\u001b[0mfield\u001b[0m\u001b[0;34m[\u001b[0m\u001b[0;36m0\u001b[0m\u001b[0;34m]\u001b[0m\u001b[0;34m)\u001b[0m\u001b[0;34m+\u001b[0m\u001b[0mesb\u001b[0m\u001b[0;34m[\u001b[0m\u001b[0;34m'field'\u001b[0m\u001b[0;34m]\u001b[0m\u001b[0;34m[\u001b[0m\u001b[0msource\u001b[0m\u001b[0;34m[\u001b[0m\u001b[0;36m0\u001b[0m\u001b[0;34m]\u001b[0m\u001b[0;34m]\u001b[0m\u001b[0;34m+\u001b[0m\u001b[0;34m'_'\u001b[0m\u001b[0;34m+\u001b[0m\u001b[0mstr\u001b[0m\u001b[0;34m(\u001b[0m\u001b[0msource\u001b[0m\u001b[0;34m[\u001b[0m\u001b[0;36m0\u001b[0m\u001b[0;34m]\u001b[0m\u001b[0;34m)\u001b[0m\u001b[0;34m+\u001b[0m\u001b[0;34m'_model1.ascii'\u001b[0m\u001b[0;34m,\u001b[0m\u001b[0mformat\u001b[0m\u001b[0;34m=\u001b[0m\u001b[0;34m'ascii'\u001b[0m\u001b[0;34m,\u001b[0m\u001b[0moverwrite\u001b[0m\u001b[0;34m=\u001b[0m\u001b[0;32mTrue\u001b[0m\u001b[0;34m)\u001b[0m\u001b[0;34m\u001b[0m\u001b[0;34m\u001b[0m\u001b[0m\n",
      "\u001b[0;32m~/Work/Extreme_submm_SB_gals/docs/notebooks/modelling/ESB_functions.py\u001b[0m in \u001b[0;36mprocess_prior\u001b[0;34m(new_Table, path_to_data, source, field, path_to_SPIRE, redshift_file, redshift_prior, radius, alt_model)\u001b[0m\n\u001b[1;32m    123\u001b[0m     \u001b[0;31m# In[11]:\u001b[0m\u001b[0;34m\u001b[0m\u001b[0;34m\u001b[0m\u001b[0;34m\u001b[0m\u001b[0m\n\u001b[1;32m    124\u001b[0m \u001b[0;34m\u001b[0m\u001b[0m\n\u001b[0;32m--> 125\u001b[0;31m     \u001b[0mresultset\u001b[0m \u001b[0;34m=\u001b[0m \u001b[0mservice\u001b[0m\u001b[0;34m.\u001b[0m\u001b[0msearch\u001b[0m\u001b[0;34m(\u001b[0m\u001b[0;34m\"SELECT TOP 10000 * FROM herschelhelp.main WHERE 1=CONTAINS(POINT('ICRS', ra, dec),CIRCLE('ICRS',\"\u001b[0m\u001b[0;34m+\u001b[0m\u001b[0mstr\u001b[0m\u001b[0;34m(\u001b[0m\u001b[0mc\u001b[0m\u001b[0;34m.\u001b[0m\u001b[0mra\u001b[0m\u001b[0;34m.\u001b[0m\u001b[0mdeg\u001b[0m\u001b[0;34m[\u001b[0m\u001b[0;36m0\u001b[0m\u001b[0;34m]\u001b[0m\u001b[0;34m)\u001b[0m\u001b[0;34m+\u001b[0m\u001b[0;34m\", \"\u001b[0m\u001b[0;34m+\u001b[0m\u001b[0mstr\u001b[0m\u001b[0;34m(\u001b[0m\u001b[0mc\u001b[0m\u001b[0;34m.\u001b[0m\u001b[0mdec\u001b[0m\u001b[0;34m.\u001b[0m\u001b[0mdeg\u001b[0m\u001b[0;34m[\u001b[0m\u001b[0;36m0\u001b[0m\u001b[0;34m]\u001b[0m\u001b[0;34m)\u001b[0m\u001b[0;34m+\u001b[0m\u001b[0;34m\", 0.028 ))\"\u001b[0m\u001b[0;34m)\u001b[0m\u001b[0;34m\u001b[0m\u001b[0;34m\u001b[0m\u001b[0m\n\u001b[0m\u001b[1;32m    126\u001b[0m \u001b[0;34m\u001b[0m\u001b[0m\n\u001b[1;32m    127\u001b[0m \u001b[0;34m\u001b[0m\u001b[0m\n",
      "\u001b[0;32m~/anaconda3/envs/xidplus/lib/python3.6/site-packages/pyvo/dal/tap.py\u001b[0m in \u001b[0;36mrun_sync\u001b[0;34m(self, query, language, maxrec, uploads, **keywords)\u001b[0m\n\u001b[1;32m    246\u001b[0m         return self.create_query(\n\u001b[1;32m    247\u001b[0m             \u001b[0mquery\u001b[0m\u001b[0;34m,\u001b[0m \u001b[0mlanguage\u001b[0m\u001b[0;34m=\u001b[0m\u001b[0mlanguage\u001b[0m\u001b[0;34m,\u001b[0m \u001b[0mmaxrec\u001b[0m\u001b[0;34m=\u001b[0m\u001b[0mmaxrec\u001b[0m\u001b[0;34m,\u001b[0m \u001b[0muploads\u001b[0m\u001b[0;34m=\u001b[0m\u001b[0muploads\u001b[0m\u001b[0;34m,\u001b[0m\u001b[0;34m\u001b[0m\u001b[0;34m\u001b[0m\u001b[0m\n\u001b[0;32m--> 248\u001b[0;31m             **keywords).execute()\n\u001b[0m\u001b[1;32m    249\u001b[0m \u001b[0;34m\u001b[0m\u001b[0m\n\u001b[1;32m    250\u001b[0m     \u001b[0;31m# alias for service discovery\u001b[0m\u001b[0;34m\u001b[0m\u001b[0;34m\u001b[0m\u001b[0;34m\u001b[0m\u001b[0m\n",
      "\u001b[0;32m~/anaconda3/envs/xidplus/lib/python3.6/site-packages/pyvo/dal/tap.py\u001b[0m in \u001b[0;36mexecute\u001b[0;34m(self)\u001b[0m\n\u001b[1;32m    940\u001b[0m            \u001b[0;32mfor\u001b[0m \u001b[0merrors\u001b[0m \u001b[0mparsing\u001b[0m \u001b[0mthe\u001b[0m \u001b[0mVOTable\u001b[0m \u001b[0mresponse\u001b[0m\u001b[0;34m\u001b[0m\u001b[0;34m\u001b[0m\u001b[0m\n\u001b[1;32m    941\u001b[0m         \"\"\"\n\u001b[0;32m--> 942\u001b[0;31m         \u001b[0;32mreturn\u001b[0m \u001b[0mTAPResults\u001b[0m\u001b[0;34m(\u001b[0m\u001b[0mself\u001b[0m\u001b[0;34m.\u001b[0m\u001b[0mexecute_votable\u001b[0m\u001b[0;34m(\u001b[0m\u001b[0;34m)\u001b[0m\u001b[0;34m,\u001b[0m \u001b[0murl\u001b[0m\u001b[0;34m=\u001b[0m\u001b[0mself\u001b[0m\u001b[0;34m.\u001b[0m\u001b[0mqueryurl\u001b[0m\u001b[0;34m,\u001b[0m \u001b[0msession\u001b[0m\u001b[0;34m=\u001b[0m\u001b[0mself\u001b[0m\u001b[0;34m.\u001b[0m\u001b[0m_session\u001b[0m\u001b[0;34m)\u001b[0m\u001b[0;34m\u001b[0m\u001b[0;34m\u001b[0m\u001b[0m\n\u001b[0m\u001b[1;32m    943\u001b[0m \u001b[0;34m\u001b[0m\u001b[0m\n\u001b[1;32m    944\u001b[0m     \u001b[0;32mdef\u001b[0m \u001b[0msubmit\u001b[0m\u001b[0;34m(\u001b[0m\u001b[0mself\u001b[0m\u001b[0;34m,\u001b[0m \u001b[0mpost\u001b[0m\u001b[0;34m=\u001b[0m\u001b[0;32mFalse\u001b[0m\u001b[0;34m)\u001b[0m\u001b[0;34m:\u001b[0m\u001b[0;34m\u001b[0m\u001b[0;34m\u001b[0m\u001b[0m\n",
      "\u001b[0;32m~/anaconda3/envs/xidplus/lib/python3.6/site-packages/pyvo/dal/query.py\u001b[0m in \u001b[0;36mexecute_votable\u001b[0;34m(self, post)\u001b[0m\n\u001b[1;32m    240\u001b[0m         \"\"\"\n\u001b[1;32m    241\u001b[0m         \u001b[0;32mtry\u001b[0m\u001b[0;34m:\u001b[0m\u001b[0;34m\u001b[0m\u001b[0;34m\u001b[0m\u001b[0m\n\u001b[0;32m--> 242\u001b[0;31m             \u001b[0;32mreturn\u001b[0m \u001b[0mvotableparse\u001b[0m\u001b[0;34m(\u001b[0m\u001b[0mself\u001b[0m\u001b[0;34m.\u001b[0m\u001b[0mexecute_stream\u001b[0m\u001b[0;34m(\u001b[0m\u001b[0mpost\u001b[0m\u001b[0;34m=\u001b[0m\u001b[0mpost\u001b[0m\u001b[0;34m)\u001b[0m\u001b[0;34m.\u001b[0m\u001b[0mread\u001b[0m\u001b[0;34m)\u001b[0m\u001b[0;34m\u001b[0m\u001b[0;34m\u001b[0m\u001b[0m\n\u001b[0m\u001b[1;32m    243\u001b[0m         \u001b[0;32mexcept\u001b[0m \u001b[0mException\u001b[0m \u001b[0;32mas\u001b[0m \u001b[0me\u001b[0m\u001b[0;34m:\u001b[0m\u001b[0;34m\u001b[0m\u001b[0;34m\u001b[0m\u001b[0m\n\u001b[1;32m    244\u001b[0m             \u001b[0mself\u001b[0m\u001b[0;34m.\u001b[0m\u001b[0mraise_if_error\u001b[0m\u001b[0;34m(\u001b[0m\u001b[0;34m)\u001b[0m\u001b[0;34m\u001b[0m\u001b[0;34m\u001b[0m\u001b[0m\n",
      "\u001b[0;32m~/anaconda3/envs/xidplus/lib/python3.6/site-packages/astropy/utils/decorators.py\u001b[0m in \u001b[0;36mwrapper\u001b[0;34m(*args, **kwargs)\u001b[0m\n\u001b[1;32m    533\u001b[0m                     \u001b[0mwarnings\u001b[0m\u001b[0;34m.\u001b[0m\u001b[0mwarn\u001b[0m\u001b[0;34m(\u001b[0m\u001b[0mmessage\u001b[0m\u001b[0;34m,\u001b[0m \u001b[0mwarning_type\u001b[0m\u001b[0;34m,\u001b[0m \u001b[0mstacklevel\u001b[0m\u001b[0;34m=\u001b[0m\u001b[0;36m2\u001b[0m\u001b[0;34m)\u001b[0m\u001b[0;34m\u001b[0m\u001b[0;34m\u001b[0m\u001b[0m\n\u001b[1;32m    534\u001b[0m \u001b[0;34m\u001b[0m\u001b[0m\n\u001b[0;32m--> 535\u001b[0;31m             \u001b[0;32mreturn\u001b[0m \u001b[0mfunction\u001b[0m\u001b[0;34m(\u001b[0m\u001b[0;34m*\u001b[0m\u001b[0margs\u001b[0m\u001b[0;34m,\u001b[0m \u001b[0;34m**\u001b[0m\u001b[0mkwargs\u001b[0m\u001b[0;34m)\u001b[0m\u001b[0;34m\u001b[0m\u001b[0;34m\u001b[0m\u001b[0m\n\u001b[0m\u001b[1;32m    536\u001b[0m \u001b[0;34m\u001b[0m\u001b[0m\n\u001b[1;32m    537\u001b[0m         \u001b[0;32mreturn\u001b[0m \u001b[0mwrapper\u001b[0m\u001b[0;34m\u001b[0m\u001b[0;34m\u001b[0m\u001b[0m\n",
      "\u001b[0;32m~/anaconda3/envs/xidplus/lib/python3.6/site-packages/astropy/io/votable/table.py\u001b[0m in \u001b[0;36mparse\u001b[0;34m(source, columns, invalid, verify, chunk_size, table_number, table_id, filename, unit_format, datatype_mapping, _debug_python_based_parser)\u001b[0m\n\u001b[1;32m    165\u001b[0m             _debug_python_based_parser=_debug_python_based_parser) as iterator:\n\u001b[1;32m    166\u001b[0m         return tree.VOTableFile(\n\u001b[0;32m--> 167\u001b[0;31m             config=config, pos=(1, 1)).parse(iterator, config)\n\u001b[0m\u001b[1;32m    168\u001b[0m \u001b[0;34m\u001b[0m\u001b[0m\n\u001b[1;32m    169\u001b[0m \u001b[0;34m\u001b[0m\u001b[0m\n",
      "\u001b[0;32m~/anaconda3/envs/xidplus/lib/python3.6/site-packages/astropy/io/votable/tree.py\u001b[0m in \u001b[0;36mparse\u001b[0;34m(self, iterator, config)\u001b[0m\n\u001b[1;32m   3573\u001b[0m             \u001b[0;32mif\u001b[0m \u001b[0mstart\u001b[0m\u001b[0;34m:\u001b[0m\u001b[0;34m\u001b[0m\u001b[0;34m\u001b[0m\u001b[0m\n\u001b[1;32m   3574\u001b[0m                 tag_mapping.get(tag, self._add_unknown_tag)(\n\u001b[0;32m-> 3575\u001b[0;31m                     iterator, tag, data, config, pos)\n\u001b[0m\u001b[1;32m   3576\u001b[0m             \u001b[0;32melif\u001b[0m \u001b[0mtag\u001b[0m \u001b[0;34m==\u001b[0m \u001b[0;34m'DESCRIPTION'\u001b[0m\u001b[0;34m:\u001b[0m\u001b[0;34m\u001b[0m\u001b[0;34m\u001b[0m\u001b[0m\n\u001b[1;32m   3577\u001b[0m                 \u001b[0;32mif\u001b[0m \u001b[0mself\u001b[0m\u001b[0;34m.\u001b[0m\u001b[0mdescription\u001b[0m \u001b[0;32mis\u001b[0m \u001b[0;32mnot\u001b[0m \u001b[0;32mNone\u001b[0m\u001b[0;34m:\u001b[0m\u001b[0;34m\u001b[0m\u001b[0;34m\u001b[0m\u001b[0m\n",
      "\u001b[0;32m~/anaconda3/envs/xidplus/lib/python3.6/site-packages/astropy/io/votable/tree.py\u001b[0m in \u001b[0;36m_add_resource\u001b[0;34m(self, iterator, tag, data, config, pos)\u001b[0m\n\u001b[1;32m   3483\u001b[0m         \u001b[0mresource\u001b[0m \u001b[0;34m=\u001b[0m \u001b[0mResource\u001b[0m\u001b[0;34m(\u001b[0m\u001b[0mconfig\u001b[0m\u001b[0;34m=\u001b[0m\u001b[0mconfig\u001b[0m\u001b[0;34m,\u001b[0m \u001b[0mpos\u001b[0m\u001b[0;34m=\u001b[0m\u001b[0mpos\u001b[0m\u001b[0;34m,\u001b[0m \u001b[0;34m**\u001b[0m\u001b[0mdata\u001b[0m\u001b[0;34m)\u001b[0m\u001b[0;34m\u001b[0m\u001b[0;34m\u001b[0m\u001b[0m\n\u001b[1;32m   3484\u001b[0m         \u001b[0mself\u001b[0m\u001b[0;34m.\u001b[0m\u001b[0mresources\u001b[0m\u001b[0;34m.\u001b[0m\u001b[0mappend\u001b[0m\u001b[0;34m(\u001b[0m\u001b[0mresource\u001b[0m\u001b[0;34m)\u001b[0m\u001b[0;34m\u001b[0m\u001b[0;34m\u001b[0m\u001b[0m\n\u001b[0;32m-> 3485\u001b[0;31m         \u001b[0mresource\u001b[0m\u001b[0;34m.\u001b[0m\u001b[0mparse\u001b[0m\u001b[0;34m(\u001b[0m\u001b[0mself\u001b[0m\u001b[0;34m,\u001b[0m \u001b[0miterator\u001b[0m\u001b[0;34m,\u001b[0m \u001b[0mconfig\u001b[0m\u001b[0;34m)\u001b[0m\u001b[0;34m\u001b[0m\u001b[0;34m\u001b[0m\u001b[0m\n\u001b[0m\u001b[1;32m   3486\u001b[0m \u001b[0;34m\u001b[0m\u001b[0m\n\u001b[1;32m   3487\u001b[0m     \u001b[0;32mdef\u001b[0m \u001b[0m_add_coosys\u001b[0m\u001b[0;34m(\u001b[0m\u001b[0mself\u001b[0m\u001b[0;34m,\u001b[0m \u001b[0miterator\u001b[0m\u001b[0;34m,\u001b[0m \u001b[0mtag\u001b[0m\u001b[0;34m,\u001b[0m \u001b[0mdata\u001b[0m\u001b[0;34m,\u001b[0m \u001b[0mconfig\u001b[0m\u001b[0;34m,\u001b[0m \u001b[0mpos\u001b[0m\u001b[0;34m)\u001b[0m\u001b[0;34m:\u001b[0m\u001b[0;34m\u001b[0m\u001b[0;34m\u001b[0m\u001b[0m\n",
      "\u001b[0;32m~/anaconda3/envs/xidplus/lib/python3.6/site-packages/astropy/io/votable/tree.py\u001b[0m in \u001b[0;36mparse\u001b[0;34m(self, votable, iterator, config)\u001b[0m\n\u001b[1;32m   3285\u001b[0m             \u001b[0;32mif\u001b[0m \u001b[0mstart\u001b[0m\u001b[0;34m:\u001b[0m\u001b[0;34m\u001b[0m\u001b[0;34m\u001b[0m\u001b[0m\n\u001b[1;32m   3286\u001b[0m                 tag_mapping.get(tag, self._add_unknown_tag)(\n\u001b[0;32m-> 3287\u001b[0;31m                     iterator, tag, data, config, pos)\n\u001b[0m\u001b[1;32m   3288\u001b[0m             \u001b[0;32melif\u001b[0m \u001b[0mtag\u001b[0m \u001b[0;34m==\u001b[0m \u001b[0;34m'DESCRIPTION'\u001b[0m\u001b[0;34m:\u001b[0m\u001b[0;34m\u001b[0m\u001b[0;34m\u001b[0m\u001b[0m\n\u001b[1;32m   3289\u001b[0m                 \u001b[0;32mif\u001b[0m \u001b[0mself\u001b[0m\u001b[0;34m.\u001b[0m\u001b[0mdescription\u001b[0m \u001b[0;32mis\u001b[0m \u001b[0;32mnot\u001b[0m \u001b[0;32mNone\u001b[0m\u001b[0;34m:\u001b[0m\u001b[0;34m\u001b[0m\u001b[0;34m\u001b[0m\u001b[0m\n",
      "\u001b[0;32m~/anaconda3/envs/xidplus/lib/python3.6/site-packages/astropy/io/votable/tree.py\u001b[0m in \u001b[0;36m_add_table\u001b[0;34m(self, iterator, tag, data, config, pos)\u001b[0m\n\u001b[1;32m   3230\u001b[0m         \u001b[0mtable\u001b[0m \u001b[0;34m=\u001b[0m \u001b[0mTable\u001b[0m\u001b[0;34m(\u001b[0m\u001b[0mself\u001b[0m\u001b[0;34m.\u001b[0m\u001b[0m_votable\u001b[0m\u001b[0;34m,\u001b[0m \u001b[0mconfig\u001b[0m\u001b[0;34m=\u001b[0m\u001b[0mconfig\u001b[0m\u001b[0;34m,\u001b[0m \u001b[0mpos\u001b[0m\u001b[0;34m=\u001b[0m\u001b[0mpos\u001b[0m\u001b[0;34m,\u001b[0m \u001b[0;34m**\u001b[0m\u001b[0mdata\u001b[0m\u001b[0;34m)\u001b[0m\u001b[0;34m\u001b[0m\u001b[0;34m\u001b[0m\u001b[0m\n\u001b[1;32m   3231\u001b[0m         \u001b[0mself\u001b[0m\u001b[0;34m.\u001b[0m\u001b[0mtables\u001b[0m\u001b[0;34m.\u001b[0m\u001b[0mappend\u001b[0m\u001b[0;34m(\u001b[0m\u001b[0mtable\u001b[0m\u001b[0;34m)\u001b[0m\u001b[0;34m\u001b[0m\u001b[0;34m\u001b[0m\u001b[0m\n\u001b[0;32m-> 3232\u001b[0;31m         \u001b[0mtable\u001b[0m\u001b[0;34m.\u001b[0m\u001b[0mparse\u001b[0m\u001b[0;34m(\u001b[0m\u001b[0miterator\u001b[0m\u001b[0;34m,\u001b[0m \u001b[0mconfig\u001b[0m\u001b[0;34m)\u001b[0m\u001b[0;34m\u001b[0m\u001b[0;34m\u001b[0m\u001b[0m\n\u001b[0m\u001b[1;32m   3233\u001b[0m \u001b[0;34m\u001b[0m\u001b[0m\n\u001b[1;32m   3234\u001b[0m     \u001b[0;32mdef\u001b[0m \u001b[0m_add_info\u001b[0m\u001b[0;34m(\u001b[0m\u001b[0mself\u001b[0m\u001b[0;34m,\u001b[0m \u001b[0miterator\u001b[0m\u001b[0;34m,\u001b[0m \u001b[0mtag\u001b[0m\u001b[0;34m,\u001b[0m \u001b[0mdata\u001b[0m\u001b[0;34m,\u001b[0m \u001b[0mconfig\u001b[0m\u001b[0;34m,\u001b[0m \u001b[0mpos\u001b[0m\u001b[0;34m)\u001b[0m\u001b[0;34m:\u001b[0m\u001b[0;34m\u001b[0m\u001b[0;34m\u001b[0m\u001b[0m\n",
      "\u001b[0;32m~/anaconda3/envs/xidplus/lib/python3.6/site-packages/astropy/io/votable/tree.py\u001b[0m in \u001b[0;36mparse\u001b[0;34m(self, iterator, config)\u001b[0m\n\u001b[1;32m   2511\u001b[0m                             'BINARY', data.keys(), config, pos)\n\u001b[1;32m   2512\u001b[0m                         self.array = self._parse_binary(\n\u001b[0;32m-> 2513\u001b[0;31m                             1, iterator, colnumbers, fields, config, pos)\n\u001b[0m\u001b[1;32m   2514\u001b[0m                         \u001b[0;32mbreak\u001b[0m\u001b[0;34m\u001b[0m\u001b[0;34m\u001b[0m\u001b[0m\n\u001b[1;32m   2515\u001b[0m                     \u001b[0;32melif\u001b[0m \u001b[0mtag\u001b[0m \u001b[0;34m==\u001b[0m \u001b[0;34m'BINARY2'\u001b[0m\u001b[0;34m:\u001b[0m\u001b[0;34m\u001b[0m\u001b[0;34m\u001b[0m\u001b[0m\n",
      "\u001b[0;32m~/anaconda3/envs/xidplus/lib/python3.6/site-packages/astropy/io/votable/tree.py\u001b[0m in \u001b[0;36m_parse_binary\u001b[0;34m(self, mode, iterator, colnumbers, fields, config, pos)\u001b[0m\n\u001b[1;32m   2759\u001b[0m                 \u001b[0;32mfor\u001b[0m \u001b[0mi\u001b[0m\u001b[0;34m,\u001b[0m \u001b[0mbinparse\u001b[0m \u001b[0;32min\u001b[0m \u001b[0menumerate\u001b[0m\u001b[0;34m(\u001b[0m\u001b[0mbinparsers\u001b[0m\u001b[0;34m)\u001b[0m\u001b[0;34m:\u001b[0m\u001b[0;34m\u001b[0m\u001b[0;34m\u001b[0m\u001b[0m\n\u001b[1;32m   2760\u001b[0m                     \u001b[0;32mtry\u001b[0m\u001b[0;34m:\u001b[0m\u001b[0;34m\u001b[0m\u001b[0;34m\u001b[0m\u001b[0m\n\u001b[0;32m-> 2761\u001b[0;31m                         \u001b[0mvalue\u001b[0m\u001b[0;34m,\u001b[0m \u001b[0mvalue_mask\u001b[0m \u001b[0;34m=\u001b[0m \u001b[0mbinparse\u001b[0m\u001b[0;34m(\u001b[0m\u001b[0mcareful_read\u001b[0m\u001b[0;34m)\u001b[0m\u001b[0;34m\u001b[0m\u001b[0;34m\u001b[0m\u001b[0m\n\u001b[0m\u001b[1;32m   2762\u001b[0m                     \u001b[0;32mexcept\u001b[0m \u001b[0mEOFError\u001b[0m\u001b[0;34m:\u001b[0m\u001b[0;34m\u001b[0m\u001b[0;34m\u001b[0m\u001b[0m\n\u001b[1;32m   2763\u001b[0m                         \u001b[0;32mraise\u001b[0m\u001b[0;34m\u001b[0m\u001b[0;34m\u001b[0m\u001b[0m\n",
      "\u001b[0;32m~/anaconda3/envs/xidplus/lib/python3.6/site-packages/astropy/io/votable/converters.py\u001b[0m in \u001b[0;36mbinparse\u001b[0;34m(self, read)\u001b[0m\n\u001b[1;32m    672\u001b[0m         result = np.frombuffer(read(self._memsize),\n\u001b[1;32m    673\u001b[0m                                dtype=self._bigendian_format)\n\u001b[0;32m--> 674\u001b[0;31m         \u001b[0;32mreturn\u001b[0m \u001b[0mresult\u001b[0m\u001b[0;34m[\u001b[0m\u001b[0;36m0\u001b[0m\u001b[0;34m]\u001b[0m\u001b[0;34m,\u001b[0m \u001b[0mself\u001b[0m\u001b[0;34m.\u001b[0m\u001b[0mis_null\u001b[0m\u001b[0;34m(\u001b[0m\u001b[0mresult\u001b[0m\u001b[0;34m[\u001b[0m\u001b[0;36m0\u001b[0m\u001b[0;34m]\u001b[0m\u001b[0;34m)\u001b[0m\u001b[0;34m\u001b[0m\u001b[0;34m\u001b[0m\u001b[0m\n\u001b[0m\u001b[1;32m    675\u001b[0m \u001b[0;34m\u001b[0m\u001b[0m\n\u001b[1;32m    676\u001b[0m     \u001b[0;32mdef\u001b[0m \u001b[0m_is_null\u001b[0m\u001b[0;34m(\u001b[0m\u001b[0mself\u001b[0m\u001b[0;34m,\u001b[0m \u001b[0mvalue\u001b[0m\u001b[0;34m)\u001b[0m\u001b[0;34m:\u001b[0m\u001b[0;34m\u001b[0m\u001b[0;34m\u001b[0m\u001b[0m\n",
      "\u001b[0;31mKeyboardInterrupt\u001b[0m: "
     ]
    }
   ],
   "source": [
    "priors,prior_list=process_prior(\n",
    "                path_to_data=['../../../data/'],\n",
    "                  source=source,\n",
    "                  field=field,\n",
    "                  path_to_SPIRE=path_to_SPIRE,\n",
    "                  redshift_file=redshift_file,\n",
    "                  redshift_prior=[0.1,2.0])\n",
    "xidplus.save(priors,None,'./output/{}/prior_'.format(field[0])+esb['field'][source[0]]+'_'+str(source[0])+'_model1')\n",
    "prior_list.write('./output/{}/prior_list_'.format(field[0])+esb['field'][source[0]]+'_'+str(source[0])+'_model1.ascii',format='ascii',overwrite=True)"
   ]
  },
  {
   "cell_type": "code",
   "execution_count": null,
   "id": "0dc8b799",
   "metadata": {
    "papermill": {
     "duration": null,
     "end_time": null,
     "exception": null,
     "start_time": null,
     "status": "completed"
    },
    "tags": []
   },
   "outputs": [],
   "source": []
  },
  {
   "cell_type": "code",
   "execution_count": null,
   "id": "94e4410b",
   "metadata": {
    "papermill": {
     "duration": null,
     "end_time": null,
     "exception": null,
     "start_time": null,
     "status": "completed"
    },
    "tags": []
   },
   "outputs": [],
   "source": [
    "def create_phys_prior(priors,prior_list,emulator_path):\n",
    "    z_mu=np.empty((priors[1].nsrc))\n",
    "    z_sig=np.empty((priors[1].nsrc))\n",
    "\n",
    "    for x,i in enumerate(priors[1].ID):\n",
    "        \n",
    "        ind=prior_list['help_id']==str(i)\n",
    "        z_mu[x]=prior_list['redshift'][ind]\n",
    "        z_sig[x]=prior_list['redshift_unc'][ind]\n",
    "\n",
    "    \n",
    "\n",
    "    sfr_mu=1.5*z_mu+1.0\n",
    "    sfr_sig=np.full(priors[1].nsrc,0.5)\n",
    "\n",
    "    agn_frac_mu=np.full(priors[1].nsrc,-1)\n",
    "    agn_frac_sig=np.full(priors[1].nsrc,1)\n",
    "    params_mu=np.vstack((sfr_mu,z_mu)).T\n",
    "    params_sig=np.vstack((sfr_sig,z_sig)).T\n",
    "    params_names=['log10sfr','z']\n",
    "    \n",
    "    return xidplus.hier_prior(priors[1].ID,params_mu,params_sig,params_names,emulator_path[0])"
   ]
  },
  {
   "cell_type": "code",
   "execution_count": null,
   "id": "df582854",
   "metadata": {
    "papermill": {
     "duration": null,
     "end_time": null,
     "exception": null,
     "start_time": null,
     "status": "completed"
    },
    "tags": []
   },
   "outputs": [],
   "source": [
    "hier_params={'m_mu':0.8,'m_sig':0.4,'c_mu':-1.0,'c_sig':0.5,'sfr_disp':0.5}\n",
    "phys_prior=create_phys_prior(priors,prior_list,emulator_path)"
   ]
  },
  {
   "cell_type": "code",
   "execution_count": null,
   "id": "9976440e",
   "metadata": {
    "papermill": {
     "duration": null,
     "end_time": null,
     "exception": null,
     "start_time": null,
     "status": "completed"
    },
    "tags": []
   },
   "outputs": [],
   "source": [
    "from numpyro.infer import Predictive\n",
    "from jax import random, vmap\n",
    "from xidplus.numpyro_fit import SED_prior\n",
    "\n",
    "rng_key = random.PRNGKey(0)\n",
    "rng_key, rng_key_ = random.split(rng_key)"
   ]
  },
  {
   "cell_type": "code",
   "execution_count": null,
   "id": "335dbf5d",
   "metadata": {
    "papermill": {
     "duration": null,
     "end_time": null,
     "exception": null,
     "start_time": null,
     "status": "completed"
    },
    "tags": []
   },
   "outputs": [],
   "source": [
    "\n",
    "## For numpyro to sample from the prior, the data needs to be set to None\n",
    "import copy\n",
    "#make a deepcopy of the priors\n",
    "priors_prior_pred=copy.deepcopy(priors)\n",
    "#set data to None\n",
    "for i in range(0,len(priors)):\n",
    "    priors_prior_pred[i].sim=None"
   ]
  },
  {
   "cell_type": "code",
   "execution_count": null,
   "id": "4a3c88aa",
   "metadata": {
    "papermill": {
     "duration": null,
     "end_time": null,
     "exception": null,
     "start_time": null,
     "status": "completed"
    },
    "tags": []
   },
   "outputs": [],
   "source": [
    "%%time \n",
    "#sample from the prior using numpyro's Predictive function\n",
    "prior_predictive=Predictive(SED_prior.spire_model_CIGALE,posterior_samples = {}, num_samples = 1000,)\n",
    "prior_pred=prior_predictive(random.PRNGKey(0),priors_prior_pred,phys_prior,hier_params)"
   ]
  },
  {
   "cell_type": "markdown",
   "id": "7bbada6e",
   "metadata": {
    "papermill": {
     "duration": null,
     "end_time": null,
     "exception": null,
     "start_time": null,
     "status": "completed"
    },
    "tags": []
   },
   "source": [
    "## First pass"
   ]
  },
  {
   "cell_type": "code",
   "execution_count": null,
   "id": "405b76e7",
   "metadata": {
    "papermill": {
     "duration": null,
     "end_time": null,
     "exception": null,
     "start_time": null,
     "status": "completed"
    },
    "tags": []
   },
   "outputs": [],
   "source": [
    "import numpyro\n",
    "from numpyro.diagnostics import summary\n",
    "import jax.numpy as jnp\n",
    "from numpyro.infer import NUTS,MCMC\n",
    "import os\n",
    "numpyro.set_host_device_count(4)\n",
    "from operator import attrgetter\n",
    "\n",
    "def fit_model(phys_prior,hier_params,num_samples=500, num_warmup=500,num_chains=4,chain_method='parallel'):\n",
    "    nuts_kernel = NUTS(SED_prior.spire_model_CIGALE,init_strategy=numpyro.infer.init_to_feasible())\n",
    "    mcmc = MCMC(nuts_kernel, num_samples=num_samples, num_warmup=num_warmup,num_chains=num_chains,chain_method=chain_method)\n",
    "    rng_key = random.PRNGKey(0)\n",
    "    mcmc.run(rng_key,priors,phys_prior,hier_params)\n",
    "    return mcmc"
   ]
  },
  {
   "cell_type": "code",
   "execution_count": null,
   "id": "a3951e7a",
   "metadata": {
    "papermill": {
     "duration": null,
     "end_time": null,
     "exception": null,
     "start_time": null,
     "status": "completed"
    },
    "tags": []
   },
   "outputs": [],
   "source": [
    "n_chains=4\n",
    "mcmc=fit_model(phys_prior,hier_params,num_samples=500, num_warmup=500,num_chains=n_chains,chain_method='parallel')"
   ]
  },
  {
   "cell_type": "code",
   "execution_count": null,
   "id": "cd3c38b7",
   "metadata": {
    "papermill": {
     "duration": null,
     "end_time": null,
     "exception": null,
     "start_time": null,
     "status": "completed"
    },
    "tags": []
   },
   "outputs": [],
   "source": [
    "from operator import attrgetter\n",
    "from numpyro.diagnostics import summary\n",
    "import jax.numpy as jnp\n",
    "import os\n",
    "samples=mcmc.get_samples()\n",
    "divergences=mcmc.get_extra_fields()['diverging']\n",
    "prob = 0.9\n",
    "exclude_deterministic = True\n",
    "sites = mcmc._states[mcmc._sample_field]\n",
    "if isinstance(sites, dict) and exclude_deterministic:\n",
    "    state_sample_field = attrgetter(mcmc._sample_field)(mcmc._last_state)\n",
    "    # XXX: there might be the case that state.z is not a dictionary but\n",
    "    # its postprocessed value `sites` is a dictionary.\n",
    "    # TODO: in general, when both `sites` and `state.z` are dictionaries,\n",
    "    # they can have different key names, not necessary due to deterministic\n",
    "    # behavior. We might revise this logic if needed in the future.\n",
    "    if isinstance(state_sample_field, dict):\n",
    "        sites = {k: v for k, v in mcmc._states[mcmc._sample_field].items()\n",
    "                 if k in state_sample_field}\n",
    "\n",
    "stats_summary = summary(sites, prob=prob)"
   ]
  },
  {
   "cell_type": "markdown",
   "id": "7a456347",
   "metadata": {
    "papermill": {
     "duration": null,
     "end_time": null,
     "exception": null,
     "start_time": null,
     "status": "completed"
    },
    "tags": []
   },
   "source": [
    "## Check diagnostics\n",
    "When running any MCMC algorithm, you need to check that it has explored the full posterior probability space, and not got stuck in local minima. The standard MCMC diagnostics are:\n",
    "* $\\hat{R}$ compares variation within and between chains. You want $\\hat{R} < 1.1$\n",
    "* $n_{eff}$ effective sample size which is a measure of autocorrelation within the chains. More autocorrelation increases uncertainty in estimates. Typical MCMC has a low $n_{eff}$ and requires thinning (as to keep all samples would be too memory intensive). Since NUTS HMC is efficient, there is little need to chuck samples away. If $n_{eff} / N < 0.001$, then there is a problem with model\n",
    "\n",
    "The other diagnostic, exclusive to The NUTS sampler, is the identification of `divergent transitions`. These identify areas in parameter space where because of some the gradient is very different to the rest of parameter space, such that the tuned NUTS sampler cannot perform its next step accuractely. These tend to occur in funnel like or VERY correlated posterior spaces. Another good explanation can be found [here](https://dev.to/martinmodrak/taming-divergences-in-stan-models-5762). If `divergent transitions` are found, the posterior cannot be trusted and some reparamaterisation is required. Note: Standard MCMC algorithms cannot identify divergent transitions, but that does not mean they do not occur."
   ]
  },
  {
   "cell_type": "code",
   "execution_count": null,
   "id": "a991df94",
   "metadata": {
    "papermill": {
     "duration": null,
     "end_time": null,
     "exception": null,
     "start_time": null,
     "status": "completed"
    },
    "tags": []
   },
   "outputs": [],
   "source": [
    "fig,axes=plt.subplots(2,len(samples),figsize=(2*len(samples),10))\n",
    "for i,k in enumerate(samples):\n",
    "\n",
    "    axes[0,i].hist(stats_summary[k]['r_hat'].flatten(),color='Blue',bins=np.arange(0.5,2,0.1))\n",
    "    axes[1,i].hist(stats_summary[k]['n_eff'].flatten(),color='Blue',bins=np.arange(0,samples['m'].shape[0],100))\n",
    "    axes[0,i].set_xlabel(k+' $ \\hat{R}$')\n",
    "    axes[0,i].set_title('Div. Trans= {}'.format(np.sum(divergences)))\n",
    "    axes[1,i].set_xlabel(k+' $ n_{eff}$')\n",
    "plt.subplots_adjust(hspace=0.5,wspace=0.5)"
   ]
  },
  {
   "cell_type": "markdown",
   "id": "c4ab4a22",
   "metadata": {
    "papermill": {
     "duration": null,
     "end_time": null,
     "exception": null,
     "start_time": null,
     "status": "completed"
    },
    "tags": []
   },
   "source": [
    "All diagnostics look fine. "
   ]
  },
  {
   "cell_type": "markdown",
   "id": "f9c3f746",
   "metadata": {
    "papermill": {
     "duration": null,
     "end_time": null,
     "exception": null,
     "start_time": null,
     "status": "completed"
    },
    "tags": []
   },
   "source": [
    "## Posterior Probability distributions"
   ]
  },
  {
   "cell_type": "markdown",
   "id": "c800da7e",
   "metadata": {
    "papermill": {
     "duration": null,
     "end_time": null,
     "exception": null,
     "start_time": null,
     "status": "completed"
    },
    "tags": []
   },
   "source": [
    "#### Hierarchical parameters"
   ]
  },
  {
   "cell_type": "code",
   "execution_count": null,
   "id": "8dc0b16b",
   "metadata": {
    "papermill": {
     "duration": null,
     "end_time": null,
     "exception": null,
     "start_time": null,
     "status": "completed"
    },
    "tags": []
   },
   "outputs": [],
   "source": [
    "import pandas as pd\n",
    "hier_param_names=['m','c','sfr_sig']\n",
    "\n",
    "df_prior=pd.DataFrame(np.array([prior_pred[s] for s in hier_param_names]).T,columns=hier_param_names)\n",
    "g=sns.PairGrid(df_prior)\n",
    "g.map_lower(plt.scatter,alpha=0.5,color='Red')\n",
    "g.map_diag(plt.hist,alpha=0.5,histtype='step',linewidth=3.0,color='Red',density=True)\n",
    "\n",
    "df_post=pd.DataFrame(np.array([samples[s] for s in hier_param_names]).T,columns=hier_param_names)\n",
    "g.data=df_post\n",
    "g.map_lower(plt.scatter,alpha=0.5,color='Blue')\n",
    "g.map_diag(plt.hist,alpha=0.5,histtype='step',linewidth=3.0,color='Blue',density=True)\n",
    "g.map_upper(sns.kdeplot,alpha=0.5,color='Blue',n_levels=5, shade=False,linewidth=3.0,shade_lowest=False)\n",
    "\n",
    "#for some reason the contour plots will delete other plots so do last\n",
    "g.data=df_prior\n",
    "g.map_upper(sns.kdeplot,alpha=0.5,color='Red',n_levels=5, shade=False,linewidth=3.0,shade_lowest=False)"
   ]
  },
  {
   "cell_type": "markdown",
   "id": "a6509fb7",
   "metadata": {
    "papermill": {
     "duration": null,
     "end_time": null,
     "exception": null,
     "start_time": null,
     "status": "completed"
    },
    "tags": []
   },
   "source": [
    "#### Source parameters "
   ]
  },
  {
   "cell_type": "code",
   "execution_count": null,
   "id": "f4b6aac4",
   "metadata": {
    "papermill": {
     "duration": null,
     "end_time": null,
     "exception": null,
     "start_time": null,
     "status": "completed"
    },
    "tags": []
   },
   "outputs": [],
   "source": [
    "fig,axes=plt.subplots(3,1,figsize=(50,10))\n",
    "phys_params=['sfr','agn','redshift']\n",
    "for i ,p in enumerate(phys_params):\n",
    "    v_plot=axes[i].violinplot(prior_pred[p].T,showextrema=False);\n",
    "    plt.setp(v_plot['bodies'], facecolor='Red')\n",
    "    v_plot=axes[i].violinplot(samples[p].T,showextrema=False);\n",
    "    plt.setp(v_plot['bodies'], facecolor='Blue')\n",
    "\n",
    "axes[0].set_ylabel('$\\log_{10} SFR$')\n",
    "axes[1].set_ylabel('AGN frac')\n",
    "axes[2].set_ylabel('Redshift')"
   ]
  },
  {
   "cell_type": "markdown",
   "id": "505e40b3",
   "metadata": {
    "papermill": {
     "duration": null,
     "end_time": null,
     "exception": null,
     "start_time": null,
     "status": "completed"
    },
    "tags": []
   },
   "source": [
    "### Posterior Predicitive Checks"
   ]
  },
  {
   "cell_type": "code",
   "execution_count": null,
   "id": "7859bf97",
   "metadata": {
    "papermill": {
     "duration": null,
     "end_time": null,
     "exception": null,
     "start_time": null,
     "status": "completed"
    },
    "tags": []
   },
   "outputs": [],
   "source": [
    "%%time \n",
    "#sample from the prior using numpyro's Predictive function\n",
    "prior_predictive_samp=Predictive(SED_prior.spire_model_CIGALE,posterior_samples = samples, num_samples = 50)\n",
    "prior_pred_samp=prior_predictive_samp(random.PRNGKey(0),priors_prior_pred,phys_prior,hier_params)\n",
    "mod_map_array_samp=[prior_pred_samp['obs_psw'].T,prior_pred_samp['obs_pmw'].T,prior_pred_samp['obs_plw'].T]"
   ]
  },
  {
   "cell_type": "code",
   "execution_count": null,
   "id": "91eba364",
   "metadata": {
    "papermill": {
     "duration": null,
     "end_time": null,
     "exception": null,
     "start_time": null,
     "status": "completed"
    },
    "tags": []
   },
   "outputs": [],
   "source": [
    "#feed the model map arrays the animation function\n",
    "xidplus.plots.make_map_animation(priors,mod_map_array_samp,50)"
   ]
  },
  {
   "cell_type": "code",
   "execution_count": null,
   "id": "e2fda422",
   "metadata": {
    "papermill": {
     "duration": null,
     "end_time": null,
     "exception": null,
     "start_time": null,
     "status": "completed"
    },
    "scrolled": true,
    "tags": []
   },
   "outputs": [],
   "source": [
    "figures,fig=xidplus.plot_map(priors)"
   ]
  },
  {
   "cell_type": "markdown",
   "id": "512f343a",
   "metadata": {
    "papermill": {
     "duration": null,
     "end_time": null,
     "exception": null,
     "start_time": null,
     "status": "completed"
    },
    "tags": []
   },
   "source": [
    "## Save the samples using arviz"
   ]
  },
  {
   "cell_type": "code",
   "execution_count": null,
   "id": "dcdf322a",
   "metadata": {
    "papermill": {
     "duration": null,
     "end_time": null,
     "exception": null,
     "start_time": null,
     "status": "completed"
    },
    "tags": []
   },
   "outputs": [],
   "source": [
    "import arviz as az"
   ]
  },
  {
   "cell_type": "code",
   "execution_count": null,
   "id": "0fadd6b2",
   "metadata": {
    "papermill": {
     "duration": null,
     "end_time": null,
     "exception": null,
     "start_time": null,
     "status": "completed"
    },
    "tags": []
   },
   "outputs": [],
   "source": [
    "numpyro_data = az.from_numpyro(\n",
    "    mcmc,\n",
    "    prior=prior_pred,\n",
    "    posterior_predictive=prior_pred_samp,\n",
    "    coords={\"src\": np.arange(0,priors[0].nsrc),\n",
    "           \"band\":np.arange(0,3)},\n",
    "    dims={\"agn\": [\"src\"],\n",
    "         \"bkg\":[\"band\"],\n",
    "         \"redshift\":[\"src\"],\n",
    "          \"sfr\":[\"src\"]},\n",
    ")"
   ]
  },
  {
   "cell_type": "code",
   "execution_count": null,
   "id": "119ef869",
   "metadata": {
    "papermill": {
     "duration": null,
     "end_time": null,
     "exception": null,
     "start_time": null,
     "status": "completed"
    },
    "tags": []
   },
   "outputs": [],
   "source": [
    "numpyro_data.to_netcdf('./output/{}/posterior_'.format(field[0])+esb['field'][source[0]]+'_'+str(source[0])+'_model1.nc')"
   ]
  },
  {
   "cell_type": "code",
   "execution_count": null,
   "id": "69446296",
   "metadata": {
    "papermill": {
     "duration": null,
     "end_time": null,
     "exception": null,
     "start_time": null,
     "status": "completed"
    },
    "tags": []
   },
   "outputs": [],
   "source": [
    "from xidplus import postmaps\n",
    "import aplpy\n",
    "sns.set_style(\"white\")\n",
    "cmap = sns.diverging_palette(220, 20, as_cmap=True)\n",
    "Bayes_pvals = []\n",
    "hdulists = list(map(lambda prior: postmaps.make_fits_image(prior, prior.sim), priors))\n",
    "fig = plt.figure(figsize=(10 * len(priors), 10))\n",
    "figs = []\n",
    "for i in range(0, len(priors)):\n",
    "    figs.append(aplpy.FITSFigure(hdulists[i][1], figure=fig, subplot=(1, len(priors), i + 1)))\n",
    "    Bayes_pvals.append(postmaps.make_Bayesian_pval_maps(priors[i], mod_map_array_samp[i]))\n",
    "    \n",
    "    \n",
    "for i in range(0, len(priors)):\n",
    "    figs[i].show_markers(priors[i].sra, priors[i].sdec, edgecolor='black', facecolor='black',\n",
    "                         marker='o', s=20, alpha=0.5)\n",
    "    figs[i].tick_labels.set_xformat('dd.dd')\n",
    "    figs[i].tick_labels.set_yformat('dd.dd')\n",
    "    figs[i]._data[\n",
    "        priors[i].sy_pix - np.min(priors[i].sy_pix) - 1, priors[i].sx_pix - np.min(priors[i].sx_pix) - 1] = \\\n",
    "    Bayes_pvals[i]\n",
    "    figs[i].show_colorscale(vmin=-6, vmax=6, cmap=cmap)\n",
    "    figs[i].add_colorbar()\n",
    "    figs[i].colorbar.set_location('top')"
   ]
  },
  {
   "cell_type": "code",
   "execution_count": null,
   "id": "801bc121",
   "metadata": {
    "papermill": {
     "duration": null,
     "end_time": null,
     "exception": null,
     "start_time": null,
     "status": "completed"
    },
    "tags": []
   },
   "outputs": [],
   "source": [
    "fits_images=[postmaps.make_fits_image(priors[i],postmaps.make_Bayesian_pval_maps(priors[i], mod_map_array_samp[i])) for i in range(0,3)]\n",
    "\n"
   ]
  },
  {
   "cell_type": "code",
   "execution_count": null,
   "id": "e0c50a26",
   "metadata": {
    "papermill": {
     "duration": null,
     "end_time": null,
     "exception": null,
     "start_time": null,
     "status": "completed"
    },
    "tags": []
   },
   "outputs": [],
   "source": [
    "def Bayes_pval_sources(fits_images):\n",
    "    #reproject\n",
    "    from reproject import reproject_interp\n",
    "    array350, footprint350 = reproject_interp(fits_images[1][1], fits_images[0][1].header,order=0)\n",
    "    array500, footprint500 = reproject_interp(fits_images[2][1], fits_images[0][1].header,order=0)\n",
    "    \n",
    "    # get xx and yy\n",
    "    xx,yy=np.meshgrid(np.arange(0,array350.shape[0]),np.arange(0,array350.shape[1]))\n",
    "    \n",
    "    #get average zscore\n",
    "    combined_pval_map=(fits_images[0][1].data+array350+array500)/3.0\n",
    "    ind=combined_pval_map>2\n",
    "    \n",
    "    from sklearn.cluster import DBSCAN\n",
    "    X=np.vstack((xx[ind],yy[ind])).T\n",
    "    \n",
    "    # Compute DBSCAN\n",
    "    db = DBSCAN(eps=2, min_samples=2).fit(X)\n",
    "    labels = db.labels_\n",
    "    # Number of clusters in labels, ignoring noise if present.\n",
    "    n_clusters_ = len(set(labels)) - (1 if -1 in labels else 0)\n",
    "    \n",
    "    from astropy.table import QTable\n",
    "    from astropy.wcs import WCS\n",
    "\n",
    "    w=WCS(fits_images[0][1].header)\n",
    "    pix_coords=np.asarray([[np.mean(xx[ind][labels==i]),np.mean(yy[ind][labels==i])] for i in range(0,n_clusters_)])\n",
    "   \n",
    "    coords_new=w.pixel_to_world(pix_coords[:,0],pix_coords[:,1])\n",
    "    t=QTable()\n",
    "    t['ra']=coords_new.ra\n",
    "    t['dec']=coords_new.dec\n",
    "    return t"
   ]
  },
  {
   "cell_type": "code",
   "execution_count": null,
   "id": "e92437f7",
   "metadata": {
    "papermill": {
     "duration": null,
     "end_time": null,
     "exception": null,
     "start_time": null,
     "status": "completed"
    },
    "tags": []
   },
   "outputs": [],
   "source": [
    "t=Bayes_pval_sources(fits_images)"
   ]
  },
  {
   "cell_type": "code",
   "execution_count": null,
   "id": "dae4c5fd",
   "metadata": {
    "papermill": {
     "duration": null,
     "end_time": null,
     "exception": null,
     "start_time": null,
     "status": "completed"
    },
    "tags": []
   },
   "outputs": [],
   "source": [
    "t=Bayes_pval_sources(fits_images)\n",
    "if len(t)>0:\n",
    "    priors,prior_list=process_prior(t,\n",
    "                    path_to_data=['../../../data/'],\n",
    "                      source=source,\n",
    "                      field=field,\n",
    "                      path_to_SPIRE=path_to_SPIRE,\n",
    "                      redshift_file=redshift_file,\n",
    "                      redshift_prior=[0.1,2.0],radius=10)\n",
    "    xidplus.save(priors,None,'./output/{}/prior_'.format(field[0])+esb['field'][source[0]]+'_'+str(source[0])+'_model2')\n",
    "    prior_list.write('./output/{}/prior_list_'.format(field[0])+esb['field'][source[0]]+'_'+str(source[0])+'_model2.ascii',format='ascii',overwrite=True)\n",
    "    hier_params={'m_mu':0.8,'m_sig':0.4,'c_mu':-1.0,'c_sig':0.5,'sfr_disp':0.5}\n",
    "    phys_prior=create_phys_prior(priors,prior_list,emulator_path)\n",
    "    mcmc=fit_model(phys_prior,hier_params,num_samples=500, num_warmup=500,num_chains=n_chains,chain_method='parallel')\n",
    "\n",
    "    ## For numpyro to sample from the prior, the data needs to be set to None\n",
    "    import copy\n",
    "    #make a deepcopy of the priors\n",
    "    priors_prior_pred=copy.deepcopy(priors)\n",
    "    #set data to None\n",
    "    for i in range(0,len(priors)):\n",
    "        priors_prior_pred[i].sim=None\n",
    "    #sample from the prior using numpyro's Predictive function\n",
    "    prior_predictive=Predictive(SED_prior.spire_model_CIGALE,posterior_samples = {}, num_samples = 1000,)\n",
    "    prior_pred=prior_predictive(random.PRNGKey(0),priors_prior_pred,phys_prior,hier_params)\n",
    "    \n",
    "    #sample from the prior using numpyro's Predictive function\n",
    "    prior_predictive_samp=Predictive(SED_prior.spire_model_CIGALE,posterior_samples = mcmc.get_samples(), num_samples = 50)\n",
    "    prior_pred_samp=prior_predictive_samp(random.PRNGKey(0),priors_prior_pred,phys_prior,hier_params)\n",
    "    mod_map_array_samp=[prior_pred_samp['obs_psw'].T,prior_pred_samp['obs_pmw'].T,prior_pred_samp['obs_plw'].T]\n",
    "    samples=mcmc.get_samples()\n",
    "    divergences=mcmc.get_extra_fields()['diverging']\n",
    "    numpyro_data = az.from_numpyro(\n",
    "        mcmc,\n",
    "        prior=prior_pred,\n",
    "        posterior_predictive=prior_pred_samp,\n",
    "        coords={\"src\": np.arange(0,priors[0].nsrc),\n",
    "               \"band\":np.arange(0,3)},\n",
    "        dims={\"agn\": [\"src\"],\n",
    "             \"bkg\":[\"band\"],\n",
    "             \"redshift\":[\"src\"],\n",
    "              \"sfr\":[\"src\"]},\n",
    "        )\n",
    "    numpyro_data.to_netcdf('./output/{}/posterior_'.format(field[0])+esb['field'][source[0]]+'_'+str(source[0])+'_model2.nc')\n",
    "    \n",
    "    from xidplus import postmaps\n",
    "    import aplpy\n",
    "    sns.set_style(\"white\")\n",
    "    cmap = sns.diverging_palette(220, 20, as_cmap=True)\n",
    "    Bayes_pvals = []\n",
    "    hdulists = list(map(lambda prior: postmaps.make_fits_image(prior, prior.sim), priors))\n",
    "    fig = plt.figure(figsize=(10 * len(priors), 10))\n",
    "    figs = []\n",
    "    for i in range(0, len(priors)):\n",
    "        figs.append(aplpy.FITSFigure(hdulists[i][1], figure=fig, subplot=(1, len(priors), i + 1)))\n",
    "        Bayes_pvals.append(postmaps.make_Bayesian_pval_maps(priors[i], mod_map_array_samp[i]))\n",
    "\n",
    "\n",
    "    for i in range(0, len(priors)):\n",
    "        figs[i].show_markers(priors[i].sra, priors[i].sdec, edgecolor='black', facecolor='black',\n",
    "                             marker='o', s=20, alpha=0.5)\n",
    "        figs[i].tick_labels.set_xformat('dd.dd')\n",
    "        figs[i].tick_labels.set_yformat('dd.dd')\n",
    "        figs[i]._data[\n",
    "            priors[i].sy_pix - np.min(priors[i].sy_pix) - 1, priors[i].sx_pix - np.min(priors[i].sx_pix) - 1] = \\\n",
    "        Bayes_pvals[i]\n",
    "        figs[i].show_colorscale(vmin=-6, vmax=6, cmap=cmap)\n",
    "        figs[i].add_colorbar()\n",
    "        figs[i].colorbar.set_location('top')"
   ]
  },
  {
   "cell_type": "markdown",
   "id": "2d979203",
   "metadata": {
    "papermill": {
     "duration": null,
     "end_time": null,
     "exception": null,
     "start_time": null,
     "status": "completed"
    },
    "tags": []
   },
   "source": [
    "Read in the source we are interested in from Rowan-Robinsons's catalogue."
   ]
  },
  {
   "cell_type": "code",
   "execution_count": null,
   "id": "1237e875",
   "metadata": {
    "papermill": {
     "duration": null,
     "end_time": null,
     "exception": null,
     "start_time": null,
     "status": "completed"
    },
    "tags": []
   },
   "outputs": [],
   "source": [
    "\n",
    "\n",
    "from astropy.coordinates import SkyCoord\n",
    "from astropy import units as u\n",
    "import os\n",
    "\n",
    "c = SkyCoord(ra=[esb['RA'][source[0]]]*u.degree, dec=[esb['Dec'][source[0]]]*u.degree)"
   ]
  },
  {
   "cell_type": "code",
   "execution_count": null,
   "id": "639eef20",
   "metadata": {
    "papermill": {
     "duration": null,
     "end_time": null,
     "exception": null,
     "start_time": null,
     "status": "completed"
    },
    "tags": []
   },
   "outputs": [],
   "source": [
    "#Run the DAOstarfinder on the original maps for all SPIRE bands\n",
    "from photutils import DAOStarFinder\n",
    "fwhm=[17.6,23.9,35.2]\n",
    "new_scat_flux=[]\n",
    "new_scat_pos=[]\n",
    "for b in range(0,len(priors)):\n",
    "    tmp_fits=postmaps.make_fits_image(priors[b],priors[b].sim)\n",
    "    wcs_temp = wcs.WCS(tmp_fits[1].header)\n",
    "    daofind = DAOStarFinder(fwhm=fwhm[b]/np.abs(tmp_fits[1].header['CD1_1']*3600.0), threshold=5.0,sky=0.0,roundlo=- 10.0,roundhi= 10.0,sharplo=-5,sharphi=5)    \n",
    "    new_scat = daofind(tmp_fits[1].data)\n",
    "    new_scat_coords=wcs_temp.pixel_to_world(new_scat['xcentroid'],new_scat['ycentroid'])\n",
    "    idx_new, d2d_new, d3d_new = c.match_to_catalog_sky(new_scat_coords)\n",
    "    new_scat_flux.append(new_scat['peak'][idx_new])\n",
    "    new_scat_pos.append(new_scat_coords[idx_new])\n"
   ]
  },
  {
   "cell_type": "code",
   "execution_count": null,
   "id": "5afef7f2",
   "metadata": {
    "papermill": {
     "duration": null,
     "end_time": null,
     "exception": null,
     "start_time": null,
     "status": "completed"
    },
    "tags": []
   },
   "outputs": [],
   "source": [
    "posterior_blind_source_coords=[]\n",
    "posterior_blind_source_flux=[]\n",
    "# Run starfinder on all posterior maps\n",
    "for s in range(0,mod_map_array_samp[0].shape[-1]):\n",
    "    if s%1000==0:\n",
    "        print(s)\n",
    "    tmp_posterior_blind_source_coords=[]\n",
    "    tmp_posterior_blind_source_flux=[]\n",
    "    for b in range(0,len(priors)):\n",
    "        tmp_fits=postmaps.make_fits_image(priors[b],mod_map_array_samp[b][...,s])\n",
    "        #need to widen constriants on roundness and sharpness constraints\n",
    "        daofind = DAOStarFinder(fwhm=fwhm[b]/np.abs(tmp_fits[1].header['CD1_1']*3600.0), threshold=5,sky=0.0,roundlo=- 10.0,roundhi= 10.0,sharplo=-5,sharphi=5) \n",
    "        sources = daofind(tmp_fits[1].data)\n",
    "        #print(sources)\n",
    "        wcs_temp = wcs.WCS(tmp_fits[1].header)\n",
    "        new_coords=wcs_temp.pixel_to_world(sources['xcentroid'],sources['ycentroid'])\n",
    "   \n",
    "            \n",
    "        idx_tmp, d2d_tmp, d3d_tmp = c.match_to_catalog_sky(new_coords)\n",
    "        tmp_posterior_blind_source_coords.append(new_coords[idx_tmp])\n",
    "        tmp_posterior_blind_source_flux.append(sources[idx_tmp]['peak'])\n",
    "    posterior_blind_source_coords.append(tmp_posterior_blind_source_coords)\n",
    "    posterior_blind_source_flux.append(tmp_posterior_blind_source_flux)\n",
    "        \n",
    "    "
   ]
  },
  {
   "cell_type": "code",
   "execution_count": null,
   "id": "53599b03",
   "metadata": {
    "papermill": {
     "duration": null,
     "end_time": null,
     "exception": null,
     "start_time": null,
     "status": "completed"
    },
    "tags": []
   },
   "outputs": [],
   "source": []
  },
  {
   "cell_type": "code",
   "execution_count": null,
   "id": "93eb6e6b",
   "metadata": {
    "papermill": {
     "duration": null,
     "end_time": null,
     "exception": null,
     "start_time": null,
     "status": "completed"
    },
    "tags": []
   },
   "outputs": [],
   "source": [
    "\n"
   ]
  },
  {
   "cell_type": "code",
   "execution_count": null,
   "id": "37673e8a",
   "metadata": {
    "papermill": {
     "duration": null,
     "end_time": null,
     "exception": null,
     "start_time": null,
     "status": "completed"
    },
    "tags": []
   },
   "outputs": [],
   "source": []
  },
  {
   "cell_type": "code",
   "execution_count": null,
   "id": "99519ac4",
   "metadata": {
    "papermill": {
     "duration": null,
     "end_time": null,
     "exception": null,
     "start_time": null,
     "status": "completed"
    },
    "tags": []
   },
   "outputs": [],
   "source": [
    " # get original fluxes from scat\n",
    "band=[250,350,500]\n",
    "scat_flux=[]\n",
    "scat_pos=[]\n",
    "for b in band:\n",
    "    file=glob.glob('../../../data/*-{}_SCAT{}SXT_DR2.fits.gz'.format(field[0],b))\n",
    "    scat=Table.read(file[0])\n",
    "    orig_scat_coords=SkyCoord(scat['RA'],scat['Dec'])\n",
    "    \n",
    "    idx, d2d, d3d = c.match_to_catalog_sky(orig_scat_coords)\n",
    "    scat_flux.append(scat['Flux'][idx].data)\n",
    "    scat_pos.append(orig_scat_coords[idx])\n",
    "scat_flux=np.array(scat_flux)"
   ]
  },
  {
   "cell_type": "code",
   "execution_count": null,
   "id": "3de75b2f",
   "metadata": {
    "papermill": {
     "duration": null,
     "end_time": null,
     "exception": null,
     "start_time": null,
     "status": "completed"
    },
    "tags": []
   },
   "outputs": [],
   "source": [
    "orig_map=xidplus.plot_map(priors)\n",
    "for i in range(0,3):\n",
    "    #plot new scat coords\n",
    "    orig_map[0][i].show_markers(new_scat_pos[i].ra.value,new_scat_pos[i].dec.value,edgecolor='blue', facecolor='blue',\n",
    "                marker='o', s=200, alpha=0.5)\n",
    "    orig_map[0][i].show_markers(c.ra.value,c.dec.value, edgecolor='red', facecolor='red',\n",
    "                marker='x', s=200, alpha=0.5)\n",
    "    orig_map[0][i].show_markers(scat_pos[i].ra.value,scat_pos[i].dec.value,edgecolor='yellow', facecolor='yellow',\n",
    "                marker='x', s=200, alpha=0.5)\n"
   ]
  },
  {
   "cell_type": "code",
   "execution_count": null,
   "id": "0358dba9",
   "metadata": {
    "papermill": {
     "duration": null,
     "end_time": null,
     "exception": null,
     "start_time": null,
     "status": "completed"
    },
    "tags": []
   },
   "outputs": [],
   "source": [
    "#stack params and make vector ready to be used by emualator\n",
    "params = jnp.stack((samples['sfr'].T, samples['agn'].T, samples['redshift'].T)).T\n",
    "# Use emulator to get fluxes. As emulator provides log flux, convert.\n",
    "src_f = np.array(jnp.exp(phys_prior.emulator['net_apply'](phys_prior.emulator['params'], params)))\n",
    "\n",
    "\n",
    "#stack params and make vector ready to be used by emualator\n",
    "params_prior = jnp.stack((prior_pred['sfr'].T, prior_pred['agn'].T, prior_pred['redshift'].T)).T\n",
    "# Use emulator to get fluxes. As emulator provides log flux, convert.\n",
    "src_f_prior = np.array(jnp.exp(phys_prior.emulator['net_apply'](phys_prior.emulator['params'], params_prior)))"
   ]
  },
  {
   "cell_type": "code",
   "execution_count": null,
   "id": "1582f16e",
   "metadata": {
    "papermill": {
     "duration": null,
     "end_time": null,
     "exception": null,
     "start_time": null,
     "status": "completed"
    },
    "tags": []
   },
   "outputs": [],
   "source": [
    "src_f.shape"
   ]
  },
  {
   "cell_type": "code",
   "execution_count": null,
   "id": "19c0fcbc",
   "metadata": {
    "papermill": {
     "duration": null,
     "end_time": null,
     "exception": null,
     "start_time": null,
     "status": "completed"
    },
    "tags": []
   },
   "outputs": [],
   "source": [
    "#find the sources that are within a certain separation of the extreme starburst candidate\n",
    "sep=12\n",
    "separation=new_scat_pos[0].separation(SkyCoord(priors[0].sra,priors[0].sdec)).arcsec\n",
    "contrib_sources=separation<sep\n",
    "print(' Sources \\n {} \\n are possible contributers to flux of extreme starburst'.format(priors[0].ID[contrib_sources]))"
   ]
  },
  {
   "cell_type": "code",
   "execution_count": null,
   "id": "5020de73",
   "metadata": {
    "papermill": {
     "duration": null,
     "end_time": null,
     "exception": null,
     "start_time": null,
     "status": "completed"
    },
    "tags": []
   },
   "outputs": [],
   "source": [
    "cmap=sns.color_palette('colorblind')\n",
    "sns.set_style(\"white\")\n",
    "#set up Pairgrid plot and plot blind source flux\n",
    "df_blind=pd.DataFrame(np.array(posterior_blind_source_flux)[:,:,0],columns=['$S_{250\\mathrm{mJy}}$', '$S_{350\\mathrm{mJy}}$', '$S_{500\\mathrm{mJy}}$'])\n",
    "g=sns.PairGrid(df_blind)\n",
    "g.map_diag(plt.hist,histtype='step',linewidth=3.0, alpha=0.5,color='black')\n",
    "#g.map_lower(sns.kdeplot, color=\"black\",alpha=0.5,n_levels=10,density=True, shade=False,linewidth=3,shade_lowest=False)\n",
    "\n",
    "#plot the fluxes for the possible sources that could contribute\n",
    "for i in range(0,contrib_sources.sum()):\n",
    "    df_tmp=pd.DataFrame(src_f[:,contrib_sources,:][:,i,:],columns=['$S_{250\\mathrm{mJy}}$', '$S_{350\\mathrm{mJy}}$', '$S_{500\\mathrm{mJy}}$'])\n",
    "    g.data=df_tmp\n",
    "    g.map_diag(plt.hist,histtype='step',linewidth=3.0, alpha=0.5,color=cmap[i])\n",
    "    #g.map_lower(sns.kdeplot, color=cmap[i],alpha=0.5,n_levels=10,density=True,linewidth=3, shade=False,shade_lowest=False)\n",
    "\n",
    "# plot the combination of flux from those sources\n",
    "df_sum=pd.DataFrame(np.sum(src_f[:,contrib_sources,:],axis=1),columns=['$S_{250\\mathrm{mJy}}$', '$S_{350\\mathrm{mJy}}$', '$S_{500\\mathrm{mJy}}$'])\n",
    "g.data=df_sum\n",
    "g.map_diag(plt.hist,histtype='step',linewidth=3.0, alpha=0.5,color='Red')\n",
    "\n",
    "\n",
    "\n",
    "\n",
    "g.data=df_blind\n",
    "g.map_lower(sns.kdeplot, color=\"black\",alpha=0.5,n_levels=10,density=True, shade=False,linewidth=3,shade_lowest=False)\n",
    "for i in range(0,contrib_sources.sum()):\n",
    "    df_tmp=pd.DataFrame(src_f[:,contrib_sources,:][:,i,:],columns=['$S_{250\\mathrm{mJy}}$', '$S_{350\\mathrm{mJy}}$', '$S_{500\\mathrm{mJy}}$'])\n",
    "    g.data=df_tmp\n",
    "    #g.map_diag(plt.hist,histtype='step',linewidth=3.0, alpha=0.5,color=cmap[i])\n",
    "    g.map_lower(sns.kdeplot, color=cmap[i],alpha=0.5,n_levels=10,density=True,linewidth=3, shade=False,shade_lowest=False)\n",
    "g.data=df_sum\n",
    "g.map_lower(sns.kdeplot, color='Red',alpha=0.5,n_levels=10,density=True,linewidth=3, shade=False,shade_lowest=False)\n",
    "    \n",
    "    \n",
    "#turn off the axes not used\n",
    "g.axes[0,1].set_axis_off()\n",
    "g.axes[0,2].set_axis_off()\n",
    "g.axes[1,2].set_axis_off()\n",
    "\n",
    "#plot the fluxes from new scat and orig scat\n",
    "for i in range(0,len(priors)):\n",
    "    g.axes[i,i].axvline(x=new_scat_flux[i],color='black')\n",
    "    g.axes[i,i].axvline(x=scat_flux[i],color='green')\n",
    "    for j in range(0,len(priors)):\n",
    "        if j>i:\n",
    "            g.axes[j,i].plot(new_scat_flux[i],new_scat_flux[j],'ko',ms=10)\n",
    "            g.axes[j,i].plot(scat_flux[i],scat_flux[j],'go',ms=10)\n",
    "#g.axes[2,0].plot(0.39,32.63,'ko',ms=10)\n",
    "#g.axes[3,0].plot(0.39,27.0,'ko',ms=10)\n"
   ]
  },
  {
   "cell_type": "markdown",
   "id": "ac08c4ac",
   "metadata": {
    "papermill": {
     "duration": null,
     "end_time": null,
     "exception": null,
     "start_time": null,
     "status": "completed"
    },
    "tags": []
   },
   "source": [
    "### Parameters of contributing sources\n",
    "The physical parameters of our sources which could be contributing to the extreme starburst"
   ]
  },
  {
   "cell_type": "markdown",
   "id": "72836658",
   "metadata": {
    "papermill": {
     "duration": null,
     "end_time": null,
     "exception": null,
     "start_time": null,
     "status": "completed"
    },
    "tags": []
   },
   "source": [
    "update the webtable to identify issues"
   ]
  },
  {
   "cell_type": "code",
   "execution_count": null,
   "id": "9368763d",
   "metadata": {
    "papermill": {
     "duration": null,
     "end_time": null,
     "exception": null,
     "start_time": null,
     "status": "completed"
    },
    "tags": []
   },
   "outputs": [],
   "source": [
    "esb_web=Table.read('../../../data/MRR2018_tables/{}_web.csv'.format(field[0]),format='ascii',encoding='utf-8')\n",
    "if np.sum(divergences)<1:\n",
    "    esb_web['status'][source[0]]='[&#9745;](./output/{}/fit_{}.md)'.format(field[0],source[0]+1)\n",
    "    esb_web.write('../../../data/MRR2018_tables/{}_web.csv'.format(field[0]),overwrite=True)\n",
    "else:\n",
    "    esb_web['status'][source[0]]='[&#9744;](./output/{}/fit_{}.md)'.format(field[0],source[0]+1)\n",
    "    esb_web.write('../../../data/MRR2018_tables/{}_web.csv'.format(field[0]),overwrite=True)"
   ]
  },
  {
   "cell_type": "markdown",
   "id": "be831306",
   "metadata": {
    "papermill": {
     "duration": null,
     "end_time": null,
     "exception": null,
     "start_time": null,
     "status": "completed"
    },
    "tags": []
   },
   "source": [
    "## Alternative model.\n",
    "Our alternative model mimics the assumption of the blind catalogue, by removing all sources close to the candidate source. We can do this and comapre the Bayesian P value maps to see if this provides a good fit to the map."
   ]
  },
  {
   "cell_type": "code",
   "execution_count": null,
   "id": "f4d00603",
   "metadata": {
    "papermill": {
     "duration": null,
     "end_time": null,
     "exception": null,
     "start_time": null,
     "status": "completed"
    },
    "tags": []
   },
   "outputs": [],
   "source": [
    "t=Bayes_pval_sources(fits_images)\n",
    "if len(t)>0:\n",
    "    priors,prior_list=process_prior(t,\n",
    "                    path_to_data=['../../../data/'],\n",
    "                      source=source,\n",
    "                      field=field,\n",
    "                      path_to_SPIRE=path_to_SPIRE,\n",
    "                      redshift_file=redshift_file,\n",
    "                      redshift_prior=[0.1,2.0],radius=10,alt_model=True)\n",
    "    xidplus.save(priors,None,'./output/{}/prior_'.format(field[0])+esb['field'][source[0]]+'_'+str(source[0])+'_model2_alt')\n",
    "    prior_list.write('./output/{}/prior_list_'.format(field[0])+esb['field'][source[0]]+'_'+str(source[0])+'_model2_alt.ascii',format='ascii',overwrite=True)\n",
    "    hier_params={'m_mu':0.8,'m_sig':0.4,'c_mu':-1.0,'c_sig':0.5,'sfr_disp':0.5}\n",
    "    phys_prior=create_phys_prior(priors,prior_list,emulator_path)\n",
    "    mcmc=fit_model(phys_prior,hier_params,num_samples=500, num_warmup=500,num_chains=n_chains,chain_method='parallel')\n",
    "\n",
    "    ## For numpyro to sample from the prior, the data needs to be set to None\n",
    "    import copy\n",
    "    #make a deepcopy of the priors\n",
    "    priors_prior_pred=copy.deepcopy(priors)\n",
    "    #set data to None\n",
    "    for i in range(0,len(priors)):\n",
    "        priors_prior_pred[i].sim=None\n",
    "    #sample from the prior using numpyro's Predictive function\n",
    "    prior_predictive=Predictive(SED_prior.spire_model_CIGALE,posterior_samples = {}, num_samples = 1000,)\n",
    "    prior_pred=prior_predictive(random.PRNGKey(0),priors_prior_pred,phys_prior,hier_params)\n",
    "    \n",
    "    #sample from the prior using numpyro's Predictive function\n",
    "    prior_predictive_samp=Predictive(SED_prior.spire_model_CIGALE,posterior_samples = mcmc.get_samples(), num_samples = 50)\n",
    "    prior_pred_samp=prior_predictive_samp(random.PRNGKey(0),priors_prior_pred,phys_prior,hier_params)\n",
    "    mod_map_array_samp=[prior_pred_samp['obs_psw'].T,prior_pred_samp['obs_pmw'].T,prior_pred_samp['obs_plw'].T]\n",
    "    samples=mcmc.get_samples()\n",
    "    divergences=mcmc.get_extra_fields()['diverging']\n",
    "    numpyro_data = az.from_numpyro(\n",
    "        mcmc,\n",
    "        prior=prior_pred,\n",
    "        posterior_predictive=prior_pred_samp,\n",
    "        coords={\"src\": np.arange(0,priors[0].nsrc),\n",
    "               \"band\":np.arange(0,3)},\n",
    "        dims={\"agn\": [\"src\"],\n",
    "             \"bkg\":[\"band\"],\n",
    "             \"redshift\":[\"src\"],\n",
    "              \"sfr\":[\"src\"]},\n",
    "        )\n",
    "    numpyro_data.to_netcdf('./output/{}/posterior_'.format(field[0])+esb['field'][source[0]]+'_'+str(source[0])+'_model2_alt.nc')\n",
    "    from xidplus import postmaps\n",
    "    import aplpy\n",
    "    sns.set_style(\"white\")\n",
    "    cmap = sns.diverging_palette(220, 20, as_cmap=True)\n",
    "    Bayes_pvals = []\n",
    "    hdulists = list(map(lambda prior: postmaps.make_fits_image(prior, prior.sim), priors))\n",
    "    fig = plt.figure(figsize=(10 * len(priors), 10))\n",
    "    figs = []\n",
    "    for i in range(0, len(priors)):\n",
    "        figs.append(aplpy.FITSFigure(hdulists[i][1], figure=fig, subplot=(1, len(priors), i + 1)))\n",
    "        Bayes_pvals.append(postmaps.make_Bayesian_pval_maps(priors[i], mod_map_array_samp[i]))\n",
    "\n",
    "\n",
    "    for i in range(0, len(priors)):\n",
    "        figs[i].show_markers(priors[i].sra, priors[i].sdec, edgecolor='black', facecolor='black',\n",
    "                             marker='o', s=20, alpha=0.5)\n",
    "        figs[i].tick_labels.set_xformat('dd.dd')\n",
    "        figs[i].tick_labels.set_yformat('dd.dd')\n",
    "        figs[i]._data[\n",
    "            priors[i].sy_pix - np.min(priors[i].sy_pix) - 1, priors[i].sx_pix - np.min(priors[i].sx_pix) - 1] = \\\n",
    "        Bayes_pvals[i]\n",
    "        figs[i].show_colorscale(vmin=-6, vmax=6, cmap=cmap)\n",
    "        figs[i].add_colorbar()\n",
    "        figs[i].colorbar.set_location('top')"
   ]
  },
  {
   "cell_type": "code",
   "execution_count": null,
   "id": "3f8c4118",
   "metadata": {
    "papermill": {
     "duration": null,
     "end_time": null,
     "exception": null,
     "start_time": null,
     "status": "completed"
    },
    "tags": []
   },
   "outputs": [],
   "source": []
  },
  {
   "cell_type": "code",
   "execution_count": null,
   "id": "6b5672ca",
   "metadata": {
    "papermill": {
     "duration": null,
     "end_time": null,
     "exception": null,
     "start_time": null,
     "status": "completed"
    },
    "tags": []
   },
   "outputs": [],
   "source": []
  }
 ],
 "metadata": {
  "celltoolbar": "Slideshow",
  "kernelspec": {
   "display_name": "Python 3",
   "language": "python",
   "name": "python3"
  },
  "language_info": {
   "codemirror_mode": {
    "name": "ipython",
    "version": 3
   },
   "file_extension": ".py",
   "mimetype": "text/x-python",
   "name": "python",
   "nbconvert_exporter": "python",
   "pygments_lexer": "ipython3",
   "version": "3.6.13"
  },
  "papermill": {
   "default_parameters": {},
   "duration": 12.340557,
   "end_time": "2021-05-27T17:47:59.037317",
   "environment_variables": {},
   "exception": null,
   "input_path": "XID+CIGALE-ESB_fit.ipynb",
   "output_path": "./output/Lockman-SWIRE/fit_i.ipynb",
   "parameters": {
    "emulator_path": [
     "/users/pdh21/Work/XID_plus/docs/notebooks/examples/SED_emulator/CIGALE_emulator_20210420_log10sfr_uniformAGN_z.npz"
    ],
    "field": [
     "Lockman-SWIRE"
    ],
    "path_to_SPIRE": [
     "/users/pdh21/Work/Extreme_submm_SB_gals/data/"
    ],
    "redshift_file": [
     "/users/pdh21/Work/Extreme_submm_SB_gals/data/master_catalogue_Lockman-SWIRE_20170710_photoz_20170802_r_and_irac1_optimised_UPDATED_IDs_20180219.fits"
    ]
   },
   "start_time": "2021-05-27T17:47:46.696760",
   "version": "2.3.3"
  }
 },
 "nbformat": 4,
 "nbformat_minor": 5
}