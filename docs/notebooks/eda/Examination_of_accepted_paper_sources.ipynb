{
 "cells": [
  {
   "cell_type": "markdown",
   "metadata": {},
   "source": [
    "In the paper [Extreme submillimetre starburst galaxies](https://www.aanda.org/articles/aa/full_html/2018/11/aa32671-18/aa32671-18.html#S9) there are claims made about there being galaxies with an SFR of 30,000 $M_{\\odot}/yr$. We believe these objects are actually due to blending of multiple objects. \n",
    "\n",
    "This notebook wil work on establishing the sample of objects we will examine in this paper.\n",
    "\n",
    "Things to do:\n",
    "1. Establish the file associated with Michael's paper\n",
    "2. Gather all the relevant maps, psf's etc\n",
    "3. Visualise Sources"
   ]
  },
  {
   "cell_type": "code",
   "execution_count": 64,
   "metadata": {},
   "outputs": [
    {
     "name": "stderr",
     "output_type": "stream",
     "text": [
      "WARNING: AstropyDeprecationWarning: block_reduce was moved to the astropy.nddata.blocks module.  Please update your import statement. [astropy.nddata.utils]\n"
     ]
    }
   ],
   "source": [
    "from astropy.table import Table, vstack,hstack\n",
    "#Set some color info\n",
    "import seaborn as sns\n",
    "import numpy as np\n",
    "import pylab as plt\n",
    "import xidplus\n",
    "import pymoc\n",
    "%matplotlib inline\n",
    "cmap=sns.cubehelix_palette(8, start=.5, rot=-.75,as_cmap=True)\n",
    "vmin=-0.01\n",
    "vmax=0.1"
   ]
  },
  {
   "cell_type": "markdown",
   "metadata": {},
   "source": [
    "There are four tables in the appendix for the candidates, each table corresponding to a type of galaxy"
   ]
  },
  {
   "cell_type": "code",
   "execution_count": 19,
   "metadata": {},
   "outputs": [],
   "source": [
    "ysb=Table.read('../../../data/MRR2018_tables/Table_A2_youngSBs.csv', format='ascii',encoding='utf-8-sig')\n",
    "M82_SBs=Table.read('../../../data/MRR2018_tables/Table_A2_M82_Arp220_SBs.csv', format='ascii',encoding='utf-8-sig')\n",
    "QSOs = Table.read('../../../data/MRR2018_tables/Table_A2_QSOs_SBs.csv', format='ascii',encoding='utf-8-sig')\n",
    "AGN = Table.read('../../../data/MRR2018_tables/Table_A2_Type_2_AGN_SBs.csv', format='ascii',encoding='utf-8-sig')"
   ]
  },
  {
   "cell_type": "code",
   "execution_count": 20,
   "metadata": {},
   "outputs": [
    {
     "data": {
      "text/html": [
       "<i>Table length=7</i>\n",
       "<table id=\"table140632920841184\" class=\"table-striped table-bordered table-condensed\">\n",
       "<thead><tr><th>RA</th><th>Dec</th><th>i</th><th>S 24 (μJy)</th><th>S 250 (mJy)</th><th>S 350 (mJy)</th><th>S 500 (mJy)</th><th>Z phot</th><th>Type</th><th>Chi</th><th>n bands</th><th>Z subm</th><th>Z comb</th><th>M * log(M sol.)</th><th>SFR log(M sol. yr−1)</th></tr></thead>\n",
       "<thead><tr><th>float64</th><th>float64</th><th>str9</th><th>float64</th><th>float64</th><th>float64</th><th>float64</th><th>float64</th><th>str3</th><th>float64</th><th>int64</th><th>float64</th><th>float64</th><th>float64</th><th>float64</th></tr></thead>\n",
       "<tr><td>159.03456</td><td>58.44533</td><td>21.37</td><td>1127.8</td><td>131.6</td><td>84.2</td><td>42.2</td><td>1.44</td><td>Scd</td><td>4.8</td><td>4</td><td>1.16</td><td>1.19</td><td>11.62</td><td>3.89</td></tr>\n",
       "<tr><td>35.28232</td><td>-4.149</td><td>g = 25.31</td><td>636.1</td><td>53.7</td><td>58.3</td><td>55.1</td><td>3.27</td><td>Sab</td><td>2.4</td><td>4</td><td>3.84</td><td>2.8</td><td>11.28</td><td>3.7</td></tr>\n",
       "<tr><td>35.28037</td><td>-4.14839</td><td>--</td><td>--</td><td>--</td><td>--</td><td>--</td><td>2.55</td><td>--</td><td>--</td><td>--</td><td>--</td><td>--</td><td>--</td><td>3.59</td></tr>\n",
       "<tr><td>160.50839</td><td>58.67179</td><td>23.49</td><td>904.6</td><td>95.7</td><td>79.5</td><td>60.5</td><td>3.81</td><td>Sab</td><td>4.1</td><td>6</td><td>2.86</td><td>3.07</td><td>12.02</td><td>3.99</td></tr>\n",
       "<tr><td>160.51041</td><td>58.67371</td><td>--</td><td>--</td><td>--</td><td>--</td><td>--</td><td>1.08</td><td>--</td><td>--</td><td>--</td><td>--</td><td>--</td><td>--</td><td>3.05</td></tr>\n",
       "<tr><td>36.59817</td><td>-4.56164</td><td>25.11</td><td>389.5</td><td>59.3</td><td>67.2</td><td>54.7</td><td>3.88</td><td>Sab</td><td>2.1</td><td>5</td><td>3.53</td><td>3.68</td><td>11.49</td><td>3.85</td></tr>\n",
       "<tr><td>161.98271</td><td>58.07477</td><td>22.1</td><td>264.4</td><td>44.2</td><td>45.3</td><td>33.6</td><td>4.13</td><td>sb</td><td>25.4</td><td>6</td><td>3.15</td><td>3.68</td><td>11.87</td><td>3.76</td></tr>\n",
       "</table>"
      ],
      "text/plain": [
       "<Table length=7>\n",
       "    RA      Dec        i     ...  Z comb M * log(M sol.) SFR log(M sol. yr−1)\n",
       " float64  float64     str9   ... float64     float64           float64       \n",
       "--------- -------- --------- ... ------- --------------- --------------------\n",
       "159.03456 58.44533     21.37 ...    1.19           11.62                 3.89\n",
       " 35.28232   -4.149 g = 25.31 ...     2.8           11.28                  3.7\n",
       " 35.28037 -4.14839        -- ...      --              --                 3.59\n",
       "160.50839 58.67179     23.49 ...    3.07           12.02                 3.99\n",
       "160.51041 58.67371        -- ...      --              --                 3.05\n",
       " 36.59817 -4.56164     25.11 ...    3.68           11.49                 3.85\n",
       "161.98271 58.07477      22.1 ...    3.68           11.87                 3.76"
      ]
     },
     "execution_count": 20,
     "metadata": {},
     "output_type": "execute_result"
    }
   ],
   "source": [
    "ysb"
   ]
  },
  {
   "cell_type": "code",
   "execution_count": 21,
   "metadata": {},
   "outputs": [
    {
     "data": {
      "text/html": [
       "<i>Table length=18</i>\n",
       "<table id=\"table140632920907112\" class=\"table-striped table-bordered table-condensed\">\n",
       "<thead><tr><th>RA</th><th>Dec</th><th>i</th><th>S 24 (μJy)</th><th>S 250 (mJy)</th><th>S 350 (mJy)</th><th>S 500 (mJy)</th><th>Z phot</th><th>Type</th><th>Chi</th><th>n bands</th><th>Z subm</th><th>Z comb</th><th>M * log(M sol.)</th><th>SFR log(M sol. yr−1)</th></tr></thead>\n",
       "<thead><tr><th>float64</th><th>float64</th><th>str9</th><th>float64</th><th>float64</th><th>float64</th><th>float64</th><th>float64</th><th>str9</th><th>float64</th><th>int64</th><th>float64</th><th>float64</th><th>float64</th><th>float64</th></tr></thead>\n",
       "<tr><td>162.33324</td><td>58.10657</td><td>22.61</td><td>516.4</td><td>56.9</td><td>52.9</td><td>59.6</td><td>2.8</td><td>Scd</td><td>6.1</td><td>8</td><td>4.09</td><td>2.89</td><td>11.69</td><td>3.72</td></tr>\n",
       "<tr><td>9.64405</td><td>-44.36636</td><td>23.02</td><td>987.2</td><td>91.7</td><td>79.4</td><td>48.1</td><td>2.85</td><td>Scd</td><td>1.8</td><td>4</td><td>2.43</td><td>2.72</td><td>11.89</td><td>3.7</td></tr>\n",
       "<tr><td>160.9194</td><td>57.91475</td><td>22.32</td><td>682.3</td><td>116.5</td><td>102.0</td><td>65.4</td><td>3.06</td><td>Sab</td><td>20.5</td><td>6</td><td>2.56</td><td>2.8</td><td>12.5</td><td>4.12</td></tr>\n",
       "<tr><td>8.81979</td><td>-42.69724</td><td>R = 22.90</td><td>706.2</td><td>87.4</td><td>74.6</td><td>53.9</td><td>3.19</td><td>Scd</td><td>6.1</td><td>5</td><td>2.72</td><td>2.98</td><td>12.06</td><td>3.79</td></tr>\n",
       "<tr><td>162.38754</td><td>57.70547</td><td>g = 24.13</td><td>519.3</td><td>65.7</td><td>65.0</td><td>56.3</td><td>3.37</td><td>Scd</td><td>1.6</td><td>3</td><td>3.47</td><td>3.37</td><td>12.15</td><td>3.74</td></tr>\n",
       "<tr><td>36.71948</td><td>-3.96377</td><td>25.18</td><td>322.8</td><td>43.4</td><td>42.8</td><td>32.1</td><td>3.57</td><td>Sbc</td><td>5.2</td><td>5</td><td>3.1</td><td>3.27</td><td>12.21</td><td>3.7</td></tr>\n",
       "<tr><td>162.46065</td><td>58.11701</td><td>21.96</td><td>252.5</td><td>--</td><td>28.4</td><td>41.4</td><td>4.06</td><td>sb (QSO?)</td><td>7.9</td><td>6</td><td>4.81</td><td>4.13</td><td>11.97</td><td>3.98</td></tr>\n",
       "<tr><td>35.73369</td><td>-5.62305</td><td>23.42</td><td>422.0</td><td>73.1</td><td>60.9</td><td>42.1</td><td>4.11</td><td>Sbc</td><td>4.1</td><td>6</td><td>2.61</td><td>2.8</td><td>12.38</td><td>4.1</td></tr>\n",
       "<tr><td>--</td><td>--</td><td>--</td><td>--</td><td>--</td><td>--</td><td>--</td><td>2.8</td><td>Sbc</td><td>--</td><td>--</td><td>--</td><td>--</td><td>--</td><td>3.7</td></tr>\n",
       "<tr><td>7.98209</td><td>-43.29812</td><td>R = 24.87</td><td>275.8</td><td>45.6</td><td>49.7</td><td>38.8</td><td>4.13</td><td>Sab</td><td>0.02</td><td>3</td><td>3.37</td><td>3.37</td><td>11.9</td><td>3.82</td></tr>\n",
       "<tr><td>--</td><td>--</td><td>--</td><td>--</td><td>--</td><td>--</td><td>--</td><td>3.37</td><td>Sab</td><td>--</td><td>--</td><td>--</td><td>--</td><td>--</td><td>3.7</td></tr>\n",
       "<tr><td>36.10986</td><td>-4.45889</td><td>24.59</td><td>828.6</td><td>88.4</td><td>89.5</td><td>67.0</td><td>3.92</td><td>Sab</td><td>2.0</td><td>5</td><td>3.14</td><td>3.27</td><td>12.26</td><td>4.21</td></tr>\n",
       "<tr><td>164.52054</td><td>58.30782</td><td>23.4</td><td>306.9</td><td>81.9</td><td>92.1</td><td>58.2</td><td>4.18</td><td>Sab</td><td>0.03</td><td>3</td><td>2.16</td><td>3.07</td><td>12.4</td><td>3.99</td></tr>\n",
       "<tr><td>164.52888</td><td>58.30814</td><td>--</td><td>--</td><td>--</td><td>--</td><td>--</td><td>1.87</td><td>--</td><td>--</td><td>--</td><td>--</td><td>--</td><td>--</td><td>3.35</td></tr>\n",
       "<tr><td>161.89894</td><td>58.16401</td><td>23.6</td><td>315.0</td><td>66.4</td><td>59.7</td><td>35.3</td><td>4.37</td><td>Sab</td><td>22.7</td><td>4</td><td>1.82</td><td>2.89</td><td>12.32</td><td>3.97</td></tr>\n",
       "<tr><td>--</td><td>--</td><td>--</td><td>--</td><td>--</td><td>--</td><td>--</td><td>2.89</td><td>Sab</td><td>--</td><td>--</td><td>--</td><td>--</td><td>--</td><td>3.7</td></tr>\n",
       "<tr><td>36.65871</td><td>-4.14628</td><td>24.91</td><td>288.8</td><td>46.1</td><td>45.7</td><td>48.1</td><td>4.4</td><td>Sbc</td><td>2.1</td><td>6</td><td>3.92</td><td>4.01</td><td>12.2</td><td>4.03</td></tr>\n",
       "<tr><td>162.4229</td><td>57.1875</td><td>22.25</td><td>121.0</td><td>43.5</td><td>46.1</td><td>32.6</td><td>4.45</td><td>sb (QSO?)</td><td>5.6</td><td>4</td><td>3.22</td><td>4.37</td><td>11.79</td><td>3.78</td></tr>\n",
       "</table>"
      ],
      "text/plain": [
       "<Table length=18>\n",
       "    RA       Dec        i     ...  Z comb M * log(M sol.) SFR log(M sol. yr−1)\n",
       " float64   float64     str9   ... float64     float64           float64       \n",
       "--------- --------- --------- ... ------- --------------- --------------------\n",
       "162.33324  58.10657     22.61 ...    2.89           11.69                 3.72\n",
       "  9.64405 -44.36636     23.02 ...    2.72           11.89                  3.7\n",
       " 160.9194  57.91475     22.32 ...     2.8            12.5                 4.12\n",
       "  8.81979 -42.69724 R = 22.90 ...    2.98           12.06                 3.79\n",
       "162.38754  57.70547 g = 24.13 ...    3.37           12.15                 3.74\n",
       " 36.71948  -3.96377     25.18 ...    3.27           12.21                  3.7\n",
       "162.46065  58.11701     21.96 ...    4.13           11.97                 3.98\n",
       " 35.73369  -5.62305     23.42 ...     2.8           12.38                  4.1\n",
       "       --        --        -- ...      --              --                  3.7\n",
       "  7.98209 -43.29812 R = 24.87 ...    3.37            11.9                 3.82\n",
       "       --        --        -- ...      --              --                  3.7\n",
       " 36.10986  -4.45889     24.59 ...    3.27           12.26                 4.21\n",
       "164.52054  58.30782      23.4 ...    3.07            12.4                 3.99\n",
       "164.52888  58.30814        -- ...      --              --                 3.35\n",
       "161.89894  58.16401      23.6 ...    2.89           12.32                 3.97\n",
       "       --        --        -- ...      --              --                  3.7\n",
       " 36.65871  -4.14628     24.91 ...    4.01            12.2                 4.03\n",
       " 162.4229   57.1875     22.25 ...    4.37           11.79                 3.78"
      ]
     },
     "execution_count": 21,
     "metadata": {},
     "output_type": "execute_result"
    }
   ],
   "source": [
    "M82_SBs"
   ]
  },
  {
   "cell_type": "code",
   "execution_count": 22,
   "metadata": {},
   "outputs": [
    {
     "data": {
      "text/html": [
       "<i>Table length=7</i>\n",
       "<table id=\"table140632920852576\" class=\"table-striped table-bordered table-condensed\">\n",
       "<thead><tr><th>RA</th><th>Dec</th><th>i</th><th>S 24 (μJy)</th><th>S 250 (mJy)</th><th>S 350 (mJy)</th><th>S 500 (mJy)</th><th>Z phot</th><th>Type</th><th>Chi</th><th>n bands</th><th>Z subm</th><th>Z comb</th><th>M * log(M sol.)</th><th>SFR log(M sol. yr−1)</th></tr></thead>\n",
       "<thead><tr><th>float64</th><th>float64</th><th>str9</th><th>float64</th><th>float64</th><th>float64</th><th>float64</th><th>float64</th><th>str3</th><th>float64</th><th>int64</th><th>float64</th><th>float64</th><th>int64</th><th>float64</th></tr></thead>\n",
       "<tr><td>164.64154</td><td>58.09799</td><td>20.95</td><td>1386.3</td><td>44.9</td><td>45.4</td><td>28.0</td><td>3.37</td><td>QSO</td><td>2.1</td><td>11</td><td>2.01</td><td>3.07</td><td>--</td><td>3.71</td></tr>\n",
       "<tr><td>164.64879</td><td>58.09513</td><td>--</td><td>--</td><td>--</td><td>--</td><td>--</td><td>1.11</td><td>--</td><td>--</td><td>--</td><td>--</td><td>--</td><td>--</td><td>2.74</td></tr>\n",
       "<tr><td>162.77605</td><td>58.52327</td><td>22.32</td><td>184.6</td><td>54.5</td><td>53.0</td><td>41.1</td><td>3.47</td><td>QSO</td><td>3.2</td><td>8</td><td>3.19</td><td>3.37</td><td>--</td><td>3.71</td></tr>\n",
       "<tr><td>161.8541</td><td>57.91928</td><td>21.11</td><td>245.8</td><td>76.1</td><td>80.3</td><td>65.3</td><td>3.49</td><td>QSO</td><td>1.3</td><td>10</td><td>3.42</td><td>3.47</td><td>--</td><td>3.86</td></tr>\n",
       "<tr><td>162.20728</td><td>58.28162</td><td>21.59</td><td>205.5</td><td>56.6</td><td>57.7</td><td>40.3</td><td>3.61</td><td>QSO</td><td>8.5</td><td>10</td><td>3.14</td><td>3.37</td><td>--</td><td>3.83</td></tr>\n",
       "<tr><td>161.36092</td><td>58.03157</td><td>20.67</td><td>428.6</td><td>--</td><td>37.5</td><td>41.2</td><td>3.81</td><td>QSO</td><td>5.2</td><td>11</td><td>5.05</td><td>3.9</td><td>--</td><td>3.83</td></tr>\n",
       "<tr><td>162.6812</td><td>57.55606</td><td>g = 24.35</td><td>194.9</td><td>25.5</td><td>37.0</td><td>38.3</td><td>4.5</td><td>QSO</td><td>1.3</td><td>3</td><td>4.79</td><td>4.5</td><td>--</td><td>3.79</td></tr>\n",
       "</table>"
      ],
      "text/plain": [
       "<Table length=7>\n",
       "    RA      Dec        i     ...  Z comb M * log(M sol.) SFR log(M sol. yr−1)\n",
       " float64  float64     str9   ... float64      int64            float64       \n",
       "--------- -------- --------- ... ------- --------------- --------------------\n",
       "164.64154 58.09799     20.95 ...    3.07              --                 3.71\n",
       "164.64879 58.09513        -- ...      --              --                 2.74\n",
       "162.77605 58.52327     22.32 ...    3.37              --                 3.71\n",
       " 161.8541 57.91928     21.11 ...    3.47              --                 3.86\n",
       "162.20728 58.28162     21.59 ...    3.37              --                 3.83\n",
       "161.36092 58.03157     20.67 ...     3.9              --                 3.83\n",
       " 162.6812 57.55606 g = 24.35 ...     4.5              --                 3.79"
      ]
     },
     "execution_count": 22,
     "metadata": {},
     "output_type": "execute_result"
    }
   ],
   "source": [
    "QSOs"
   ]
  },
  {
   "cell_type": "code",
   "execution_count": 23,
   "metadata": {},
   "outputs": [
    {
     "data": {
      "text/html": [
       "<i>Table length=18</i>\n",
       "<table id=\"table140632920964680\" class=\"table-striped table-bordered table-condensed\">\n",
       "<thead><tr><th>RA</th><th>Dec</th><th>i</th><th>S 24 (μJy)</th><th>S 250 (mJy)</th><th>S 350 (mJy)</th><th>S 500 (mJy)</th><th>Z phot</th><th>Type</th><th>Chi</th><th>n bands</th><th>Z subm</th><th>Z comb</th><th>M * log(M sol.)</th><th>SFR log(M sol. yr−1)</th></tr></thead>\n",
       "<thead><tr><th>float64</th><th>float64</th><th>str9</th><th>float64</th><th>float64</th><th>float64</th><th>float64</th><th>float64</th><th>str3</th><th>float64</th><th>int64</th><th>float64</th><th>float64</th><th>float64</th><th>float64</th></tr></thead>\n",
       "<tr><td>33.711</td><td>-4.17344</td><td>22.53</td><td>1016.3</td><td>96.2</td><td>69.0</td><td>32.5</td><td>1.47</td><td>Scd</td><td>9.3</td><td>6</td><td>1.92</td><td>1.57</td><td>11.8</td><td>3.81</td></tr>\n",
       "<tr><td>162.9173</td><td>58.80596</td><td>22.03</td><td>1964.8</td><td>183.8</td><td>133.1</td><td>78.7</td><td>2.06</td><td>Sab</td><td>45.6</td><td>6</td><td>2.11</td><td>2.09</td><td>12.22</td><td>3.81</td></tr>\n",
       "<tr><td>161.75087</td><td>59.01883</td><td>23.66</td><td>1329.6</td><td>75.0</td><td>61.0</td><td>40.6</td><td>2.562</td><td>Scd</td><td>1.7</td><td>7</td><td>2.53</td><td>--</td><td>11.78</td><td>3.7</td></tr>\n",
       "<tr><td>35.95578</td><td>-5.08144</td><td>23.85</td><td>1002.1</td><td>71.2</td><td>77.6</td><td>59.5</td><td>3.15</td><td>Sab</td><td>7.3</td><td>5</td><td>3.32</td><td>3.27</td><td>11.91</td><td>3.8</td></tr>\n",
       "<tr><td>10.23271</td><td>-44.07592</td><td>R = 21.50</td><td>487.0</td><td>75.3</td><td>68.1</td><td>45.7</td><td>3.29</td><td>sb</td><td>13.3</td><td>5</td><td>2.67</td><td>3.07</td><td>11.75</td><td>3.77</td></tr>\n",
       "<tr><td>160.33716</td><td>59.40493</td><td>22.36</td><td>1225.7</td><td>--</td><td>36.8</td><td>39.0</td><td>3.29</td><td>Scd</td><td>6.7</td><td>6</td><td>4.93</td><td>3.27</td><td>12.08</td><td>3.71</td></tr>\n",
       "<tr><td>36.15258</td><td>-5.1025</td><td>24.92</td><td>627.2</td><td>43.5</td><td>53.7</td><td>41.5</td><td>3.37</td><td>Sab</td><td>2.0</td><td>5</td><td>3.6</td><td>3.47</td><td>11.69</td><td>3.71</td></tr>\n",
       "<tr><td>159.78395</td><td>58.55888</td><td>g = 24.41</td><td>231.6</td><td>35.3</td><td>39.9</td><td>36.7</td><td>3.72</td><td>Sdm</td><td>0.0</td><td>3</td><td>3.91</td><td>3.68</td><td>11.32</td><td>3.79</td></tr>\n",
       "<tr><td>36.9684</td><td>-5.02193</td><td>24.92</td><td>610.3</td><td>40.4</td><td>47.8</td><td>39.3</td><td>3.79</td><td>Sab</td><td>7.5</td><td>6</td><td>3.66</td><td>3.79</td><td>11.79</td><td>3.94</td></tr>\n",
       "<tr><td>160.85139</td><td>58.02007</td><td>23.22</td><td>443.7</td><td>43.1</td><td>61.2</td><td>37.4</td><td>3.92</td><td>Sbc</td><td>2.6</td><td>5</td><td>2.24</td><td>3.37</td><td>12.21</td><td>3.94</td></tr>\n",
       "<tr><td>35.92307</td><td>-4.73225</td><td>25.55</td><td>849.5</td><td>48.5</td><td>59.5</td><td>45.3</td><td>3.94</td><td>Sab</td><td>2.9</td><td>5</td><td>3.56</td><td>3.57</td><td>12.12</td><td>3.83</td></tr>\n",
       "<tr><td>164.28366</td><td>58.43524</td><td>22.3</td><td>596.0</td><td>43.5</td><td>51.0</td><td>37.4</td><td>4.15</td><td>Scd</td><td>60.0</td><td>5</td><td>2.46</td><td>3.79</td><td>12.06</td><td>4.14</td></tr>\n",
       "<tr><td>164.28227</td><td>58.43064</td><td>--</td><td>--</td><td>--</td><td>--</td><td>--</td><td>0.2</td><td>--</td><td>--</td><td>--</td><td>--</td><td>--</td><td>--</td><td>0.4</td></tr>\n",
       "<tr><td>161.63013</td><td>59.17688</td><td>23.94</td><td>391.4</td><td>--</td><td>29.6</td><td>27.0</td><td>5.19</td><td>Scd</td><td>4.8</td><td>4</td><td>3.05</td><td>4.75</td><td>12.11</td><td>4.22</td></tr>\n",
       "<tr><td>--</td><td>--</td><td>--</td><td>--</td><td>--</td><td>--</td><td>--</td><td>--</td><td>--</td><td>--</td><td>--</td><td>--</td><td>--</td><td>--</td><td>--</td></tr>\n",
       "<tr><td>--</td><td>--</td><td>--</td><td>--</td><td>--</td><td>--</td><td>--</td><td>--</td><td>--</td><td>--</td><td>--</td><td>--</td><td>--</td><td>--</td><td>--</td></tr>\n",
       "<tr><td>--</td><td>--</td><td>--</td><td>--</td><td>--</td><td>--</td><td>--</td><td>--</td><td>--</td><td>--</td><td>--</td><td>--</td><td>--</td><td>--</td><td>--</td></tr>\n",
       "<tr><td>--</td><td>--</td><td>--</td><td>--</td><td>--</td><td>--</td><td>--</td><td>--</td><td>--</td><td>--</td><td>--</td><td>--</td><td>--</td><td>--</td><td>--</td></tr>\n",
       "</table>"
      ],
      "text/plain": [
       "<Table length=18>\n",
       "    RA       Dec        i     ...  Z comb M * log(M sol.) SFR log(M sol. yr−1)\n",
       " float64   float64     str9   ... float64     float64           float64       \n",
       "--------- --------- --------- ... ------- --------------- --------------------\n",
       "   33.711  -4.17344     22.53 ...    1.57            11.8                 3.81\n",
       " 162.9173  58.80596     22.03 ...    2.09           12.22                 3.81\n",
       "161.75087  59.01883     23.66 ...      --           11.78                  3.7\n",
       " 35.95578  -5.08144     23.85 ...    3.27           11.91                  3.8\n",
       " 10.23271 -44.07592 R = 21.50 ...    3.07           11.75                 3.77\n",
       "160.33716  59.40493     22.36 ...    3.27           12.08                 3.71\n",
       " 36.15258   -5.1025     24.92 ...    3.47           11.69                 3.71\n",
       "159.78395  58.55888 g = 24.41 ...    3.68           11.32                 3.79\n",
       "  36.9684  -5.02193     24.92 ...    3.79           11.79                 3.94\n",
       "160.85139  58.02007     23.22 ...    3.37           12.21                 3.94\n",
       " 35.92307  -4.73225     25.55 ...    3.57           12.12                 3.83\n",
       "164.28366  58.43524      22.3 ...    3.79           12.06                 4.14\n",
       "164.28227  58.43064        -- ...      --              --                  0.4\n",
       "161.63013  59.17688     23.94 ...    4.75           12.11                 4.22\n",
       "       --        --        -- ...      --              --                   --\n",
       "       --        --        -- ...      --              --                   --\n",
       "       --        --        -- ...      --              --                   --\n",
       "       --        --        -- ...      --              --                   --"
      ]
     },
     "execution_count": 23,
     "metadata": {},
     "output_type": "execute_result"
    }
   ],
   "source": [
    "AGN"
   ]
  },
  {
   "cell_type": "code",
   "execution_count": 85,
   "metadata": {},
   "outputs": [],
   "source": [
    "# stack tables together\n",
    "all_sources=vstack((ysb,M82_SBs,QSOs,AGN))\n",
    "# convert to mask table\n",
    "all_sources=Table(all_sources,masked=True,copy=False)\n",
    "#remove masked sources\n",
    "all_sources=all_sources[all_sources['RA'].mask==False]\n",
    "#add empty field column\n",
    "all_sources.add_column('-'*max([len(i) for i in fields]),name='field',)"
   ]
  },
  {
   "cell_type": "code",
   "execution_count": 86,
   "metadata": {},
   "outputs": [
    {
     "data": {
      "text/html": [
       "<i>Table masked=True length=43</i>\n",
       "<table id=\"table140632940002888\" class=\"table-striped table-bordered table-condensed\">\n",
       "<thead><tr><th>RA</th><th>Dec</th><th>i</th><th>S 24 (μJy)</th><th>S 250 (mJy)</th><th>S 350 (mJy)</th><th>S 500 (mJy)</th><th>Z phot</th><th>Type</th><th>Chi</th><th>n bands</th><th>Z subm</th><th>Z comb</th><th>M * log(M sol.)</th><th>SFR log(M sol. yr−1)</th><th>field</th></tr></thead>\n",
       "<thead><tr><th>float64</th><th>float64</th><th>str9</th><th>float64</th><th>float64</th><th>float64</th><th>float64</th><th>float64</th><th>str9</th><th>float64</th><th>int64</th><th>float64</th><th>float64</th><th>float64</th><th>float64</th><th>str18</th></tr></thead>\n",
       "<tr><td>159.03456</td><td>58.44533</td><td>21.37</td><td>1127.8</td><td>131.6</td><td>84.2</td><td>42.2</td><td>1.44</td><td>Scd</td><td>4.8</td><td>4</td><td>1.16</td><td>1.19</td><td>11.62</td><td>3.89</td><td>------------------</td></tr>\n",
       "<tr><td>35.28232</td><td>-4.149</td><td>g = 25.31</td><td>636.1</td><td>53.7</td><td>58.3</td><td>55.1</td><td>3.27</td><td>Sab</td><td>2.4</td><td>4</td><td>3.84</td><td>2.8</td><td>11.28</td><td>3.7</td><td>------------------</td></tr>\n",
       "<tr><td>35.28037</td><td>-4.14839</td><td>--</td><td>--</td><td>--</td><td>--</td><td>--</td><td>2.55</td><td>--</td><td>--</td><td>--</td><td>--</td><td>--</td><td>--</td><td>3.59</td><td>------------------</td></tr>\n",
       "<tr><td>160.50839</td><td>58.67179</td><td>23.49</td><td>904.6</td><td>95.7</td><td>79.5</td><td>60.5</td><td>3.81</td><td>Sab</td><td>4.1</td><td>6</td><td>2.86</td><td>3.07</td><td>12.02</td><td>3.99</td><td>------------------</td></tr>\n",
       "<tr><td>160.51041</td><td>58.67371</td><td>--</td><td>--</td><td>--</td><td>--</td><td>--</td><td>1.08</td><td>--</td><td>--</td><td>--</td><td>--</td><td>--</td><td>--</td><td>3.05</td><td>------------------</td></tr>\n",
       "<tr><td>36.59817</td><td>-4.56164</td><td>25.11</td><td>389.5</td><td>59.3</td><td>67.2</td><td>54.7</td><td>3.88</td><td>Sab</td><td>2.1</td><td>5</td><td>3.53</td><td>3.68</td><td>11.49</td><td>3.85</td><td>------------------</td></tr>\n",
       "<tr><td>161.98271</td><td>58.07477</td><td>22.1</td><td>264.4</td><td>44.2</td><td>45.3</td><td>33.6</td><td>4.13</td><td>sb</td><td>25.4</td><td>6</td><td>3.15</td><td>3.68</td><td>11.87</td><td>3.76</td><td>------------------</td></tr>\n",
       "<tr><td>162.33324</td><td>58.10657</td><td>22.61</td><td>516.4</td><td>56.9</td><td>52.9</td><td>59.6</td><td>2.8</td><td>Scd</td><td>6.1</td><td>8</td><td>4.09</td><td>2.89</td><td>11.69</td><td>3.72</td><td>------------------</td></tr>\n",
       "<tr><td>9.64405</td><td>-44.36636</td><td>23.02</td><td>987.2</td><td>91.7</td><td>79.4</td><td>48.1</td><td>2.85</td><td>Scd</td><td>1.8</td><td>4</td><td>2.43</td><td>2.72</td><td>11.89</td><td>3.7</td><td>------------------</td></tr>\n",
       "<tr><td>160.9194</td><td>57.91475</td><td>22.32</td><td>682.3</td><td>116.5</td><td>102.0</td><td>65.4</td><td>3.06</td><td>Sab</td><td>20.5</td><td>6</td><td>2.56</td><td>2.8</td><td>12.5</td><td>4.12</td><td>------------------</td></tr>\n",
       "<tr><td>...</td><td>...</td><td>...</td><td>...</td><td>...</td><td>...</td><td>...</td><td>...</td><td>...</td><td>...</td><td>...</td><td>...</td><td>...</td><td>...</td><td>...</td><td>...</td></tr>\n",
       "<tr><td>10.23271</td><td>-44.07592</td><td>R = 21.50</td><td>487.0</td><td>75.3</td><td>68.1</td><td>45.7</td><td>3.29</td><td>sb</td><td>13.3</td><td>5</td><td>2.67</td><td>3.07</td><td>11.75</td><td>3.77</td><td>------------------</td></tr>\n",
       "<tr><td>160.33716</td><td>59.40493</td><td>22.36</td><td>1225.7</td><td>--</td><td>36.8</td><td>39.0</td><td>3.29</td><td>Scd</td><td>6.7</td><td>6</td><td>4.93</td><td>3.27</td><td>12.08</td><td>3.71</td><td>------------------</td></tr>\n",
       "<tr><td>36.15258</td><td>-5.1025</td><td>24.92</td><td>627.2</td><td>43.5</td><td>53.7</td><td>41.5</td><td>3.37</td><td>Sab</td><td>2.0</td><td>5</td><td>3.6</td><td>3.47</td><td>11.69</td><td>3.71</td><td>------------------</td></tr>\n",
       "<tr><td>159.78395</td><td>58.55888</td><td>g = 24.41</td><td>231.6</td><td>35.3</td><td>39.9</td><td>36.7</td><td>3.72</td><td>Sdm</td><td>0.0</td><td>3</td><td>3.91</td><td>3.68</td><td>11.32</td><td>3.79</td><td>------------------</td></tr>\n",
       "<tr><td>36.9684</td><td>-5.02193</td><td>24.92</td><td>610.3</td><td>40.4</td><td>47.8</td><td>39.3</td><td>3.79</td><td>Sab</td><td>7.5</td><td>6</td><td>3.66</td><td>3.79</td><td>11.79</td><td>3.94</td><td>------------------</td></tr>\n",
       "<tr><td>160.85139</td><td>58.02007</td><td>23.22</td><td>443.7</td><td>43.1</td><td>61.2</td><td>37.4</td><td>3.92</td><td>Sbc</td><td>2.6</td><td>5</td><td>2.24</td><td>3.37</td><td>12.21</td><td>3.94</td><td>------------------</td></tr>\n",
       "<tr><td>35.92307</td><td>-4.73225</td><td>25.55</td><td>849.5</td><td>48.5</td><td>59.5</td><td>45.3</td><td>3.94</td><td>Sab</td><td>2.9</td><td>5</td><td>3.56</td><td>3.57</td><td>12.12</td><td>3.83</td><td>------------------</td></tr>\n",
       "<tr><td>164.28366</td><td>58.43524</td><td>22.3</td><td>596.0</td><td>43.5</td><td>51.0</td><td>37.4</td><td>4.15</td><td>Scd</td><td>60.0</td><td>5</td><td>2.46</td><td>3.79</td><td>12.06</td><td>4.14</td><td>------------------</td></tr>\n",
       "<tr><td>164.28227</td><td>58.43064</td><td>--</td><td>--</td><td>--</td><td>--</td><td>--</td><td>0.2</td><td>--</td><td>--</td><td>--</td><td>--</td><td>--</td><td>--</td><td>0.4</td><td>------------------</td></tr>\n",
       "<tr><td>161.63013</td><td>59.17688</td><td>23.94</td><td>391.4</td><td>--</td><td>29.6</td><td>27.0</td><td>5.19</td><td>Scd</td><td>4.8</td><td>4</td><td>3.05</td><td>4.75</td><td>12.11</td><td>4.22</td><td>------------------</td></tr>\n",
       "</table>"
      ],
      "text/plain": [
       "<Table masked=True length=43>\n",
       "    RA       Dec        i     ... SFR log(M sol. yr−1)       field       \n",
       " float64   float64     str9   ...       float64              str18       \n",
       "--------- --------- --------- ... -------------------- ------------------\n",
       "159.03456  58.44533     21.37 ...                 3.89 ------------------\n",
       " 35.28232    -4.149 g = 25.31 ...                  3.7 ------------------\n",
       " 35.28037  -4.14839        -- ...                 3.59 ------------------\n",
       "160.50839  58.67179     23.49 ...                 3.99 ------------------\n",
       "160.51041  58.67371        -- ...                 3.05 ------------------\n",
       " 36.59817  -4.56164     25.11 ...                 3.85 ------------------\n",
       "161.98271  58.07477      22.1 ...                 3.76 ------------------\n",
       "162.33324  58.10657     22.61 ...                 3.72 ------------------\n",
       "  9.64405 -44.36636     23.02 ...                  3.7 ------------------\n",
       " 160.9194  57.91475     22.32 ...                 4.12 ------------------\n",
       "      ...       ...       ... ...                  ...                ...\n",
       " 10.23271 -44.07592 R = 21.50 ...                 3.77 ------------------\n",
       "160.33716  59.40493     22.36 ...                 3.71 ------------------\n",
       " 36.15258   -5.1025     24.92 ...                 3.71 ------------------\n",
       "159.78395  58.55888 g = 24.41 ...                 3.79 ------------------\n",
       "  36.9684  -5.02193     24.92 ...                 3.94 ------------------\n",
       "160.85139  58.02007     23.22 ...                 3.94 ------------------\n",
       " 35.92307  -4.73225     25.55 ...                 3.83 ------------------\n",
       "164.28366  58.43524      22.3 ...                 4.14 ------------------\n",
       "164.28227  58.43064        -- ...                  0.4 ------------------\n",
       "161.63013  59.17688     23.94 ...                 4.22 ------------------"
      ]
     },
     "execution_count": 86,
     "metadata": {},
     "output_type": "execute_result"
    }
   ],
   "source": [
    "all_sources"
   ]
  },
  {
   "cell_type": "markdown",
   "metadata": {},
   "source": [
    "## What fields are the sources in?\n"
   ]
  },
  {
   "cell_type": "code",
   "execution_count": 87,
   "metadata": {},
   "outputs": [],
   "source": [
    "fields=['AKARI-NEP','AKARI-SEP','Bootes','CDFS-SWIRE',\n",
    "        'COSMOS','EGS','ELAIS-N1','ELAIS-N2',\n",
    "        'ELAIS-S1','GAMA-09','GAMA-12','GAMA-15',\n",
    "        'HATLAS-NGP','HATLAS-SGP','HDF-N','Herschel-Stripe-82',\n",
    "        'Lockman-SWIRE','SA13','SPIRE-NEP','SSDF',\n",
    "        'xFLS','XMM-13hr','XMM-LSS']"
   ]
  },
  {
   "cell_type": "code",
   "execution_count": 89,
   "metadata": {},
   "outputs": [],
   "source": [
    "for i,f in enumerate(fields):\n",
    "    MOC=pymoc.MOC()\n",
    "    pymoc.io.fits.read_moc_fits(MOC,filename=\n",
    "                       'http://hedam.lam.fr/HELP/dataproducts/dmu2/dmu2_field_coverages/{}_MOC.fits'.format(f))\n",
    "    in_moc=xidplus.moc_routines.check_in_moc(all_sources['RA'],all_sources['Dec'],MOC)\n",
    "    all_sources['field'][in_moc]=f"
   ]
  },
  {
   "cell_type": "code",
   "execution_count": 90,
   "metadata": {},
   "outputs": [
    {
     "data": {
      "text/html": [
       "<i>Table masked=True length=43</i>\n",
       "<table id=\"table140632940002888\" class=\"table-striped table-bordered table-condensed\">\n",
       "<thead><tr><th>RA</th><th>Dec</th><th>i</th><th>S 24 (μJy)</th><th>S 250 (mJy)</th><th>S 350 (mJy)</th><th>S 500 (mJy)</th><th>Z phot</th><th>Type</th><th>Chi</th><th>n bands</th><th>Z subm</th><th>Z comb</th><th>M * log(M sol.)</th><th>SFR log(M sol. yr−1)</th><th>field</th></tr></thead>\n",
       "<thead><tr><th>float64</th><th>float64</th><th>str9</th><th>float64</th><th>float64</th><th>float64</th><th>float64</th><th>float64</th><th>str9</th><th>float64</th><th>int64</th><th>float64</th><th>float64</th><th>float64</th><th>float64</th><th>str18</th></tr></thead>\n",
       "<tr><td>159.03456</td><td>58.44533</td><td>21.37</td><td>1127.8</td><td>131.6</td><td>84.2</td><td>42.2</td><td>1.44</td><td>Scd</td><td>4.8</td><td>4</td><td>1.16</td><td>1.19</td><td>11.62</td><td>3.89</td><td>Lockman-SWIRE</td></tr>\n",
       "<tr><td>35.28232</td><td>-4.149</td><td>g = 25.31</td><td>636.1</td><td>53.7</td><td>58.3</td><td>55.1</td><td>3.27</td><td>Sab</td><td>2.4</td><td>4</td><td>3.84</td><td>2.8</td><td>11.28</td><td>3.7</td><td>XMM-LSS</td></tr>\n",
       "<tr><td>35.28037</td><td>-4.14839</td><td>--</td><td>--</td><td>--</td><td>--</td><td>--</td><td>2.55</td><td>--</td><td>--</td><td>--</td><td>--</td><td>--</td><td>--</td><td>3.59</td><td>XMM-LSS</td></tr>\n",
       "<tr><td>160.50839</td><td>58.67179</td><td>23.49</td><td>904.6</td><td>95.7</td><td>79.5</td><td>60.5</td><td>3.81</td><td>Sab</td><td>4.1</td><td>6</td><td>2.86</td><td>3.07</td><td>12.02</td><td>3.99</td><td>Lockman-SWIRE</td></tr>\n",
       "<tr><td>160.51041</td><td>58.67371</td><td>--</td><td>--</td><td>--</td><td>--</td><td>--</td><td>1.08</td><td>--</td><td>--</td><td>--</td><td>--</td><td>--</td><td>--</td><td>3.05</td><td>Lockman-SWIRE</td></tr>\n",
       "<tr><td>36.59817</td><td>-4.56164</td><td>25.11</td><td>389.5</td><td>59.3</td><td>67.2</td><td>54.7</td><td>3.88</td><td>Sab</td><td>2.1</td><td>5</td><td>3.53</td><td>3.68</td><td>11.49</td><td>3.85</td><td>XMM-LSS</td></tr>\n",
       "<tr><td>161.98271</td><td>58.07477</td><td>22.1</td><td>264.4</td><td>44.2</td><td>45.3</td><td>33.6</td><td>4.13</td><td>sb</td><td>25.4</td><td>6</td><td>3.15</td><td>3.68</td><td>11.87</td><td>3.76</td><td>Lockman-SWIRE</td></tr>\n",
       "<tr><td>162.33324</td><td>58.10657</td><td>22.61</td><td>516.4</td><td>56.9</td><td>52.9</td><td>59.6</td><td>2.8</td><td>Scd</td><td>6.1</td><td>8</td><td>4.09</td><td>2.89</td><td>11.69</td><td>3.72</td><td>Lockman-SWIRE</td></tr>\n",
       "<tr><td>9.64405</td><td>-44.36636</td><td>23.02</td><td>987.2</td><td>91.7</td><td>79.4</td><td>48.1</td><td>2.85</td><td>Scd</td><td>1.8</td><td>4</td><td>2.43</td><td>2.72</td><td>11.89</td><td>3.7</td><td>ELAIS-S1</td></tr>\n",
       "<tr><td>160.9194</td><td>57.91475</td><td>22.32</td><td>682.3</td><td>116.5</td><td>102.0</td><td>65.4</td><td>3.06</td><td>Sab</td><td>20.5</td><td>6</td><td>2.56</td><td>2.8</td><td>12.5</td><td>4.12</td><td>Lockman-SWIRE</td></tr>\n",
       "<tr><td>...</td><td>...</td><td>...</td><td>...</td><td>...</td><td>...</td><td>...</td><td>...</td><td>...</td><td>...</td><td>...</td><td>...</td><td>...</td><td>...</td><td>...</td><td>...</td></tr>\n",
       "<tr><td>10.23271</td><td>-44.07592</td><td>R = 21.50</td><td>487.0</td><td>75.3</td><td>68.1</td><td>45.7</td><td>3.29</td><td>sb</td><td>13.3</td><td>5</td><td>2.67</td><td>3.07</td><td>11.75</td><td>3.77</td><td>ELAIS-S1</td></tr>\n",
       "<tr><td>160.33716</td><td>59.40493</td><td>22.36</td><td>1225.7</td><td>--</td><td>36.8</td><td>39.0</td><td>3.29</td><td>Scd</td><td>6.7</td><td>6</td><td>4.93</td><td>3.27</td><td>12.08</td><td>3.71</td><td>Lockman-SWIRE</td></tr>\n",
       "<tr><td>36.15258</td><td>-5.1025</td><td>24.92</td><td>627.2</td><td>43.5</td><td>53.7</td><td>41.5</td><td>3.37</td><td>Sab</td><td>2.0</td><td>5</td><td>3.6</td><td>3.47</td><td>11.69</td><td>3.71</td><td>XMM-LSS</td></tr>\n",
       "<tr><td>159.78395</td><td>58.55888</td><td>g = 24.41</td><td>231.6</td><td>35.3</td><td>39.9</td><td>36.7</td><td>3.72</td><td>Sdm</td><td>0.0</td><td>3</td><td>3.91</td><td>3.68</td><td>11.32</td><td>3.79</td><td>Lockman-SWIRE</td></tr>\n",
       "<tr><td>36.9684</td><td>-5.02193</td><td>24.92</td><td>610.3</td><td>40.4</td><td>47.8</td><td>39.3</td><td>3.79</td><td>Sab</td><td>7.5</td><td>6</td><td>3.66</td><td>3.79</td><td>11.79</td><td>3.94</td><td>XMM-LSS</td></tr>\n",
       "<tr><td>160.85139</td><td>58.02007</td><td>23.22</td><td>443.7</td><td>43.1</td><td>61.2</td><td>37.4</td><td>3.92</td><td>Sbc</td><td>2.6</td><td>5</td><td>2.24</td><td>3.37</td><td>12.21</td><td>3.94</td><td>Lockman-SWIRE</td></tr>\n",
       "<tr><td>35.92307</td><td>-4.73225</td><td>25.55</td><td>849.5</td><td>48.5</td><td>59.5</td><td>45.3</td><td>3.94</td><td>Sab</td><td>2.9</td><td>5</td><td>3.56</td><td>3.57</td><td>12.12</td><td>3.83</td><td>XMM-LSS</td></tr>\n",
       "<tr><td>164.28366</td><td>58.43524</td><td>22.3</td><td>596.0</td><td>43.5</td><td>51.0</td><td>37.4</td><td>4.15</td><td>Scd</td><td>60.0</td><td>5</td><td>2.46</td><td>3.79</td><td>12.06</td><td>4.14</td><td>Lockman-SWIRE</td></tr>\n",
       "<tr><td>164.28227</td><td>58.43064</td><td>--</td><td>--</td><td>--</td><td>--</td><td>--</td><td>0.2</td><td>--</td><td>--</td><td>--</td><td>--</td><td>--</td><td>--</td><td>0.4</td><td>Lockman-SWIRE</td></tr>\n",
       "<tr><td>161.63013</td><td>59.17688</td><td>23.94</td><td>391.4</td><td>--</td><td>29.6</td><td>27.0</td><td>5.19</td><td>Scd</td><td>4.8</td><td>4</td><td>3.05</td><td>4.75</td><td>12.11</td><td>4.22</td><td>Lockman-SWIRE</td></tr>\n",
       "</table>"
      ],
      "text/plain": [
       "<Table masked=True length=43>\n",
       "    RA       Dec        i     ... SFR log(M sol. yr−1)     field    \n",
       " float64   float64     str9   ...       float64            str18    \n",
       "--------- --------- --------- ... -------------------- -------------\n",
       "159.03456  58.44533     21.37 ...                 3.89 Lockman-SWIRE\n",
       " 35.28232    -4.149 g = 25.31 ...                  3.7       XMM-LSS\n",
       " 35.28037  -4.14839        -- ...                 3.59       XMM-LSS\n",
       "160.50839  58.67179     23.49 ...                 3.99 Lockman-SWIRE\n",
       "160.51041  58.67371        -- ...                 3.05 Lockman-SWIRE\n",
       " 36.59817  -4.56164     25.11 ...                 3.85       XMM-LSS\n",
       "161.98271  58.07477      22.1 ...                 3.76 Lockman-SWIRE\n",
       "162.33324  58.10657     22.61 ...                 3.72 Lockman-SWIRE\n",
       "  9.64405 -44.36636     23.02 ...                  3.7      ELAIS-S1\n",
       " 160.9194  57.91475     22.32 ...                 4.12 Lockman-SWIRE\n",
       "      ...       ...       ... ...                  ...           ...\n",
       " 10.23271 -44.07592 R = 21.50 ...                 3.77      ELAIS-S1\n",
       "160.33716  59.40493     22.36 ...                 3.71 Lockman-SWIRE\n",
       " 36.15258   -5.1025     24.92 ...                 3.71       XMM-LSS\n",
       "159.78395  58.55888 g = 24.41 ...                 3.79 Lockman-SWIRE\n",
       "  36.9684  -5.02193     24.92 ...                 3.94       XMM-LSS\n",
       "160.85139  58.02007     23.22 ...                 3.94 Lockman-SWIRE\n",
       " 35.92307  -4.73225     25.55 ...                 3.83       XMM-LSS\n",
       "164.28366  58.43524      22.3 ...                 4.14 Lockman-SWIRE\n",
       "164.28227  58.43064        -- ...                  0.4 Lockman-SWIRE\n",
       "161.63013  59.17688     23.94 ...                 4.22 Lockman-SWIRE"
      ]
     },
     "execution_count": 90,
     "metadata": {},
     "output_type": "execute_result"
    }
   ],
   "source": [
    "all_sources"
   ]
  },
  {
   "cell_type": "code",
   "execution_count": 105,
   "metadata": {},
   "outputs": [
    {
     "data": {
      "text/plain": [
       "[None, None, None]"
      ]
     },
     "execution_count": 105,
     "metadata": {},
     "output_type": "execute_result"
    }
   ],
   "source": [
    "[all_sources[all_sources['field']==f].write('../../../data/MRR2018_tables/'+f+'_sources.csv') for f in np.unique(all_sources['field'])]"
   ]
  },
  {
   "cell_type": "code",
   "execution_count": 106,
   "metadata": {},
   "outputs": [
    {
     "name": "stdout",
     "output_type": "stream",
     "text": [
      "ELAIS-S1_sources.csv         Table_A2_Type_2_AGN_SBs.csv\r\n",
      "Lockman-SWIRE_sources.csv    Table_A2_youngSBs.csv\r\n",
      "Table_A2_M82_Arp220_SBs.csv  XMM-LSS_sources.csv\r\n",
      "Table_A2_QSOs_SBs.csv\r\n"
     ]
    }
   ],
   "source": [
    "ls ../../../data/MRR2018_tables/"
   ]
  },
  {
   "cell_type": "code",
   "execution_count": null,
   "metadata": {},
   "outputs": [],
   "source": []
  }
 ],
 "metadata": {
  "kernelspec": {
   "display_name": "Python 3",
   "language": "python",
   "name": "python3"
  },
  "language_info": {
   "codemirror_mode": {
    "name": "ipython",
    "version": 3
   },
   "file_extension": ".py",
   "mimetype": "text/x-python",
   "name": "python",
   "nbconvert_exporter": "python",
   "pygments_lexer": "ipython3",
   "version": "3.6.6"
  }
 },
 "nbformat": 4,
 "nbformat_minor": 2
}
