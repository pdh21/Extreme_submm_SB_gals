{
 "cells": [
  {
   "cell_type": "markdown",
   "metadata": {},
   "source": [
    "In the paper [Extreme submillimetre starburst galaxies](https://www.aanda.org/articles/aa/full_html/2018/11/aa32671-18/aa32671-18.html#S9) there are claims made about there being galaxies with an SFR of 30,000 $M_{\\odot}/yr$. We believe these objects are actually due to blending of multiple objects. \n",
    "\n",
    "This notebook wil work on establishing the sample of objects we will examine in this paper.\n",
    "\n",
    "Things to do:\n",
    "1. Establish the file associated with Michael's paper\n",
    "2. Gather all the relevant maps, psf's etc\n",
    "3. Visualise Sources"
   ]
  },
  {
   "cell_type": "code",
   "execution_count": 58,
   "metadata": {},
   "outputs": [],
   "source": [
    "from astropy.table import Table, vstack,hstack\n",
    "#Set some color info\n",
    "import seaborn as sns\n",
    "import pylab as plt\n",
    "%matplotlib inline\n",
    "cmap=sns.cubehelix_palette(8, start=.5, rot=-.75,as_cmap=True)\n",
    "vmin=-0.01\n",
    "vmax=0.1"
   ]
  },
  {
   "cell_type": "markdown",
   "metadata": {},
   "source": [
    "There are four tables in the appendix for the candidates, each table corresponding to a type of galaxy"
   ]
  },
  {
   "cell_type": "code",
   "execution_count": 65,
   "metadata": {},
   "outputs": [],
   "source": [
    "ysb=Table.read('../../../data/MRR2018_tables/Table_A2_youngSBs.csv', format='ascii')\n",
    "M82_SBs=Table.read('../../../data/MRR2018_tables/Table_A2_M82_Arp220_SBs.csv', format='ascii')\n",
    "QSOs = Table.read('../../../data/MRR2018_tables/Table_A2_QSOs_SBs.csv', format='ascii')\n",
    "AGN = Table.read('../../../data/MRR2018_tables/Table_A2_Type_2_AGN_SBs.csv', format='ascii')"
   ]
  },
  {
   "cell_type": "code",
   "execution_count": 66,
   "metadata": {},
   "outputs": [
    {
     "data": {
      "text/html": [
       "<i>Table length=5</i>\n",
       "<table id=\"table140354721238824\" class=\"table-striped table-bordered table-condensed\">\n",
       "<thead><tr><th>﻿RA</th><th>Dec</th><th>i</th><th>S 24 (μJy)</th><th>S 250 (mJy)</th><th>S 350 (mJy)</th><th>S 500 (mJy)</th><th>Z phot</th><th>Type</th><th>Chi</th><th>n bands</th><th>Z subm</th><th>Z comb</th><th>M * log(M sol.)</th><th>SFR log(M sol. yr−1)</th></tr></thead>\n",
       "<thead><tr><th>float64</th><th>float64</th><th>str9</th><th>float64</th><th>float64</th><th>float64</th><th>float64</th><th>float64</th><th>str3</th><th>float64</th><th>int64</th><th>float64</th><th>float64</th><th>float64</th><th>float64</th></tr></thead>\n",
       "<tr><td>159.03456</td><td>58.44533</td><td>21.37</td><td>1127.8</td><td>131.6</td><td>84.2</td><td>42.2</td><td>1.44</td><td>Scd</td><td>4.8</td><td>4</td><td>1.16</td><td>1.19</td><td>11.62</td><td>3.89</td></tr>\n",
       "<tr><td>35.28232</td><td>-4.149</td><td>g = 25.31</td><td>636.1</td><td>53.7</td><td>58.3</td><td>55.1</td><td>3.27</td><td>Sab</td><td>2.4</td><td>4</td><td>3.84</td><td>2.8</td><td>11.28</td><td>3.7</td></tr>\n",
       "<tr><td>35.28037</td><td>-4.14839</td><td>--</td><td>--</td><td>--</td><td>--</td><td>--</td><td>2.55</td><td>--</td><td>--</td><td>--</td><td>--</td><td>--</td><td>--</td><td>3.59</td></tr>\n",
       "<tr><td>160.50839</td><td>58.67179</td><td>23.49</td><td>904.6</td><td>95.7</td><td>79.5</td><td>60.5</td><td>3.81</td><td>Sab</td><td>4.1</td><td>6</td><td>2.86</td><td>3.07</td><td>12.02</td><td>3.99</td></tr>\n",
       "<tr><td>160.51041</td><td>58.67371</td><td>--</td><td>--</td><td>--</td><td>--</td><td>--</td><td>1.08</td><td>--</td><td>--</td><td>--</td><td>--</td><td>--</td><td>--</td><td>3.05</td></tr>\n",
       "</table>"
      ],
      "text/plain": [
       "<Table length=5>\n",
       "   ﻿RA      Dec        i     ...  Z comb M * log(M sol.) SFR log(M sol. yr−1)\n",
       " float64  float64     str9   ... float64     float64           float64       \n",
       "--------- -------- --------- ... ------- --------------- --------------------\n",
       "159.03456 58.44533     21.37 ...    1.19           11.62                 3.89\n",
       " 35.28232   -4.149 g = 25.31 ...     2.8           11.28                  3.7\n",
       " 35.28037 -4.14839        -- ...      --              --                 3.59\n",
       "160.50839 58.67179     23.49 ...    3.07           12.02                 3.99\n",
       "160.51041 58.67371        -- ...      --              --                 3.05"
      ]
     },
     "execution_count": 66,
     "metadata": {},
     "output_type": "execute_result"
    }
   ],
   "source": [
    "ysb[0:5]"
   ]
  },
  {
   "cell_type": "code",
   "execution_count": 67,
   "metadata": {},
   "outputs": [
    {
     "data": {
      "text/html": [
       "<i>Table length=5</i>\n",
       "<table id=\"table140354721235352\" class=\"table-striped table-bordered table-condensed\">\n",
       "<thead><tr><th>﻿RA</th><th>Dec</th><th>i</th><th>S 24 (μJy)</th><th>S 250 (mJy)</th><th>S 350 (mJy)</th><th>S 500 (mJy)</th><th>Z phot</th><th>Type</th><th>Chi</th><th>n bands</th><th>Z subm</th><th>Z comb</th><th>M * log(M sol.)</th><th>SFR log(M sol. yr−1)</th></tr></thead>\n",
       "<thead><tr><th>float64</th><th>float64</th><th>str9</th><th>float64</th><th>float64</th><th>float64</th><th>float64</th><th>float64</th><th>str9</th><th>float64</th><th>int64</th><th>float64</th><th>float64</th><th>float64</th><th>float64</th></tr></thead>\n",
       "<tr><td>162.33324</td><td>58.10657</td><td>22.61</td><td>516.4</td><td>56.9</td><td>52.9</td><td>59.6</td><td>2.8</td><td>Scd</td><td>6.1</td><td>8</td><td>4.09</td><td>2.89</td><td>11.69</td><td>3.72</td></tr>\n",
       "<tr><td>9.64405</td><td>-44.36636</td><td>23.02</td><td>987.2</td><td>91.7</td><td>79.4</td><td>48.1</td><td>2.85</td><td>Scd</td><td>1.8</td><td>4</td><td>2.43</td><td>2.72</td><td>11.89</td><td>3.7</td></tr>\n",
       "<tr><td>160.9194</td><td>57.91475</td><td>22.32</td><td>682.3</td><td>116.5</td><td>102.0</td><td>65.4</td><td>3.06</td><td>Sab</td><td>20.5</td><td>6</td><td>2.56</td><td>2.8</td><td>12.5</td><td>4.12</td></tr>\n",
       "<tr><td>8.81979</td><td>-42.69724</td><td>R = 22.90</td><td>706.2</td><td>87.4</td><td>74.6</td><td>53.9</td><td>3.19</td><td>Scd</td><td>6.1</td><td>5</td><td>2.72</td><td>2.98</td><td>12.06</td><td>3.79</td></tr>\n",
       "<tr><td>162.38754</td><td>57.70547</td><td>g = 24.13</td><td>519.3</td><td>65.7</td><td>65.0</td><td>56.3</td><td>3.37</td><td>Scd</td><td>1.6</td><td>3</td><td>3.47</td><td>3.37</td><td>12.15</td><td>3.74</td></tr>\n",
       "</table>"
      ],
      "text/plain": [
       "<Table length=5>\n",
       "   ﻿RA       Dec        i     ...  Z comb M * log(M sol.) SFR log(M sol. yr−1)\n",
       " float64   float64     str9   ... float64     float64           float64       \n",
       "--------- --------- --------- ... ------- --------------- --------------------\n",
       "162.33324  58.10657     22.61 ...    2.89           11.69                 3.72\n",
       "  9.64405 -44.36636     23.02 ...    2.72           11.89                  3.7\n",
       " 160.9194  57.91475     22.32 ...     2.8            12.5                 4.12\n",
       "  8.81979 -42.69724 R = 22.90 ...    2.98           12.06                 3.79\n",
       "162.38754  57.70547 g = 24.13 ...    3.37           12.15                 3.74"
      ]
     },
     "execution_count": 67,
     "metadata": {},
     "output_type": "execute_result"
    }
   ],
   "source": [
    "M82_SBs[0:5]"
   ]
  },
  {
   "cell_type": "code",
   "execution_count": 68,
   "metadata": {},
   "outputs": [
    {
     "data": {
      "text/html": [
       "<i>Table length=5</i>\n",
       "<table id=\"table140354724753360\" class=\"table-striped table-bordered table-condensed\">\n",
       "<thead><tr><th>﻿RA</th><th>Dec</th><th>i</th><th>S 24 (μJy)</th><th>S 250 (mJy)</th><th>S 350 (mJy)</th><th>S 500 (mJy)</th><th>Z phot</th><th>Type</th><th>Chi</th><th>n bands</th><th>Z subm</th><th>Z comb</th><th>M * log(M sol.)</th><th>SFR log(M sol. yr−1)</th></tr></thead>\n",
       "<thead><tr><th>float64</th><th>float64</th><th>str9</th><th>float64</th><th>float64</th><th>float64</th><th>float64</th><th>float64</th><th>str3</th><th>float64</th><th>int64</th><th>float64</th><th>float64</th><th>int64</th><th>float64</th></tr></thead>\n",
       "<tr><td>164.64154</td><td>58.09799</td><td>20.95</td><td>1386.3</td><td>44.9</td><td>45.4</td><td>28.0</td><td>3.37</td><td>QSO</td><td>2.1</td><td>11</td><td>2.01</td><td>3.07</td><td>--</td><td>3.71</td></tr>\n",
       "<tr><td>164.64879</td><td>58.09513</td><td>--</td><td>--</td><td>--</td><td>--</td><td>--</td><td>1.11</td><td>--</td><td>--</td><td>--</td><td>--</td><td>--</td><td>--</td><td>2.74</td></tr>\n",
       "<tr><td>162.77605</td><td>58.52327</td><td>22.32</td><td>184.6</td><td>54.5</td><td>53.0</td><td>41.1</td><td>3.47</td><td>QSO</td><td>3.2</td><td>8</td><td>3.19</td><td>3.37</td><td>--</td><td>3.71</td></tr>\n",
       "<tr><td>161.8541</td><td>57.91928</td><td>21.11</td><td>245.8</td><td>76.1</td><td>80.3</td><td>65.3</td><td>3.49</td><td>QSO</td><td>1.3</td><td>10</td><td>3.42</td><td>3.47</td><td>--</td><td>3.86</td></tr>\n",
       "<tr><td>162.20728</td><td>58.28162</td><td>21.59</td><td>205.5</td><td>56.6</td><td>57.7</td><td>40.3</td><td>3.61</td><td>QSO</td><td>8.5</td><td>10</td><td>3.14</td><td>3.37</td><td>--</td><td>3.83</td></tr>\n",
       "</table>"
      ],
      "text/plain": [
       "<Table length=5>\n",
       "   ﻿RA      Dec      i   ...  Z comb M * log(M sol.) SFR log(M sol. yr−1)\n",
       " float64  float64   str9 ... float64      int64            float64       \n",
       "--------- -------- ----- ... ------- --------------- --------------------\n",
       "164.64154 58.09799 20.95 ...    3.07              --                 3.71\n",
       "164.64879 58.09513    -- ...      --              --                 2.74\n",
       "162.77605 58.52327 22.32 ...    3.37              --                 3.71\n",
       " 161.8541 57.91928 21.11 ...    3.47              --                 3.86\n",
       "162.20728 58.28162 21.59 ...    3.37              --                 3.83"
      ]
     },
     "execution_count": 68,
     "metadata": {},
     "output_type": "execute_result"
    }
   ],
   "source": [
    "QSOs[0:5]"
   ]
  },
  {
   "cell_type": "code",
   "execution_count": 69,
   "metadata": {},
   "outputs": [
    {
     "data": {
      "text/html": [
       "<i>Table length=5</i>\n",
       "<table id=\"table140354719804552\" class=\"table-striped table-bordered table-condensed\">\n",
       "<thead><tr><th>﻿RA</th><th>Dec</th><th>i</th><th>S 24 (μJy)</th><th>S 250 (mJy)</th><th>S 350 (mJy)</th><th>S 500 (mJy)</th><th>Z phot</th><th>Type</th><th>Chi</th><th>n bands</th><th>Z subm</th><th>Z comb</th><th>M * log(M sol.)</th><th>SFR log(M sol. yr−1)</th></tr></thead>\n",
       "<thead><tr><th>float64</th><th>float64</th><th>str9</th><th>float64</th><th>float64</th><th>float64</th><th>float64</th><th>float64</th><th>str3</th><th>float64</th><th>int64</th><th>float64</th><th>float64</th><th>float64</th><th>float64</th></tr></thead>\n",
       "<tr><td>33.711</td><td>-4.17344</td><td>22.53</td><td>1016.3</td><td>96.2</td><td>69.0</td><td>32.5</td><td>1.47</td><td>Scd</td><td>9.3</td><td>6</td><td>1.92</td><td>1.57</td><td>11.8</td><td>3.81</td></tr>\n",
       "<tr><td>162.9173</td><td>58.80596</td><td>22.03</td><td>1964.8</td><td>183.8</td><td>133.1</td><td>78.7</td><td>2.06</td><td>Sab</td><td>45.6</td><td>6</td><td>2.11</td><td>2.09</td><td>12.22</td><td>3.81</td></tr>\n",
       "<tr><td>161.75087</td><td>59.01883</td><td>23.66</td><td>1329.6</td><td>75.0</td><td>61.0</td><td>40.6</td><td>2.562</td><td>Scd</td><td>1.7</td><td>7</td><td>2.53</td><td>--</td><td>11.78</td><td>3.7</td></tr>\n",
       "<tr><td>35.95578</td><td>-5.08144</td><td>23.85</td><td>1002.1</td><td>71.2</td><td>77.6</td><td>59.5</td><td>3.15</td><td>Sab</td><td>7.3</td><td>5</td><td>3.32</td><td>3.27</td><td>11.91</td><td>3.8</td></tr>\n",
       "<tr><td>10.23271</td><td>-44.07592</td><td>R = 21.50</td><td>487.0</td><td>75.3</td><td>68.1</td><td>45.7</td><td>3.29</td><td>sb</td><td>13.3</td><td>5</td><td>2.67</td><td>3.07</td><td>11.75</td><td>3.77</td></tr>\n",
       "</table>"
      ],
      "text/plain": [
       "<Table length=5>\n",
       "   ﻿RA       Dec        i     ...  Z comb M * log(M sol.) SFR log(M sol. yr−1)\n",
       " float64   float64     str9   ... float64     float64           float64       \n",
       "--------- --------- --------- ... ------- --------------- --------------------\n",
       "   33.711  -4.17344     22.53 ...    1.57            11.8                 3.81\n",
       " 162.9173  58.80596     22.03 ...    2.09           12.22                 3.81\n",
       "161.75087  59.01883     23.66 ...      --           11.78                  3.7\n",
       " 35.95578  -5.08144     23.85 ...    3.27           11.91                  3.8\n",
       " 10.23271 -44.07592 R = 21.50 ...    3.07           11.75                 3.77"
      ]
     },
     "execution_count": 69,
     "metadata": {},
     "output_type": "execute_result"
    }
   ],
   "source": [
    "AGN[0:5]"
   ]
  },
  {
   "cell_type": "code",
   "execution_count": 70,
   "metadata": {},
   "outputs": [
    {
     "data": {
      "text/html": [
       "<i>Table length=50</i>\n",
       "<table id=\"table140354719880192\" class=\"table-striped table-bordered table-condensed\">\n",
       "<thead><tr><th>﻿RA</th><th>Dec</th><th>i</th><th>S 24 (μJy)</th><th>S 250 (mJy)</th><th>S 350 (mJy)</th><th>S 500 (mJy)</th><th>Z phot</th><th>Type</th><th>Chi</th><th>n bands</th><th>Z subm</th><th>Z comb</th><th>M * log(M sol.)</th><th>SFR log(M sol. yr−1)</th></tr></thead>\n",
       "<thead><tr><th>float64</th><th>float64</th><th>str9</th><th>float64</th><th>float64</th><th>float64</th><th>float64</th><th>float64</th><th>str9</th><th>float64</th><th>int64</th><th>float64</th><th>float64</th><th>float64</th><th>float64</th></tr></thead>\n",
       "<tr><td>159.03456</td><td>58.44533</td><td>21.37</td><td>1127.8</td><td>131.6</td><td>84.2</td><td>42.2</td><td>1.44</td><td>Scd</td><td>4.8</td><td>4</td><td>1.16</td><td>1.19</td><td>11.62</td><td>3.89</td></tr>\n",
       "<tr><td>35.28232</td><td>-4.149</td><td>g = 25.31</td><td>636.1</td><td>53.7</td><td>58.3</td><td>55.1</td><td>3.27</td><td>Sab</td><td>2.4</td><td>4</td><td>3.84</td><td>2.8</td><td>11.28</td><td>3.7</td></tr>\n",
       "<tr><td>35.28037</td><td>-4.14839</td><td>--</td><td>--</td><td>--</td><td>--</td><td>--</td><td>2.55</td><td>--</td><td>--</td><td>--</td><td>--</td><td>--</td><td>--</td><td>3.59</td></tr>\n",
       "<tr><td>160.50839</td><td>58.67179</td><td>23.49</td><td>904.6</td><td>95.7</td><td>79.5</td><td>60.5</td><td>3.81</td><td>Sab</td><td>4.1</td><td>6</td><td>2.86</td><td>3.07</td><td>12.02</td><td>3.99</td></tr>\n",
       "<tr><td>160.51041</td><td>58.67371</td><td>--</td><td>--</td><td>--</td><td>--</td><td>--</td><td>1.08</td><td>--</td><td>--</td><td>--</td><td>--</td><td>--</td><td>--</td><td>3.05</td></tr>\n",
       "<tr><td>36.59817</td><td>-4.56164</td><td>25.11</td><td>389.5</td><td>59.3</td><td>67.2</td><td>54.7</td><td>3.88</td><td>Sab</td><td>2.1</td><td>5</td><td>3.53</td><td>3.68</td><td>11.49</td><td>3.85</td></tr>\n",
       "<tr><td>161.98271</td><td>58.07477</td><td>22.1</td><td>264.4</td><td>44.2</td><td>45.3</td><td>33.6</td><td>4.13</td><td>sb</td><td>25.4</td><td>6</td><td>3.15</td><td>3.68</td><td>11.87</td><td>3.76</td></tr>\n",
       "<tr><td>162.33324</td><td>58.10657</td><td>22.61</td><td>516.4</td><td>56.9</td><td>52.9</td><td>59.6</td><td>2.8</td><td>Scd</td><td>6.1</td><td>8</td><td>4.09</td><td>2.89</td><td>11.69</td><td>3.72</td></tr>\n",
       "<tr><td>9.64405</td><td>-44.36636</td><td>23.02</td><td>987.2</td><td>91.7</td><td>79.4</td><td>48.1</td><td>2.85</td><td>Scd</td><td>1.8</td><td>4</td><td>2.43</td><td>2.72</td><td>11.89</td><td>3.7</td></tr>\n",
       "<tr><td>160.9194</td><td>57.91475</td><td>22.32</td><td>682.3</td><td>116.5</td><td>102.0</td><td>65.4</td><td>3.06</td><td>Sab</td><td>20.5</td><td>6</td><td>2.56</td><td>2.8</td><td>12.5</td><td>4.12</td></tr>\n",
       "<tr><td>...</td><td>...</td><td>...</td><td>...</td><td>...</td><td>...</td><td>...</td><td>...</td><td>...</td><td>...</td><td>...</td><td>...</td><td>...</td><td>...</td><td>...</td></tr>\n",
       "<tr><td>36.9684</td><td>-5.02193</td><td>24.92</td><td>610.3</td><td>40.4</td><td>47.8</td><td>39.3</td><td>3.79</td><td>Sab</td><td>7.5</td><td>6</td><td>3.66</td><td>3.79</td><td>11.79</td><td>3.94</td></tr>\n",
       "<tr><td>160.85139</td><td>58.02007</td><td>23.22</td><td>443.7</td><td>43.1</td><td>61.2</td><td>37.4</td><td>3.92</td><td>Sbc</td><td>2.6</td><td>5</td><td>2.24</td><td>3.37</td><td>12.21</td><td>3.94</td></tr>\n",
       "<tr><td>35.92307</td><td>-4.73225</td><td>25.55</td><td>849.5</td><td>48.5</td><td>59.5</td><td>45.3</td><td>3.94</td><td>Sab</td><td>2.9</td><td>5</td><td>3.56</td><td>3.57</td><td>12.12</td><td>3.83</td></tr>\n",
       "<tr><td>164.28366</td><td>58.43524</td><td>22.3</td><td>596.0</td><td>43.5</td><td>51.0</td><td>37.4</td><td>4.15</td><td>Scd</td><td>60.0</td><td>5</td><td>2.46</td><td>3.79</td><td>12.06</td><td>4.14</td></tr>\n",
       "<tr><td>164.28227</td><td>58.43064</td><td>--</td><td>--</td><td>--</td><td>--</td><td>--</td><td>0.2</td><td>--</td><td>--</td><td>--</td><td>--</td><td>--</td><td>--</td><td>0.4</td></tr>\n",
       "<tr><td>161.63013</td><td>59.17688</td><td>23.94</td><td>391.4</td><td>--</td><td>29.6</td><td>27.0</td><td>5.19</td><td>Scd</td><td>4.8</td><td>4</td><td>3.05</td><td>4.75</td><td>12.11</td><td>4.22</td></tr>\n",
       "<tr><td>--</td><td>--</td><td>--</td><td>--</td><td>--</td><td>--</td><td>--</td><td>--</td><td>--</td><td>--</td><td>--</td><td>--</td><td>--</td><td>--</td><td>--</td></tr>\n",
       "<tr><td>--</td><td>--</td><td>--</td><td>--</td><td>--</td><td>--</td><td>--</td><td>--</td><td>--</td><td>--</td><td>--</td><td>--</td><td>--</td><td>--</td><td>--</td></tr>\n",
       "<tr><td>--</td><td>--</td><td>--</td><td>--</td><td>--</td><td>--</td><td>--</td><td>--</td><td>--</td><td>--</td><td>--</td><td>--</td><td>--</td><td>--</td><td>--</td></tr>\n",
       "<tr><td>--</td><td>--</td><td>--</td><td>--</td><td>--</td><td>--</td><td>--</td><td>--</td><td>--</td><td>--</td><td>--</td><td>--</td><td>--</td><td>--</td><td>--</td></tr>\n",
       "</table>"
      ],
      "text/plain": [
       "<Table length=50>\n",
       "   ﻿RA       Dec        i     ...  Z comb M * log(M sol.) SFR log(M sol. yr−1)\n",
       " float64   float64     str9   ... float64     float64           float64       \n",
       "--------- --------- --------- ... ------- --------------- --------------------\n",
       "159.03456  58.44533     21.37 ...    1.19           11.62                 3.89\n",
       " 35.28232    -4.149 g = 25.31 ...     2.8           11.28                  3.7\n",
       " 35.28037  -4.14839        -- ...      --              --                 3.59\n",
       "160.50839  58.67179     23.49 ...    3.07           12.02                 3.99\n",
       "160.51041  58.67371        -- ...      --              --                 3.05\n",
       " 36.59817  -4.56164     25.11 ...    3.68           11.49                 3.85\n",
       "161.98271  58.07477      22.1 ...    3.68           11.87                 3.76\n",
       "162.33324  58.10657     22.61 ...    2.89           11.69                 3.72\n",
       "  9.64405 -44.36636     23.02 ...    2.72           11.89                  3.7\n",
       " 160.9194  57.91475     22.32 ...     2.8            12.5                 4.12\n",
       "      ...       ...       ... ...     ...             ...                  ...\n",
       "  36.9684  -5.02193     24.92 ...    3.79           11.79                 3.94\n",
       "160.85139  58.02007     23.22 ...    3.37           12.21                 3.94\n",
       " 35.92307  -4.73225     25.55 ...    3.57           12.12                 3.83\n",
       "164.28366  58.43524      22.3 ...    3.79           12.06                 4.14\n",
       "164.28227  58.43064        -- ...      --              --                  0.4\n",
       "161.63013  59.17688     23.94 ...    4.75           12.11                 4.22\n",
       "       --        --        -- ...      --              --                   --\n",
       "       --        --        -- ...      --              --                   --\n",
       "       --        --        -- ...      --              --                   --\n",
       "       --        --        -- ...      --              --                   --"
      ]
     },
     "execution_count": 70,
     "metadata": {},
     "output_type": "execute_result"
    }
   ],
   "source": [
    "vstack((ysb,M82_SBs,QSOs,AGN))"
   ]
  },
  {
   "cell_type": "code",
   "execution_count": null,
   "metadata": {},
   "outputs": [],
   "source": []
  }
 ],
 "metadata": {
  "kernelspec": {
   "display_name": "Python 3",
   "language": "python",
   "name": "python3"
  },
  "language_info": {
   "codemirror_mode": {
    "name": "ipython",
    "version": 3
   },
   "file_extension": ".py",
   "mimetype": "text/x-python",
   "name": "python",
   "nbconvert_exporter": "python",
   "pygments_lexer": "ipython3",
   "version": "3.6.6"
  }
 },
 "nbformat": 4,
 "nbformat_minor": 2
}
