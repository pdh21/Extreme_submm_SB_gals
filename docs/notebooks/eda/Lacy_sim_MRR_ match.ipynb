{
 "cells": [
  {
   "cell_type": "markdown",
   "metadata": {},
   "source": [
    "What is the flux accuracy and flux uncertianty accuracy of the technqiue used by Michael Rowan Robinson in his Herschel papers?"
   ]
  },
  {
   "cell_type": "code",
   "execution_count": 1,
   "metadata": {
    "collapsed": true
   },
   "outputs": [],
   "source": [
    "import numpy as np\n",
    "import pylab as plt\n",
    "import seaborn as sns\n",
    "from astropy.table import Table\n",
    "%matplotlib inline"
   ]
  },
  {
   "cell_type": "markdown",
   "metadata": {},
   "source": [
    "## Import blind catalogues"
   ]
  },
  {
   "cell_type": "code",
   "execution_count": 2,
   "metadata": {
    "collapsed": true
   },
   "outputs": [],
   "source": [
    "plw=Table.read('./mincorr_0.7_backbox150_SF_Cat_cosmos_itermap_lacey_07012015_simulated_observation_w_noise_PLW_hipe.fits.gz')\n",
    "pmw=Table.read('./mincorr_0.7_backbox150_SF_Cat_cosmos_itermap_lacey_07012015_simulated_observation_w_noise_PMW_hipe.fits.gz')\n",
    "psw=Table.read('./mincorr_0.7_backbox150_SF_Cat_cosmos_itermap_lacey_07012015_simulated_observation_w_noise_PSW_hipe.fits.gz')\n",
    "\n"
   ]
  },
  {
   "cell_type": "markdown",
   "metadata": {},
   "source": [
    "The MRR technique:\n",
    "* Select 5$\\sigma$ sources (including contribution from confusion noise ~6.8mJy/beam\n",
    "OR\n",
    "* sources with flux greater than 25mJy (MRR2017)"
   ]
  },
  {
   "cell_type": "code",
   "execution_count": 15,
   "metadata": {},
   "outputs": [
    {
     "data": {
      "text/html": [
       "&lt;Table length=10&gt;\n",
       "<table id=\"table4623941360\" class=\"table-striped table-bordered table-condensed\">\n",
       "<thead><tr><th>RA</th><th>DEC</th><th>FLUX</th><th>FLUXERR</th><th>CORR</th><th>X</th><th>Y</th><th>SIGX</th><th>SIGY</th></tr></thead>\n",
       "<thead><tr><th>float32</th><th>float32</th><th>float32</th><th>float32</th><th>float32</th><th>float32</th><th>float32</th><th>float32</th><th>float32</th></tr></thead>\n",
       "<tr><td>150.427</td><td>2.61908</td><td>0.0858719</td><td>0.00200483</td><td>0.982369</td><td>254.117</td><td>479.222</td><td>0.0406352</td><td>0.0396189</td></tr>\n",
       "<tr><td>150.806</td><td>2.49789</td><td>0.0760896</td><td>0.00258191</td><td>0.958285</td><td>140.509</td><td>442.907</td><td>0.0518561</td><td>0.0383025</td></tr>\n",
       "<tr><td>149.892</td><td>2.00003</td><td>0.0721438</td><td>0.00201194</td><td>0.948147</td><td>414.304</td><td>293.5</td><td>0.0492691</td><td>0.048861</td></tr>\n",
       "<tr><td>150.316</td><td>2.65611</td><td>0.0578267</td><td>0.00205716</td><td>0.971835</td><td>287.288</td><td>490.326</td><td>0.0596986</td><td>0.0619172</td></tr>\n",
       "<tr><td>150.982</td><td>1.94776</td><td>0.0576362</td><td>0.00204137</td><td>0.95536</td><td>87.623</td><td>277.88</td><td>0.060865</td><td>0.0611889</td></tr>\n",
       "<tr><td>149.785</td><td>2.80712</td><td>0.0569866</td><td>0.00205695</td><td>0.961855</td><td>446.401</td><td>535.644</td><td>0.0605495</td><td>0.0610225</td></tr>\n",
       "<tr><td>149.139</td><td>2.50615</td><td>0.0567981</td><td>0.00188236</td><td>0.951941</td><td>640.124</td><td>445.442</td><td>0.0587745</td><td>0.058316</td></tr>\n",
       "<tr><td>149.548</td><td>2.48835</td><td>0.0558865</td><td>0.00201265</td><td>0.883481</td><td>517.592</td><td>440.029</td><td>0.0613549</td><td>0.0611473</td></tr>\n",
       "<tr><td>150.386</td><td>3.31766</td><td>0.0554299</td><td>0.00436234</td><td>0.819345</td><td>266.456</td><td>688.836</td><td>0.134475</td><td>0.141967</td></tr>\n",
       "<tr><td>149.597</td><td>2.03413</td><td>0.0536593</td><td>0.00248098</td><td>0.955444</td><td>502.961</td><td>303.75</td><td>0.0666154</td><td>0.0909394</td></tr>\n",
       "</table>"
      ],
      "text/plain": [
       "<Table length=10>\n",
       "   RA     DEC      FLUX    FLUXERR   ...    X       Y       SIGX      SIGY  \n",
       "float32 float32  float32   float32   ... float32 float32  float32   float32 \n",
       "------- ------- --------- ---------- ... ------- ------- --------- ---------\n",
       "150.427 2.61908 0.0858719 0.00200483 ... 254.117 479.222 0.0406352 0.0396189\n",
       "150.806 2.49789 0.0760896 0.00258191 ... 140.509 442.907 0.0518561 0.0383025\n",
       "149.892 2.00003 0.0721438 0.00201194 ... 414.304   293.5 0.0492691  0.048861\n",
       "150.316 2.65611 0.0578267 0.00205716 ... 287.288 490.326 0.0596986 0.0619172\n",
       "150.982 1.94776 0.0576362 0.00204137 ...  87.623  277.88  0.060865 0.0611889\n",
       "149.785 2.80712 0.0569866 0.00205695 ... 446.401 535.644 0.0605495 0.0610225\n",
       "149.139 2.50615 0.0567981 0.00188236 ... 640.124 445.442 0.0587745  0.058316\n",
       "149.548 2.48835 0.0558865 0.00201265 ... 517.592 440.029 0.0613549 0.0611473\n",
       "150.386 3.31766 0.0554299 0.00436234 ... 266.456 688.836  0.134475  0.141967\n",
       "149.597 2.03413 0.0536593 0.00248098 ... 502.961  303.75 0.0666154 0.0909394"
      ]
     },
     "execution_count": 15,
     "metadata": {},
     "output_type": "execute_result"
    }
   ],
   "source": [
    "plw[0:10]"
   ]
  },
  {
   "cell_type": "code",
   "execution_count": 4,
   "metadata": {
    "collapsed": true
   },
   "outputs": [],
   "source": [
    "ind=plw['FLUX']/np.power(plw['FLUXERR']**2+0.0068**2, 0.5)>5\n",
    "ind=plw['FLUX']>0.025\n",
    "\n",
    "ind_pmw=pmw['FLUX']/np.power(pmw['FLUXERR']**2+0.0063**2, 0.5)>5\n"
   ]
  },
  {
   "cell_type": "code",
   "execution_count": 5,
   "metadata": {},
   "outputs": [
    {
     "data": {
      "text/plain": [
       "[<matplotlib.lines.Line2D at 0x11353f828>]"
      ]
     },
     "execution_count": 5,
     "metadata": {},
     "output_type": "execute_result"
    },
    {
     "data": {
      "image/png": "[encoded data removed]",
      "text/plain": [
       "<matplotlib.figure.Figure at 0x11348d860>"
      ]
     },
     "metadata": {},
     "output_type": "display_data"
    }
   ],
   "source": [
    "plt.plot(plw['FLUX']/np.power(plw['FLUXERR']**2+0.0068**2, 0.5),plw['FLUX'],'o')"
   ]
  },
  {
   "cell_type": "markdown",
   "metadata": {},
   "source": [
    "# Cross match with 350 $\\mathrm{\\mu m}$ "
   ]
  },
  {
   "cell_type": "code",
   "execution_count": 6,
   "metadata": {
    "collapsed": true
   },
   "outputs": [],
   "source": [
    "from astropy.coordinates import SkyCoord\n",
    "from astropy import units as u\n",
    "c = SkyCoord(ra=plw['RA'][ind]*u.degree, dec=plw['DEC'][ind]*u.degree)  \n",
    "catalog = SkyCoord(ra=pmw['RA'][ind_pmw]*u.degree, dec=pmw['DEC'][ind_pmw]*u.degree)  \n",
    "idx, d2d, d3d = c.match_to_catalog_sky(catalog) "
   ]
  },
  {
   "cell_type": "code",
   "execution_count": 7,
   "metadata": {
    "collapsed": true
   },
   "outputs": [],
   "source": [
    "ind_good=d2d<30.0*u.arcsec"
   ]
  },
  {
   "cell_type": "code",
   "execution_count": 8,
   "metadata": {},
   "outputs": [
    {
     "data": {
      "text/plain": [
       "[<matplotlib.lines.Line2D at 0x113903a20>]"
      ]
     },
     "execution_count": 8,
     "metadata": {},
     "output_type": "execute_result"
    },
    {
     "data": {
      "image/png": "[encoded data removed]",
      "text/plain": [
       "<matplotlib.figure.Figure at 0x113903b38>"
      ]
     },
     "metadata": {},
     "output_type": "display_data"
    }
   ],
   "source": [
    "plt.plot(plw['RA'][ind][ind_good]*u.degree,plw['DEC'][ind][ind_good]*u.degree,'o',alpha=0.8,ms=2)\n",
    "plt.plot(pmw['RA'][ind_pmw][idx][ind_good]*u.degree,pmw['DEC'][ind_pmw][idx][ind_good]*u.degree, 'ro', alpha=0.2)"
   ]
  },
  {
   "cell_type": "code",
   "execution_count": 9,
   "metadata": {},
   "outputs": [
    {
     "name": "stdout",
     "output_type": "stream",
     "text": [
      "219 452 219 219\n"
     ]
    }
   ],
   "source": [
    "print(ind.sum(),ind_pmw.sum(),len(idx),len(d2d))"
   ]
  },
  {
   "cell_type": "markdown",
   "metadata": {},
   "source": [
    "## Cross match with truth\n",
    "* look for largest flux within 18 arcsec"
   ]
  },
  {
   "cell_type": "code",
   "execution_count": 10,
   "metadata": {
    "collapsed": true
   },
   "outputs": [],
   "source": [
    "truth=Table.read('/Users/pdh21/Work/Astro/XID_plus/test_files/lacey_07012015_MillGas.ALLVOLS_cat_PSW_COSMOS_test.fits')"
   ]
  },
  {
   "cell_type": "code",
   "execution_count": 11,
   "metadata": {},
   "outputs": [
    {
     "data": {
      "text/html": [
       "&lt;Table length=286870&gt;\n",
       "<table id=\"table4623738136\" class=\"table-striped table-bordered table-condensed\">\n",
       "<thead><tr><th>DHALOID</th><th>GALAXYID</th><th>S100</th><th>S160</th><th>S250</th><th>S350</th><th>S500</th><th>APPUSO_TOT_EXT</th><th>APPGSO_TOT_EXT</th><th>APPRSO_TOT_EXT</th><th>APPISO_TOT_EXT</th><th>APPZSO_TOT_EXT</th><th>DEC</th><th>IS_CENTRAL</th><th>MHHALO</th><th>MSTARDOT</th><th>MSTARS_TOT</th><th>RA</th><th>Z_COS</th><th>Z_OBS</th></tr></thead>\n",
       "<thead><tr><th>str22</th><th>str22</th><th>float32</th><th>float32</th><th>float32</th><th>float32</th><th>float32</th><th>float32</th><th>float32</th><th>float32</th><th>float32</th><th>float32</th><th>float64</th><th>float32</th><th>float32</th><th>float32</th><th>float32</th><th>float64</th><th>float32</th><th>float32</th></tr></thead>\n",
       "<tr><td>7221000005</td><td>250660000005</td><td>0.184557</td><td>0.847295</td><td>1.00324</td><td>0.666443</td><td>0.30983</td><td>21.0851</td><td>19.9199</td><td>19.3745</td><td>19.1446</td><td>18.9669</td><td>2.52281435887</td><td>0.0</td><td>1.12367e+11</td><td>8.41508e+07</td><td>1.02091e+09</td><td>149.968831368</td><td>0.102633</td><td>0.100918</td></tr>\n",
       "<tr><td>7354000005</td><td>252230000005</td><td>0.879098</td><td>2.2013</td><td>1.80466</td><td>0.997061</td><td>0.40618</td><td>20.3638</td><td>19.3247</td><td>18.8853</td><td>18.698</td><td>18.5506</td><td>1.09296587368</td><td>0.0</td><td>1.81679e+11</td><td>1.88512e+08</td><td>1.15188e+09</td><td>149.996199092</td><td>0.092121</td><td>0.0912445</td></tr>\n",
       "<tr><td>4026000013</td><td>210160000013</td><td>0.0112136</td><td>0.0411177</td><td>0.0405248</td><td>0.0241011</td><td>0.0102681</td><td>25.039</td><td>23.1625</td><td>21.7082</td><td>21.1741</td><td>20.85</td><td>2.10696062174</td><td>0.0</td><td>2.84672e+11</td><td>2.00169e+06</td><td>6.09953e+09</td><td>149.137297107</td><td>0.376282</td><td>0.376532</td></tr>\n",
       "<tr><td>4726000013</td><td>219730000013</td><td>0.0652038</td><td>0.208996</td><td>0.191553</td><td>0.110243</td><td>0.0459506</td><td>23.3759</td><td>22.8123</td><td>21.79</td><td>21.5169</td><td>21.3217</td><td>2.56423522875</td><td>0.0</td><td>2.80937e+11</td><td>3.34448e+08</td><td>1.60865e+09</td><td>150.92582623</td><td>0.376829</td><td>0.377374</td></tr>\n",
       "<tr><td>5536000013</td><td>230270000013</td><td>0.103659</td><td>0.455567</td><td>0.496569</td><td>0.309403</td><td>0.13604</td><td>22.8201</td><td>22.3489</td><td>21.3669</td><td>21.1046</td><td>20.9246</td><td>2.16826441305</td><td>0.0</td><td>1.81664e+11</td><td>5.8204e+08</td><td>2.28481e+09</td><td>149.524681469</td><td>0.377186</td><td>0.377635</td></tr>\n",
       "<tr><td>5762000013</td><td>233190000013</td><td>0.136709</td><td>0.615261</td><td>0.677913</td><td>0.424214</td><td>0.187012</td><td>22.8012</td><td>22.2651</td><td>21.2245</td><td>20.9151</td><td>20.6908</td><td>1.88389672817</td><td>0.0</td><td>1.76046e+11</td><td>6.97228e+08</td><td>3.16073e+09</td><td>149.729887985</td><td>0.383715</td><td>0.3851</td></tr>\n",
       "<tr><td>9150000013</td><td>272530000013</td><td>0.0201797</td><td>0.105251</td><td>0.130986</td><td>0.0878964</td><td>0.0408579</td><td>23.9817</td><td>23.5002</td><td>22.5123</td><td>22.2561</td><td>22.0729</td><td>2.41002832928</td><td>0.0</td><td>8.80211e+10</td><td>1.92794e+08</td><td>7.69563e+08</td><td>149.891553543</td><td>0.381552</td><td>0.382695</td></tr>\n",
       "<tr><td>4424000012</td><td>215640000012</td><td>0.0270184</td><td>0.146568</td><td>0.192646</td><td>0.136105</td><td>0.0665875</td><td>23.3157</td><td>22.8147</td><td>22.039</td><td>21.8566</td><td>21.7233</td><td>1.40785718228</td><td>0.0</td><td>1.55454e+11</td><td>2.51134e+08</td><td>6.29514e+08</td><td>150.436258903</td><td>0.327132</td><td>0.325931</td></tr>\n",
       "<tr><td>24026571</td><td>1840000011</td><td>39.481</td><td>67.4472</td><td>45.2025</td><td>23.0549</td><td>8.96614</td><td>23.275</td><td>21.9669</td><td>20.7596</td><td>20.2263</td><td>19.9311</td><td>2.15883520338</td><td>0.0</td><td>2.30369e+11</td><td>5.59299e+09</td><td>2.42265e+10</td><td>149.563597856</td><td>0.292259</td><td>0.293412</td></tr>\n",
       "<tr><td>24026509</td><td>1850000011</td><td>0.4366</td><td>1.29728</td><td>1.12227</td><td>0.626028</td><td>0.255027</td><td>21.9426</td><td>21.1694</td><td>20.2875</td><td>19.9949</td><td>19.8004</td><td>2.02323895883</td><td>0.0</td><td>2.43463e+11</td><td>7.10691e+08</td><td>3.93756e+09</td><td>149.438586031</td><td>0.292881</td><td>0.292721</td></tr>\n",
       "<tr><td>...</td><td>...</td><td>...</td><td>...</td><td>...</td><td>...</td><td>...</td><td>...</td><td>...</td><td>...</td><td>...</td><td>...</td><td>...</td><td>...</td><td>...</td><td>...</td><td>...</td><td>...</td><td>...</td><td>...</td></tr>\n",
       "<tr><td>99000711000059</td><td>9900119860000248</td><td>0.00263697</td><td>0.0845062</td><td>0.314755</td><td>0.364296</td><td>0.24952</td><td>35.1507</td><td>27.5517</td><td>25.3151</td><td>24.6087</td><td>24.7162</td><td>1.2606297321</td><td>0.0</td><td>1.11431e+11</td><td>2.40775e+09</td><td>4.626e+08</td><td>149.554490575</td><td>4.29053</td><td>4.28904</td></tr>\n",
       "<tr><td>99000950000117</td><td>9900136380000092</td><td>0.000585487</td><td>0.0568136</td><td>0.416083</td><td>0.693764</td><td>0.632217</td><td>42.7613</td><td>33.4199</td><td>29.2309</td><td>27.5325</td><td>27.4476</td><td>3.17049450448</td><td>0.0</td><td>9.64486e+10</td><td>1.07239e+09</td><td>1.13495e+09</td><td>150.330378578</td><td>4.51095</td><td>4.51258</td></tr>\n",
       "<tr><td>99000950000103</td><td>9900136380000110</td><td>0.00185035</td><td>0.0774967</td><td>0.343139</td><td>0.443887</td><td>0.335931</td><td>38.9315</td><td>30.1381</td><td>26.6527</td><td>25.3302</td><td>25.3333</td><td>3.17216012921</td><td>0.0</td><td>1.23604e+11</td><td>2.73747e+09</td><td>5.97373e+08</td><td>150.333160431</td><td>4.51221</td><td>4.51312</td></tr>\n",
       "<tr><td>99000950000041</td><td>9900136380000041</td><td>2.02747e-05</td><td>0.00780219</td><td>0.129325</td><td>0.326522</td><td>0.406331</td><td>41.4468</td><td>32.1211</td><td>28.2135</td><td>26.5443</td><td>26.4942</td><td>3.15993925084</td><td>0.0</td><td>2.57509e+11</td><td>5.81816e+09</td><td>3.07146e+09</td><td>150.343172401</td><td>4.51178</td><td>4.5136</td></tr>\n",
       "<tr><td>99000241001556</td><td>9900064440000040</td><td>0.00343559</td><td>0.0762874</td><td>0.229705</td><td>0.240484</td><td>0.153905</td><td>35.1423</td><td>27.3811</td><td>25.4849</td><td>24.9347</td><td>25.0267</td><td>1.64439754093</td><td>0.0</td><td>7.86579e+10</td><td>1.824e+09</td><td>2.41766e+08</td><td>150.793077882</td><td>4.16354</td><td>4.15982</td></tr>\n",
       "<tr><td>99000241000558</td><td>9900063970000145</td><td>5.51169e-06</td><td>0.00236568</td><td>0.0405185</td><td>0.102226</td><td>0.127743</td><td>38.5328</td><td>29.9468</td><td>27.5464</td><td>26.7514</td><td>26.7407</td><td>1.59828656289</td><td>0.0</td><td>2.66872e+11</td><td>4.34245e+09</td><td>1.98929e+09</td><td>150.816950351</td><td>4.16058</td><td>4.15769</td></tr>\n",
       "<tr><td>99000241000531</td><td>9900063970000040</td><td>0.0027044</td><td>0.308182</td><td>2.5049</td><td>4.36387</td><td>4.06785</td><td>38.5583</td><td>28.9885</td><td>25.8442</td><td>24.9182</td><td>24.9525</td><td>1.60272636162</td><td>0.0</td><td>4.38233e+11</td><td>9.9675e+09</td><td>9.22053e+09</td><td>150.828065605</td><td>4.16111</td><td>4.15788</td></tr>\n",
       "<tr><td>99000241000242</td><td>9900063970000358</td><td>0.00347063</td><td>0.220807</td><td>1.26609</td><td>1.85103</td><td>1.51935</td><td>37.5716</td><td>28.6473</td><td>25.9288</td><td>25.1371</td><td>25.1299</td><td>1.60273979316</td><td>0.0</td><td>1.93834e+11</td><td>5.43951e+09</td><td>3.33182e+09</td><td>150.788057971</td><td>4.15421</td><td>4.15443</td></tr>\n",
       "<tr><td>99000241000135</td><td>9900064870000040</td><td>0.000147247</td><td>0.0324273</td><td>0.387997</td><td>0.831817</td><td>0.917692</td><td>37.7904</td><td>29.2024</td><td>26.6994</td><td>25.8591</td><td>25.82</td><td>1.59607325889</td><td>0.0</td><td>2.55636e+11</td><td>4.64942e+09</td><td>5.86241e+09</td><td>150.791388946</td><td>4.15587</td><td>4.15603</td></tr>\n",
       "<tr><td>99000241000040</td><td>9900064870000071</td><td>2.29198e-06</td><td>0.00239279</td><td>0.0703681</td><td>0.234211</td><td>0.359776</td><td>40.5002</td><td>31.1851</td><td>28.2576</td><td>27.4442</td><td>27.3557</td><td>1.59218052296</td><td>0.0</td><td>2.25671e+11</td><td>1.04744e+10</td><td>4.63469e+09</td><td>150.805278682</td><td>4.15804</td><td>4.15712</td></tr>\n",
       "</table>"
      ],
      "text/plain": [
       "<Table length=286870>\n",
       "       DHALOID                GALAXYID            S100    ...  Z_COS     Z_OBS  \n",
       "        str22                  str22            float32   ... float32   float32 \n",
       "---------------------- ---------------------- ----------- ... -------- ---------\n",
       "            7221000005           250660000005    0.184557 ... 0.102633  0.100918\n",
       "            7354000005           252230000005    0.879098 ... 0.092121 0.0912445\n",
       "            4026000013           210160000013   0.0112136 ... 0.376282  0.376532\n",
       "            4726000013           219730000013   0.0652038 ... 0.376829  0.377374\n",
       "            5536000013           230270000013    0.103659 ... 0.377186  0.377635\n",
       "            5762000013           233190000013    0.136709 ... 0.383715    0.3851\n",
       "            9150000013           272530000013   0.0201797 ... 0.381552  0.382695\n",
       "            4424000012           215640000012   0.0270184 ... 0.327132  0.325931\n",
       "              24026571             1840000011      39.481 ... 0.292259  0.293412\n",
       "              24026509             1850000011      0.4366 ... 0.292881  0.292721\n",
       "                   ...                    ...         ... ...      ...       ...\n",
       "        99000711000059       9900119860000248  0.00263697 ...  4.29053   4.28904\n",
       "        99000950000117       9900136380000092 0.000585487 ...  4.51095   4.51258\n",
       "        99000950000103       9900136380000110  0.00185035 ...  4.51221   4.51312\n",
       "        99000950000041       9900136380000041 2.02747e-05 ...  4.51178    4.5136\n",
       "        99000241001556       9900064440000040  0.00343559 ...  4.16354   4.15982\n",
       "        99000241000558       9900063970000145 5.51169e-06 ...  4.16058   4.15769\n",
       "        99000241000531       9900063970000040   0.0027044 ...  4.16111   4.15788\n",
       "        99000241000242       9900063970000358  0.00347063 ...  4.15421   4.15443\n",
       "        99000241000135       9900064870000040 0.000147247 ...  4.15587   4.15603\n",
       "        99000241000040       9900064870000071 2.29198e-06 ...  4.15804   4.15712"
      ]
     },
     "execution_count": 11,
     "metadata": {},
     "output_type": "execute_result"
    }
   ],
   "source": [
    "truth"
   ]
  },
  {
   "cell_type": "code",
   "execution_count": 12,
   "metadata": {
    "collapsed": true
   },
   "outputs": [],
   "source": [
    "c = SkyCoord(ra=plw['RA'][ind][ind_good]*u.degree, dec=plw['DEC'][ind][ind_good]*u.degree)\n",
    "truth_catalog = SkyCoord(ra=truth['RA']*u.degree, dec=truth['DEC']*u.degree)  \n"
   ]
  },
  {
   "cell_type": "code",
   "execution_count": 13,
   "metadata": {
    "collapsed": true
   },
   "outputs": [],
   "source": [
    "t500=np.empty((ind_good.sum()))\n",
    "t350=np.empty((ind_good.sum()))\n",
    "\n",
    "for i in range(0,ind_good.sum()):\n",
    "    d2d=c[i].separation(truth_catalog)\n",
    "    t500[i]=np.max(truth['S500'][d2d<30*u.arcsec])\n",
    "    t350[i]=truth['S350'][d2d<30*u.arcsec][np.argmax(truth['S500'][d2d<30*u.arcsec])]\n",
    "    #t300=np.max(truth['S300'][d2d<30*u.arcsec])\n",
    "    #t300=np.max(truth['S300'][d2d<30*u.arcsec])\n",
    "\n",
    "    "
   ]
  },
  {
   "cell_type": "code",
   "execution_count": 14,
   "metadata": {},
   "outputs": [
    {
     "data": {
      "text/plain": [
       "<matplotlib.text.Text at 0x1139d7b00>"
      ]
     },
     "execution_count": 14,
     "metadata": {},
     "output_type": "execute_result"
    },
    {
     "data": {
      "image/png": "[encoded data removed]",
      "text/plain": [
       "<matplotlib.figure.Figure at 0x11398a828>"
      ]
     },
     "metadata": {},
     "output_type": "display_data"
    }
   ],
   "source": [
    "plt.figure(figsize=(10,10))\n",
    "plt.plot(1000.0*plw['FLUX'][ind][ind_good],(t500-1000.0*plw['FLUX'][ind][ind_good])/t500,'o')\n",
    "plt.xlabel('S500 MRR')\n",
    "plt.ylabel('truth-MRR/truth')"
   ]
  },
  {
   "cell_type": "code",
   "execution_count": 77,
   "metadata": {},
   "outputs": [
    {
     "data": {
      "text/plain": [
       "<matplotlib.text.Text at 0x11a1dd1d0>"
      ]
     },
     "execution_count": 77,
     "metadata": {},
     "output_type": "execute_result"
    },
    {
     "data": {
      "image/png": "[encoded data removed]",
      "text/plain": [
       "<matplotlib.figure.Figure at 0x11a422898>"
      ]
     },
     "metadata": {},
     "output_type": "display_data"
    }
   ],
   "source": [
    "plt.plot(1000.0*pmw['FLUX'][ind_pmw][idx][ind_good],(t350-1000.0*pmw['FLUX'][ind_pmw][idx][ind_good])/t350,'o')\n",
    "plt.xlabel('S350 MRR')\n",
    "plt.ylabel('truth-MRR/truth')"
   ]
  },
  {
   "cell_type": "code",
   "execution_count": 69,
   "metadata": {},
   "outputs": [
    {
     "data": {
      "text/plain": [
       "(array([  0.,   0.,   0.,   0.,   0.,   0.,   0.,   1.,   1.,   1.,   0.,\n",
       "          0.,   0.,   1.,   1.,   1.,   2.,   3.,   1.,   0.,   5.,   6.,\n",
       "          8.,   4.,   9.,  10.,  14.,  18.,  17.,  25.,  22.,  10.,   7.,\n",
       "          0.,   0.,   0.,   0.,   0.,   0.,   0.,   0.,   0.,   0.,   0.,\n",
       "          0.,   0.,   0.,   0.,   0.,   0.,   0.,   0.,   0.,   0.,   0.,\n",
       "          0.,   0.,   0.,   0.]),\n",
       " array([-300, -290, -280, -270, -260, -250, -240, -230, -220, -210, -200,\n",
       "        -190, -180, -170, -160, -150, -140, -130, -120, -110, -100,  -90,\n",
       "         -80,  -70,  -60,  -50,  -40,  -30,  -20,  -10,    0,   10,   20,\n",
       "          30,   40,   50,   60,   70,   80,   90,  100,  110,  120,  130,\n",
       "         140,  150,  160,  170,  180,  190,  200,  210,  220,  230,  240,\n",
       "         250,  260,  270,  280,  290]),\n",
       " <a list of 59 Patch objects>)"
      ]
     },
     "execution_count": 69,
     "metadata": {},
     "output_type": "execute_result"
    },
    {
     "data": {
      "image/png": "[encoded data removed]",
      "text/plain": [
       "<matplotlib.figure.Figure at 0x11434cbe0>"
      ]
     },
     "metadata": {},
     "output_type": "display_data"
    }
   ],
   "source": [
    "plt.hist(100.0*(t500-1000.0*plw['FLUX'][ind][ind_good])/t500, bins=np.arange(-300,300,10))"
   ]
  },
  {
   "cell_type": "code",
   "execution_count": 78,
   "metadata": {},
   "outputs": [
    {
     "data": {
      "text/plain": [
       "[<matplotlib.lines.Line2D at 0x11a5a7ba8>]"
      ]
     },
     "execution_count": 78,
     "metadata": {},
     "output_type": "execute_result"
    },
    {
     "data": {
      "image/png": "[encoded data removed]",
      "text/plain": [
       "<matplotlib.figure.Figure at 0x114af5198>"
      ]
     },
     "metadata": {},
     "output_type": "display_data"
    }
   ],
   "source": [
    "plt.plot(t500,1000.0*plw['FLUX'][ind][ind_good],'o')"
   ]
  },
  {
   "cell_type": "code",
   "execution_count": 80,
   "metadata": {},
   "outputs": [
    {
     "data": {
      "text/plain": [
       "[<matplotlib.lines.Line2D at 0x11a6fcfd0>]"
      ]
     },
     "execution_count": 80,
     "metadata": {},
     "output_type": "execute_result"
    },
    {
     "data": {
      "image/png": "[encoded data removed]",
      "text/plain": [
       "<matplotlib.figure.Figure at 0x11a51e198>"
      ]
     },
     "metadata": {},
     "output_type": "display_data"
    }
   ],
   "source": [
    "plt.plot(t350,1000.0*pmw['FLUX'][ind_pmw][idx][ind_good], 'o')"
   ]
  },
  {
   "cell_type": "code",
   "execution_count": null,
   "metadata": {
    "collapsed": true
   },
   "outputs": [],
   "source": []
  }
 ],
 "metadata": {
  "kernelspec": {
   "display_name": "Python 3",
   "language": "python",
   "name": "python3"
  },
  "language_info": {
   "codemirror_mode": {
    "name": "ipython",
    "version": 3
   },
   "file_extension": ".py",
   "mimetype": "text/x-python",
   "name": "python",
   "nbconvert_exporter": "python",
   "pygments_lexer": "ipython3",
   "version": "3.6.6"
  }
 },
 "nbformat": 4,
 "nbformat_minor": 2
}
