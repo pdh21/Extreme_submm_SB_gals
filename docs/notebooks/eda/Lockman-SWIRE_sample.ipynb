{
 "cells": [
  {
   "cell_type": "markdown",
   "metadata": {},
   "source": [
    "In the paper [Extreme submillimetre starburst galaxies](https://arxiv.org/abs/1704.07783) there are claims made about there being galaxies with an SFR of 30,000 $M_{\\odot}/yr$. We believe these objects are actually due to blending of multiple objects. \n",
    "\n",
    "This notebook wil work on establishing the sample of objects we will examine in this paper.\n",
    "\n",
    "Things to do:\n",
    "1. Establish the file associated with Michael's paper\n",
    "2. Gather all the relevant maps, psf's etc\n",
    "3. Visualise Sources"
   ]
  },
  {
   "cell_type": "code",
   "execution_count": 8,
   "metadata": {
    "collapsed": true
   },
   "outputs": [],
   "source": [
    "from astropy.table import Table\n",
    "#Set some color info\n",
    "import seaborn as sns\n",
    "import pylab as plt\n",
    "%matplotlib inline\n",
    "cmap=sns.cubehelix_palette(8, start=.5, rot=-.75,as_cmap=True)\n",
    "vmin=-0.01\n",
    "vmax=0.1"
   ]
  },
  {
   "cell_type": "code",
   "execution_count": 9,
   "metadata": {
    "collapsed": true
   },
   "outputs": [],
   "source": [
    "ysb=Table.read('./data/MRRfiles/fromPaper.txt', format='ascii')"
   ]
  },
  {
   "cell_type": "code",
   "execution_count": 10,
   "metadata": {},
   "outputs": [
    {
     "data": {
      "text/plain": [
       "(array([ 14.,   5.,   4.,   3.,   1.,   4.,   1.,   0.,   0.,   1.]),\n",
       " array([  5011.87233627,   6170.27201008,   7328.67168389,   8487.0713577 ,\n",
       "          9645.47103151,  10803.87070532,  11962.27037913,  13120.67005294,\n",
       "         14279.06972676,  15437.46940057,  16595.86907438]),\n",
       " <a list of 10 Patch objects>)"
      ]
     },
     "execution_count": 10,
     "metadata": {},
     "output_type": "execute_result"
    },
    {
     "data": {
      "image/png": "[encoded data removed]",
      "text/plain": [
       "<matplotlib.figure.Figure at 0x115a77908>"
      ]
     },
     "metadata": {},
     "output_type": "display_data"
    }
   ],
   "source": [
    "import numpy as np\n",
    "plt.hist(np.power(10.0,ysb['sfr']))"
   ]
  },
  {
   "cell_type": "code",
   "execution_count": 18,
   "metadata": {},
   "outputs": [
    {
     "data": {
      "text/html": [
       "&lt;Table length=33&gt;\n",
       "<table id=\"table4658264104\" class=\"table-striped table-bordered table-condensed\">\n",
       "<thead><tr><th>RA</th><th>dec</th><th>i</th><th>S24</th><th>S250</th><th>S350</th><th>S500</th><th>zphot</th><th>type</th><th>2</th><th>nbands</th><th>zsubm</th><th>zcomb</th><th>sfr</th></tr></thead>\n",
       "<thead><tr><th>float64</th><th>float64</th><th>float64</th><th>float64</th><th>float64</th><th>float64</th><th>float64</th><th>float64</th><th>str3</th><th>float64</th><th>int64</th><th>float64</th><th>float64</th><th>float64</th></tr></thead>\n",
       "<tr><td>159.03456</td><td>58.44533</td><td>21.37</td><td>1127.8</td><td>131.6</td><td>84.2</td><td>42.2</td><td>1.44</td><td>Scd</td><td>4.8</td><td>4</td><td>1.16</td><td>1.19</td><td>3.79</td></tr>\n",
       "<tr><td>162.26817</td><td>58.46461</td><td>22.33</td><td>504.1</td><td>85.4</td><td>78.7</td><td>62.8</td><td>3.15</td><td>Sbc</td><td>5.0</td><td>6</td><td>3.16</td><td>3.17</td><td>3.87</td></tr>\n",
       "<tr><td>160.33716</td><td>59.40493</td><td>22.36</td><td>1225.7</td><td>0.0</td><td>36.8</td><td>39.0</td><td>3.29</td><td>Scd</td><td>6.7</td><td>6</td><td>4.93</td><td>3.27</td><td>3.72</td></tr>\n",
       "<tr><td>160.50839</td><td>58.67179</td><td>23.49</td><td>904.6</td><td>95.7</td><td>79.5</td><td>60.5</td><td>3.81</td><td>Sab</td><td>4.1</td><td>6</td><td>2.86</td><td>3.07</td><td>4.0</td></tr>\n",
       "<tr><td>161.98271</td><td>58.07477</td><td>22.1</td><td>264.4</td><td>44.2</td><td>45.3</td><td>33.6</td><td>4.13</td><td>sb</td><td>25.4</td><td>6</td><td>3.15</td><td>3.68</td><td>3.76</td></tr>\n",
       "<tr><td>162.33324</td><td>58.10657</td><td>22.61</td><td>516.4</td><td>56.9</td><td>52.9</td><td>59.6</td><td>2.8</td><td>Scd</td><td>6.1</td><td>8</td><td>4.09</td><td>2.89</td><td>3.73</td></tr>\n",
       "<tr><td>160.9194</td><td>57.91475</td><td>22.32</td><td>682.3</td><td>116.5</td><td>102.0</td><td>65.4</td><td>3.06</td><td>Sab</td><td>20.5</td><td>6</td><td>2.56</td><td>2.8</td><td>4.05</td></tr>\n",
       "<tr><td>161.21138</td><td>58.11261</td><td>23.29</td><td>560.2</td><td>148.6</td><td>116.4</td><td>54.2</td><td>3.33</td><td>Sbc</td><td>26.8</td><td>5</td><td>2.02</td><td>1.75</td><td>3.7</td></tr>\n",
       "<tr><td>160.16505</td><td>57.27072</td><td>23.12</td><td>625.2</td><td>52.7</td><td>52.4</td><td>44.8</td><td>3.7</td><td>Sab</td><td>31.2</td><td>4</td><td>3.45</td><td>3.68</td><td>3.81</td></tr>\n",
       "<tr><td>159.67438</td><td>58.55686</td><td>24.3</td><td>299.1</td><td>58.1</td><td>53.7</td><td>35.4</td><td>3.72</td><td>Scd</td><td>0.0</td><td>3</td><td>2.68</td><td>2.02</td><td>3.78</td></tr>\n",
       "<tr><td>...</td><td>...</td><td>...</td><td>...</td><td>...</td><td>...</td><td>...</td><td>...</td><td>...</td><td>...</td><td>...</td><td>...</td><td>...</td><td>...</td></tr>\n",
       "<tr><td>161.36092</td><td>58.03157</td><td>20.67</td><td>428.6</td><td>-1.0</td><td>37.5</td><td>41.2</td><td>3.81</td><td>QSO</td><td>5.2</td><td>11</td><td>5.05</td><td>3.9</td><td>3.84</td></tr>\n",
       "<tr><td>162.52769</td><td>57.28142</td><td>21.62</td><td>145.4</td><td>106.3</td><td>100.1</td><td>61.7</td><td>3.92</td><td>QSO</td><td>8.4</td><td>8</td><td>1.93</td><td>1.95</td><td>4.07</td></tr>\n",
       "<tr><td>162.6812</td><td>57.55606</td><td>24.35</td><td>194.9</td><td>25.5</td><td>37.0</td><td>38.3</td><td>4.5</td><td>QSO</td><td>1.3</td><td>3</td><td>4.79</td><td>4.5</td><td>3.8</td></tr>\n",
       "<tr><td>162.9173</td><td>58.80596</td><td>22.03</td><td>1964.8</td><td>183.8</td><td>133.1</td><td>78.7</td><td>2.06</td><td>Sab</td><td>45.6</td><td>6</td><td>2.11</td><td>2.09</td><td>3.75</td></tr>\n",
       "<tr><td>162.38754</td><td>57.70547</td><td>24.13</td><td>519.3</td><td>65.7</td><td>65.0</td><td>56.3</td><td>3.37</td><td>Scd</td><td>1.6</td><td>3</td><td>3.47</td><td>3.37</td><td>3.74</td></tr>\n",
       "<tr><td>159.78395</td><td>58.55888</td><td>24.41</td><td>231.6</td><td>35.3</td><td>39.9</td><td>36.7</td><td>3.72</td><td>Sdm</td><td>0.0</td><td>3</td><td>3.91</td><td>3.68</td><td>3.8</td></tr>\n",
       "<tr><td>163.98088</td><td>57.81277</td><td>24.66</td><td>213.9</td><td>27.8</td><td>34.6</td><td>41.0</td><td>3.74</td><td>Scd</td><td>4.4</td><td>5</td><td>5.03</td><td>3.68</td><td>3.79</td></tr>\n",
       "<tr><td>160.85139</td><td>58.02007</td><td>23.22</td><td>443.7</td><td>43.1</td><td>61.2</td><td>37.4</td><td>3.92</td><td>Sbc</td><td>2.6</td><td>5</td><td>2.24</td><td>3.37</td><td>3.93</td></tr>\n",
       "<tr><td>164.28366</td><td>58.43524</td><td>22.3</td><td>596.0</td><td>43.5</td><td>51.0</td><td>37.4</td><td>4.15</td><td>Scd</td><td>60.0</td><td>5</td><td>2.46</td><td>3.79</td><td>4.11</td></tr>\n",
       "<tr><td>161.63013</td><td>59.17688</td><td>23.94</td><td>391.4</td><td>-1.0</td><td>29.6</td><td>27.0</td><td>5.19</td><td>Scd</td><td>4.8</td><td>4</td><td>3.05</td><td>4.75</td><td>4.22</td></tr>\n",
       "</table>"
      ],
      "text/plain": [
       "<Table length=33>\n",
       "    RA      dec       i      S24     S250  ... nbands  zsubm   zcomb    sfr  \n",
       " float64  float64  float64 float64 float64 ... int64  float64 float64 float64\n",
       "--------- -------- ------- ------- ------- ... ------ ------- ------- -------\n",
       "159.03456 58.44533   21.37  1127.8   131.6 ...      4    1.16    1.19    3.79\n",
       "162.26817 58.46461   22.33   504.1    85.4 ...      6    3.16    3.17    3.87\n",
       "160.33716 59.40493   22.36  1225.7     0.0 ...      6    4.93    3.27    3.72\n",
       "160.50839 58.67179   23.49   904.6    95.7 ...      6    2.86    3.07     4.0\n",
       "161.98271 58.07477    22.1   264.4    44.2 ...      6    3.15    3.68    3.76\n",
       "162.33324 58.10657   22.61   516.4    56.9 ...      8    4.09    2.89    3.73\n",
       " 160.9194 57.91475   22.32   682.3   116.5 ...      6    2.56     2.8    4.05\n",
       "161.21138 58.11261   23.29   560.2   148.6 ...      5    2.02    1.75     3.7\n",
       "160.16505 57.27072   23.12   625.2    52.7 ...      4    3.45    3.68    3.81\n",
       "159.67438 58.55686    24.3   299.1    58.1 ...      3    2.68    2.02    3.78\n",
       "      ...      ...     ...     ...     ... ...    ...     ...     ...     ...\n",
       "161.36092 58.03157   20.67   428.6    -1.0 ...     11    5.05     3.9    3.84\n",
       "162.52769 57.28142   21.62   145.4   106.3 ...      8    1.93    1.95    4.07\n",
       " 162.6812 57.55606   24.35   194.9    25.5 ...      3    4.79     4.5     3.8\n",
       " 162.9173 58.80596   22.03  1964.8   183.8 ...      6    2.11    2.09    3.75\n",
       "162.38754 57.70547   24.13   519.3    65.7 ...      3    3.47    3.37    3.74\n",
       "159.78395 58.55888   24.41   231.6    35.3 ...      3    3.91    3.68     3.8\n",
       "163.98088 57.81277   24.66   213.9    27.8 ...      5    5.03    3.68    3.79\n",
       "160.85139 58.02007   23.22   443.7    43.1 ...      5    2.24    3.37    3.93\n",
       "164.28366 58.43524    22.3   596.0    43.5 ...      5    2.46    3.79    4.11\n",
       "161.63013 59.17688   23.94   391.4    -1.0 ...      4    3.05    4.75    4.22"
      ]
     },
     "execution_count": 18,
     "metadata": {},
     "output_type": "execute_result"
    }
   ],
   "source": [
    "ysb"
   ]
  },
  {
   "cell_type": "markdown",
   "metadata": {},
   "source": [
    "The `ysb` table contains all the galaxies in Lockman-SWIRE that are in the 2017 paper."
   ]
  },
  {
   "cell_type": "code",
   "execution_count": null,
   "metadata": {
    "collapsed": true
   },
   "outputs": [],
   "source": [
    "def MRR_sample(ra,dec,radius):\n",
    "    sns.set_style(\"white\")\n",
    "    SPIRE=[]\n",
    "    fig = plt.figure(figsize=(30,10))\n",
    "    SPIRE.append(aplpy.FITSFigure(hdulist_250[1],figure=fig,subplot=(1,3,1)))\n",
    "    SPIRE.append(aplpy.FITSFigure(hdulist_350[1],figure=fig,subplot=(1,3,2)))\n",
    "    SPIRE.append(aplpy.FITSFigure(hdulist_500[1],figure=fig,subplot=(1,3,3)))\n",
    "    for i in SPIRE:\n",
    "        i.show_colorscale(vmin=-0.01,vmax=0.1,cmap=sns.cubehelix_palette(8, start=.5, rot=-.75,as_cmap=True))\n",
    "        i.show_markers(xid24['RA'], xid24['Dec'], edgecolor='black', facecolor='black',\n",
    "                marker='o', s=100, alpha=0.5)\n",
    "        i.show_markers(ra,dec, edgecolor='black', facecolor='black',\n",
    "                marker='x', s=1000, alpha=1.0)\n",
    "        i.show_markers(scat250['RA'],scat250['Dec'], edgecolor='blue', facecolor='blue',\n",
    "    marker='o', s=100, alpha=0.5)\n",
    "        i.show_markers(scat350['RA'],scat350['Dec'], edgecolor='green', facecolor='green',\n",
    "    marker='o', s=100, alpha=0.5)\n",
    "        i.show_markers(scat500['RA'],scat500['Dec'], edgecolor='red', facecolor='red',\n",
    "    marker='o', s=100, alpha=0.5)\n",
    "        i.recenter(ra, dec, radius=radius)\n",
    "        i.add_colorbar()\n",
    "        i.colorbar.set_location('top')"
   ]
  }
 ],
 "metadata": {
  "kernelspec": {
   "display_name": "Python 3",
   "language": "python",
   "name": "python3"
  },
  "language_info": {
   "codemirror_mode": {
    "name": "ipython",
    "version": 3
   },
   "file_extension": ".py",
   "mimetype": "text/x-python",
   "name": "python",
   "nbconvert_exporter": "python",
   "pygments_lexer": "ipython3",
   "version": "3.6.6"
  }
 },
 "nbformat": 4,
 "nbformat_minor": 2
}
